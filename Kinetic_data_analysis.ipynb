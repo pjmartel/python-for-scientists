{
  "nbformat": 4,
  "nbformat_minor": 0,
  "metadata": {
    "colab": {
      "name": "Kinetic_data_analysis.ipynb",
      "version": "0.3.2",
      "provenance": [],
      "collapsed_sections": [],
      "include_colab_link": true
    },
    "kernelspec": {
      "name": "python3",
      "display_name": "Python 3"
    }
  },
  "cells": [
    {
      "cell_type": "markdown",
      "metadata": {
        "id": "view-in-github",
        "colab_type": "text"
      },
      "source": [
        "<a href=\"https://colab.research.google.com/github/pjmartel/python-for-scientists/blob/master/Kinetic_data_analysis.ipynb\" target=\"_parent\"><img src=\"https://colab.research.google.com/assets/colab-badge.svg\" alt=\"Open In Colab\"/></a>"
      ]
    },
    {
      "cell_type": "markdown",
      "metadata": {
        "id": "YQgxuITUpLAX",
        "colab_type": "text"
      },
      "source": [
        "#### Introduction\n",
        "\n",
        "Now that we have a working method for doing linear regression with confidence intervals, it's time to apply it to a real-life scenario of linear fitting where our main aim is to accurately obtain estimates for a linear model. Our case is point will be the estimation of kinetic parameters of an *enzime reaction* . We start out with a set of *reaction velocities* as a function of *substrate concentrations* and want to fit a theoretical model to our data. Unfortunately, as we will see, our model equation is not linear, and so we will have to *transform* our data to reacast them into a linear form."
      ]
    },
    {
      "cell_type": "markdown",
      "metadata": {
        "id": "SK9ylzldqH95",
        "colab_type": "text"
      },
      "source": [
        "#### Theoretical background on enzime kinetics\n",
        "\n",
        "In enzyme kinetics studis, we measure *reaction velocites*, which we will call $v_i$, as function of substrate concentrations, here called $[A]_i$ (substrate is just a fancy name for a chemical whose transformation into another compound is facilitated by the action of an *enzime*). Experimental observations and chemical kinetics theory (which will not be discussed here) lead to the proposal of the following equation describing the relation between velocities and substrante concentrations:\n",
        "\n",
        "<br><br>\n",
        "$$v= \\frac{V_{max}[A]}{K_m+[A]}$$\n",
        "<br><br>\n",
        "\n",
        "where $V_{max}$ and $K_m$ are the parameters we want to estimate through fitting of our model to the  experimental data $(v_i, [A]_i)$. However, a good look at the above equation (named Henri-Michaelis-Menten equation) will show that it is definitely non-linear!\n",
        "\n",
        "**HANDS-ON:** Make a plot of the H-M-M equation with matplolib and numpy arrays, assuming $V_{max} = 2.0  $, $K_m = 0.5$ and $[A]$ in the range $0$ to $10$ (with steps of 0.5). "
      ]
    },
    {
      "cell_type": "code",
      "metadata": {
        "id": "YaldfoQVRrbW",
        "colab_type": "code",
        "colab": {}
      },
      "source": [
        ""
      ],
      "execution_count": 0,
      "outputs": []
    },
    {
      "cell_type": "code",
      "metadata": {
        "id": "ZfZURFtFtRoz",
        "colab_type": "code",
        "cellView": "both",
        "colab": {}
      },
      "source": [
        "#@title SOLUTION\n",
        "import numpy as np\n",
        "import matplotlib.pyplot as plt\n",
        "from matplotlib import style\n",
        "style.use('ggplot')\n",
        "Vmax = 2.o\n",
        "Km = 0.5\n",
        "a = np.arange(0,10,0.5)\n",
        "v = Vmax * a / (Km + a)\n",
        "plt.plot(a,v,'ko-',label=\"Vmax=1.0, Km=0.5\")\n",
        "plt.xlabel(\"substrate concentration [A]\")\n",
        "plt.ylabel(\"reaction velocity\")\n",
        "plt.title(\"H-M-M equation\")\n",
        "plt.xlim(0,10)\n",
        "plt.ylim(0,1)\n",
        "plt.legend();"
      ],
      "execution_count": 0,
      "outputs": []
    },
    {
      "cell_type": "markdown",
      "metadata": {
        "id": "NLLP76LJufnK",
        "colab_type": "text"
      },
      "source": [
        "From the above plot, there's no doubt that our model is non-linar. In fact, the above equation is an hyperbola. To fit our parameters $V_{max}$ and $K_m$, we have two options: using a non-linear regression procedure, or transfomring our data to recast the model into a linear form. Let's look at the second approach.\n",
        "\n",
        "If we take the reciprocals of both sides of the H-M-M equation:\n",
        "\n",
        "<br><br>\n",
        "$$v = \\frac{V_{max}[A]}{K_m+[A]}$$\n",
        "<br>\n",
        "$${1 \\over v} = \\frac{K_m+[S]}{V_{max}[S]}$$\n",
        "<br>\n",
        "$$\\boxed{{1 \\over v} = \\frac{K_m}{V_{max}}\\frac{1}{[S]}+{1 \\over V_{max}}}$$\n",
        "<br><br>\n",
        "\n",
        "and so by plotting ${1 / v}$ *versus* $1 / [S]$ we will get a straing line with slope $K_m / V_{max}$ and $y$-intercept $1 /V_{max}$\n",
        "\n",
        "**HANDS-ON:** make the previous plot with the reciprocally transformed data  and confirm it produces a straight line. "
      ]
    },
    {
      "cell_type": "code",
      "metadata": {
        "id": "y1fGp2gXw1xS",
        "colab_type": "code",
        "cellView": "form",
        "colab": {}
      },
      "source": [
        "#@title SOLUTION\n",
        "plt.xlabel(\"$1/[A]$\")\n",
        "plt.ylabel(\"$1/v$\")\n",
        "plt.plot(1/a,1/v,'ro-');"
      ],
      "execution_count": 0,
      "outputs": []
    },
    {
      "cell_type": "markdown",
      "metadata": {
        "id": "WL_8tLvPxiOM",
        "colab_type": "text"
      },
      "source": [
        "(You can safely ignore the division by zero error. In normal conditions, you would not run an experiment with zero substrate concentration...)"
      ]
    },
    {
      "cell_type": "markdown",
      "metadata": {
        "id": "3k7M6pS9x3ry",
        "colab_type": "text"
      },
      "source": [
        "**HANDS-ON:** apply a linear regression to the transformed data, and obtain the initial parameter values (you need to remove the first \"inf\" point from the arrays,\n",
        "or polyfit will crash)"
      ]
    },
    {
      "cell_type": "code",
      "metadata": {
        "id": "7vJCmUlOyCXO",
        "colab_type": "code",
        "cellView": "form",
        "outputId": "fe2b99b3-b736-406e-e97b-8b8a2a7fb84e",
        "colab": {
          "base_uri": "https://localhost:8080/",
          "height": 35
        }
      },
      "source": [
        "#@title SOLUTION\n",
        "m, b = np.polyfit(1/a[1:], 1/v[1:],deg=1)\n",
        "Kmhat = 1/b \n",
        "Vmaxhat = m /b\n",
        "print(Kmhat, Vmaxhat)"
      ],
      "execution_count": 0,
      "outputs": [
        {
          "output_type": "stream",
          "text": [
            "1.0000000000000004 0.5000000000000001\n"
          ],
          "name": "stdout"
        }
      ]
    },
    {
      "cell_type": "markdown",
      "metadata": {
        "id": "_Yzgb7V0y7m5",
        "colab_type": "text"
      },
      "source": [
        "Of course you will retrieve the original values, because there isn't any erro in these data ! "
      ]
    },
    {
      "cell_type": "markdown",
      "metadata": {
        "id": "fyTNvbx1zO4U",
        "colab_type": "text"
      },
      "source": [
        "#### Working with a real dataset\n",
        "\n",
        "We are now going to download a dataset in csv format from the following link: https://raw.githubusercontent.com/pjmartel/python-for-scientists/master/datasets/kinetics_dataset_2.csv\n",
        "\n",
        "This dataset contains *three* velocity values for each substrate concentration - running triplicates is a good way to get more precise values and a better feeling for the distribution of experimental errors.  To perform our fitting, we will take as velocity values  for the *averages* of each set of  three replicate values. \n",
        "\n",
        "**HANDS-ON:** Read the csv file into a pandas dataframe. Create two new columns, containing the average and the standard deviation of the triplicates. "
      ]
    },
    {
      "cell_type": "code",
      "metadata": {
        "id": "kaM8kj5h19qi",
        "colab_type": "code",
        "cellView": "form",
        "colab": {}
      },
      "source": [
        "#@title SOLUTION\n",
        "import pandas as pd\n",
        "enz_data = pd.read_csv(\"https://raw.githubusercontent.com/pjmartel/python-for-scientists/master/datasets/kinetics_dataset_2.csv\")\n",
        "enz_data['MeanV'] = enz_data.loc[:,'v1':'v3'].mean(axis=1)\n",
        "enz_data['Std'] = enz_data.loc[:,'v1':'v3'].std(axis=1)\n",
        "enz_data"
      ],
      "execution_count": 0,
      "outputs": []
    },
    {
      "cell_type": "markdown",
      "metadata": {
        "id": "_u94e9-8-5Sa",
        "colab_type": "text"
      },
      "source": [
        "**HANDS-ON:** \n",
        "1. Make a plot of the standard deviation of the replicates against [A] to check for any pattern in the error distribution\n",
        "2. Make a plot of MeanV against [A] \n",
        "3. Do a linear regression on the reciprocally transformed data to estimate $K_m$ and $V_max$\n",
        "4. Use the code for  the linear regression with intervals to estimate the 95% error bounds on the estimates\n",
        "5. Do a regression plot and a residuals plot with the Seaborn library to check for the presence of outliers.\n",
        "\n"
      ]
    },
    {
      "cell_type": "code",
      "metadata": {
        "id": "wpFs8FCGAJqr",
        "colab_type": "code",
        "colab": {}
      },
      "source": [
        ""
      ],
      "execution_count": 0,
      "outputs": []
    }
  ]
}