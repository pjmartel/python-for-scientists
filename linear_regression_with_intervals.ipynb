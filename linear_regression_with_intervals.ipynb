{
  "nbformat": 4,
  "nbformat_minor": 0,
  "metadata": {
    "colab": {
      "name": "linear_regression_with_intervals",
      "version": "0.3.2",
      "provenance": [],
      "collapsed_sections": [],
      "include_colab_link": true
    },
    "kernelspec": {
      "name": "python3",
      "display_name": "Python 3"
    }
  },
  "cells": [
    {
      "cell_type": "markdown",
      "metadata": {
        "id": "view-in-github",
        "colab_type": "text"
      },
      "source": [
        "<a href=\"https://colab.research.google.com/github/pjmartel/python-for-scientists/blob/master/linear_regression_with_intervals.ipynb\" target=\"_parent\"><img src=\"https://colab.research.google.com/assets/colab-badge.svg\" alt=\"Open In Colab\"/></a>"
      ]
    },
    {
      "cell_type": "markdown",
      "metadata": {
        "id": "7REiKuRCu0T9",
        "colab_type": "text"
      },
      "source": [
        "Linear regression is a common task in data analysis and modelling. Let's consider we have  data for a dependent variable $x_i$ and an independent variable $y_i$, and we have reason to believe they are connected by a simple linear relation:\n",
        "\n",
        "$$y_i = m x_i + b ,$$\n",
        "\n",
        "where $m$ and $b$ are paramenters whose \"true\" value is unknown. In that case, we can try to find estimates $\\hat m$ and $\\hat b$ such that the difference\n",
        "\n",
        "$$ y_i - \\hat y_i $$ \n",
        "\n",
        "\n",
        "where  \n",
        "\n",
        "$$ \\hat{y_i} = \\hat m * x + \\hat b$$\n",
        "\n",
        "For mathemical reasons it is more convenient to minimize the *Sum of Squares*, given by:\n",
        "\n",
        "$$ SS(\\hat m, \\hat b) = \\sum_i (y_i - \\hat y_i )^2 $$\n",
        "\n",
        "\n",
        "Minimzing the $SS(\\hat m, \\hat b) $ as function of m and b gives rise to the well know formulas:\n",
        "\n",
        "$${\\displaystyle {\\begin{aligned}{\\widehat {\\alpha }}&={\\bar {y}}-{\\widehat {\\beta }}\\,{\\bar {x}},\\\\[5pt]{\\widehat {\\beta }}&={\\frac {\\sum _{i=1}^{n}(x_{i}-{\\bar {x}})(y_{i}-{\\bar {y}})}{\\sum _{i=1}^{n}(x_{i}-{\\bar {x}})^{2}}}\\\\[6pt]&={\\frac {\\operatorname {Cov} (x,y)}{\\operatorname {Var} (x)}}\\\\[5pt]&=r_{xy}{\\frac {s_{y}}{s_{x}}}.\\\\[6pt]\\end{aligned}}}  $$\n",
        "\n",
        "There are multiple implementations of this method in the Pyverse, some specific to this model, some much more general. The Numpy module has a function named \"`polyfit`\" that can do least squares regression for a polynomial function:\n",
        "\n",
        "$$ y = a_n x^n + a_{n-1} x^{n-1} + ... + a_1 x + a_0$$\n",
        "\n",
        "Our simple linear model is just a particular case of the above, for $n=1$.\n",
        "\n",
        "Let demonstrate the use of this function with a simulated linear dataset model."
      ]
    },
    {
      "cell_type": "markdown",
      "metadata": {
        "id": "wm3PqCPW2pEe",
        "colab_type": "text"
      },
      "source": [
        "First, we do the necessary imports:"
      ]
    },
    {
      "cell_type": "code",
      "metadata": {
        "id": "P4fLHx5Et72A",
        "colab_type": "code",
        "colab": {}
      },
      "source": [
        "import numpy as np\n",
        "import matplotlib.pyplot as plt\n",
        "from matplotlib import style\n",
        "style.use('dark_background')\n",
        "import numpy.random as rnd"
      ],
      "execution_count": 0,
      "outputs": []
    },
    {
      "cell_type": "code",
      "metadata": {
        "id": "0s6RMb2842gy",
        "colab_type": "code",
        "colab": {}
      },
      "source": [
        "style.available"
      ],
      "execution_count": 0,
      "outputs": []
    },
    {
      "cell_type": "markdown",
      "metadata": {
        "id": "2TdO-1X-216T",
        "colab_type": "text"
      },
      "source": [
        "We import the *random* module of numpy because we want to add random noise to our simulated data."
      ]
    },
    {
      "cell_type": "markdown",
      "metadata": {
        "id": "uXNE27zs2-da",
        "colab_type": "text"
      },
      "source": [
        "Let's create a numpy 1D array for our independent variable;"
      ]
    },
    {
      "cell_type": "code",
      "metadata": {
        "id": "NobE_PeZuInB",
        "colab_type": "code",
        "colab": {
          "base_uri": "https://localhost:8080/",
          "height": 88
        },
        "outputId": "52939c91-ddab-45cc-95f0-4a60e35dbe06"
      },
      "source": [
        "N = 20 # number of data points\n",
        "x = np.linspace(0,10, N)\n",
        "x"
      ],
      "execution_count": 58,
      "outputs": [
        {
          "output_type": "execute_result",
          "data": {
            "text/plain": [
              "array([ 0.        ,  0.52631579,  1.05263158,  1.57894737,  2.10526316,\n",
              "        2.63157895,  3.15789474,  3.68421053,  4.21052632,  4.73684211,\n",
              "        5.26315789,  5.78947368,  6.31578947,  6.84210526,  7.36842105,\n",
              "        7.89473684,  8.42105263,  8.94736842,  9.47368421, 10.        ])"
            ]
          },
          "metadata": {
            "tags": []
          },
          "execution_count": 58
        }
      ]
    },
    {
      "cell_type": "markdown",
      "metadata": {
        "id": "J2hUO8Jx3PfU",
        "colab_type": "text"
      },
      "source": [
        "Let's create our independent variable `y`  by aplying the linear model to independent variable:"
      ]
    },
    {
      "cell_type": "code",
      "metadata": {
        "id": "rKNMfwbR3JMo",
        "colab_type": "code",
        "colab": {}
      },
      "source": [
        "m = 3\n",
        "b = 2\n",
        "y = m*x + b "
      ],
      "execution_count": 0,
      "outputs": []
    },
    {
      "cell_type": "markdown",
      "metadata": {
        "id": "NZMwqTCD3bXg",
        "colab_type": "text"
      },
      "source": [
        "Let's plot the y *versus* x "
      ]
    },
    {
      "cell_type": "code",
      "metadata": {
        "id": "MhqGbQaw3aHr",
        "colab_type": "code",
        "colab": {
          "base_uri": "https://localhost:8080/",
          "height": 287
        },
        "outputId": "c65e055f-0edf-4a77-b9af-e1079dc793e5"
      },
      "source": [
        "plt.plot(x,y,'ro--')"
      ],
      "execution_count": 60,
      "outputs": [
        {
          "output_type": "execute_result",
          "data": {
            "text/plain": [
              "[<matplotlib.lines.Line2D at 0x7f865976f2e8>]"
            ]
          },
          "metadata": {
            "tags": []
          },
          "execution_count": 60
        },
        {
          "output_type": "display_data",
          "data": {
            "image/png": "[encoded data removed]",
            "text/plain": [
              "<Figure size 432x288 with 1 Axes>"
            ]
          },
          "metadata": {
            "tags": []
          }
        }
      ]
    },
    {
      "cell_type": "markdown",
      "metadata": {
        "id": "vkbbuYGX39cH",
        "colab_type": "text"
      },
      "source": [
        "This is not that interesting, because our independent variable has no error, so the fitting to the linear model is perfect.\n",
        "\n",
        "Let's add some random gaussian noise to our model"
      ]
    },
    {
      "cell_type": "code",
      "metadata": {
        "id": "CEalt3Zq39Id",
        "colab_type": "code",
        "colab": {}
      },
      "source": [
        "# Normal distribution with mean 0 and std 1, N points\n",
        "y = y + rnd.normal(loc=0, scale=1, size=N) "
      ],
      "execution_count": 0,
      "outputs": []
    },
    {
      "cell_type": "markdown",
      "metadata": {
        "id": "x0e7P009-l-8",
        "colab_type": "text"
      },
      "source": [
        "We just added a normally distributed random number (mean=0, std=1) to every point in our sample. This *simulates* experimental errors in the measurment of variable $y$."
      ]
    },
    {
      "cell_type": "code",
      "metadata": {
        "id": "xrBK2-Ws37iW",
        "colab_type": "code",
        "colab": {
          "base_uri": "https://localhost:8080/",
          "height": 287
        },
        "outputId": "ece96773-d90c-44e5-b2c3-9ab71242a240"
      },
      "source": [
        "plt.plot(x,y,'yo')"
      ],
      "execution_count": 67,
      "outputs": [
        {
          "output_type": "execute_result",
          "data": {
            "text/plain": [
              "[<matplotlib.lines.Line2D at 0x7f865cb2a2e8>]"
            ]
          },
          "metadata": {
            "tags": []
          },
          "execution_count": 67
        },
        {
          "output_type": "display_data",
          "data": {
            "image/png": "[encoded data removed]",
            "text/plain": [
              "<Figure size 432x288 with 1 Axes>"
            ]
          },
          "metadata": {
            "tags": []
          }
        }
      ]
    },
    {
      "cell_type": "markdown",
      "metadata": {
        "id": "OdW_FfEH4hGF",
        "colab_type": "text"
      },
      "source": [
        "That's more like it! We can now use the `polyfit` function to estimate the linear parameters of our \"hidden\" model."
      ]
    },
    {
      "cell_type": "code",
      "metadata": {
        "id": "daoiAuG23k5t",
        "colab_type": "code",
        "colab": {
          "base_uri": "https://localhost:8080/",
          "height": 35
        },
        "outputId": "73fcf66e-89bf-4ad2-f901-067be3a15452"
      },
      "source": [
        "np.polyfit(x,y,deg=1) # simple linear mode = polynomial degree one "
      ],
      "execution_count": 73,
      "outputs": [
        {
          "output_type": "execute_result",
          "data": {
            "text/plain": [
              "array([2.86050026, 2.62879087])"
            ]
          },
          "metadata": {
            "tags": []
          },
          "execution_count": 73
        }
      ]
    },
    {
      "cell_type": "markdown",
      "metadata": {
        "id": "ySzdVEAO0ChS",
        "colab_type": "text"
      },
      "source": [
        "We can see that our function returns the two estimates of m and b as two elemens of a numpy array. In cases like this, it is convenient \n",
        "assign the return values directly to two separate variables:"
      ]
    },
    {
      "cell_type": "code",
      "metadata": {
        "id": "NMGx4n4K4vkf",
        "colab_type": "code",
        "colab": {}
      },
      "source": [
        "mhat, bhat = np.polyfit(x,y,deg=1)"
      ],
      "execution_count": 0,
      "outputs": []
    },
    {
      "cell_type": "markdown",
      "metadata": {
        "id": "38PpEw4N0ehq",
        "colab_type": "text"
      },
      "source": [
        "We use the \"hat\" designations to emphasize the fact that m and b are not the \"true values\" (unknown in real-life scenarios, but known \n",
        "here for simulated data ), but rather *estimates* of the true variables."
      ]
    },
    {
      "cell_type": "code",
      "metadata": {
        "id": "tJd9lnyaz2mc",
        "colab_type": "code",
        "colab": {
          "base_uri": "https://localhost:8080/",
          "height": 52
        },
        "outputId": "64b31434-d3d1-4511-a775-825f69364a61"
      },
      "source": [
        "print(\"mhat ={:6.3f}  bhat ={:6.3f}\".format(mhat,bhat))\n",
        "print(\"m ={:6.3f}  b ={:6.3f}\".format(m,b))\n",
        "\n"
      ],
      "execution_count": 75,
      "outputs": [
        {
          "output_type": "stream",
          "text": [
            "mhat = 2.861  bhat = 2.629\n",
            "m = 3.000  b = 2.000\n"
          ],
          "name": "stdout"
        }
      ]
    },
    {
      "cell_type": "markdown",
      "metadata": {
        "id": "2Q6xxAkh17oj",
        "colab_type": "text"
      },
      "source": [
        "As you can see, there is considerable discrepancy between the estimated and the \"true\" values, particularly for the the b parameter.\n",
        "\n",
        "**HANDS-ON:** computer the *Pearson correlation coefficient* ($r_{xy}$), and its square, the *Coefficient of determination*($R^2$)"
      ]
    },
    {
      "cell_type": "code",
      "metadata": {
        "id": "hbhuLipy2Ici",
        "colab_type": "code",
        "colab": {
          "base_uri": "https://localhost:8080/",
          "height": 52
        },
        "cellView": "form",
        "outputId": "14261adf-555f-4191-bf24-f3463de282fd"
      },
      "source": [
        "#@title SOLUTION \n",
        "print(\"Pearson correlation coefficient - \",np.corrcoef(x,y)[1,0])\n",
        "print(\"Coefficient of determination (R²) - \",np.corrcoef(x,y)[1,0]**2)"
      ],
      "execution_count": 76,
      "outputs": [
        {
          "output_type": "stream",
          "text": [
            "Pearson correlation coefficient -  0.9886478353513056\n",
            "Coefficient of determination (R²) -  0.9774245423448223\n"
          ],
          "name": "stdout"
        }
      ]
    },
    {
      "cell_type": "markdown",
      "metadata": {
        "id": "pZj6FVMx330l",
        "colab_type": "text"
      },
      "source": [
        "Let's plot the regression line together with our data point, with proper labels:"
      ]
    },
    {
      "cell_type": "code",
      "metadata": {
        "id": "Va0MZKkl33yS",
        "colab_type": "code",
        "colab": {
          "base_uri": "https://localhost:8080/",
          "height": 295
        },
        "outputId": "22bc5b8f-aeeb-4d31-c38b-bce9f3e80220"
      },
      "source": [
        "plt.title(\"Simple linear regression\")\n",
        "plt.xlabel(\"x data\")\n",
        "plt.ylabel(\"y data\")\n",
        "plt.plot(x,y,'yo',label=\"data points\")\n",
        "plt.plot(x,m*x+b,'g--', label=\"regression line\")\n",
        "plt.legend();"
      ],
      "execution_count": 77,
      "outputs": [
        {
          "output_type": "display_data",
          "data": {
            "image/png": "[encoded data removed]",
            "text/plain": [
              "<Figure size 432x288 with 1 Axes>"
            ]
          },
          "metadata": {
            "tags": []
          }
        }
      ]
    },
    {
      "cell_type": "markdown",
      "metadata": {
        "id": "LrNgW5RI8Tyh",
        "colab_type": "text"
      },
      "source": [
        "**HANDS-ON:** Go and try to re-run the above cells several times. Each time the random error will be different, so you will get different values for mhat, bhat and R². This will give you a good feeling for the *interval* of variation that our estimates can populate when data is sampled from a population with a given error distribution (in this case the random error is normall distributed with mean 0 and standard deviation 1)"
      ]
    },
    {
      "cell_type": "markdown",
      "metadata": {
        "id": "ua7sL4jx_RLT",
        "colab_type": "text"
      },
      "source": [
        "The intervals of variation of $\\hat m$ and $\\hat b$  should gives a measure of the *confidence* we can have in our estimates. A more rigorous way to deal with the problem would be to obtain *confidence intervals* for $\\hat m$ and $\\hat b$. Unfortunately, most tools to compute simple linear regression do not produce this values, which can be crucial if parameter estimation is our primary goal.  It's even more suprising considering that implementation of the computations for the said intervals is actually rahter simple. "
      ]
    },
    {
      "cell_type": "markdown",
      "metadata": {
        "id": "a8v5y2WDAvPU",
        "colab_type": "text"
      },
      "source": [
        "**HANDS-ON:** Implement the necessary calculations for computing the intervals for $\\hat m$ and $\\hat b$ at a given confidence level, based on the explanation given below:\n",
        "\n",
        "If the random errors in the $y$ variable are normally distributed, the $\\hat m$ and $\\hat b$ values are themselves normally distributed, and a confidence interval for the \"true\" value $m$ and $b$ can be determined. We will assert without demonstration that :\n",
        "\n",
        "<br>\n",
        "$${\\displaystyle {\\frac {{\\hat {m }}-m }{s_{\\hat {m }}}}\\ }$$\n",
        "<br>\n",
        "\n",
        "is distributed with a Student's t-distribution with $t-2$  degrees of freedom (henceforth called $t_{n-2}$), where $s_{\\hat m}$ is given by:\n",
        "\n",
        "<br>\n",
        "$$ s_{\\hat {m }}={\\sqrt {\\frac {{\\frac {1}{n-2}}\\sum _{i=1}^{n}{\\hat {\\varepsilon }}_{i}^{\\,2}}{\\sum _{i=1}^{n}(x_{i}-{\\bar {x}})^{2}}}}$$\n",
        "<br>\n",
        "\n",
        "where the $\\varepsilon_i$ are the differences between the experimental and calculated $y$:\n",
        "\n",
        "<br>\n",
        "$$\\varepsilon_i = \\hat y_i - y_i = y_i \\hat m + \\hat b - y_i $$\n",
        "<br>\n",
        "\n",
        "and the $\\bar x$ is the sample mean of the $x$ values:\n",
        "\n",
        "<br>\n",
        "$$ \\bar x = \\frac{1}{N}\\sum_i x_i $$\n",
        "<br>\n",
        "\n",
        "From here a confidence interval can be found for $\\hat m$ :\n",
        "\n",
        "<br>\n",
        "$${\\displaystyle b \\in \\left[{\\hat {m }}-s_{\\hat {m }}t_{n-2}^{*},\\ {\\hat {m }}+s_{\\hat {m }}t_{n-2}^{*}\\right]}$$\n",
        "<br>\n",
        "\n",
        "where ${\\displaystyle t_{n-2}^{*}}$ is the ${\\displaystyle \\scriptstyle \\left(1\\;-\\;{\\frac {\\gamma }{2}}\\right){\\text{-th}}}$ quantile of the Student's t distribution with n−2 degrees of freedom. For example, if γ = 0.05 then the confidence level is 95%\n",
        "\n",
        "Similarly, a confidence interval for $\\hat b$ is \n",
        "\n",
        "<br>\n",
        "$${\\displaystyle b \\in \\left[{\\hat {b }}-s_{\\hat {b }}t_{n-2}^{*},\\ {\\hat {b }}+s_{\\hat {b }}t_{n-2}^{*}\\right]}$$\n",
        "<br>\n",
        "\n",
        "where $s_{\\hat b}$ is the standard error of the $b$ estimate:\n",
        "\n",
        "<br>\n",
        "$${\\displaystyle s_{\\hat {b }}=s_{\\hat {m }}{\\sqrt {{\\frac {1}{n}}\\sum _{i=1}^{n}x_{i}^{2}}}={\\sqrt {{\\frac {1}{n(n-2)}}\\left(\\sum _{i=1}^{n}{\\hat {\\varepsilon }}_{j}^{\\,2}\\right){\\frac {\\sum _{i=1}^{n}x_{i}^{2}}{\\sum _{i=1}^{n}(x_{i}-{\\bar {x}})^{2}}}}}}$$\n",
        "<br>\n",
        "\n",
        "\n",
        "\n",
        "\n",
        "\n"
      ]
    },
    {
      "cell_type": "markdown",
      "metadata": {
        "id": "d4juD_6KMbkF",
        "colab_type": "text"
      },
      "source": [
        "**NOTE 1:** The ${\\displaystyle \\scriptstyle \\left(1\\;-\\;{\\frac {\\gamma }{2}}\\right){\\text{-th}}}$ quantile of the Student's t distribution with n−2 degrees of freedom can be calculated using the \"stats\" module of the \"scipy\" scientific library. Here is what to do:"
      ]
    },
    {
      "cell_type": "code",
      "metadata": {
        "id": "X0k-rBNf1U_B",
        "colab_type": "code",
        "colab": {}
      },
      "source": [
        "from scipy.stats import t"
      ],
      "execution_count": 0,
      "outputs": []
    },
    {
      "cell_type": "markdown",
      "metadata": {
        "id": "dAzrze83NYQN",
        "colab_type": "text"
      },
      "source": [
        "The t module contains many functions related to the  $t$ distribution, including probability density, cumulative distribution, and many others. The function\n",
        "we need to calculate the quantile is  \"`t.ppf`\" (percent point function). Let's calculate the correct t-value for a give percent confidence interval:"
      ]
    },
    {
      "cell_type": "code",
      "metadata": {
        "id": "sbg4C-nf9ViW",
        "colab_type": "code",
        "colab": {
          "base_uri": "https://localhost:8080/",
          "height": 35
        },
        "outputId": "b85801a5-7c8e-4889-f2db-be6f555cde32"
      },
      "source": [
        "N = 20 # number of points\n",
        "interval = 0.95 # confidence interval\n",
        "gamma = 1-interval\n",
        "tval = t.ppf(1-gamma/2,df=N-2)\n",
        "tval"
      ],
      "execution_count": 87,
      "outputs": [
        {
          "output_type": "execute_result",
          "data": {
            "text/plain": [
              "2.10092204024096"
            ]
          },
          "metadata": {
            "tags": []
          },
          "execution_count": 87
        }
      ]
    },
    {
      "cell_type": "markdown",
      "metadata": {
        "id": "wNatOBIYPyQA",
        "colab_type": "text"
      },
      "source": [
        "**NOTE 2:** Remeber the exercises in the numpy notebook where we found numpy vector expressions to calculate variance/covariance and the correlation coefficient. We need to use a similar approach here. Calculations you need to do:\n",
        "\n",
        "\n",
        "\n",
        "*   Mean of the sum of squares of $x_i$\n",
        "*   Sum of quadratic deviatrion from the mean of $x_i$\n",
        "*  Sum of the squares of differences between $\\hat y_i$ and $y_i$\n",
        "* From the above compute the $s_\\hat m$ and the $s_\\hat b$\n",
        "* Compute the $t$ value has explained above. \n",
        "* Use the $s_\\hat m$, $s_\\hat b$ and $t$ value to compute the confidence intervals\n",
        "\n",
        "1. Try to keep everything nice and tidy, defining a few functions to make the calculations more clear.\n",
        "\n",
        "2. Try to reuse some of the functions you created in the numpy exercise.  \n",
        "\n",
        "3. Ask the tutors help if you get stuck\n",
        "\n",
        "\n"
      ]
    },
    {
      "cell_type": "code",
      "metadata": {
        "id": "937_bTINPMUB",
        "colab_type": "code",
        "colab": {}
      },
      "source": [
        ""
      ],
      "execution_count": 0,
      "outputs": []
    }
  ]
}