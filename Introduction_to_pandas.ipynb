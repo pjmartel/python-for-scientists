{
  "nbformat": 4,
  "nbformat_minor": 0,
  "metadata": {
    "colab": {
      "name": "Introduction_to_pandas.ipynb",
      "version": "0.3.2",
      "provenance": [],
      "collapsed_sections": [],
      "include_colab_link": true
    },
    "kernelspec": {
      "name": "python3",
      "display_name": "Python 3"
    }
  },
  "cells": [
    {
      "cell_type": "markdown",
      "metadata": {
        "id": "view-in-github",
        "colab_type": "text"
      },
      "source": [
        "<a href=\"https://colab.research.google.com/github/pjmartel/python-for-scientists/blob/master/Introduction_to_pandas.ipynb\" target=\"_parent\"><img src=\"https://colab.research.google.com/assets/colab-badge.svg\" alt=\"Open In Colab\"/></a>"
      ]
    },
    {
      "cell_type": "markdown",
      "metadata": {
        "id": "CxnLKHGezWdA",
        "colab_type": "text"
      },
      "source": [
        "We have learned to make various operations on 2D tabular data in the form of numpy arrays. While those operations can be very powerful tools for extracting all sorts if interesting patterns from the data, there is some some level of awkwardness in the data object itself. For one thing, numpy arrays  are mostly meant to work\n",
        "with uniform data types, whereas tabular datasets often have heterogeneous types of data. Numpy allow for the creation of *structured arrays* to deal with these heterogeneous data types, but it's just not as simple and immediate as one would hope. Tabular data often contains str fields, categorical values, floats and integers all combined in one very large table with many rows and columns. Rows are very often labelled with headings, very much like tables in Excel worksheets. When analyzing data with these type of tools, it's very often convenient to add new columns to our tables, our delete unneeded ones. Again, this can be done with Numpy arrays, but it's not practical. We could go on with a number of other aspects of data analysis were numpy arrays come short. \n",
        "\n",
        "With the very widespread usage of the Python language among data scientists and analysts, it's all but too natural that this issue was addressed in the form of a multi-tooled Python library. This library is called \"Pandas\" and its constructed around a type of object called \"dataframe\" that addresses many of the issues raised\n",
        "by working with tabular data (and also time series data). **Note:** Those familiar with the R programming language will recognize the dataframe type, which resembles its R counterpart in many ways."
      ]
    },
    {
      "cell_type": "markdown",
      "metadata": {
        "id": "P5ZF9xgq-dz2",
        "colab_type": "text"
      },
      "source": [
        "Let's import the pandas library (\"pd\" is the recommend short-hand alias)"
      ]
    },
    {
      "cell_type": "code",
      "metadata": {
        "id": "XdKhbgEMke8J",
        "colab_type": "code",
        "colab": {}
      },
      "source": [
        "import pandas as pd"
      ],
      "execution_count": 0,
      "outputs": []
    },
    {
      "cell_type": "markdown",
      "metadata": {
        "id": "0_02Vlmu-nyn",
        "colab_type": "text"
      },
      "source": [
        "Pandas dataframes can be created with the \"DataFrame\" method in a number of ways.\n",
        "\n",
        "For instance, they can be created from a dict object, where the keys are column labels and the corresponding  values are lists of data to be contained in each column:"
      ]
    },
    {
      "cell_type": "code",
      "metadata": {
        "id": "27d9lwyqH2EL",
        "colab_type": "code",
        "colab": {}
      },
      "source": [
        "# df = pd.DataFrame({'Name': ['lion','tiger','wolf','beer','panda'],'Avg.weight':})"
      ],
      "execution_count": 0,
      "outputs": []
    },
    {
      "cell_type": "code",
      "metadata": {
        "id": "Ecv-QBLc4yyN",
        "colab_type": "code",
        "colab": {}
      },
      "source": [
        "df = pd.DataFrame({ 'A': [2, 3, 4, 5, 6] , 'B': [4, 9, 16, 25, 36]})"
      ],
      "execution_count": 0,
      "outputs": []
    },
    {
      "cell_type": "markdown",
      "metadata": {
        "id": "i6ClG5LX_RxS",
        "colab_type": "text"
      },
      "source": [
        "Let's evaluate the dataframe \"df\" in a cell"
      ]
    },
    {
      "cell_type": "code",
      "metadata": {
        "id": "YWq6sLw74yv1",
        "colab_type": "code",
        "outputId": "5175d9ff-6b63-4d54-9407-829f43bda1cc",
        "colab": {
          "base_uri": "https://localhost:8080/",
          "height": 203
        }
      },
      "source": [
        "df"
      ],
      "execution_count": 50,
      "outputs": [
        {
          "output_type": "execute_result",
          "data": {
            "text/html": [
              "<div>\n",
              "<style scoped>\n",
              "    .dataframe tbody tr th:only-of-type {\n",
              "        vertical-align: middle;\n",
              "    }\n",
              "\n",
              "    .dataframe tbody tr th {\n",
              "        vertical-align: top;\n",
              "    }\n",
              "\n",
              "    .dataframe thead th {\n",
              "        text-align: right;\n",
              "    }\n",
              "</style>\n",
              "<table border=\"1\" class=\"dataframe\">\n",
              "  <thead>\n",
              "    <tr style=\"text-align: right;\">\n",
              "      <th></th>\n",
              "      <th>A</th>\n",
              "      <th>B</th>\n",
              "    </tr>\n",
              "  </thead>\n",
              "  <tbody>\n",
              "    <tr>\n",
              "      <th>0</th>\n",
              "      <td>2</td>\n",
              "      <td>4</td>\n",
              "    </tr>\n",
              "    <tr>\n",
              "      <th>1</th>\n",
              "      <td>3</td>\n",
              "      <td>9</td>\n",
              "    </tr>\n",
              "    <tr>\n",
              "      <th>2</th>\n",
              "      <td>4</td>\n",
              "      <td>16</td>\n",
              "    </tr>\n",
              "    <tr>\n",
              "      <th>3</th>\n",
              "      <td>5</td>\n",
              "      <td>25</td>\n",
              "    </tr>\n",
              "    <tr>\n",
              "      <th>4</th>\n",
              "      <td>6</td>\n",
              "      <td>36</td>\n",
              "    </tr>\n",
              "  </tbody>\n",
              "</table>\n",
              "</div>"
            ],
            "text/plain": [
              "   A   B\n",
              "0  2   4\n",
              "1  3   9\n",
              "2  4  16\n",
              "3  5  25\n",
              "4  6  36"
            ]
          },
          "metadata": {
            "tags": []
          },
          "execution_count": 50
        }
      ]
    },
    {
      "cell_type": "markdown",
      "metadata": {
        "id": "TkPH-RsB_ggQ",
        "colab_type": "text"
      },
      "source": [
        "As previously explained , the keys in the dictionary have been used for *column labels*, and the lists of values  as column data. Notice a leftmost column starting at 0 and going up to 4  - this is the index column of the data frame and can be used to access and manipulate the data rows in different ways - when not specifically set, his column will consist of numbers ranging from zero to the `n-1`, where `n` is the number of rows.. It is important to understand that the index column and the labels row are not part of the data proper, they are just entry points to label and access the data in ways that are simpler and faster than what you could do with a 2D Numpy array.  Also, the python notebook knows how to \"pretty print\" the dataframe in a nice tabular way,  with data properly aligned - it's far more readable that the default numpy array representation. \n",
        "<br><br>\n",
        "Suppose we want to print out the values of column A. We can do this:"
      ]
    },
    {
      "cell_type": "code",
      "metadata": {
        "id": "qdM9hrPaAlHS",
        "colab_type": "code",
        "outputId": "681e2e3e-eaa4-4533-ce50-f9f76ee51afd",
        "colab": {
          "base_uri": "https://localhost:8080/",
          "height": 123
        }
      },
      "source": [
        "df['A']"
      ],
      "execution_count": 51,
      "outputs": [
        {
          "output_type": "execute_result",
          "data": {
            "text/plain": [
              "0    2\n",
              "1    3\n",
              "2    4\n",
              "3    5\n",
              "4    6\n",
              "Name: A, dtype: int64"
            ]
          },
          "metadata": {
            "tags": []
          },
          "execution_count": 51
        }
      ]
    },
    {
      "cell_type": "markdown",
      "metadata": {
        "id": "uBFDYCvxHaeF",
        "colab_type": "text"
      },
      "source": [
        "The column values get printed along with indices, and the column data type is indicated below (Remember: dataframes will often include columns of different data types)."
      ]
    },
    {
      "cell_type": "markdown",
      "metadata": {
        "id": "ncbG8NvLBexu",
        "colab_type": "text"
      },
      "source": [
        "Column referencs like the one above can be operated by methods similar to those numpy arrays:"
      ]
    },
    {
      "cell_type": "code",
      "metadata": {
        "id": "UnxJdm7VAlYf",
        "colab_type": "code",
        "outputId": "4f011830-a1a4-4d91-a176-053295992b9d",
        "colab": {
          "base_uri": "https://localhost:8080/",
          "height": 35
        }
      },
      "source": [
        "df['B'].mean()"
      ],
      "execution_count": 52,
      "outputs": [
        {
          "output_type": "execute_result",
          "data": {
            "text/plain": [
              "18.0"
            ]
          },
          "metadata": {
            "tags": []
          },
          "execution_count": 52
        }
      ]
    },
    {
      "cell_type": "markdown",
      "metadata": {
        "id": "tlHOarBLBptz",
        "colab_type": "text"
      },
      "source": [
        "The  column labels work much in the same way as row indices in a numpy 2D array, with the added convenience of (possibly) illustrative names. However,  this comes at a price: you can no longer access elements directly with slice notation. Just try it and see what happens:"
      ]
    },
    {
      "cell_type": "code",
      "metadata": {
        "id": "wjcNbeMXX6yb",
        "colab_type": "code",
        "outputId": "33a870d5-312c-45cd-fe77-dd6a8b8ae8ec",
        "colab": {
          "base_uri": "https://localhost:8080/",
          "height": 723
        }
      },
      "source": [
        "df[3,2]"
      ],
      "execution_count": 53,
      "outputs": [
        {
          "output_type": "error",
          "ename": "KeyError",
          "evalue": "ignored",
          "traceback": [
            "\u001b[0;31m---------------------------------------------------------------------------\u001b[0m",
            "\u001b[0;31mKeyError\u001b[0m                                  Traceback (most recent call last)",
            "\u001b[0;32m/usr/local/lib/python3.6/dist-packages/pandas/core/indexes/base.py\u001b[0m in \u001b[0;36mget_loc\u001b[0;34m(self, key, method, tolerance)\u001b[0m\n\u001b[1;32m   2656\u001b[0m             \u001b[0;32mtry\u001b[0m\u001b[0;34m:\u001b[0m\u001b[0;34m\u001b[0m\u001b[0;34m\u001b[0m\u001b[0m\n\u001b[0;32m-> 2657\u001b[0;31m                 \u001b[0;32mreturn\u001b[0m \u001b[0mself\u001b[0m\u001b[0;34m.\u001b[0m\u001b[0m_engine\u001b[0m\u001b[0;34m.\u001b[0m\u001b[0mget_loc\u001b[0m\u001b[0;34m(\u001b[0m\u001b[0mkey\u001b[0m\u001b[0;34m)\u001b[0m\u001b[0;34m\u001b[0m\u001b[0;34m\u001b[0m\u001b[0m\n\u001b[0m\u001b[1;32m   2658\u001b[0m             \u001b[0;32mexcept\u001b[0m \u001b[0mKeyError\u001b[0m\u001b[0;34m:\u001b[0m\u001b[0;34m\u001b[0m\u001b[0;34m\u001b[0m\u001b[0m\n",
            "\u001b[0;32mpandas/_libs/index.pyx\u001b[0m in \u001b[0;36mpandas._libs.index.IndexEngine.get_loc\u001b[0;34m()\u001b[0m\n",
            "\u001b[0;32mpandas/_libs/index.pyx\u001b[0m in \u001b[0;36mpandas._libs.index.IndexEngine.get_loc\u001b[0;34m()\u001b[0m\n",
            "\u001b[0;32mpandas/_libs/hashtable_class_helper.pxi\u001b[0m in \u001b[0;36mpandas._libs.hashtable.PyObjectHashTable.get_item\u001b[0;34m()\u001b[0m\n",
            "\u001b[0;32mpandas/_libs/hashtable_class_helper.pxi\u001b[0m in \u001b[0;36mpandas._libs.hashtable.PyObjectHashTable.get_item\u001b[0;34m()\u001b[0m\n",
            "\u001b[0;31mKeyError\u001b[0m: (3, 2)",
            "\nDuring handling of the above exception, another exception occurred:\n",
            "\u001b[0;31mKeyError\u001b[0m                                  Traceback (most recent call last)",
            "\u001b[0;32m<ipython-input-53-5377f14c2cdf>\u001b[0m in \u001b[0;36m<module>\u001b[0;34m()\u001b[0m\n\u001b[0;32m----> 1\u001b[0;31m \u001b[0mdf\u001b[0m\u001b[0;34m[\u001b[0m\u001b[0;36m3\u001b[0m\u001b[0;34m,\u001b[0m\u001b[0;36m2\u001b[0m\u001b[0;34m]\u001b[0m\u001b[0;34m\u001b[0m\u001b[0;34m\u001b[0m\u001b[0m\n\u001b[0m",
            "\u001b[0;32m/usr/local/lib/python3.6/dist-packages/pandas/core/frame.py\u001b[0m in \u001b[0;36m__getitem__\u001b[0;34m(self, key)\u001b[0m\n\u001b[1;32m   2925\u001b[0m             \u001b[0;32mif\u001b[0m \u001b[0mself\u001b[0m\u001b[0;34m.\u001b[0m\u001b[0mcolumns\u001b[0m\u001b[0;34m.\u001b[0m\u001b[0mnlevels\u001b[0m \u001b[0;34m>\u001b[0m \u001b[0;36m1\u001b[0m\u001b[0;34m:\u001b[0m\u001b[0;34m\u001b[0m\u001b[0;34m\u001b[0m\u001b[0m\n\u001b[1;32m   2926\u001b[0m                 \u001b[0;32mreturn\u001b[0m \u001b[0mself\u001b[0m\u001b[0;34m.\u001b[0m\u001b[0m_getitem_multilevel\u001b[0m\u001b[0;34m(\u001b[0m\u001b[0mkey\u001b[0m\u001b[0;34m)\u001b[0m\u001b[0;34m\u001b[0m\u001b[0;34m\u001b[0m\u001b[0m\n\u001b[0;32m-> 2927\u001b[0;31m             \u001b[0mindexer\u001b[0m \u001b[0;34m=\u001b[0m \u001b[0mself\u001b[0m\u001b[0;34m.\u001b[0m\u001b[0mcolumns\u001b[0m\u001b[0;34m.\u001b[0m\u001b[0mget_loc\u001b[0m\u001b[0;34m(\u001b[0m\u001b[0mkey\u001b[0m\u001b[0;34m)\u001b[0m\u001b[0;34m\u001b[0m\u001b[0;34m\u001b[0m\u001b[0m\n\u001b[0m\u001b[1;32m   2928\u001b[0m             \u001b[0;32mif\u001b[0m \u001b[0mis_integer\u001b[0m\u001b[0;34m(\u001b[0m\u001b[0mindexer\u001b[0m\u001b[0;34m)\u001b[0m\u001b[0;34m:\u001b[0m\u001b[0;34m\u001b[0m\u001b[0;34m\u001b[0m\u001b[0m\n\u001b[1;32m   2929\u001b[0m                 \u001b[0mindexer\u001b[0m \u001b[0;34m=\u001b[0m \u001b[0;34m[\u001b[0m\u001b[0mindexer\u001b[0m\u001b[0;34m]\u001b[0m\u001b[0;34m\u001b[0m\u001b[0;34m\u001b[0m\u001b[0m\n",
            "\u001b[0;32m/usr/local/lib/python3.6/dist-packages/pandas/core/indexes/base.py\u001b[0m in \u001b[0;36mget_loc\u001b[0;34m(self, key, method, tolerance)\u001b[0m\n\u001b[1;32m   2657\u001b[0m                 \u001b[0;32mreturn\u001b[0m \u001b[0mself\u001b[0m\u001b[0;34m.\u001b[0m\u001b[0m_engine\u001b[0m\u001b[0;34m.\u001b[0m\u001b[0mget_loc\u001b[0m\u001b[0;34m(\u001b[0m\u001b[0mkey\u001b[0m\u001b[0;34m)\u001b[0m\u001b[0;34m\u001b[0m\u001b[0;34m\u001b[0m\u001b[0m\n\u001b[1;32m   2658\u001b[0m             \u001b[0;32mexcept\u001b[0m \u001b[0mKeyError\u001b[0m\u001b[0;34m:\u001b[0m\u001b[0;34m\u001b[0m\u001b[0;34m\u001b[0m\u001b[0m\n\u001b[0;32m-> 2659\u001b[0;31m                 \u001b[0;32mreturn\u001b[0m \u001b[0mself\u001b[0m\u001b[0;34m.\u001b[0m\u001b[0m_engine\u001b[0m\u001b[0;34m.\u001b[0m\u001b[0mget_loc\u001b[0m\u001b[0;34m(\u001b[0m\u001b[0mself\u001b[0m\u001b[0;34m.\u001b[0m\u001b[0m_maybe_cast_indexer\u001b[0m\u001b[0;34m(\u001b[0m\u001b[0mkey\u001b[0m\u001b[0;34m)\u001b[0m\u001b[0;34m)\u001b[0m\u001b[0;34m\u001b[0m\u001b[0;34m\u001b[0m\u001b[0m\n\u001b[0m\u001b[1;32m   2660\u001b[0m         \u001b[0mindexer\u001b[0m \u001b[0;34m=\u001b[0m \u001b[0mself\u001b[0m\u001b[0;34m.\u001b[0m\u001b[0mget_indexer\u001b[0m\u001b[0;34m(\u001b[0m\u001b[0;34m[\u001b[0m\u001b[0mkey\u001b[0m\u001b[0;34m]\u001b[0m\u001b[0;34m,\u001b[0m \u001b[0mmethod\u001b[0m\u001b[0;34m=\u001b[0m\u001b[0mmethod\u001b[0m\u001b[0;34m,\u001b[0m \u001b[0mtolerance\u001b[0m\u001b[0;34m=\u001b[0m\u001b[0mtolerance\u001b[0m\u001b[0;34m)\u001b[0m\u001b[0;34m\u001b[0m\u001b[0;34m\u001b[0m\u001b[0m\n\u001b[1;32m   2661\u001b[0m         \u001b[0;32mif\u001b[0m \u001b[0mindexer\u001b[0m\u001b[0;34m.\u001b[0m\u001b[0mndim\u001b[0m \u001b[0;34m>\u001b[0m \u001b[0;36m1\u001b[0m \u001b[0;32mor\u001b[0m \u001b[0mindexer\u001b[0m\u001b[0;34m.\u001b[0m\u001b[0msize\u001b[0m \u001b[0;34m>\u001b[0m \u001b[0;36m1\u001b[0m\u001b[0;34m:\u001b[0m\u001b[0;34m\u001b[0m\u001b[0;34m\u001b[0m\u001b[0m\n",
            "\u001b[0;32mpandas/_libs/index.pyx\u001b[0m in \u001b[0;36mpandas._libs.index.IndexEngine.get_loc\u001b[0;34m()\u001b[0m\n",
            "\u001b[0;32mpandas/_libs/index.pyx\u001b[0m in \u001b[0;36mpandas._libs.index.IndexEngine.get_loc\u001b[0;34m()\u001b[0m\n",
            "\u001b[0;32mpandas/_libs/hashtable_class_helper.pxi\u001b[0m in \u001b[0;36mpandas._libs.hashtable.PyObjectHashTable.get_item\u001b[0;34m()\u001b[0m\n",
            "\u001b[0;32mpandas/_libs/hashtable_class_helper.pxi\u001b[0m in \u001b[0;36mpandas._libs.hashtable.PyObjectHashTable.get_item\u001b[0;34m()\u001b[0m\n",
            "\u001b[0;31mKeyError\u001b[0m: (3, 2)"
          ]
        }
      ]
    },
    {
      "cell_type": "markdown",
      "metadata": {
        "id": "WiZ8-MeRYTSJ",
        "colab_type": "text"
      },
      "source": [
        "We got a \"KeyError\", because direct indexing of dataframes is done by column labels.  If you need to refer to elements of the dataframe using numpy-like slice notation, you should  use the \"iloc\" method:"
      ]
    },
    {
      "cell_type": "code",
      "metadata": {
        "id": "TO7eJVV3ZcwE",
        "colab_type": "code",
        "outputId": "b8af6986-9302-49a6-afe9-bfedbfc724ca",
        "colab": {
          "base_uri": "https://localhost:8080/",
          "height": 70
        }
      },
      "source": [
        "df.iloc[1:3,1]"
      ],
      "execution_count": 55,
      "outputs": [
        {
          "output_type": "execute_result",
          "data": {
            "text/plain": [
              "1     9\n",
              "2    16\n",
              "Name: B, dtype: int64"
            ]
          },
          "metadata": {
            "tags": []
          },
          "execution_count": 55
        }
      ]
    },
    {
      "cell_type": "markdown",
      "metadata": {
        "id": "Jf6p7fciCIrk",
        "colab_type": "text"
      },
      "source": [
        "It is very easy to add new columns of labelled data to a dataframe:"
      ]
    },
    {
      "cell_type": "code",
      "metadata": {
        "id": "F8d1JzCuAlf7",
        "colab_type": "code",
        "outputId": "1dc075ce-b07b-4e15-a351-db85edd070ae",
        "colab": {
          "base_uri": "https://localhost:8080/",
          "height": 203
        }
      },
      "source": [
        "df['C'] = [8,9,3,5,6]\n",
        "df"
      ],
      "execution_count": 56,
      "outputs": [
        {
          "output_type": "execute_result",
          "data": {
            "text/html": [
              "<div>\n",
              "<style scoped>\n",
              "    .dataframe tbody tr th:only-of-type {\n",
              "        vertical-align: middle;\n",
              "    }\n",
              "\n",
              "    .dataframe tbody tr th {\n",
              "        vertical-align: top;\n",
              "    }\n",
              "\n",
              "    .dataframe thead th {\n",
              "        text-align: right;\n",
              "    }\n",
              "</style>\n",
              "<table border=\"1\" class=\"dataframe\">\n",
              "  <thead>\n",
              "    <tr style=\"text-align: right;\">\n",
              "      <th></th>\n",
              "      <th>A</th>\n",
              "      <th>B</th>\n",
              "      <th>C</th>\n",
              "    </tr>\n",
              "  </thead>\n",
              "  <tbody>\n",
              "    <tr>\n",
              "      <th>0</th>\n",
              "      <td>2</td>\n",
              "      <td>4</td>\n",
              "      <td>8</td>\n",
              "    </tr>\n",
              "    <tr>\n",
              "      <th>1</th>\n",
              "      <td>3</td>\n",
              "      <td>9</td>\n",
              "      <td>9</td>\n",
              "    </tr>\n",
              "    <tr>\n",
              "      <th>2</th>\n",
              "      <td>4</td>\n",
              "      <td>16</td>\n",
              "      <td>3</td>\n",
              "    </tr>\n",
              "    <tr>\n",
              "      <th>3</th>\n",
              "      <td>5</td>\n",
              "      <td>25</td>\n",
              "      <td>5</td>\n",
              "    </tr>\n",
              "    <tr>\n",
              "      <th>4</th>\n",
              "      <td>6</td>\n",
              "      <td>36</td>\n",
              "      <td>6</td>\n",
              "    </tr>\n",
              "  </tbody>\n",
              "</table>\n",
              "</div>"
            ],
            "text/plain": [
              "   A   B  C\n",
              "0  2   4  8\n",
              "1  3   9  9\n",
              "2  4  16  3\n",
              "3  5  25  5\n",
              "4  6  36  6"
            ]
          },
          "metadata": {
            "tags": []
          },
          "execution_count": 56
        }
      ]
    },
    {
      "cell_type": "markdown",
      "metadata": {
        "id": "kKvNzGn0CdTy",
        "colab_type": "text"
      },
      "source": [
        "Simple as that! This is now clearly beyond normal numpy array territory  (although it's possible to do something similar with numpy arrays, it's much more convoluted) \n",
        "\n",
        "As previously mentioned, dataframes are prepared to handle a mix of different data types. Let's add another column, this time with str data instead of numbers:"
      ]
    },
    {
      "cell_type": "code",
      "metadata": {
        "id": "_TAK3M7-AliU",
        "colab_type": "code",
        "outputId": "baa70d4c-b507-48e9-ee1c-57277b060a1d",
        "colab": {
          "base_uri": "https://localhost:8080/",
          "height": 203
        }
      },
      "source": [
        "df['D']= ['aaa','b','ccc','dd','eeeee']\n",
        "df"
      ],
      "execution_count": 57,
      "outputs": [
        {
          "output_type": "execute_result",
          "data": {
            "text/html": [
              "<div>\n",
              "<style scoped>\n",
              "    .dataframe tbody tr th:only-of-type {\n",
              "        vertical-align: middle;\n",
              "    }\n",
              "\n",
              "    .dataframe tbody tr th {\n",
              "        vertical-align: top;\n",
              "    }\n",
              "\n",
              "    .dataframe thead th {\n",
              "        text-align: right;\n",
              "    }\n",
              "</style>\n",
              "<table border=\"1\" class=\"dataframe\">\n",
              "  <thead>\n",
              "    <tr style=\"text-align: right;\">\n",
              "      <th></th>\n",
              "      <th>A</th>\n",
              "      <th>B</th>\n",
              "      <th>C</th>\n",
              "      <th>D</th>\n",
              "    </tr>\n",
              "  </thead>\n",
              "  <tbody>\n",
              "    <tr>\n",
              "      <th>0</th>\n",
              "      <td>2</td>\n",
              "      <td>4</td>\n",
              "      <td>8</td>\n",
              "      <td>aaa</td>\n",
              "    </tr>\n",
              "    <tr>\n",
              "      <th>1</th>\n",
              "      <td>3</td>\n",
              "      <td>9</td>\n",
              "      <td>9</td>\n",
              "      <td>b</td>\n",
              "    </tr>\n",
              "    <tr>\n",
              "      <th>2</th>\n",
              "      <td>4</td>\n",
              "      <td>16</td>\n",
              "      <td>3</td>\n",
              "      <td>ccc</td>\n",
              "    </tr>\n",
              "    <tr>\n",
              "      <th>3</th>\n",
              "      <td>5</td>\n",
              "      <td>25</td>\n",
              "      <td>5</td>\n",
              "      <td>dd</td>\n",
              "    </tr>\n",
              "    <tr>\n",
              "      <th>4</th>\n",
              "      <td>6</td>\n",
              "      <td>36</td>\n",
              "      <td>6</td>\n",
              "      <td>eeeee</td>\n",
              "    </tr>\n",
              "  </tbody>\n",
              "</table>\n",
              "</div>"
            ],
            "text/plain": [
              "   A   B  C      D\n",
              "0  2   4  8    aaa\n",
              "1  3   9  9      b\n",
              "2  4  16  3    ccc\n",
              "3  5  25  5     dd\n",
              "4  6  36  6  eeeee"
            ]
          },
          "metadata": {
            "tags": []
          },
          "execution_count": 57
        }
      ]
    },
    {
      "cell_type": "markdown",
      "metadata": {
        "id": "ydQngl1XVYG5",
        "colab_type": "text"
      },
      "source": [
        "The type structure of a dataframe may easily be checked by inspecting its \"dtypes\" attribute:"
      ]
    },
    {
      "cell_type": "code",
      "metadata": {
        "id": "knj21kmYWfk-",
        "colab_type": "code",
        "outputId": "5134f25c-f772-4b7b-fd61-d563977b7116",
        "colab": {
          "base_uri": "https://localhost:8080/",
          "height": 106
        }
      },
      "source": [
        "df.dtypes"
      ],
      "execution_count": 58,
      "outputs": [
        {
          "output_type": "execute_result",
          "data": {
            "text/plain": [
              "A     int64\n",
              "B     int64\n",
              "C     int64\n",
              "D    object\n",
              "dtype: object"
            ]
          },
          "metadata": {
            "tags": []
          },
          "execution_count": 58
        }
      ]
    },
    {
      "cell_type": "markdown",
      "metadata": {
        "id": "vSdGj8R5SQpZ",
        "colab_type": "text"
      },
      "source": [
        "Operations on dataframe rowns and columns can be done similarly to numpy, using methos like \"sum\" or \"average\" and the \"axis\" parameter to select rowise or columnwise operations. For instance;"
      ]
    },
    {
      "cell_type": "code",
      "metadata": {
        "id": "-YZQDcxvD3Ls",
        "colab_type": "code",
        "outputId": "943180c4-b4de-4a9f-f611-9e9708285506",
        "colab": {
          "base_uri": "https://localhost:8080/",
          "height": 123
        }
      },
      "source": [
        "df.sum(axis=1)"
      ],
      "execution_count": 59,
      "outputs": [
        {
          "output_type": "execute_result",
          "data": {
            "text/plain": [
              "0    14\n",
              "1    21\n",
              "2    23\n",
              "3    35\n",
              "4    48\n",
              "dtype: int64"
            ]
          },
          "metadata": {
            "tags": []
          },
          "execution_count": 59
        }
      ]
    },
    {
      "cell_type": "markdown",
      "metadata": {
        "id": "Qp2vJxtSUmr3",
        "colab_type": "text"
      },
      "source": [
        "or df.sum()"
      ]
    },
    {
      "cell_type": "markdown",
      "metadata": {
        "id": "JydUVY3oUxiS",
        "colab_type": "text"
      },
      "source": [
        "Notice that pandas simply ignores the str column when calculating the averages along rows. For rowise computation one can simply do:"
      ]
    },
    {
      "cell_type": "code",
      "metadata": {
        "id": "rKdQs2Y8UqWF",
        "colab_type": "code",
        "outputId": "ffd2d0d1-d955-48e3-98fd-82314afcbd61",
        "colab": {
          "base_uri": "https://localhost:8080/",
          "height": 106
        }
      },
      "source": [
        "df.sum()   # same as df.sum(axis=0)"
      ],
      "execution_count": 60,
      "outputs": [
        {
          "output_type": "execute_result",
          "data": {
            "text/plain": [
              "A                20\n",
              "B                90\n",
              "C                31\n",
              "D    aaabcccddeeeee\n",
              "dtype: object"
            ]
          },
          "metadata": {
            "tags": []
          },
          "execution_count": 60
        }
      ]
    },
    {
      "cell_type": "markdown",
      "metadata": {
        "id": "6rTZpKcNbaQJ",
        "colab_type": "text"
      },
      "source": [
        "(notice string sum rule being applied to column D)"
      ]
    },
    {
      "cell_type": "markdown",
      "metadata": {
        "id": "7TND9xrBb3mL",
        "colab_type": "text"
      },
      "source": [
        "Let's create a new column, called \"SumBC\", containing the sum of values in columns B and C:"
      ]
    },
    {
      "cell_type": "code",
      "metadata": {
        "id": "tOXRPgh8cChc",
        "colab_type": "code",
        "colab": {}
      },
      "source": [
        "df['SumBC'] = df.iloc[:,1:3].sum(axis=1)"
      ],
      "execution_count": 0,
      "outputs": []
    },
    {
      "cell_type": "markdown",
      "metadata": {
        "id": "lmaF7EoKXgsA",
        "colab_type": "text"
      },
      "source": [
        "(Remenber: slice notation \"`[:,1:3]`\" means \"any row, columns 1 to 2\")"
      ]
    },
    {
      "cell_type": "code",
      "metadata": {
        "id": "lDtNZpXUcaDm",
        "colab_type": "code",
        "outputId": "3b0bfd95-b251-49da-c8ca-310e56fe6466",
        "colab": {
          "base_uri": "https://localhost:8080/",
          "height": 203
        }
      },
      "source": [
        "df"
      ],
      "execution_count": 62,
      "outputs": [
        {
          "output_type": "execute_result",
          "data": {
            "text/html": [
              "<div>\n",
              "<style scoped>\n",
              "    .dataframe tbody tr th:only-of-type {\n",
              "        vertical-align: middle;\n",
              "    }\n",
              "\n",
              "    .dataframe tbody tr th {\n",
              "        vertical-align: top;\n",
              "    }\n",
              "\n",
              "    .dataframe thead th {\n",
              "        text-align: right;\n",
              "    }\n",
              "</style>\n",
              "<table border=\"1\" class=\"dataframe\">\n",
              "  <thead>\n",
              "    <tr style=\"text-align: right;\">\n",
              "      <th></th>\n",
              "      <th>A</th>\n",
              "      <th>B</th>\n",
              "      <th>C</th>\n",
              "      <th>D</th>\n",
              "      <th>SumBC</th>\n",
              "    </tr>\n",
              "  </thead>\n",
              "  <tbody>\n",
              "    <tr>\n",
              "      <th>0</th>\n",
              "      <td>2</td>\n",
              "      <td>4</td>\n",
              "      <td>8</td>\n",
              "      <td>aaa</td>\n",
              "      <td>12</td>\n",
              "    </tr>\n",
              "    <tr>\n",
              "      <th>1</th>\n",
              "      <td>3</td>\n",
              "      <td>9</td>\n",
              "      <td>9</td>\n",
              "      <td>b</td>\n",
              "      <td>18</td>\n",
              "    </tr>\n",
              "    <tr>\n",
              "      <th>2</th>\n",
              "      <td>4</td>\n",
              "      <td>16</td>\n",
              "      <td>3</td>\n",
              "      <td>ccc</td>\n",
              "      <td>19</td>\n",
              "    </tr>\n",
              "    <tr>\n",
              "      <th>3</th>\n",
              "      <td>5</td>\n",
              "      <td>25</td>\n",
              "      <td>5</td>\n",
              "      <td>dd</td>\n",
              "      <td>30</td>\n",
              "    </tr>\n",
              "    <tr>\n",
              "      <th>4</th>\n",
              "      <td>6</td>\n",
              "      <td>36</td>\n",
              "      <td>6</td>\n",
              "      <td>eeeee</td>\n",
              "      <td>42</td>\n",
              "    </tr>\n",
              "  </tbody>\n",
              "</table>\n",
              "</div>"
            ],
            "text/plain": [
              "   A   B  C      D  SumBC\n",
              "0  2   4  8    aaa     12\n",
              "1  3   9  9      b     18\n",
              "2  4  16  3    ccc     19\n",
              "3  5  25  5     dd     30\n",
              "4  6  36  6  eeeee     42"
            ]
          },
          "metadata": {
            "tags": []
          },
          "execution_count": 62
        }
      ]
    },
    {
      "cell_type": "markdown",
      "metadata": {
        "id": "PeU_YHejdMA7",
        "colab_type": "text"
      },
      "source": [
        "Now lets assume we want to create a another column, \"SumAC\", containing the sum of columns \"A\" and \"C\". We can do this in a very readable manner using the \"loc\" indexer object:"
      ]
    },
    {
      "cell_type": "code",
      "metadata": {
        "id": "WYtUBUdFD3JL",
        "colab_type": "code",
        "colab": {
          "base_uri": "https://localhost:8080/",
          "height": 203
        },
        "outputId": "16fc6c7c-afcd-4062-d3ac-46f1c5405561"
      },
      "source": [
        "df['SumAC'] = df.loc[:,['A','C']].sum(axis=1)   # Why do we need to use the \":\" symbol ?\n",
        "df"
      ],
      "execution_count": 63,
      "outputs": [
        {
          "output_type": "execute_result",
          "data": {
            "text/html": [
              "<div>\n",
              "<style scoped>\n",
              "    .dataframe tbody tr th:only-of-type {\n",
              "        vertical-align: middle;\n",
              "    }\n",
              "\n",
              "    .dataframe tbody tr th {\n",
              "        vertical-align: top;\n",
              "    }\n",
              "\n",
              "    .dataframe thead th {\n",
              "        text-align: right;\n",
              "    }\n",
              "</style>\n",
              "<table border=\"1\" class=\"dataframe\">\n",
              "  <thead>\n",
              "    <tr style=\"text-align: right;\">\n",
              "      <th></th>\n",
              "      <th>A</th>\n",
              "      <th>B</th>\n",
              "      <th>C</th>\n",
              "      <th>D</th>\n",
              "      <th>SumBC</th>\n",
              "      <th>SumAC</th>\n",
              "    </tr>\n",
              "  </thead>\n",
              "  <tbody>\n",
              "    <tr>\n",
              "      <th>0</th>\n",
              "      <td>2</td>\n",
              "      <td>4</td>\n",
              "      <td>8</td>\n",
              "      <td>aaa</td>\n",
              "      <td>12</td>\n",
              "      <td>10</td>\n",
              "    </tr>\n",
              "    <tr>\n",
              "      <th>1</th>\n",
              "      <td>3</td>\n",
              "      <td>9</td>\n",
              "      <td>9</td>\n",
              "      <td>b</td>\n",
              "      <td>18</td>\n",
              "      <td>12</td>\n",
              "    </tr>\n",
              "    <tr>\n",
              "      <th>2</th>\n",
              "      <td>4</td>\n",
              "      <td>16</td>\n",
              "      <td>3</td>\n",
              "      <td>ccc</td>\n",
              "      <td>19</td>\n",
              "      <td>7</td>\n",
              "    </tr>\n",
              "    <tr>\n",
              "      <th>3</th>\n",
              "      <td>5</td>\n",
              "      <td>25</td>\n",
              "      <td>5</td>\n",
              "      <td>dd</td>\n",
              "      <td>30</td>\n",
              "      <td>10</td>\n",
              "    </tr>\n",
              "    <tr>\n",
              "      <th>4</th>\n",
              "      <td>6</td>\n",
              "      <td>36</td>\n",
              "      <td>6</td>\n",
              "      <td>eeeee</td>\n",
              "      <td>42</td>\n",
              "      <td>12</td>\n",
              "    </tr>\n",
              "  </tbody>\n",
              "</table>\n",
              "</div>"
            ],
            "text/plain": [
              "   A   B  C      D  SumBC  SumAC\n",
              "0  2   4  8    aaa     12     10\n",
              "1  3   9  9      b     18     12\n",
              "2  4  16  3    ccc     19      7\n",
              "3  5  25  5     dd     30     10\n",
              "4  6  36  6  eeeee     42     12"
            ]
          },
          "metadata": {
            "tags": []
          },
          "execution_count": 63
        }
      ]
    },
    {
      "cell_type": "markdown",
      "metadata": {
        "id": "iZB4fQAtYReS",
        "colab_type": "text"
      },
      "source": [
        "While \"`iloc`\" selects values in the dataframe based on row and column position (pretty like slice notation in numpy arrays), the  \"`loc`\" object indexer  creates selection based on index and column *labels*. This selections can als support slice syntax, for instance:\n"
      ]
    },
    {
      "cell_type": "code",
      "metadata": {
        "id": "mSdduNaLVRyB",
        "colab_type": "code",
        "colab": {
          "base_uri": "https://localhost:8080/",
          "height": 141
        },
        "outputId": "7bd7521c-cad4-458c-b05c-34a14108807a"
      },
      "source": [
        "df.loc[1:3,'B':'D']"
      ],
      "execution_count": 64,
      "outputs": [
        {
          "output_type": "execute_result",
          "data": {
            "text/html": [
              "<div>\n",
              "<style scoped>\n",
              "    .dataframe tbody tr th:only-of-type {\n",
              "        vertical-align: middle;\n",
              "    }\n",
              "\n",
              "    .dataframe tbody tr th {\n",
              "        vertical-align: top;\n",
              "    }\n",
              "\n",
              "    .dataframe thead th {\n",
              "        text-align: right;\n",
              "    }\n",
              "</style>\n",
              "<table border=\"1\" class=\"dataframe\">\n",
              "  <thead>\n",
              "    <tr style=\"text-align: right;\">\n",
              "      <th></th>\n",
              "      <th>B</th>\n",
              "      <th>C</th>\n",
              "      <th>D</th>\n",
              "    </tr>\n",
              "  </thead>\n",
              "  <tbody>\n",
              "    <tr>\n",
              "      <th>1</th>\n",
              "      <td>9</td>\n",
              "      <td>9</td>\n",
              "      <td>b</td>\n",
              "    </tr>\n",
              "    <tr>\n",
              "      <th>2</th>\n",
              "      <td>16</td>\n",
              "      <td>3</td>\n",
              "      <td>ccc</td>\n",
              "    </tr>\n",
              "    <tr>\n",
              "      <th>3</th>\n",
              "      <td>25</td>\n",
              "      <td>5</td>\n",
              "      <td>dd</td>\n",
              "    </tr>\n",
              "  </tbody>\n",
              "</table>\n",
              "</div>"
            ],
            "text/plain": [
              "    B  C    D\n",
              "1   9  9    b\n",
              "2  16  3  ccc\n",
              "3  25  5   dd"
            ]
          },
          "metadata": {
            "tags": []
          },
          "execution_count": 64
        }
      ]
    },
    {
      "cell_type": "markdown",
      "metadata": {
        "id": "n3h84VooVlMd",
        "colab_type": "text"
      },
      "source": [
        "**HANDS-ON:** Can you spot one important difference between the way slicing works for position based and label based ?"
      ]
    },
    {
      "cell_type": "code",
      "metadata": {
        "id": "N2J3TERzV47-",
        "colab_type": "code",
        "colab": {},
        "cellView": "form"
      },
      "source": [
        "#@title ANSWER\n",
        "# a position range slice [a:b] means from a to b-1, while a label range\n",
        "# slice [a:b] means from label(or index) a to label (or index) b"
      ],
      "execution_count": 0,
      "outputs": []
    },
    {
      "cell_type": "code",
      "metadata": {
        "id": "uGv-q-QOfZib",
        "colab_type": "code",
        "outputId": "681112d1-fff0-46ee-8ed8-27d07ed934a6",
        "colab": {
          "base_uri": "https://localhost:8080/",
          "height": 203
        }
      },
      "source": [
        "df"
      ],
      "execution_count": 66,
      "outputs": [
        {
          "output_type": "execute_result",
          "data": {
            "text/html": [
              "<div>\n",
              "<style scoped>\n",
              "    .dataframe tbody tr th:only-of-type {\n",
              "        vertical-align: middle;\n",
              "    }\n",
              "\n",
              "    .dataframe tbody tr th {\n",
              "        vertical-align: top;\n",
              "    }\n",
              "\n",
              "    .dataframe thead th {\n",
              "        text-align: right;\n",
              "    }\n",
              "</style>\n",
              "<table border=\"1\" class=\"dataframe\">\n",
              "  <thead>\n",
              "    <tr style=\"text-align: right;\">\n",
              "      <th></th>\n",
              "      <th>A</th>\n",
              "      <th>B</th>\n",
              "      <th>C</th>\n",
              "      <th>D</th>\n",
              "      <th>SumBC</th>\n",
              "      <th>SumAC</th>\n",
              "    </tr>\n",
              "  </thead>\n",
              "  <tbody>\n",
              "    <tr>\n",
              "      <th>0</th>\n",
              "      <td>2</td>\n",
              "      <td>4</td>\n",
              "      <td>8</td>\n",
              "      <td>aaa</td>\n",
              "      <td>12</td>\n",
              "      <td>10</td>\n",
              "    </tr>\n",
              "    <tr>\n",
              "      <th>1</th>\n",
              "      <td>3</td>\n",
              "      <td>9</td>\n",
              "      <td>9</td>\n",
              "      <td>b</td>\n",
              "      <td>18</td>\n",
              "      <td>12</td>\n",
              "    </tr>\n",
              "    <tr>\n",
              "      <th>2</th>\n",
              "      <td>4</td>\n",
              "      <td>16</td>\n",
              "      <td>3</td>\n",
              "      <td>ccc</td>\n",
              "      <td>19</td>\n",
              "      <td>7</td>\n",
              "    </tr>\n",
              "    <tr>\n",
              "      <th>3</th>\n",
              "      <td>5</td>\n",
              "      <td>25</td>\n",
              "      <td>5</td>\n",
              "      <td>dd</td>\n",
              "      <td>30</td>\n",
              "      <td>10</td>\n",
              "    </tr>\n",
              "    <tr>\n",
              "      <th>4</th>\n",
              "      <td>6</td>\n",
              "      <td>36</td>\n",
              "      <td>6</td>\n",
              "      <td>eeeee</td>\n",
              "      <td>42</td>\n",
              "      <td>12</td>\n",
              "    </tr>\n",
              "  </tbody>\n",
              "</table>\n",
              "</div>"
            ],
            "text/plain": [
              "   A   B  C      D  SumBC  SumAC\n",
              "0  2   4  8    aaa     12     10\n",
              "1  3   9  9      b     18     12\n",
              "2  4  16  3    ccc     19      7\n",
              "3  5  25  5     dd     30     10\n",
              "4  6  36  6  eeeee     42     12"
            ]
          },
          "metadata": {
            "tags": []
          },
          "execution_count": 66
        }
      ]
    },
    {
      "cell_type": "markdown",
      "metadata": {
        "id": "4yRJPkqzfcAQ",
        "colab_type": "text"
      },
      "source": [
        "Removing data from the dataframa is as easy as adding it. Let's say we don't need the \"D\" column anymore:\n"
      ]
    },
    {
      "cell_type": "code",
      "metadata": {
        "id": "kZO4h5ICD3G8",
        "colab_type": "code",
        "outputId": "0dd474a6-1094-443c-87a2-7a0a8ff48a4d",
        "colab": {
          "base_uri": "https://localhost:8080/",
          "height": 203
        }
      },
      "source": [
        "df.drop(columns=['D'])"
      ],
      "execution_count": 67,
      "outputs": [
        {
          "output_type": "execute_result",
          "data": {
            "text/html": [
              "<div>\n",
              "<style scoped>\n",
              "    .dataframe tbody tr th:only-of-type {\n",
              "        vertical-align: middle;\n",
              "    }\n",
              "\n",
              "    .dataframe tbody tr th {\n",
              "        vertical-align: top;\n",
              "    }\n",
              "\n",
              "    .dataframe thead th {\n",
              "        text-align: right;\n",
              "    }\n",
              "</style>\n",
              "<table border=\"1\" class=\"dataframe\">\n",
              "  <thead>\n",
              "    <tr style=\"text-align: right;\">\n",
              "      <th></th>\n",
              "      <th>A</th>\n",
              "      <th>B</th>\n",
              "      <th>C</th>\n",
              "      <th>SumBC</th>\n",
              "      <th>SumAC</th>\n",
              "    </tr>\n",
              "  </thead>\n",
              "  <tbody>\n",
              "    <tr>\n",
              "      <th>0</th>\n",
              "      <td>2</td>\n",
              "      <td>4</td>\n",
              "      <td>8</td>\n",
              "      <td>12</td>\n",
              "      <td>10</td>\n",
              "    </tr>\n",
              "    <tr>\n",
              "      <th>1</th>\n",
              "      <td>3</td>\n",
              "      <td>9</td>\n",
              "      <td>9</td>\n",
              "      <td>18</td>\n",
              "      <td>12</td>\n",
              "    </tr>\n",
              "    <tr>\n",
              "      <th>2</th>\n",
              "      <td>4</td>\n",
              "      <td>16</td>\n",
              "      <td>3</td>\n",
              "      <td>19</td>\n",
              "      <td>7</td>\n",
              "    </tr>\n",
              "    <tr>\n",
              "      <th>3</th>\n",
              "      <td>5</td>\n",
              "      <td>25</td>\n",
              "      <td>5</td>\n",
              "      <td>30</td>\n",
              "      <td>10</td>\n",
              "    </tr>\n",
              "    <tr>\n",
              "      <th>4</th>\n",
              "      <td>6</td>\n",
              "      <td>36</td>\n",
              "      <td>6</td>\n",
              "      <td>42</td>\n",
              "      <td>12</td>\n",
              "    </tr>\n",
              "  </tbody>\n",
              "</table>\n",
              "</div>"
            ],
            "text/plain": [
              "   A   B  C  SumBC  SumAC\n",
              "0  2   4  8     12     10\n",
              "1  3   9  9     18     12\n",
              "2  4  16  3     19      7\n",
              "3  5  25  5     30     10\n",
              "4  6  36  6     42     12"
            ]
          },
          "metadata": {
            "tags": []
          },
          "execution_count": 67
        }
      ]
    },
    {
      "cell_type": "markdown",
      "metadata": {
        "id": "bVc5aqbdlJPv",
        "colab_type": "text"
      },
      "source": [
        "We can also list and compute values in a conditional manner, combining logical expressions with indexing. Can yoy guess what the below expression does ?"
      ]
    },
    {
      "cell_type": "code",
      "metadata": {
        "id": "o7-RGFyakzpX",
        "colab_type": "code",
        "colab": {}
      },
      "source": [
        "df['CondSum'] = df.loc[df['C']>6,'A':'C'].sum(axis=1)"
      ],
      "execution_count": 0,
      "outputs": []
    },
    {
      "cell_type": "code",
      "metadata": {
        "id": "5qHnO0KvXHru",
        "colab_type": "code",
        "colab": {
          "base_uri": "https://localhost:8080/",
          "height": 203
        },
        "outputId": "5db631f1-5f77-4428-bad1-165dd24e9418"
      },
      "source": [
        "df"
      ],
      "execution_count": 69,
      "outputs": [
        {
          "output_type": "execute_result",
          "data": {
            "text/html": [
              "<div>\n",
              "<style scoped>\n",
              "    .dataframe tbody tr th:only-of-type {\n",
              "        vertical-align: middle;\n",
              "    }\n",
              "\n",
              "    .dataframe tbody tr th {\n",
              "        vertical-align: top;\n",
              "    }\n",
              "\n",
              "    .dataframe thead th {\n",
              "        text-align: right;\n",
              "    }\n",
              "</style>\n",
              "<table border=\"1\" class=\"dataframe\">\n",
              "  <thead>\n",
              "    <tr style=\"text-align: right;\">\n",
              "      <th></th>\n",
              "      <th>A</th>\n",
              "      <th>B</th>\n",
              "      <th>C</th>\n",
              "      <th>D</th>\n",
              "      <th>SumBC</th>\n",
              "      <th>SumAC</th>\n",
              "      <th>CondSum</th>\n",
              "    </tr>\n",
              "  </thead>\n",
              "  <tbody>\n",
              "    <tr>\n",
              "      <th>0</th>\n",
              "      <td>2</td>\n",
              "      <td>4</td>\n",
              "      <td>8</td>\n",
              "      <td>aaa</td>\n",
              "      <td>12</td>\n",
              "      <td>10</td>\n",
              "      <td>14.0</td>\n",
              "    </tr>\n",
              "    <tr>\n",
              "      <th>1</th>\n",
              "      <td>3</td>\n",
              "      <td>9</td>\n",
              "      <td>9</td>\n",
              "      <td>b</td>\n",
              "      <td>18</td>\n",
              "      <td>12</td>\n",
              "      <td>21.0</td>\n",
              "    </tr>\n",
              "    <tr>\n",
              "      <th>2</th>\n",
              "      <td>4</td>\n",
              "      <td>16</td>\n",
              "      <td>3</td>\n",
              "      <td>ccc</td>\n",
              "      <td>19</td>\n",
              "      <td>7</td>\n",
              "      <td>NaN</td>\n",
              "    </tr>\n",
              "    <tr>\n",
              "      <th>3</th>\n",
              "      <td>5</td>\n",
              "      <td>25</td>\n",
              "      <td>5</td>\n",
              "      <td>dd</td>\n",
              "      <td>30</td>\n",
              "      <td>10</td>\n",
              "      <td>NaN</td>\n",
              "    </tr>\n",
              "    <tr>\n",
              "      <th>4</th>\n",
              "      <td>6</td>\n",
              "      <td>36</td>\n",
              "      <td>6</td>\n",
              "      <td>eeeee</td>\n",
              "      <td>42</td>\n",
              "      <td>12</td>\n",
              "      <td>NaN</td>\n",
              "    </tr>\n",
              "  </tbody>\n",
              "</table>\n",
              "</div>"
            ],
            "text/plain": [
              "   A   B  C      D  SumBC  SumAC  CondSum\n",
              "0  2   4  8    aaa     12     10     14.0\n",
              "1  3   9  9      b     18     12     21.0\n",
              "2  4  16  3    ccc     19      7      NaN\n",
              "3  5  25  5     dd     30     10      NaN\n",
              "4  6  36  6  eeeee     42     12      NaN"
            ]
          },
          "metadata": {
            "tags": []
          },
          "execution_count": 69
        }
      ]
    },
    {
      "cell_type": "markdown",
      "metadata": {
        "id": "OqTEN06NmSVS",
        "colab_type": "text"
      },
      "source": [
        "That's right, this sums columns A to C and places the results in column \"CondSum\", but ONLY if the value in column C is above 6. When that condition is not met, there's nothing to place in the corresponding position of the \"CondSum\" column, and a \"NaN\" (Not a Number) value is stored there. We can think of NaN as a kind\n",
        "of placeholder that pandas uses when there no data available to fill that position. NaN will pop up when reading partially filled tabular data from a file, for instance. The missing values will appear as NaN in the dataframe. \n",
        "\n",
        "You can use \"`loc`\" in a sligntly different way to create columns based on conditions:"
      ]
    },
    {
      "cell_type": "code",
      "metadata": {
        "id": "pBJxTvTP8LBK",
        "colab_type": "code",
        "colab": {
          "base_uri": "https://localhost:8080/",
          "height": 203
        },
        "outputId": "8c449b39-bb39-4483-c8d9-3ef83d5bd1dc"
      },
      "source": [
        "df.loc[df['A'] % 2 == 0, 'IsEven'] = True\n",
        "df"
      ],
      "execution_count": 70,
      "outputs": [
        {
          "output_type": "execute_result",
          "data": {
            "text/html": [
              "<div>\n",
              "<style scoped>\n",
              "    .dataframe tbody tr th:only-of-type {\n",
              "        vertical-align: middle;\n",
              "    }\n",
              "\n",
              "    .dataframe tbody tr th {\n",
              "        vertical-align: top;\n",
              "    }\n",
              "\n",
              "    .dataframe thead th {\n",
              "        text-align: right;\n",
              "    }\n",
              "</style>\n",
              "<table border=\"1\" class=\"dataframe\">\n",
              "  <thead>\n",
              "    <tr style=\"text-align: right;\">\n",
              "      <th></th>\n",
              "      <th>A</th>\n",
              "      <th>B</th>\n",
              "      <th>C</th>\n",
              "      <th>D</th>\n",
              "      <th>SumBC</th>\n",
              "      <th>SumAC</th>\n",
              "      <th>CondSum</th>\n",
              "      <th>IsEven</th>\n",
              "    </tr>\n",
              "  </thead>\n",
              "  <tbody>\n",
              "    <tr>\n",
              "      <th>0</th>\n",
              "      <td>2</td>\n",
              "      <td>4</td>\n",
              "      <td>8</td>\n",
              "      <td>aaa</td>\n",
              "      <td>12</td>\n",
              "      <td>10</td>\n",
              "      <td>14.0</td>\n",
              "      <td>True</td>\n",
              "    </tr>\n",
              "    <tr>\n",
              "      <th>1</th>\n",
              "      <td>3</td>\n",
              "      <td>9</td>\n",
              "      <td>9</td>\n",
              "      <td>b</td>\n",
              "      <td>18</td>\n",
              "      <td>12</td>\n",
              "      <td>21.0</td>\n",
              "      <td>NaN</td>\n",
              "    </tr>\n",
              "    <tr>\n",
              "      <th>2</th>\n",
              "      <td>4</td>\n",
              "      <td>16</td>\n",
              "      <td>3</td>\n",
              "      <td>ccc</td>\n",
              "      <td>19</td>\n",
              "      <td>7</td>\n",
              "      <td>NaN</td>\n",
              "      <td>True</td>\n",
              "    </tr>\n",
              "    <tr>\n",
              "      <th>3</th>\n",
              "      <td>5</td>\n",
              "      <td>25</td>\n",
              "      <td>5</td>\n",
              "      <td>dd</td>\n",
              "      <td>30</td>\n",
              "      <td>10</td>\n",
              "      <td>NaN</td>\n",
              "      <td>NaN</td>\n",
              "    </tr>\n",
              "    <tr>\n",
              "      <th>4</th>\n",
              "      <td>6</td>\n",
              "      <td>36</td>\n",
              "      <td>6</td>\n",
              "      <td>eeeee</td>\n",
              "      <td>42</td>\n",
              "      <td>12</td>\n",
              "      <td>NaN</td>\n",
              "      <td>True</td>\n",
              "    </tr>\n",
              "  </tbody>\n",
              "</table>\n",
              "</div>"
            ],
            "text/plain": [
              "   A   B  C      D  SumBC  SumAC  CondSum IsEven\n",
              "0  2   4  8    aaa     12     10     14.0   True\n",
              "1  3   9  9      b     18     12     21.0    NaN\n",
              "2  4  16  3    ccc     19      7      NaN   True\n",
              "3  5  25  5     dd     30     10      NaN    NaN\n",
              "4  6  36  6  eeeee     42     12      NaN   True"
            ]
          },
          "metadata": {
            "tags": []
          },
          "execution_count": 70
        }
      ]
    },
    {
      "cell_type": "markdown",
      "metadata": {
        "id": "h7KYvLN59EIR",
        "colab_type": "text"
      },
      "source": [
        "Notice the NaN where nothing was stored because the condtion wasn't met. We could fix it with a second line:"
      ]
    },
    {
      "cell_type": "code",
      "metadata": {
        "id": "lN8Y5i499OQh",
        "colab_type": "code",
        "colab": {}
      },
      "source": [
        "df.loc[df['A'] % 2 != 0, 'IsEven'] = False"
      ],
      "execution_count": 0,
      "outputs": []
    },
    {
      "cell_type": "markdown",
      "metadata": {
        "id": "AEotlkmk9YDU",
        "colab_type": "text"
      },
      "source": [
        "**HANDS-ON**: Actually, this a somewhat contrived example, we could have also done the same thing with just one line. Can you guess how ?"
      ]
    },
    {
      "cell_type": "code",
      "metadata": {
        "id": "-QQCDtOx8-UO",
        "colab_type": "code",
        "colab": {},
        "cellView": "form"
      },
      "source": [
        "#@title SOLUTION\n",
        "df['IsEven2'] = df['A'] % 2 == 0\n",
        "df"
      ],
      "execution_count": 0,
      "outputs": []
    },
    {
      "cell_type": "markdown",
      "metadata": {
        "id": "P-hDIP0eYkJc",
        "colab_type": "text"
      },
      "source": [
        "Ok, so we went through some basic operations on tabular data stored as a panda dataframe. In real world scenarios, these tabular data often need to be read from an external site, like a file on a web server or a remote disk. Rather than manually creating a dataframe from a `dict` object like we just did, we will want to \n",
        "read dataframes from large files that may have thousands of lines and columns. Fortunately for us, pandas data frames can be created from files in many different formats, including (but not limited to):\n",
        "\n",
        "\n",
        "\n",
        "*   CSV (comma-separated value)\n",
        "*   Excel\n",
        "*  Json\n",
        "* HTML\n",
        "* SQL\n",
        "\n",
        "<br>\n",
        "To illustrate this functionality, we are going to read a file in .csv format into a dataframe. As the name implies, csv files contain multiple lines with data items separated by commas. They often (but not necessarily) include a header line to be used as column labels, and a leftmost row label column. Obviously, it is up\n",
        "to the user to decide how such lines should be read - some knowledge on the organization of the imported dataset is usually necessary for proper data preparation and analysis. \n",
        "\n",
        "The csv data we are going to read is at the following link: https://raw.githubusercontent.com/pjmartel/python-for-scientists/master/datasets/grades_dataset.csv\n",
        "\n",
        "You can browse it by mousing over the link, clicking the right button and selecting the option \"open in new window\". You will recognize these data as a slightly more embellished version of the course grades we used in our numpy introduction. (Student names sound familiar ?... ).\n",
        "\n",
        "Let's read these data into a pandas dataframe using the appropriately named `read_csv` function:"
      ]
    },
    {
      "cell_type": "code",
      "metadata": {
        "id": "5vAYEd70gC79",
        "colab_type": "code",
        "colab": {}
      },
      "source": [
        "grades = pd.read_csv(\"https://raw.githubusercontent.com/pjmartel/python-for-scientists/master/datasets/grades_dataset.csv\")"
      ],
      "execution_count": 0,
      "outputs": []
    },
    {
      "cell_type": "code",
      "metadata": {
        "id": "qCyWenPCgK0l",
        "colab_type": "code",
        "colab": {
          "base_uri": "https://localhost:8080/",
          "height": 388
        },
        "outputId": "5b74039f-0fc6-45fb-bb1d-8a9959d668cf"
      },
      "source": [
        "grades"
      ],
      "execution_count": 74,
      "outputs": [
        {
          "output_type": "execute_result",
          "data": {
            "text/html": [
              "<div>\n",
              "<style scoped>\n",
              "    .dataframe tbody tr th:only-of-type {\n",
              "        vertical-align: middle;\n",
              "    }\n",
              "\n",
              "    .dataframe tbody tr th {\n",
              "        vertical-align: top;\n",
              "    }\n",
              "\n",
              "    .dataframe thead th {\n",
              "        text-align: right;\n",
              "    }\n",
              "</style>\n",
              "<table border=\"1\" class=\"dataframe\">\n",
              "  <thead>\n",
              "    <tr style=\"text-align: right;\">\n",
              "      <th></th>\n",
              "      <th>Name</th>\n",
              "      <th>1st Test</th>\n",
              "      <th>2nd Test</th>\n",
              "      <th>3rd Test</th>\n",
              "    </tr>\n",
              "  </thead>\n",
              "  <tbody>\n",
              "    <tr>\n",
              "      <th>0</th>\n",
              "      <td>Brienne</td>\n",
              "      <td>7.50</td>\n",
              "      <td>10.55</td>\n",
              "      <td>11.40</td>\n",
              "    </tr>\n",
              "    <tr>\n",
              "      <th>1</th>\n",
              "      <td>Jaime</td>\n",
              "      <td>10.25</td>\n",
              "      <td>10.15</td>\n",
              "      <td>7.15</td>\n",
              "    </tr>\n",
              "    <tr>\n",
              "      <th>2</th>\n",
              "      <td>Jon</td>\n",
              "      <td>12.95</td>\n",
              "      <td>10.95</td>\n",
              "      <td>11.45</td>\n",
              "    </tr>\n",
              "    <tr>\n",
              "      <th>3</th>\n",
              "      <td>Arya</td>\n",
              "      <td>12.20</td>\n",
              "      <td>8.25</td>\n",
              "      <td>11.50</td>\n",
              "    </tr>\n",
              "    <tr>\n",
              "      <th>4</th>\n",
              "      <td>Bran</td>\n",
              "      <td>16.85</td>\n",
              "      <td>17.20</td>\n",
              "      <td>20.00</td>\n",
              "    </tr>\n",
              "    <tr>\n",
              "      <th>5</th>\n",
              "      <td>Sansa</td>\n",
              "      <td>14.50</td>\n",
              "      <td>15.75</td>\n",
              "      <td>15.15</td>\n",
              "    </tr>\n",
              "    <tr>\n",
              "      <th>6</th>\n",
              "      <td>Sam</td>\n",
              "      <td>16.85</td>\n",
              "      <td>16.25</td>\n",
              "      <td>18.00</td>\n",
              "    </tr>\n",
              "    <tr>\n",
              "      <th>7</th>\n",
              "      <td>Jon</td>\n",
              "      <td>15.60</td>\n",
              "      <td>11.80</td>\n",
              "      <td>16.75</td>\n",
              "    </tr>\n",
              "    <tr>\n",
              "      <th>8</th>\n",
              "      <td>Cerci</td>\n",
              "      <td>12.40</td>\n",
              "      <td>11.80</td>\n",
              "      <td>6.00</td>\n",
              "    </tr>\n",
              "    <tr>\n",
              "      <th>9</th>\n",
              "      <td>Jorah</td>\n",
              "      <td>7.50</td>\n",
              "      <td>8.85</td>\n",
              "      <td>8.80</td>\n",
              "    </tr>\n",
              "    <tr>\n",
              "      <th>10</th>\n",
              "      <td>Danny</td>\n",
              "      <td>9.50</td>\n",
              "      <td>10.00</td>\n",
              "      <td>6.50</td>\n",
              "    </tr>\n",
              "  </tbody>\n",
              "</table>\n",
              "</div>"
            ],
            "text/plain": [
              "       Name  1st Test  2nd Test  3rd Test\n",
              "0   Brienne      7.50     10.55     11.40\n",
              "1     Jaime     10.25     10.15      7.15\n",
              "2       Jon     12.95     10.95     11.45\n",
              "3      Arya     12.20      8.25     11.50\n",
              "4      Bran     16.85     17.20     20.00\n",
              "5     Sansa     14.50     15.75     15.15\n",
              "6       Sam     16.85     16.25     18.00\n",
              "7       Jon     15.60     11.80     16.75\n",
              "8     Cerci     12.40     11.80      6.00\n",
              "9     Jorah      7.50      8.85      8.80\n",
              "10    Danny      9.50     10.00      6.50"
            ]
          },
          "metadata": {
            "tags": []
          },
          "execution_count": 74
        }
      ]
    },
    {
      "cell_type": "markdown",
      "metadata": {
        "id": "AZl-69KrlLps",
        "colab_type": "text"
      },
      "source": [
        "**HANDS-ON:** You have a number of tasks to perform with this dataset:\n",
        "\n",
        "\n",
        "\n",
        "1.   You realize that the table is missing the grades of two of the students! The names are \"Tyrion\" and \"Bronn\" and their grades are respectively `[15.2,  16.7, 16.0]` and `[17.0,15.2,17.7]`. Please add the missing grades! (Hint: consider using the \"`loc`\" indexer)\n",
        "2.   Calculate the student grade average of the three tests and place the values on a column labeled \"Average\"\n",
        "3.   Calculate the grade average for each test and place the value on a bottom row labeled \"test_averages\"\n",
        "4.  Create a new column named \"Status\" containing \"Pass\" or \"Fail\" depending on the grade average being higher or lower than 9.5. (Hint: look at the conditional expression above)\n",
        "5. Some of the students who have an above 9.5 grade average will nevertheless fail because they a had a grade < 7 in at least one of the three tests. Write an \n",
        "expression to correct the \"Status\" column accordingly (Hint: conditionals are again your friends, what does \"`a or b or c`\" evaluate  to when at least one of a, b and c is `False` ?)\n",
        "6. Sort the data based on the column \"Name\" (Hint: search for sort methods for a data frame, using TAB completion or the \"`dir`\" command)\n"
      ]
    },
    {
      "cell_type": "code",
      "metadata": {
        "id": "5baPEZdn1U52",
        "colab_type": "code",
        "colab": {
          "base_uri": "https://localhost:8080/",
          "height": 450
        },
        "cellView": "form",
        "outputId": "394cc6b1-2453-48f1-b765-68a09b1199ca"
      },
      "source": [
        "#@title SOLUTION 1.\n",
        "grades.loc[11] = ['Tyrion',15.2,16.7,16.0]\n",
        "grades.loc[12] = ['Bronn',17.0,15.2,17.7]\n",
        "grades\n",
        "# Note: you must an index value outside the range 0-11 or else will \n",
        "# overwrite data rows (tow rows cannot have the same index)"
      ],
      "execution_count": 75,
      "outputs": [
        {
          "output_type": "execute_result",
          "data": {
            "text/html": [
              "<div>\n",
              "<style scoped>\n",
              "    .dataframe tbody tr th:only-of-type {\n",
              "        vertical-align: middle;\n",
              "    }\n",
              "\n",
              "    .dataframe tbody tr th {\n",
              "        vertical-align: top;\n",
              "    }\n",
              "\n",
              "    .dataframe thead th {\n",
              "        text-align: right;\n",
              "    }\n",
              "</style>\n",
              "<table border=\"1\" class=\"dataframe\">\n",
              "  <thead>\n",
              "    <tr style=\"text-align: right;\">\n",
              "      <th></th>\n",
              "      <th>Name</th>\n",
              "      <th>1st Test</th>\n",
              "      <th>2nd Test</th>\n",
              "      <th>3rd Test</th>\n",
              "    </tr>\n",
              "  </thead>\n",
              "  <tbody>\n",
              "    <tr>\n",
              "      <th>0</th>\n",
              "      <td>Brienne</td>\n",
              "      <td>7.50</td>\n",
              "      <td>10.55</td>\n",
              "      <td>11.40</td>\n",
              "    </tr>\n",
              "    <tr>\n",
              "      <th>1</th>\n",
              "      <td>Jaime</td>\n",
              "      <td>10.25</td>\n",
              "      <td>10.15</td>\n",
              "      <td>7.15</td>\n",
              "    </tr>\n",
              "    <tr>\n",
              "      <th>2</th>\n",
              "      <td>Jon</td>\n",
              "      <td>12.95</td>\n",
              "      <td>10.95</td>\n",
              "      <td>11.45</td>\n",
              "    </tr>\n",
              "    <tr>\n",
              "      <th>3</th>\n",
              "      <td>Arya</td>\n",
              "      <td>12.20</td>\n",
              "      <td>8.25</td>\n",
              "      <td>11.50</td>\n",
              "    </tr>\n",
              "    <tr>\n",
              "      <th>4</th>\n",
              "      <td>Bran</td>\n",
              "      <td>16.85</td>\n",
              "      <td>17.20</td>\n",
              "      <td>20.00</td>\n",
              "    </tr>\n",
              "    <tr>\n",
              "      <th>5</th>\n",
              "      <td>Sansa</td>\n",
              "      <td>14.50</td>\n",
              "      <td>15.75</td>\n",
              "      <td>15.15</td>\n",
              "    </tr>\n",
              "    <tr>\n",
              "      <th>6</th>\n",
              "      <td>Sam</td>\n",
              "      <td>16.85</td>\n",
              "      <td>16.25</td>\n",
              "      <td>18.00</td>\n",
              "    </tr>\n",
              "    <tr>\n",
              "      <th>7</th>\n",
              "      <td>Jon</td>\n",
              "      <td>15.60</td>\n",
              "      <td>11.80</td>\n",
              "      <td>16.75</td>\n",
              "    </tr>\n",
              "    <tr>\n",
              "      <th>8</th>\n",
              "      <td>Cerci</td>\n",
              "      <td>12.40</td>\n",
              "      <td>11.80</td>\n",
              "      <td>6.00</td>\n",
              "    </tr>\n",
              "    <tr>\n",
              "      <th>9</th>\n",
              "      <td>Jorah</td>\n",
              "      <td>7.50</td>\n",
              "      <td>8.85</td>\n",
              "      <td>8.80</td>\n",
              "    </tr>\n",
              "    <tr>\n",
              "      <th>10</th>\n",
              "      <td>Danny</td>\n",
              "      <td>9.50</td>\n",
              "      <td>10.00</td>\n",
              "      <td>6.50</td>\n",
              "    </tr>\n",
              "    <tr>\n",
              "      <th>11</th>\n",
              "      <td>Tyrion</td>\n",
              "      <td>15.20</td>\n",
              "      <td>16.70</td>\n",
              "      <td>16.00</td>\n",
              "    </tr>\n",
              "    <tr>\n",
              "      <th>12</th>\n",
              "      <td>Bronn</td>\n",
              "      <td>17.00</td>\n",
              "      <td>15.20</td>\n",
              "      <td>17.70</td>\n",
              "    </tr>\n",
              "  </tbody>\n",
              "</table>\n",
              "</div>"
            ],
            "text/plain": [
              "       Name  1st Test  2nd Test  3rd Test\n",
              "0   Brienne      7.50     10.55     11.40\n",
              "1     Jaime     10.25     10.15      7.15\n",
              "2       Jon     12.95     10.95     11.45\n",
              "3      Arya     12.20      8.25     11.50\n",
              "4      Bran     16.85     17.20     20.00\n",
              "5     Sansa     14.50     15.75     15.15\n",
              "6       Sam     16.85     16.25     18.00\n",
              "7       Jon     15.60     11.80     16.75\n",
              "8     Cerci     12.40     11.80      6.00\n",
              "9     Jorah      7.50      8.85      8.80\n",
              "10    Danny      9.50     10.00      6.50\n",
              "11   Tyrion     15.20     16.70     16.00\n",
              "12    Bronn     17.00     15.20     17.70"
            ]
          },
          "metadata": {
            "tags": []
          },
          "execution_count": 75
        }
      ]
    },
    {
      "cell_type": "code",
      "metadata": {
        "id": "bYGd2UXjme0_",
        "colab_type": "code",
        "colab": {
          "base_uri": "https://localhost:8080/",
          "height": 450
        },
        "cellView": "form",
        "outputId": "a0c9ba13-6505-47dd-ba39-1ddad06fbc46"
      },
      "source": [
        "#@title SOLUTION 2.\n",
        "grades['Average'] = grades.iloc[:,1:4].mean(axis=1)\n",
        "grades"
      ],
      "execution_count": 76,
      "outputs": [
        {
          "output_type": "execute_result",
          "data": {
            "text/html": [
              "<div>\n",
              "<style scoped>\n",
              "    .dataframe tbody tr th:only-of-type {\n",
              "        vertical-align: middle;\n",
              "    }\n",
              "\n",
              "    .dataframe tbody tr th {\n",
              "        vertical-align: top;\n",
              "    }\n",
              "\n",
              "    .dataframe thead th {\n",
              "        text-align: right;\n",
              "    }\n",
              "</style>\n",
              "<table border=\"1\" class=\"dataframe\">\n",
              "  <thead>\n",
              "    <tr style=\"text-align: right;\">\n",
              "      <th></th>\n",
              "      <th>Name</th>\n",
              "      <th>1st Test</th>\n",
              "      <th>2nd Test</th>\n",
              "      <th>3rd Test</th>\n",
              "      <th>Average</th>\n",
              "    </tr>\n",
              "  </thead>\n",
              "  <tbody>\n",
              "    <tr>\n",
              "      <th>0</th>\n",
              "      <td>Brienne</td>\n",
              "      <td>7.50</td>\n",
              "      <td>10.55</td>\n",
              "      <td>11.40</td>\n",
              "      <td>9.816667</td>\n",
              "    </tr>\n",
              "    <tr>\n",
              "      <th>1</th>\n",
              "      <td>Jaime</td>\n",
              "      <td>10.25</td>\n",
              "      <td>10.15</td>\n",
              "      <td>7.15</td>\n",
              "      <td>9.183333</td>\n",
              "    </tr>\n",
              "    <tr>\n",
              "      <th>2</th>\n",
              "      <td>Jon</td>\n",
              "      <td>12.95</td>\n",
              "      <td>10.95</td>\n",
              "      <td>11.45</td>\n",
              "      <td>11.783333</td>\n",
              "    </tr>\n",
              "    <tr>\n",
              "      <th>3</th>\n",
              "      <td>Arya</td>\n",
              "      <td>12.20</td>\n",
              "      <td>8.25</td>\n",
              "      <td>11.50</td>\n",
              "      <td>10.650000</td>\n",
              "    </tr>\n",
              "    <tr>\n",
              "      <th>4</th>\n",
              "      <td>Bran</td>\n",
              "      <td>16.85</td>\n",
              "      <td>17.20</td>\n",
              "      <td>20.00</td>\n",
              "      <td>18.016667</td>\n",
              "    </tr>\n",
              "    <tr>\n",
              "      <th>5</th>\n",
              "      <td>Sansa</td>\n",
              "      <td>14.50</td>\n",
              "      <td>15.75</td>\n",
              "      <td>15.15</td>\n",
              "      <td>15.133333</td>\n",
              "    </tr>\n",
              "    <tr>\n",
              "      <th>6</th>\n",
              "      <td>Sam</td>\n",
              "      <td>16.85</td>\n",
              "      <td>16.25</td>\n",
              "      <td>18.00</td>\n",
              "      <td>17.033333</td>\n",
              "    </tr>\n",
              "    <tr>\n",
              "      <th>7</th>\n",
              "      <td>Jon</td>\n",
              "      <td>15.60</td>\n",
              "      <td>11.80</td>\n",
              "      <td>16.75</td>\n",
              "      <td>14.716667</td>\n",
              "    </tr>\n",
              "    <tr>\n",
              "      <th>8</th>\n",
              "      <td>Cerci</td>\n",
              "      <td>12.40</td>\n",
              "      <td>11.80</td>\n",
              "      <td>6.00</td>\n",
              "      <td>10.066667</td>\n",
              "    </tr>\n",
              "    <tr>\n",
              "      <th>9</th>\n",
              "      <td>Jorah</td>\n",
              "      <td>7.50</td>\n",
              "      <td>8.85</td>\n",
              "      <td>8.80</td>\n",
              "      <td>8.383333</td>\n",
              "    </tr>\n",
              "    <tr>\n",
              "      <th>10</th>\n",
              "      <td>Danny</td>\n",
              "      <td>9.50</td>\n",
              "      <td>10.00</td>\n",
              "      <td>6.50</td>\n",
              "      <td>8.666667</td>\n",
              "    </tr>\n",
              "    <tr>\n",
              "      <th>11</th>\n",
              "      <td>Tyrion</td>\n",
              "      <td>15.20</td>\n",
              "      <td>16.70</td>\n",
              "      <td>16.00</td>\n",
              "      <td>15.966667</td>\n",
              "    </tr>\n",
              "    <tr>\n",
              "      <th>12</th>\n",
              "      <td>Bronn</td>\n",
              "      <td>17.00</td>\n",
              "      <td>15.20</td>\n",
              "      <td>17.70</td>\n",
              "      <td>16.633333</td>\n",
              "    </tr>\n",
              "  </tbody>\n",
              "</table>\n",
              "</div>"
            ],
            "text/plain": [
              "       Name  1st Test  2nd Test  3rd Test    Average\n",
              "0   Brienne      7.50     10.55     11.40   9.816667\n",
              "1     Jaime     10.25     10.15      7.15   9.183333\n",
              "2       Jon     12.95     10.95     11.45  11.783333\n",
              "3      Arya     12.20      8.25     11.50  10.650000\n",
              "4      Bran     16.85     17.20     20.00  18.016667\n",
              "5     Sansa     14.50     15.75     15.15  15.133333\n",
              "6       Sam     16.85     16.25     18.00  17.033333\n",
              "7       Jon     15.60     11.80     16.75  14.716667\n",
              "8     Cerci     12.40     11.80      6.00  10.066667\n",
              "9     Jorah      7.50      8.85      8.80   8.383333\n",
              "10    Danny      9.50     10.00      6.50   8.666667\n",
              "11   Tyrion     15.20     16.70     16.00  15.966667\n",
              "12    Bronn     17.00     15.20     17.70  16.633333"
            ]
          },
          "metadata": {
            "tags": []
          },
          "execution_count": 76
        }
      ]
    },
    {
      "cell_type": "code",
      "metadata": {
        "id": "eR6xnHDR3kuL",
        "colab_type": "code",
        "colab": {
          "base_uri": "https://localhost:8080/",
          "height": 450
        },
        "cellView": "form",
        "outputId": "9075d4a0-cca8-4921-8070-f66bb17e61bb"
      },
      "source": [
        "#@title SOLUTION 2. (alternative solution)\n",
        "grades['Average'] = grades.loc[:,'1st Test':'3rd Test'].mean(axis=1)\n",
        "grades"
      ],
      "execution_count": 77,
      "outputs": [
        {
          "output_type": "execute_result",
          "data": {
            "text/html": [
              "<div>\n",
              "<style scoped>\n",
              "    .dataframe tbody tr th:only-of-type {\n",
              "        vertical-align: middle;\n",
              "    }\n",
              "\n",
              "    .dataframe tbody tr th {\n",
              "        vertical-align: top;\n",
              "    }\n",
              "\n",
              "    .dataframe thead th {\n",
              "        text-align: right;\n",
              "    }\n",
              "</style>\n",
              "<table border=\"1\" class=\"dataframe\">\n",
              "  <thead>\n",
              "    <tr style=\"text-align: right;\">\n",
              "      <th></th>\n",
              "      <th>Name</th>\n",
              "      <th>1st Test</th>\n",
              "      <th>2nd Test</th>\n",
              "      <th>3rd Test</th>\n",
              "      <th>Average</th>\n",
              "    </tr>\n",
              "  </thead>\n",
              "  <tbody>\n",
              "    <tr>\n",
              "      <th>0</th>\n",
              "      <td>Brienne</td>\n",
              "      <td>7.50</td>\n",
              "      <td>10.55</td>\n",
              "      <td>11.40</td>\n",
              "      <td>9.816667</td>\n",
              "    </tr>\n",
              "    <tr>\n",
              "      <th>1</th>\n",
              "      <td>Jaime</td>\n",
              "      <td>10.25</td>\n",
              "      <td>10.15</td>\n",
              "      <td>7.15</td>\n",
              "      <td>9.183333</td>\n",
              "    </tr>\n",
              "    <tr>\n",
              "      <th>2</th>\n",
              "      <td>Jon</td>\n",
              "      <td>12.95</td>\n",
              "      <td>10.95</td>\n",
              "      <td>11.45</td>\n",
              "      <td>11.783333</td>\n",
              "    </tr>\n",
              "    <tr>\n",
              "      <th>3</th>\n",
              "      <td>Arya</td>\n",
              "      <td>12.20</td>\n",
              "      <td>8.25</td>\n",
              "      <td>11.50</td>\n",
              "      <td>10.650000</td>\n",
              "    </tr>\n",
              "    <tr>\n",
              "      <th>4</th>\n",
              "      <td>Bran</td>\n",
              "      <td>16.85</td>\n",
              "      <td>17.20</td>\n",
              "      <td>20.00</td>\n",
              "      <td>18.016667</td>\n",
              "    </tr>\n",
              "    <tr>\n",
              "      <th>5</th>\n",
              "      <td>Sansa</td>\n",
              "      <td>14.50</td>\n",
              "      <td>15.75</td>\n",
              "      <td>15.15</td>\n",
              "      <td>15.133333</td>\n",
              "    </tr>\n",
              "    <tr>\n",
              "      <th>6</th>\n",
              "      <td>Sam</td>\n",
              "      <td>16.85</td>\n",
              "      <td>16.25</td>\n",
              "      <td>18.00</td>\n",
              "      <td>17.033333</td>\n",
              "    </tr>\n",
              "    <tr>\n",
              "      <th>7</th>\n",
              "      <td>Jon</td>\n",
              "      <td>15.60</td>\n",
              "      <td>11.80</td>\n",
              "      <td>16.75</td>\n",
              "      <td>14.716667</td>\n",
              "    </tr>\n",
              "    <tr>\n",
              "      <th>8</th>\n",
              "      <td>Cerci</td>\n",
              "      <td>12.40</td>\n",
              "      <td>11.80</td>\n",
              "      <td>6.00</td>\n",
              "      <td>10.066667</td>\n",
              "    </tr>\n",
              "    <tr>\n",
              "      <th>9</th>\n",
              "      <td>Jorah</td>\n",
              "      <td>7.50</td>\n",
              "      <td>8.85</td>\n",
              "      <td>8.80</td>\n",
              "      <td>8.383333</td>\n",
              "    </tr>\n",
              "    <tr>\n",
              "      <th>10</th>\n",
              "      <td>Danny</td>\n",
              "      <td>9.50</td>\n",
              "      <td>10.00</td>\n",
              "      <td>6.50</td>\n",
              "      <td>8.666667</td>\n",
              "    </tr>\n",
              "    <tr>\n",
              "      <th>11</th>\n",
              "      <td>Tyrion</td>\n",
              "      <td>15.20</td>\n",
              "      <td>16.70</td>\n",
              "      <td>16.00</td>\n",
              "      <td>15.966667</td>\n",
              "    </tr>\n",
              "    <tr>\n",
              "      <th>12</th>\n",
              "      <td>Bronn</td>\n",
              "      <td>17.00</td>\n",
              "      <td>15.20</td>\n",
              "      <td>17.70</td>\n",
              "      <td>16.633333</td>\n",
              "    </tr>\n",
              "  </tbody>\n",
              "</table>\n",
              "</div>"
            ],
            "text/plain": [
              "       Name  1st Test  2nd Test  3rd Test    Average\n",
              "0   Brienne      7.50     10.55     11.40   9.816667\n",
              "1     Jaime     10.25     10.15      7.15   9.183333\n",
              "2       Jon     12.95     10.95     11.45  11.783333\n",
              "3      Arya     12.20      8.25     11.50  10.650000\n",
              "4      Bran     16.85     17.20     20.00  18.016667\n",
              "5     Sansa     14.50     15.75     15.15  15.133333\n",
              "6       Sam     16.85     16.25     18.00  17.033333\n",
              "7       Jon     15.60     11.80     16.75  14.716667\n",
              "8     Cerci     12.40     11.80      6.00  10.066667\n",
              "9     Jorah      7.50      8.85      8.80   8.383333\n",
              "10    Danny      9.50     10.00      6.50   8.666667\n",
              "11   Tyrion     15.20     16.70     16.00  15.966667\n",
              "12    Bronn     17.00     15.20     17.70  16.633333"
            ]
          },
          "metadata": {
            "tags": []
          },
          "execution_count": 77
        }
      ]
    },
    {
      "cell_type": "code",
      "metadata": {
        "id": "LYDFHS_umoWK",
        "colab_type": "code",
        "colab": {
          "base_uri": "https://localhost:8080/",
          "height": 480
        },
        "cellView": "form",
        "outputId": "d923c4e6-82f5-4723-8c17-5415fa890c19"
      },
      "source": [
        "#@title SOLUTION 3.\n",
        "grades.loc['test_averages'] = grades.iloc[:,1:5].mean(axis=0)\n",
        "grades"
      ],
      "execution_count": 78,
      "outputs": [
        {
          "output_type": "execute_result",
          "data": {
            "text/html": [
              "<div>\n",
              "<style scoped>\n",
              "    .dataframe tbody tr th:only-of-type {\n",
              "        vertical-align: middle;\n",
              "    }\n",
              "\n",
              "    .dataframe tbody tr th {\n",
              "        vertical-align: top;\n",
              "    }\n",
              "\n",
              "    .dataframe thead th {\n",
              "        text-align: right;\n",
              "    }\n",
              "</style>\n",
              "<table border=\"1\" class=\"dataframe\">\n",
              "  <thead>\n",
              "    <tr style=\"text-align: right;\">\n",
              "      <th></th>\n",
              "      <th>Name</th>\n",
              "      <th>1st Test</th>\n",
              "      <th>2nd Test</th>\n",
              "      <th>3rd Test</th>\n",
              "      <th>Average</th>\n",
              "    </tr>\n",
              "  </thead>\n",
              "  <tbody>\n",
              "    <tr>\n",
              "      <th>0</th>\n",
              "      <td>Brienne</td>\n",
              "      <td>7.500000</td>\n",
              "      <td>10.550000</td>\n",
              "      <td>11.40</td>\n",
              "      <td>9.816667</td>\n",
              "    </tr>\n",
              "    <tr>\n",
              "      <th>1</th>\n",
              "      <td>Jaime</td>\n",
              "      <td>10.250000</td>\n",
              "      <td>10.150000</td>\n",
              "      <td>7.15</td>\n",
              "      <td>9.183333</td>\n",
              "    </tr>\n",
              "    <tr>\n",
              "      <th>2</th>\n",
              "      <td>Jon</td>\n",
              "      <td>12.950000</td>\n",
              "      <td>10.950000</td>\n",
              "      <td>11.45</td>\n",
              "      <td>11.783333</td>\n",
              "    </tr>\n",
              "    <tr>\n",
              "      <th>3</th>\n",
              "      <td>Arya</td>\n",
              "      <td>12.200000</td>\n",
              "      <td>8.250000</td>\n",
              "      <td>11.50</td>\n",
              "      <td>10.650000</td>\n",
              "    </tr>\n",
              "    <tr>\n",
              "      <th>4</th>\n",
              "      <td>Bran</td>\n",
              "      <td>16.850000</td>\n",
              "      <td>17.200000</td>\n",
              "      <td>20.00</td>\n",
              "      <td>18.016667</td>\n",
              "    </tr>\n",
              "    <tr>\n",
              "      <th>5</th>\n",
              "      <td>Sansa</td>\n",
              "      <td>14.500000</td>\n",
              "      <td>15.750000</td>\n",
              "      <td>15.15</td>\n",
              "      <td>15.133333</td>\n",
              "    </tr>\n",
              "    <tr>\n",
              "      <th>6</th>\n",
              "      <td>Sam</td>\n",
              "      <td>16.850000</td>\n",
              "      <td>16.250000</td>\n",
              "      <td>18.00</td>\n",
              "      <td>17.033333</td>\n",
              "    </tr>\n",
              "    <tr>\n",
              "      <th>7</th>\n",
              "      <td>Jon</td>\n",
              "      <td>15.600000</td>\n",
              "      <td>11.800000</td>\n",
              "      <td>16.75</td>\n",
              "      <td>14.716667</td>\n",
              "    </tr>\n",
              "    <tr>\n",
              "      <th>8</th>\n",
              "      <td>Cerci</td>\n",
              "      <td>12.400000</td>\n",
              "      <td>11.800000</td>\n",
              "      <td>6.00</td>\n",
              "      <td>10.066667</td>\n",
              "    </tr>\n",
              "    <tr>\n",
              "      <th>9</th>\n",
              "      <td>Jorah</td>\n",
              "      <td>7.500000</td>\n",
              "      <td>8.850000</td>\n",
              "      <td>8.80</td>\n",
              "      <td>8.383333</td>\n",
              "    </tr>\n",
              "    <tr>\n",
              "      <th>10</th>\n",
              "      <td>Danny</td>\n",
              "      <td>9.500000</td>\n",
              "      <td>10.000000</td>\n",
              "      <td>6.50</td>\n",
              "      <td>8.666667</td>\n",
              "    </tr>\n",
              "    <tr>\n",
              "      <th>11</th>\n",
              "      <td>Tyrion</td>\n",
              "      <td>15.200000</td>\n",
              "      <td>16.700000</td>\n",
              "      <td>16.00</td>\n",
              "      <td>15.966667</td>\n",
              "    </tr>\n",
              "    <tr>\n",
              "      <th>12</th>\n",
              "      <td>Bronn</td>\n",
              "      <td>17.000000</td>\n",
              "      <td>15.200000</td>\n",
              "      <td>17.70</td>\n",
              "      <td>16.633333</td>\n",
              "    </tr>\n",
              "    <tr>\n",
              "      <th>test_averages</th>\n",
              "      <td>NaN</td>\n",
              "      <td>12.946154</td>\n",
              "      <td>12.573077</td>\n",
              "      <td>12.80</td>\n",
              "      <td>12.773077</td>\n",
              "    </tr>\n",
              "  </tbody>\n",
              "</table>\n",
              "</div>"
            ],
            "text/plain": [
              "                  Name   1st Test   2nd Test  3rd Test    Average\n",
              "0              Brienne   7.500000  10.550000     11.40   9.816667\n",
              "1                Jaime  10.250000  10.150000      7.15   9.183333\n",
              "2                  Jon  12.950000  10.950000     11.45  11.783333\n",
              "3                 Arya  12.200000   8.250000     11.50  10.650000\n",
              "4                 Bran  16.850000  17.200000     20.00  18.016667\n",
              "5                Sansa  14.500000  15.750000     15.15  15.133333\n",
              "6                  Sam  16.850000  16.250000     18.00  17.033333\n",
              "7                  Jon  15.600000  11.800000     16.75  14.716667\n",
              "8                Cerci  12.400000  11.800000      6.00  10.066667\n",
              "9                Jorah   7.500000   8.850000      8.80   8.383333\n",
              "10               Danny   9.500000  10.000000      6.50   8.666667\n",
              "11              Tyrion  15.200000  16.700000     16.00  15.966667\n",
              "12               Bronn  17.000000  15.200000     17.70  16.633333\n",
              "test_averages      NaN  12.946154  12.573077     12.80  12.773077"
            ]
          },
          "metadata": {
            "tags": []
          },
          "execution_count": 78
        }
      ]
    },
    {
      "cell_type": "code",
      "metadata": {
        "id": "a9XP_JLTnSjZ",
        "colab_type": "code",
        "colab": {
          "base_uri": "https://localhost:8080/",
          "height": 480
        },
        "cellView": "form",
        "outputId": "5d605f79-5557-4475-c2d0-9ce680449efa"
      },
      "source": [
        "#@title SOLUTION 4. \n",
        "grades.loc[grades.Average >= 9.5, 'Status'] = 'Pass'\n",
        "grades.loc[grades.Average < 9.5, 'Status'] = 'Fail'\n",
        "grades"
      ],
      "execution_count": 79,
      "outputs": [
        {
          "output_type": "execute_result",
          "data": {
            "text/html": [
              "<div>\n",
              "<style scoped>\n",
              "    .dataframe tbody tr th:only-of-type {\n",
              "        vertical-align: middle;\n",
              "    }\n",
              "\n",
              "    .dataframe tbody tr th {\n",
              "        vertical-align: top;\n",
              "    }\n",
              "\n",
              "    .dataframe thead th {\n",
              "        text-align: right;\n",
              "    }\n",
              "</style>\n",
              "<table border=\"1\" class=\"dataframe\">\n",
              "  <thead>\n",
              "    <tr style=\"text-align: right;\">\n",
              "      <th></th>\n",
              "      <th>Name</th>\n",
              "      <th>1st Test</th>\n",
              "      <th>2nd Test</th>\n",
              "      <th>3rd Test</th>\n",
              "      <th>Average</th>\n",
              "      <th>Status</th>\n",
              "    </tr>\n",
              "  </thead>\n",
              "  <tbody>\n",
              "    <tr>\n",
              "      <th>0</th>\n",
              "      <td>Brienne</td>\n",
              "      <td>7.500000</td>\n",
              "      <td>10.550000</td>\n",
              "      <td>11.40</td>\n",
              "      <td>9.816667</td>\n",
              "      <td>Pass</td>\n",
              "    </tr>\n",
              "    <tr>\n",
              "      <th>1</th>\n",
              "      <td>Jaime</td>\n",
              "      <td>10.250000</td>\n",
              "      <td>10.150000</td>\n",
              "      <td>7.15</td>\n",
              "      <td>9.183333</td>\n",
              "      <td>Fail</td>\n",
              "    </tr>\n",
              "    <tr>\n",
              "      <th>2</th>\n",
              "      <td>Jon</td>\n",
              "      <td>12.950000</td>\n",
              "      <td>10.950000</td>\n",
              "      <td>11.45</td>\n",
              "      <td>11.783333</td>\n",
              "      <td>Pass</td>\n",
              "    </tr>\n",
              "    <tr>\n",
              "      <th>3</th>\n",
              "      <td>Arya</td>\n",
              "      <td>12.200000</td>\n",
              "      <td>8.250000</td>\n",
              "      <td>11.50</td>\n",
              "      <td>10.650000</td>\n",
              "      <td>Pass</td>\n",
              "    </tr>\n",
              "    <tr>\n",
              "      <th>4</th>\n",
              "      <td>Bran</td>\n",
              "      <td>16.850000</td>\n",
              "      <td>17.200000</td>\n",
              "      <td>20.00</td>\n",
              "      <td>18.016667</td>\n",
              "      <td>Pass</td>\n",
              "    </tr>\n",
              "    <tr>\n",
              "      <th>5</th>\n",
              "      <td>Sansa</td>\n",
              "      <td>14.500000</td>\n",
              "      <td>15.750000</td>\n",
              "      <td>15.15</td>\n",
              "      <td>15.133333</td>\n",
              "      <td>Pass</td>\n",
              "    </tr>\n",
              "    <tr>\n",
              "      <th>6</th>\n",
              "      <td>Sam</td>\n",
              "      <td>16.850000</td>\n",
              "      <td>16.250000</td>\n",
              "      <td>18.00</td>\n",
              "      <td>17.033333</td>\n",
              "      <td>Pass</td>\n",
              "    </tr>\n",
              "    <tr>\n",
              "      <th>7</th>\n",
              "      <td>Jon</td>\n",
              "      <td>15.600000</td>\n",
              "      <td>11.800000</td>\n",
              "      <td>16.75</td>\n",
              "      <td>14.716667</td>\n",
              "      <td>Pass</td>\n",
              "    </tr>\n",
              "    <tr>\n",
              "      <th>8</th>\n",
              "      <td>Cerci</td>\n",
              "      <td>12.400000</td>\n",
              "      <td>11.800000</td>\n",
              "      <td>6.00</td>\n",
              "      <td>10.066667</td>\n",
              "      <td>Pass</td>\n",
              "    </tr>\n",
              "    <tr>\n",
              "      <th>9</th>\n",
              "      <td>Jorah</td>\n",
              "      <td>7.500000</td>\n",
              "      <td>8.850000</td>\n",
              "      <td>8.80</td>\n",
              "      <td>8.383333</td>\n",
              "      <td>Fail</td>\n",
              "    </tr>\n",
              "    <tr>\n",
              "      <th>10</th>\n",
              "      <td>Danny</td>\n",
              "      <td>9.500000</td>\n",
              "      <td>10.000000</td>\n",
              "      <td>6.50</td>\n",
              "      <td>8.666667</td>\n",
              "      <td>Fail</td>\n",
              "    </tr>\n",
              "    <tr>\n",
              "      <th>11</th>\n",
              "      <td>Tyrion</td>\n",
              "      <td>15.200000</td>\n",
              "      <td>16.700000</td>\n",
              "      <td>16.00</td>\n",
              "      <td>15.966667</td>\n",
              "      <td>Pass</td>\n",
              "    </tr>\n",
              "    <tr>\n",
              "      <th>12</th>\n",
              "      <td>Bronn</td>\n",
              "      <td>17.000000</td>\n",
              "      <td>15.200000</td>\n",
              "      <td>17.70</td>\n",
              "      <td>16.633333</td>\n",
              "      <td>Pass</td>\n",
              "    </tr>\n",
              "    <tr>\n",
              "      <th>test_averages</th>\n",
              "      <td>NaN</td>\n",
              "      <td>12.946154</td>\n",
              "      <td>12.573077</td>\n",
              "      <td>12.80</td>\n",
              "      <td>12.773077</td>\n",
              "      <td>Pass</td>\n",
              "    </tr>\n",
              "  </tbody>\n",
              "</table>\n",
              "</div>"
            ],
            "text/plain": [
              "                  Name   1st Test   2nd Test  3rd Test    Average Status\n",
              "0              Brienne   7.500000  10.550000     11.40   9.816667   Pass\n",
              "1                Jaime  10.250000  10.150000      7.15   9.183333   Fail\n",
              "2                  Jon  12.950000  10.950000     11.45  11.783333   Pass\n",
              "3                 Arya  12.200000   8.250000     11.50  10.650000   Pass\n",
              "4                 Bran  16.850000  17.200000     20.00  18.016667   Pass\n",
              "5                Sansa  14.500000  15.750000     15.15  15.133333   Pass\n",
              "6                  Sam  16.850000  16.250000     18.00  17.033333   Pass\n",
              "7                  Jon  15.600000  11.800000     16.75  14.716667   Pass\n",
              "8                Cerci  12.400000  11.800000      6.00  10.066667   Pass\n",
              "9                Jorah   7.500000   8.850000      8.80   8.383333   Fail\n",
              "10               Danny   9.500000  10.000000      6.50   8.666667   Fail\n",
              "11              Tyrion  15.200000  16.700000     16.00  15.966667   Pass\n",
              "12               Bronn  17.000000  15.200000     17.70  16.633333   Pass\n",
              "test_averages      NaN  12.946154  12.573077     12.80  12.773077   Pass"
            ]
          },
          "metadata": {
            "tags": []
          },
          "execution_count": 79
        }
      ]
    },
    {
      "cell_type": "code",
      "metadata": {
        "id": "QP3G4OPw5nYV",
        "colab_type": "code",
        "colab": {
          "base_uri": "https://localhost:8080/",
          "height": 480
        },
        "cellView": "form",
        "outputId": "4bda8a02-2230-4897-e9db-0557fdeb3ca3"
      },
      "source": [
        "#@title SOLUTION 4. (alternate solution)\n",
        "grades['Status'] = np.where(grades['Average']>=9.5, 'Pass', 'Fail')\n",
        "grades\n",
        "# Can you understand how this works ?"
      ],
      "execution_count": 80,
      "outputs": [
        {
          "output_type": "execute_result",
          "data": {
            "text/html": [
              "<div>\n",
              "<style scoped>\n",
              "    .dataframe tbody tr th:only-of-type {\n",
              "        vertical-align: middle;\n",
              "    }\n",
              "\n",
              "    .dataframe tbody tr th {\n",
              "        vertical-align: top;\n",
              "    }\n",
              "\n",
              "    .dataframe thead th {\n",
              "        text-align: right;\n",
              "    }\n",
              "</style>\n",
              "<table border=\"1\" class=\"dataframe\">\n",
              "  <thead>\n",
              "    <tr style=\"text-align: right;\">\n",
              "      <th></th>\n",
              "      <th>Name</th>\n",
              "      <th>1st Test</th>\n",
              "      <th>2nd Test</th>\n",
              "      <th>3rd Test</th>\n",
              "      <th>Average</th>\n",
              "      <th>Status</th>\n",
              "    </tr>\n",
              "  </thead>\n",
              "  <tbody>\n",
              "    <tr>\n",
              "      <th>0</th>\n",
              "      <td>Brienne</td>\n",
              "      <td>7.500000</td>\n",
              "      <td>10.550000</td>\n",
              "      <td>11.40</td>\n",
              "      <td>9.816667</td>\n",
              "      <td>Pass</td>\n",
              "    </tr>\n",
              "    <tr>\n",
              "      <th>1</th>\n",
              "      <td>Jaime</td>\n",
              "      <td>10.250000</td>\n",
              "      <td>10.150000</td>\n",
              "      <td>7.15</td>\n",
              "      <td>9.183333</td>\n",
              "      <td>Fail</td>\n",
              "    </tr>\n",
              "    <tr>\n",
              "      <th>2</th>\n",
              "      <td>Jon</td>\n",
              "      <td>12.950000</td>\n",
              "      <td>10.950000</td>\n",
              "      <td>11.45</td>\n",
              "      <td>11.783333</td>\n",
              "      <td>Pass</td>\n",
              "    </tr>\n",
              "    <tr>\n",
              "      <th>3</th>\n",
              "      <td>Arya</td>\n",
              "      <td>12.200000</td>\n",
              "      <td>8.250000</td>\n",
              "      <td>11.50</td>\n",
              "      <td>10.650000</td>\n",
              "      <td>Pass</td>\n",
              "    </tr>\n",
              "    <tr>\n",
              "      <th>4</th>\n",
              "      <td>Bran</td>\n",
              "      <td>16.850000</td>\n",
              "      <td>17.200000</td>\n",
              "      <td>20.00</td>\n",
              "      <td>18.016667</td>\n",
              "      <td>Pass</td>\n",
              "    </tr>\n",
              "    <tr>\n",
              "      <th>5</th>\n",
              "      <td>Sansa</td>\n",
              "      <td>14.500000</td>\n",
              "      <td>15.750000</td>\n",
              "      <td>15.15</td>\n",
              "      <td>15.133333</td>\n",
              "      <td>Pass</td>\n",
              "    </tr>\n",
              "    <tr>\n",
              "      <th>6</th>\n",
              "      <td>Sam</td>\n",
              "      <td>16.850000</td>\n",
              "      <td>16.250000</td>\n",
              "      <td>18.00</td>\n",
              "      <td>17.033333</td>\n",
              "      <td>Pass</td>\n",
              "    </tr>\n",
              "    <tr>\n",
              "      <th>7</th>\n",
              "      <td>Jon</td>\n",
              "      <td>15.600000</td>\n",
              "      <td>11.800000</td>\n",
              "      <td>16.75</td>\n",
              "      <td>14.716667</td>\n",
              "      <td>Pass</td>\n",
              "    </tr>\n",
              "    <tr>\n",
              "      <th>8</th>\n",
              "      <td>Cerci</td>\n",
              "      <td>12.400000</td>\n",
              "      <td>11.800000</td>\n",
              "      <td>6.00</td>\n",
              "      <td>10.066667</td>\n",
              "      <td>Pass</td>\n",
              "    </tr>\n",
              "    <tr>\n",
              "      <th>9</th>\n",
              "      <td>Jorah</td>\n",
              "      <td>7.500000</td>\n",
              "      <td>8.850000</td>\n",
              "      <td>8.80</td>\n",
              "      <td>8.383333</td>\n",
              "      <td>Fail</td>\n",
              "    </tr>\n",
              "    <tr>\n",
              "      <th>10</th>\n",
              "      <td>Danny</td>\n",
              "      <td>9.500000</td>\n",
              "      <td>10.000000</td>\n",
              "      <td>6.50</td>\n",
              "      <td>8.666667</td>\n",
              "      <td>Fail</td>\n",
              "    </tr>\n",
              "    <tr>\n",
              "      <th>11</th>\n",
              "      <td>Tyrion</td>\n",
              "      <td>15.200000</td>\n",
              "      <td>16.700000</td>\n",
              "      <td>16.00</td>\n",
              "      <td>15.966667</td>\n",
              "      <td>Pass</td>\n",
              "    </tr>\n",
              "    <tr>\n",
              "      <th>12</th>\n",
              "      <td>Bronn</td>\n",
              "      <td>17.000000</td>\n",
              "      <td>15.200000</td>\n",
              "      <td>17.70</td>\n",
              "      <td>16.633333</td>\n",
              "      <td>Pass</td>\n",
              "    </tr>\n",
              "    <tr>\n",
              "      <th>test_averages</th>\n",
              "      <td>NaN</td>\n",
              "      <td>12.946154</td>\n",
              "      <td>12.573077</td>\n",
              "      <td>12.80</td>\n",
              "      <td>12.773077</td>\n",
              "      <td>Pass</td>\n",
              "    </tr>\n",
              "  </tbody>\n",
              "</table>\n",
              "</div>"
            ],
            "text/plain": [
              "                  Name   1st Test   2nd Test  3rd Test    Average Status\n",
              "0              Brienne   7.500000  10.550000     11.40   9.816667   Pass\n",
              "1                Jaime  10.250000  10.150000      7.15   9.183333   Fail\n",
              "2                  Jon  12.950000  10.950000     11.45  11.783333   Pass\n",
              "3                 Arya  12.200000   8.250000     11.50  10.650000   Pass\n",
              "4                 Bran  16.850000  17.200000     20.00  18.016667   Pass\n",
              "5                Sansa  14.500000  15.750000     15.15  15.133333   Pass\n",
              "6                  Sam  16.850000  16.250000     18.00  17.033333   Pass\n",
              "7                  Jon  15.600000  11.800000     16.75  14.716667   Pass\n",
              "8                Cerci  12.400000  11.800000      6.00  10.066667   Pass\n",
              "9                Jorah   7.500000   8.850000      8.80   8.383333   Fail\n",
              "10               Danny   9.500000  10.000000      6.50   8.666667   Fail\n",
              "11              Tyrion  15.200000  16.700000     16.00  15.966667   Pass\n",
              "12               Bronn  17.000000  15.200000     17.70  16.633333   Pass\n",
              "test_averages      NaN  12.946154  12.573077     12.80  12.773077   Pass"
            ]
          },
          "metadata": {
            "tags": []
          },
          "execution_count": 80
        }
      ]
    },
    {
      "cell_type": "code",
      "metadata": {
        "id": "GswBk6bbQG2x",
        "colab_type": "code",
        "colab": {
          "base_uri": "https://localhost:8080/",
          "height": 480
        },
        "cellView": "form",
        "outputId": "33b1d4d9-5bdc-4c3c-a2bb-0276dea0d519"
      },
      "source": [
        "#@title SOLUTION 5.\n",
        "grades.loc[ (grades['1st Test']<7.0) | (grades['2nd Test']<7.0) | (grades['3rd Test']<7.0),'Status'] = 'Fail'\n",
        "grades"
      ],
      "execution_count": 88,
      "outputs": [
        {
          "output_type": "execute_result",
          "data": {
            "text/html": [
              "<div>\n",
              "<style scoped>\n",
              "    .dataframe tbody tr th:only-of-type {\n",
              "        vertical-align: middle;\n",
              "    }\n",
              "\n",
              "    .dataframe tbody tr th {\n",
              "        vertical-align: top;\n",
              "    }\n",
              "\n",
              "    .dataframe thead th {\n",
              "        text-align: right;\n",
              "    }\n",
              "</style>\n",
              "<table border=\"1\" class=\"dataframe\">\n",
              "  <thead>\n",
              "    <tr style=\"text-align: right;\">\n",
              "      <th></th>\n",
              "      <th>Name</th>\n",
              "      <th>1st Test</th>\n",
              "      <th>2nd Test</th>\n",
              "      <th>3rd Test</th>\n",
              "      <th>Average</th>\n",
              "      <th>Status</th>\n",
              "    </tr>\n",
              "  </thead>\n",
              "  <tbody>\n",
              "    <tr>\n",
              "      <th>0</th>\n",
              "      <td>Brienne</td>\n",
              "      <td>7.500000</td>\n",
              "      <td>10.550000</td>\n",
              "      <td>11.40</td>\n",
              "      <td>9.816667</td>\n",
              "      <td>Pass</td>\n",
              "    </tr>\n",
              "    <tr>\n",
              "      <th>1</th>\n",
              "      <td>Jaime</td>\n",
              "      <td>10.250000</td>\n",
              "      <td>10.150000</td>\n",
              "      <td>7.15</td>\n",
              "      <td>9.183333</td>\n",
              "      <td>Fail</td>\n",
              "    </tr>\n",
              "    <tr>\n",
              "      <th>2</th>\n",
              "      <td>Jon</td>\n",
              "      <td>12.950000</td>\n",
              "      <td>10.950000</td>\n",
              "      <td>11.45</td>\n",
              "      <td>11.783333</td>\n",
              "      <td>Pass</td>\n",
              "    </tr>\n",
              "    <tr>\n",
              "      <th>3</th>\n",
              "      <td>Arya</td>\n",
              "      <td>12.200000</td>\n",
              "      <td>8.250000</td>\n",
              "      <td>11.50</td>\n",
              "      <td>10.650000</td>\n",
              "      <td>Pass</td>\n",
              "    </tr>\n",
              "    <tr>\n",
              "      <th>4</th>\n",
              "      <td>Bran</td>\n",
              "      <td>16.850000</td>\n",
              "      <td>17.200000</td>\n",
              "      <td>20.00</td>\n",
              "      <td>18.016667</td>\n",
              "      <td>Pass</td>\n",
              "    </tr>\n",
              "    <tr>\n",
              "      <th>5</th>\n",
              "      <td>Sansa</td>\n",
              "      <td>14.500000</td>\n",
              "      <td>15.750000</td>\n",
              "      <td>15.15</td>\n",
              "      <td>15.133333</td>\n",
              "      <td>Pass</td>\n",
              "    </tr>\n",
              "    <tr>\n",
              "      <th>6</th>\n",
              "      <td>Sam</td>\n",
              "      <td>16.850000</td>\n",
              "      <td>16.250000</td>\n",
              "      <td>18.00</td>\n",
              "      <td>17.033333</td>\n",
              "      <td>Pass</td>\n",
              "    </tr>\n",
              "    <tr>\n",
              "      <th>7</th>\n",
              "      <td>Jon</td>\n",
              "      <td>15.600000</td>\n",
              "      <td>11.800000</td>\n",
              "      <td>16.75</td>\n",
              "      <td>14.716667</td>\n",
              "      <td>Pass</td>\n",
              "    </tr>\n",
              "    <tr>\n",
              "      <th>8</th>\n",
              "      <td>Cerci</td>\n",
              "      <td>12.400000</td>\n",
              "      <td>11.800000</td>\n",
              "      <td>6.00</td>\n",
              "      <td>10.066667</td>\n",
              "      <td>Fail</td>\n",
              "    </tr>\n",
              "    <tr>\n",
              "      <th>9</th>\n",
              "      <td>Jorah</td>\n",
              "      <td>7.500000</td>\n",
              "      <td>8.850000</td>\n",
              "      <td>8.80</td>\n",
              "      <td>8.383333</td>\n",
              "      <td>Fail</td>\n",
              "    </tr>\n",
              "    <tr>\n",
              "      <th>10</th>\n",
              "      <td>Danny</td>\n",
              "      <td>9.500000</td>\n",
              "      <td>10.000000</td>\n",
              "      <td>6.50</td>\n",
              "      <td>8.666667</td>\n",
              "      <td>Fail</td>\n",
              "    </tr>\n",
              "    <tr>\n",
              "      <th>11</th>\n",
              "      <td>Tyrion</td>\n",
              "      <td>15.200000</td>\n",
              "      <td>16.700000</td>\n",
              "      <td>16.00</td>\n",
              "      <td>15.966667</td>\n",
              "      <td>Pass</td>\n",
              "    </tr>\n",
              "    <tr>\n",
              "      <th>12</th>\n",
              "      <td>Bronn</td>\n",
              "      <td>17.000000</td>\n",
              "      <td>15.200000</td>\n",
              "      <td>17.70</td>\n",
              "      <td>16.633333</td>\n",
              "      <td>Pass</td>\n",
              "    </tr>\n",
              "    <tr>\n",
              "      <th>test_averages</th>\n",
              "      <td>NaN</td>\n",
              "      <td>12.946154</td>\n",
              "      <td>12.573077</td>\n",
              "      <td>12.80</td>\n",
              "      <td>12.773077</td>\n",
              "      <td>Pass</td>\n",
              "    </tr>\n",
              "  </tbody>\n",
              "</table>\n",
              "</div>"
            ],
            "text/plain": [
              "                  Name   1st Test   2nd Test  3rd Test    Average Status\n",
              "0              Brienne   7.500000  10.550000     11.40   9.816667   Pass\n",
              "1                Jaime  10.250000  10.150000      7.15   9.183333   Fail\n",
              "2                  Jon  12.950000  10.950000     11.45  11.783333   Pass\n",
              "3                 Arya  12.200000   8.250000     11.50  10.650000   Pass\n",
              "4                 Bran  16.850000  17.200000     20.00  18.016667   Pass\n",
              "5                Sansa  14.500000  15.750000     15.15  15.133333   Pass\n",
              "6                  Sam  16.850000  16.250000     18.00  17.033333   Pass\n",
              "7                  Jon  15.600000  11.800000     16.75  14.716667   Pass\n",
              "8                Cerci  12.400000  11.800000      6.00  10.066667   Fail\n",
              "9                Jorah   7.500000   8.850000      8.80   8.383333   Fail\n",
              "10               Danny   9.500000  10.000000      6.50   8.666667   Fail\n",
              "11              Tyrion  15.200000  16.700000     16.00  15.966667   Pass\n",
              "12               Bronn  17.000000  15.200000     17.70  16.633333   Pass\n",
              "test_averages      NaN  12.946154  12.573077     12.80  12.773077   Pass"
            ]
          },
          "metadata": {
            "tags": []
          },
          "execution_count": 88
        }
      ]
    },
    {
      "cell_type": "code",
      "metadata": {
        "id": "PW0WJiK9TLzH",
        "colab_type": "code",
        "colab": {},
        "cellView": "form"
      },
      "source": [
        "#@title SOLUTION 6.\n",
        "grades = grades.sort_values('Name') \n",
        "# by default, sort_values is not an in place operation!\n",
        "grades"
      ],
      "execution_count": 0,
      "outputs": []
    },
    {
      "cell_type": "code",
      "metadata": {
        "id": "hWiqQp-0WMY5",
        "colab_type": "code",
        "colab": {
          "base_uri": "https://localhost:8080/",
          "height": 480
        },
        "cellView": "form",
        "outputId": "8efae8f6-87c1-4139-b73b-948ca25cd152"
      },
      "source": [
        "#@title SOLUTION 6. (alternative solution)\n",
        "grades.sort_values('Name',inplace = True)\n",
        "grades"
      ],
      "execution_count": 101,
      "outputs": [
        {
          "output_type": "execute_result",
          "data": {
            "text/html": [
              "<div>\n",
              "<style scoped>\n",
              "    .dataframe tbody tr th:only-of-type {\n",
              "        vertical-align: middle;\n",
              "    }\n",
              "\n",
              "    .dataframe tbody tr th {\n",
              "        vertical-align: top;\n",
              "    }\n",
              "\n",
              "    .dataframe thead th {\n",
              "        text-align: right;\n",
              "    }\n",
              "</style>\n",
              "<table border=\"1\" class=\"dataframe\">\n",
              "  <thead>\n",
              "    <tr style=\"text-align: right;\">\n",
              "      <th></th>\n",
              "      <th>Name</th>\n",
              "      <th>1st Test</th>\n",
              "      <th>2nd Test</th>\n",
              "      <th>3rd Test</th>\n",
              "      <th>Average</th>\n",
              "      <th>Status</th>\n",
              "    </tr>\n",
              "  </thead>\n",
              "  <tbody>\n",
              "    <tr>\n",
              "      <th>3</th>\n",
              "      <td>Arya</td>\n",
              "      <td>12.200000</td>\n",
              "      <td>8.250000</td>\n",
              "      <td>11.50</td>\n",
              "      <td>10.650000</td>\n",
              "      <td>Pass</td>\n",
              "    </tr>\n",
              "    <tr>\n",
              "      <th>4</th>\n",
              "      <td>Bran</td>\n",
              "      <td>16.850000</td>\n",
              "      <td>17.200000</td>\n",
              "      <td>20.00</td>\n",
              "      <td>18.016667</td>\n",
              "      <td>Pass</td>\n",
              "    </tr>\n",
              "    <tr>\n",
              "      <th>0</th>\n",
              "      <td>Brienne</td>\n",
              "      <td>7.500000</td>\n",
              "      <td>10.550000</td>\n",
              "      <td>11.40</td>\n",
              "      <td>9.816667</td>\n",
              "      <td>Pass</td>\n",
              "    </tr>\n",
              "    <tr>\n",
              "      <th>12</th>\n",
              "      <td>Bronn</td>\n",
              "      <td>17.000000</td>\n",
              "      <td>15.200000</td>\n",
              "      <td>17.70</td>\n",
              "      <td>16.633333</td>\n",
              "      <td>Pass</td>\n",
              "    </tr>\n",
              "    <tr>\n",
              "      <th>8</th>\n",
              "      <td>Cerci</td>\n",
              "      <td>12.400000</td>\n",
              "      <td>11.800000</td>\n",
              "      <td>6.00</td>\n",
              "      <td>10.066667</td>\n",
              "      <td>Fail</td>\n",
              "    </tr>\n",
              "    <tr>\n",
              "      <th>10</th>\n",
              "      <td>Danny</td>\n",
              "      <td>9.500000</td>\n",
              "      <td>10.000000</td>\n",
              "      <td>6.50</td>\n",
              "      <td>8.666667</td>\n",
              "      <td>Fail</td>\n",
              "    </tr>\n",
              "    <tr>\n",
              "      <th>1</th>\n",
              "      <td>Jaime</td>\n",
              "      <td>10.250000</td>\n",
              "      <td>10.150000</td>\n",
              "      <td>7.15</td>\n",
              "      <td>9.183333</td>\n",
              "      <td>Fail</td>\n",
              "    </tr>\n",
              "    <tr>\n",
              "      <th>2</th>\n",
              "      <td>Jon</td>\n",
              "      <td>12.950000</td>\n",
              "      <td>10.950000</td>\n",
              "      <td>11.45</td>\n",
              "      <td>11.783333</td>\n",
              "      <td>Pass</td>\n",
              "    </tr>\n",
              "    <tr>\n",
              "      <th>7</th>\n",
              "      <td>Jon</td>\n",
              "      <td>15.600000</td>\n",
              "      <td>11.800000</td>\n",
              "      <td>16.75</td>\n",
              "      <td>14.716667</td>\n",
              "      <td>Pass</td>\n",
              "    </tr>\n",
              "    <tr>\n",
              "      <th>9</th>\n",
              "      <td>Jorah</td>\n",
              "      <td>7.500000</td>\n",
              "      <td>8.850000</td>\n",
              "      <td>8.80</td>\n",
              "      <td>8.383333</td>\n",
              "      <td>Fail</td>\n",
              "    </tr>\n",
              "    <tr>\n",
              "      <th>6</th>\n",
              "      <td>Sam</td>\n",
              "      <td>16.850000</td>\n",
              "      <td>16.250000</td>\n",
              "      <td>18.00</td>\n",
              "      <td>17.033333</td>\n",
              "      <td>Pass</td>\n",
              "    </tr>\n",
              "    <tr>\n",
              "      <th>5</th>\n",
              "      <td>Sansa</td>\n",
              "      <td>14.500000</td>\n",
              "      <td>15.750000</td>\n",
              "      <td>15.15</td>\n",
              "      <td>15.133333</td>\n",
              "      <td>Pass</td>\n",
              "    </tr>\n",
              "    <tr>\n",
              "      <th>11</th>\n",
              "      <td>Tyrion</td>\n",
              "      <td>15.200000</td>\n",
              "      <td>16.700000</td>\n",
              "      <td>16.00</td>\n",
              "      <td>15.966667</td>\n",
              "      <td>Pass</td>\n",
              "    </tr>\n",
              "    <tr>\n",
              "      <th>test_averages</th>\n",
              "      <td>NaN</td>\n",
              "      <td>12.946154</td>\n",
              "      <td>12.573077</td>\n",
              "      <td>12.80</td>\n",
              "      <td>12.773077</td>\n",
              "      <td>Pass</td>\n",
              "    </tr>\n",
              "  </tbody>\n",
              "</table>\n",
              "</div>"
            ],
            "text/plain": [
              "                  Name   1st Test   2nd Test  3rd Test    Average Status\n",
              "3                 Arya  12.200000   8.250000     11.50  10.650000   Pass\n",
              "4                 Bran  16.850000  17.200000     20.00  18.016667   Pass\n",
              "0              Brienne   7.500000  10.550000     11.40   9.816667   Pass\n",
              "12               Bronn  17.000000  15.200000     17.70  16.633333   Pass\n",
              "8                Cerci  12.400000  11.800000      6.00  10.066667   Fail\n",
              "10               Danny   9.500000  10.000000      6.50   8.666667   Fail\n",
              "1                Jaime  10.250000  10.150000      7.15   9.183333   Fail\n",
              "2                  Jon  12.950000  10.950000     11.45  11.783333   Pass\n",
              "7                  Jon  15.600000  11.800000     16.75  14.716667   Pass\n",
              "9                Jorah   7.500000   8.850000      8.80   8.383333   Fail\n",
              "6                  Sam  16.850000  16.250000     18.00  17.033333   Pass\n",
              "5                Sansa  14.500000  15.750000     15.15  15.133333   Pass\n",
              "11              Tyrion  15.200000  16.700000     16.00  15.966667   Pass\n",
              "test_averages      NaN  12.946154  12.573077     12.80  12.773077   Pass"
            ]
          },
          "metadata": {
            "tags": []
          },
          "execution_count": 101
        }
      ]
    },
    {
      "cell_type": "markdown",
      "metadata": {
        "id": "QdCQONCAW9Bk",
        "colab_type": "text"
      },
      "source": [
        "Ok, if you solved the Hands-On properly, you should be left with the data frame in this state:"
      ]
    },
    {
      "cell_type": "code",
      "metadata": {
        "id": "kvNsAykCXGWa",
        "colab_type": "code",
        "colab": {
          "base_uri": "https://localhost:8080/",
          "height": 480
        },
        "outputId": "94126739-a552-4a0e-a6ae-f015b27bf276"
      },
      "source": [
        "grades"
      ],
      "execution_count": 102,
      "outputs": [
        {
          "output_type": "execute_result",
          "data": {
            "text/html": [
              "<div>\n",
              "<style scoped>\n",
              "    .dataframe tbody tr th:only-of-type {\n",
              "        vertical-align: middle;\n",
              "    }\n",
              "\n",
              "    .dataframe tbody tr th {\n",
              "        vertical-align: top;\n",
              "    }\n",
              "\n",
              "    .dataframe thead th {\n",
              "        text-align: right;\n",
              "    }\n",
              "</style>\n",
              "<table border=\"1\" class=\"dataframe\">\n",
              "  <thead>\n",
              "    <tr style=\"text-align: right;\">\n",
              "      <th></th>\n",
              "      <th>Name</th>\n",
              "      <th>1st Test</th>\n",
              "      <th>2nd Test</th>\n",
              "      <th>3rd Test</th>\n",
              "      <th>Average</th>\n",
              "      <th>Status</th>\n",
              "    </tr>\n",
              "  </thead>\n",
              "  <tbody>\n",
              "    <tr>\n",
              "      <th>3</th>\n",
              "      <td>Arya</td>\n",
              "      <td>12.200000</td>\n",
              "      <td>8.250000</td>\n",
              "      <td>11.50</td>\n",
              "      <td>10.650000</td>\n",
              "      <td>Pass</td>\n",
              "    </tr>\n",
              "    <tr>\n",
              "      <th>4</th>\n",
              "      <td>Bran</td>\n",
              "      <td>16.850000</td>\n",
              "      <td>17.200000</td>\n",
              "      <td>20.00</td>\n",
              "      <td>18.016667</td>\n",
              "      <td>Pass</td>\n",
              "    </tr>\n",
              "    <tr>\n",
              "      <th>0</th>\n",
              "      <td>Brienne</td>\n",
              "      <td>7.500000</td>\n",
              "      <td>10.550000</td>\n",
              "      <td>11.40</td>\n",
              "      <td>9.816667</td>\n",
              "      <td>Pass</td>\n",
              "    </tr>\n",
              "    <tr>\n",
              "      <th>12</th>\n",
              "      <td>Bronn</td>\n",
              "      <td>17.000000</td>\n",
              "      <td>15.200000</td>\n",
              "      <td>17.70</td>\n",
              "      <td>16.633333</td>\n",
              "      <td>Pass</td>\n",
              "    </tr>\n",
              "    <tr>\n",
              "      <th>8</th>\n",
              "      <td>Cerci</td>\n",
              "      <td>12.400000</td>\n",
              "      <td>11.800000</td>\n",
              "      <td>6.00</td>\n",
              "      <td>10.066667</td>\n",
              "      <td>Fail</td>\n",
              "    </tr>\n",
              "    <tr>\n",
              "      <th>10</th>\n",
              "      <td>Danny</td>\n",
              "      <td>9.500000</td>\n",
              "      <td>10.000000</td>\n",
              "      <td>6.50</td>\n",
              "      <td>8.666667</td>\n",
              "      <td>Fail</td>\n",
              "    </tr>\n",
              "    <tr>\n",
              "      <th>1</th>\n",
              "      <td>Jaime</td>\n",
              "      <td>10.250000</td>\n",
              "      <td>10.150000</td>\n",
              "      <td>7.15</td>\n",
              "      <td>9.183333</td>\n",
              "      <td>Fail</td>\n",
              "    </tr>\n",
              "    <tr>\n",
              "      <th>2</th>\n",
              "      <td>Jon</td>\n",
              "      <td>12.950000</td>\n",
              "      <td>10.950000</td>\n",
              "      <td>11.45</td>\n",
              "      <td>11.783333</td>\n",
              "      <td>Pass</td>\n",
              "    </tr>\n",
              "    <tr>\n",
              "      <th>7</th>\n",
              "      <td>Jon</td>\n",
              "      <td>15.600000</td>\n",
              "      <td>11.800000</td>\n",
              "      <td>16.75</td>\n",
              "      <td>14.716667</td>\n",
              "      <td>Pass</td>\n",
              "    </tr>\n",
              "    <tr>\n",
              "      <th>9</th>\n",
              "      <td>Jorah</td>\n",
              "      <td>7.500000</td>\n",
              "      <td>8.850000</td>\n",
              "      <td>8.80</td>\n",
              "      <td>8.383333</td>\n",
              "      <td>Fail</td>\n",
              "    </tr>\n",
              "    <tr>\n",
              "      <th>6</th>\n",
              "      <td>Sam</td>\n",
              "      <td>16.850000</td>\n",
              "      <td>16.250000</td>\n",
              "      <td>18.00</td>\n",
              "      <td>17.033333</td>\n",
              "      <td>Pass</td>\n",
              "    </tr>\n",
              "    <tr>\n",
              "      <th>5</th>\n",
              "      <td>Sansa</td>\n",
              "      <td>14.500000</td>\n",
              "      <td>15.750000</td>\n",
              "      <td>15.15</td>\n",
              "      <td>15.133333</td>\n",
              "      <td>Pass</td>\n",
              "    </tr>\n",
              "    <tr>\n",
              "      <th>11</th>\n",
              "      <td>Tyrion</td>\n",
              "      <td>15.200000</td>\n",
              "      <td>16.700000</td>\n",
              "      <td>16.00</td>\n",
              "      <td>15.966667</td>\n",
              "      <td>Pass</td>\n",
              "    </tr>\n",
              "    <tr>\n",
              "      <th>test_averages</th>\n",
              "      <td>NaN</td>\n",
              "      <td>12.946154</td>\n",
              "      <td>12.573077</td>\n",
              "      <td>12.80</td>\n",
              "      <td>12.773077</td>\n",
              "      <td>Pass</td>\n",
              "    </tr>\n",
              "  </tbody>\n",
              "</table>\n",
              "</div>"
            ],
            "text/plain": [
              "                  Name   1st Test   2nd Test  3rd Test    Average Status\n",
              "3                 Arya  12.200000   8.250000     11.50  10.650000   Pass\n",
              "4                 Bran  16.850000  17.200000     20.00  18.016667   Pass\n",
              "0              Brienne   7.500000  10.550000     11.40   9.816667   Pass\n",
              "12               Bronn  17.000000  15.200000     17.70  16.633333   Pass\n",
              "8                Cerci  12.400000  11.800000      6.00  10.066667   Fail\n",
              "10               Danny   9.500000  10.000000      6.50   8.666667   Fail\n",
              "1                Jaime  10.250000  10.150000      7.15   9.183333   Fail\n",
              "2                  Jon  12.950000  10.950000     11.45  11.783333   Pass\n",
              "7                  Jon  15.600000  11.800000     16.75  14.716667   Pass\n",
              "9                Jorah   7.500000   8.850000      8.80   8.383333   Fail\n",
              "6                  Sam  16.850000  16.250000     18.00  17.033333   Pass\n",
              "5                Sansa  14.500000  15.750000     15.15  15.133333   Pass\n",
              "11              Tyrion  15.200000  16.700000     16.00  15.966667   Pass\n",
              "test_averages      NaN  12.946154  12.573077     12.80  12.773077   Pass"
            ]
          },
          "metadata": {
            "tags": []
          },
          "execution_count": 102
        }
      ]
    },
    {
      "cell_type": "markdown",
      "metadata": {
        "id": "uEcpeY3_Xbi7",
        "colab_type": "text"
      },
      "source": [
        "Dataframes have inbuilt plotting functions (based on matplotlib), which allow for fast and convenient ways of visualizing the dataframe data.  The plot method:"
      ]
    },
    {
      "cell_type": "code",
      "metadata": {
        "id": "kKklxl0OX6zG",
        "colab_type": "code",
        "colab": {
          "base_uri": "https://localhost:8080/",
          "height": 287
        },
        "outputId": "7c9e91c0-5adc-4787-d5f3-382fc39d1621"
      },
      "source": [
        "grades.plot()"
      ],
      "execution_count": 105,
      "outputs": [
        {
          "output_type": "execute_result",
          "data": {
            "text/plain": [
              "<matplotlib.axes._subplots.AxesSubplot at 0x7f78759d86a0>"
            ]
          },
          "metadata": {
            "tags": []
          },
          "execution_count": 105
        },
        {
          "output_type": "display_data",
          "data": {
            "image/png": "[encoded data removed]",
            "text/plain": [
              "<Figure size 432x288 with 1 Axes>"
            ]
          },
          "metadata": {
            "tags": []
          }
        }
      ]
    },
    {
      "cell_type": "markdown",
      "metadata": {
        "id": "gU_A8Q_NX-I9",
        "colab_type": "text"
      },
      "source": [
        "will produce a list of line plots, one for each column. On the x axis we have index values, and on the y axis column data. With this plot it's very easy to see that students had a very consistent performance across the three tests  (students 1 and 8 appear to have had special trouble with the 3rd test)."
      ]
    },
    {
      "cell_type": "markdown",
      "metadata": {
        "id": "cectCod5Y54J",
        "colab_type": "text"
      },
      "source": [
        "Dataframes also have a convenient \"hist\" method for producing histograms:"
      ]
    },
    {
      "cell_type": "code",
      "metadata": {
        "id": "X15Pmb_MXHGG",
        "colab_type": "code",
        "colab": {
          "base_uri": "https://localhost:8080/",
          "height": 281
        },
        "outputId": "19ee51a7-d004-4acb-9336-43b1484966cf"
      },
      "source": [
        "grades.hist();"
      ],
      "execution_count": 107,
      "outputs": [
        {
          "output_type": "display_data",
          "data": {
            "image/png": "[encoded data removed]",
            "text/plain": [
              "<Figure size 432x288 with 4 Axes>"
            ]
          },
          "metadata": {
            "tags": []
          }
        }
      ]
    },
    {
      "cell_type": "markdown",
      "metadata": {
        "id": "ygqGK8F6Z558",
        "colab_type": "text"
      },
      "source": [
        "The plot method has several sub-methods for specific plot styles. Let's suppose we wanto to plot 1st test grades against averages:"
      ]
    },
    {
      "cell_type": "code",
      "metadata": {
        "id": "J6-d0FYtXJnG",
        "colab_type": "code",
        "colab": {
          "base_uri": "https://localhost:8080/",
          "height": 301
        },
        "outputId": "ec2d28bd-c44b-49ba-c4bd-4bbb2beb3f7f"
      },
      "source": [
        "grades.plot.scatter(x='1st Test',y='Average')"
      ],
      "execution_count": 113,
      "outputs": [
        {
          "output_type": "execute_result",
          "data": {
            "text/plain": [
              "<matplotlib.axes._subplots.AxesSubplot at 0x7f7875695048>"
            ]
          },
          "metadata": {
            "tags": []
          },
          "execution_count": 113
        },
        {
          "output_type": "display_data",
          "data": {
            "image/png": "[encoded data removed]",
            "text/plain": [
              "<Figure size 432x288 with 1 Axes>"
            ]
          },
          "metadata": {
            "tags": []
          }
        }
      ]
    },
    {
      "cell_type": "markdown",
      "metadata": {
        "id": "MsEZW-jPbLyk",
        "colab_type": "text"
      },
      "source": [
        "The \"plot\" method accepts a variety of parameters that can be passed onto the underlying matplotlib routines, like \"kind\", style\" and \"mfc\" (marker face color):"
      ]
    },
    {
      "cell_type": "code",
      "metadata": {
        "id": "1HQ9z90AZTZi",
        "colab_type": "code",
        "colab": {
          "base_uri": "https://localhost:8080/",
          "height": 287
        },
        "outputId": "8fa469b4-8d11-4f2d-b9b9-5da894277f8f"
      },
      "source": [
        "grades.plot(kind=\"line\", style='go-',mfc='black')"
      ],
      "execution_count": 120,
      "outputs": [
        {
          "output_type": "execute_result",
          "data": {
            "text/plain": [
              "<matplotlib.axes._subplots.AxesSubplot at 0x7f78751f9208>"
            ]
          },
          "metadata": {
            "tags": []
          },
          "execution_count": 120
        },
        {
          "output_type": "display_data",
          "data": {
            "image/png": "[encoded data removed]",
            "text/plain": [
              "<Figure size 432x288 with 1 Axes>"
            ]
          },
          "metadata": {
            "tags": []
          }
        }
      ]
    },
    {
      "cell_type": "code",
      "metadata": {
        "id": "fhIQTikBaNeD",
        "colab_type": "code",
        "colab": {}
      },
      "source": [
        ""
      ],
      "execution_count": 0,
      "outputs": []
    }
  ]
}