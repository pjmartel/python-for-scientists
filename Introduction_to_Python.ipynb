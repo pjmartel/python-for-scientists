{
  "nbformat": 4,
  "nbformat_minor": 0,
  "metadata": {
    "colab": {
      "name": "Introduction_to_Python",
      "version": "0.3.2",
      "provenance": [],
      "collapsed_sections": [],
      "include_colab_link": true
    },
    "language_info": {
      "codemirror_mode": {
        "name": "ipython",
        "version": 3
      },
      "file_extension": ".py",
      "mimetype": "text/x-python",
      "name": "python",
      "nbconvert_exporter": "python",
      "pygments_lexer": "ipython3",
      "version": "3.6.7"
    },
    "kernelspec": {
      "display_name": "Python 3",
      "language": "python",
      "name": "python3"
    }
  },
  "cells": [
    {
      "cell_type": "markdown",
      "metadata": {
        "id": "view-in-github",
        "colab_type": "text"
      },
      "source": [
        "<a href=\"https://colab.research.google.com/github/pjmartel/python-for-scientists/blob/master/Introduction_to_Python.ipynb\" target=\"_parent\"><img src=\"https://colab.research.google.com/assets/colab-badge.svg\" alt=\"Open In Colab\"/></a>"
      ]
    },
    {
      "cell_type": "markdown",
      "metadata": {
        "id": "gIRfyehLhGdi",
        "colab_type": "text"
      },
      "source": [
        "### 0. Introduction"
      ]
    },
    {
      "cell_type": "markdown",
      "metadata": {
        "id": "j-jbz6hVhGdj",
        "colab_type": "text"
      },
      "source": [
        "This document is in a special format called *Jupyter Notebook* that allows **Python Code** and **Text** to be mixed in the same page.\n",
        "The document is made of *cells*, where each can be either a *code* or *text* cell. At this very moment you are reading a text cell, \n",
        "but below you will find Python code cells intermingled with text cells. Each text cell can have one or several lines of text, and each code\n",
        "cell can have one or more lines of Python code. You will notice a small \"play\" button  beside each code cell. Pressing this button will cause\n",
        "the code cell to be *evaluated*, meaning that the Python code therein will be run, and some output *may* be produced.  You can also use the keyboard shortcut SHIFT+ENTER to evaluate a cell. To edit text cells, just click on them, and the *unformatted* content will be made available. Text cells don't have a \"play\" button, \n",
        "but doing SHIFT+ENTER on them will close the edit mode and move the cursor over to the next cell. \n",
        "\n",
        "Before we start, keep in mind that the code on each cell can affect the results of any other cell (for instance, if you *declare* a variable\n",
        "with a certain value, that variable will automatically be known to every other cell in the notebook). Also, even though the cells in this notebook\n",
        "are laid out in a logical learning progression, they don't need to be run on any specific order -  at any moment you can run any given cell by clicking its\n",
        "play button. However, it may be that the cell requires some data declaration or initialization stated on a previous cell -  in that case,  the cell will likely produce an error mesages, fail to execute the code or produce the wrong results.\n",
        "\n",
        "Every time you execute a code cell, the *result* of running it will be made available on a window immediately below the code cell.\n",
        "Beside the output window there will be  a small icon with a square and an arrow - clicking on it will erase the output window. This is useful for instance\n",
        "when cells produce a large amount of unwanted data or error messages. \n",
        "\n",
        "Whenever you need to open a new cell in the notebook (for instance to test some code or check variable values), you can use the keyboard shortuct\n",
        "ALT + ENTER on a given cell: il will evaluate  the cell (like SHIFT+ENTER) and open a new empty code cell below it. You can also mouse over\n",
        "the space between two cells - if you linger the cursor, two buttons labelled \"+ code\" and \"+ data\" will appear. Pressing them will respectivelye create code and text\n",
        "cells. \n",
        "\n",
        "The notebook is divided in various sections, showing different features of the Python language and Jupyter Notebooks.\n",
        "Simply go through it, reading the text cells, evaluating the Python cells, whatching the output, and editing/re-running when appropriate."
      ]
    },
    {
      "cell_type": "markdown",
      "metadata": {
        "id": "02HvDIeyhGdj",
        "colab_type": "text"
      },
      "source": [
        "### 1. **Arithmetic expressions and data types**\n",
        "\n",
        "Simple arithmetic expressions can be evaluated - try to change the expression below using the `+`, `-`, `*` and `/`. Expressions can be of different *data types* including `int` (integer) or  `float`(floating point or real number). The result of evaluating an expression can be of the same or a different data type from its arguments.  "
      ]
    },
    {
      "cell_type": "code",
      "metadata": {
        "id": "CEjYYaxuhGdk",
        "colab_type": "code",
        "outputId": "c9fe6cfa-2178-4d69-b6f8-ac41f59e251b",
        "colab": {
          "base_uri": "https://localhost:8080/",
          "height": 36
        }
      },
      "source": [
        "a = 1/3\n",
        "b = 3 * a\n",
        "print(b)"
      ],
      "execution_count": 0,
      "outputs": [
        {
          "output_type": "stream",
          "text": [
            "1.0\n"
          ],
          "name": "stdout"
        }
      ]
    },
    {
      "cell_type": "code",
      "metadata": {
        "id": "i1ai2hOvUrjs",
        "colab_type": "code",
        "outputId": "3f846b7f-c82b-43fc-deb6-af9be1c860f9",
        "colab": {
          "base_uri": "https://localhost:8080/",
          "height": 36
        }
      },
      "source": [
        "# Magic command to list notebooks variables\n",
        "%who"
      ],
      "execution_count": 0,
      "outputs": [
        {
          "output_type": "stream",
          "text": [
            "a\t b\t \n"
          ],
          "name": "stdout"
        }
      ]
    },
    {
      "cell_type": "code",
      "metadata": {
        "id": "6VdRUVBXSvvM",
        "colab_type": "code",
        "colab": {}
      },
      "source": [
        "a = 1/3"
      ],
      "execution_count": 0,
      "outputs": []
    },
    {
      "cell_type": "code",
      "metadata": {
        "id": "pY6RA51EMPAk",
        "colab_type": "code",
        "colab": {}
      },
      "source": [
        "12**4"
      ],
      "execution_count": 0,
      "outputs": []
    },
    {
      "cell_type": "code",
      "metadata": {
        "id": "hRcJS4pZWyCc",
        "colab_type": "code",
        "outputId": "6f66a066-441b-4ee3-ee13-b859934cd11c",
        "colab": {
          "base_uri": "https://localhost:8080/",
          "height": 36
        }
      },
      "source": [
        "type(a)"
      ],
      "execution_count": 0,
      "outputs": [
        {
          "output_type": "execute_result",
          "data": {
            "text/plain": [
              "float"
            ]
          },
          "metadata": {
            "tags": []
          },
          "execution_count": 9
        }
      ]
    },
    {
      "cell_type": "code",
      "metadata": {
        "id": "wFIuOxjHhGdm",
        "colab_type": "code",
        "colab": {}
      },
      "source": [
        "5 + 4   # you can write a comment like this, after a \"#\" (hash) sign"
      ],
      "execution_count": 0,
      "outputs": []
    },
    {
      "cell_type": "code",
      "metadata": {
        "id": "duEix7KthGdo",
        "colab_type": "code",
        "outputId": "2fb94b88-e835-4ee7-e3c2-a70aad02ef7d",
        "colab": {
          "base_uri": "https://localhost:8080/",
          "height": 36
        }
      },
      "source": [
        "5 // 3 # integer division"
      ],
      "execution_count": 0,
      "outputs": [
        {
          "output_type": "execute_result",
          "data": {
            "text/plain": [
              "1"
            ]
          },
          "metadata": {
            "tags": []
          },
          "execution_count": 10
        }
      ]
    },
    {
      "cell_type": "code",
      "metadata": {
        "id": "FrVa4SBEhGdp",
        "colab_type": "code",
        "outputId": "146ee7e0-cc64-47d1-c0b8-bb023665bb13",
        "colab": {
          "base_uri": "https://localhost:8080/",
          "height": 36
        }
      },
      "source": [
        "5 / 3 # non integer division, the result is a real, or a floating point number"
      ],
      "execution_count": 0,
      "outputs": [
        {
          "output_type": "execute_result",
          "data": {
            "text/plain": [
              "1.6666666666666667"
            ]
          },
          "metadata": {
            "tags": []
          },
          "execution_count": 11
        }
      ]
    },
    {
      "cell_type": "code",
      "metadata": {
        "id": "jOR5AtXghGdr",
        "colab_type": "code",
        "colab": {}
      },
      "source": [
        "5**3 # exponentiation"
      ],
      "execution_count": 0,
      "outputs": []
    },
    {
      "cell_type": "code",
      "metadata": {
        "id": "YxmgKlBhhGdt",
        "colab_type": "code",
        "colab": {}
      },
      "source": [
        "5 % 2  # remainder function (modulus)"
      ],
      "execution_count": 0,
      "outputs": []
    },
    {
      "cell_type": "markdown",
      "metadata": {
        "id": "1KXvZ143YDn6",
        "colab_type": "text"
      },
      "source": [
        "Built-in `divmod` function does the sames as \"//\" and \"%\". "
      ]
    },
    {
      "cell_type": "code",
      "metadata": {
        "id": "CmRrgg_SX-iW",
        "colab_type": "code",
        "outputId": "0e99da58-8c87-4177-fb20-ebfc8e65eb17",
        "colab": {
          "base_uri": "https://localhost:8080/",
          "height": 36
        }
      },
      "source": [
        "divmod(5,2)"
      ],
      "execution_count": 0,
      "outputs": [
        {
          "output_type": "execute_result",
          "data": {
            "text/plain": [
              "(2, 1)"
            ]
          },
          "metadata": {
            "tags": []
          },
          "execution_count": 12
        }
      ]
    },
    {
      "cell_type": "markdown",
      "metadata": {
        "id": "drP0fEF6hGdu",
        "colab_type": "text"
      },
      "source": [
        "### 2. **Declaring variables**\n",
        "\n",
        "A *variable* is a way of storing a number for later usage. Variable names can have one or mores letters or numbers. A value is assigned to a variable by using the `=` sign. Examples:"
      ]
    },
    {
      "cell_type": "code",
      "metadata": {
        "id": "uCLl21tqhGdv",
        "colab_type": "code",
        "colab": {}
      },
      "source": [
        "a = 3    # the variable \"a\" has now the value 3"
      ],
      "execution_count": 0,
      "outputs": []
    },
    {
      "cell_type": "code",
      "metadata": {
        "id": "9Mi4S0mLhGdy",
        "colab_type": "code",
        "colab": {}
      },
      "source": [
        "b = 1.345 # the variable \"b\" has now the value 1.345"
      ],
      "execution_count": 0,
      "outputs": []
    },
    {
      "cell_type": "code",
      "metadata": {
        "id": "9myS1dUGhGd0",
        "colab_type": "code",
        "colab": {}
      },
      "source": [
        "distance = a + 2   # Guess what the value of \"distance\" is"
      ],
      "execution_count": 0,
      "outputs": []
    },
    {
      "cell_type": "markdown",
      "metadata": {
        "id": "irix8SCqcIML",
        "colab_type": "text"
      },
      "source": [
        "Evaluate \"distance\" in the below cell:"
      ]
    },
    {
      "cell_type": "code",
      "metadata": {
        "id": "q5HPz3-XhGd2",
        "colab_type": "code",
        "colab": {}
      },
      "source": [
        ""
      ],
      "execution_count": 0,
      "outputs": []
    },
    {
      "cell_type": "code",
      "metadata": {
        "id": "M-mp7nG-hGd3",
        "colab_type": "code",
        "outputId": "7caf94f7-fb91-42b7-ff5b-d52f0b80ea3e",
        "colab": {
          "base_uri": "https://localhost:8080/",
          "height": 36
        }
      },
      "source": [
        "print(\"The value is: \",2*b+3)"
      ],
      "execution_count": 0,
      "outputs": [
        {
          "output_type": "stream",
          "text": [
            "The value is:  5.6899999999999995\n"
          ],
          "name": "stdout"
        }
      ]
    },
    {
      "cell_type": "code",
      "metadata": {
        "id": "IdOIasXbPxLk",
        "colab_type": "code",
        "outputId": "45d4e0da-6721-46e9-fa43-c0ef8aaa7454",
        "colab": {
          "base_uri": "https://localhost:8080/",
          "height": 36
        }
      },
      "source": [
        "\"The value is: \",2*b+3"
      ],
      "execution_count": 0,
      "outputs": [
        {
          "output_type": "execute_result",
          "data": {
            "text/plain": [
              "('The value is: ', 5.6899999999999995)"
            ]
          },
          "metadata": {
            "tags": []
          },
          "execution_count": 17
        }
      ]
    },
    {
      "cell_type": "code",
      "metadata": {
        "id": "LJwIGJbfhGd5",
        "colab_type": "code",
        "outputId": "19bc98b2-b59a-4a07-8e8e-3c40180ccf9b",
        "colab": {
          "base_uri": "https://localhost:8080/",
          "height": 36
        }
      },
      "source": [
        "2*b+3"
      ],
      "execution_count": 0,
      "outputs": [
        {
          "output_type": "execute_result",
          "data": {
            "text/plain": [
              "5.6899999999999995"
            ]
          },
          "metadata": {
            "tags": []
          },
          "execution_count": 18
        }
      ]
    },
    {
      "cell_type": "code",
      "metadata": {
        "id": "JLiEr4eKhGd7",
        "colab_type": "code",
        "colab": {}
      },
      "source": [
        "3bas = 2  # variable names cannot start with a number"
      ],
      "execution_count": 0,
      "outputs": []
    },
    {
      "cell_type": "code",
      "metadata": {
        "id": "gyiS3SRwhGd8",
        "colab_type": "code",
        "colab": {}
      },
      "source": [
        "ba! = 3   # `!#$%&/(){}[]`cannot be used on a variable name"
      ],
      "execution_count": 0,
      "outputs": []
    },
    {
      "cell_type": "markdown",
      "metadata": {
        "id": "qExCGCsXY3rr",
        "colab_type": "text"
      },
      "source": [
        "DO NOT declare a variable with  the name of a built-function. Here's what may happen:"
      ]
    },
    {
      "cell_type": "code",
      "metadata": {
        "id": "0dBqMUkoQghR",
        "colab_type": "code",
        "colab": {}
      },
      "source": [
        "print = 3"
      ],
      "execution_count": 0,
      "outputs": []
    },
    {
      "cell_type": "code",
      "metadata": {
        "id": "PCuICIEGZHtA",
        "colab_type": "code",
        "outputId": "681a1240-f0d9-4051-b2ac-563e3ca08bfb",
        "colab": {
          "base_uri": "https://localhost:8080/",
          "height": 177
        }
      },
      "source": [
        "print(\"asdfsdf\")"
      ],
      "execution_count": 0,
      "outputs": [
        {
          "output_type": "error",
          "ename": "TypeError",
          "evalue": "ignored",
          "traceback": [
            "\u001b[0;31m---------------------------------------------------------------------------\u001b[0m",
            "\u001b[0;31mTypeError\u001b[0m                                 Traceback (most recent call last)",
            "\u001b[0;32m<ipython-input-20-ebef8289f476>\u001b[0m in \u001b[0;36m<module>\u001b[0;34m()\u001b[0m\n\u001b[0;32m----> 1\u001b[0;31m \u001b[0mprint\u001b[0m\u001b[0;34m(\u001b[0m\u001b[0;34m\"asdfsdf\"\u001b[0m\u001b[0;34m)\u001b[0m\u001b[0;34m\u001b[0m\u001b[0;34m\u001b[0m\u001b[0m\n\u001b[0m",
            "\u001b[0;31mTypeError\u001b[0m: 'int' object is not callable"
          ]
        }
      ]
    },
    {
      "cell_type": "markdown",
      "metadata": {
        "id": "xBhn4dngcYtv",
        "colab_type": "text"
      },
      "source": [
        "The above error message is produced because Python no longer recognizes \"print\" as in-built python function - you obliterated the original meaning with the \"print\" variable definition. So you are in fact trying to call what is now a integer variable as a functiion, hence the \"int object is not callable\" message. \n",
        "\n",
        "We can fix this by erasing your \"print\" variable definition with the \"del\" command:"
      ]
    },
    {
      "cell_type": "code",
      "metadata": {
        "id": "eqJVQWGCZRuR",
        "colab_type": "code",
        "colab": {}
      },
      "source": [
        "del print"
      ],
      "execution_count": 0,
      "outputs": []
    },
    {
      "cell_type": "code",
      "metadata": {
        "id": "n8LsH6dOZXiK",
        "colab_type": "code",
        "outputId": "164a245e-996e-45de-925d-f279359ad0b1",
        "colab": {
          "base_uri": "https://localhost:8080/",
          "height": 36
        }
      },
      "source": [
        "print(\"sdfsf\")"
      ],
      "execution_count": 0,
      "outputs": [
        {
          "output_type": "stream",
          "text": [
            "sdfsf\n"
          ],
          "name": "stdout"
        }
      ]
    },
    {
      "cell_type": "markdown",
      "metadata": {
        "id": "Tq1nuVNUc6Nz",
        "colab_type": "text"
      },
      "source": [
        "Here's a way to list all reserved keywords in the Python language:"
      ]
    },
    {
      "cell_type": "code",
      "metadata": {
        "id": "Ahhc3KMtZinq",
        "colab_type": "code",
        "outputId": "957fbca7-d8f8-42d1-ef48-fb04d37b547c",
        "colab": {
          "base_uri": "https://localhost:8080/",
          "height": 645
        }
      },
      "source": [
        "import keyword\n",
        "keyword.kwlist"
      ],
      "execution_count": 0,
      "outputs": [
        {
          "output_type": "execute_result",
          "data": {
            "text/plain": [
              "['False',\n",
              " 'None',\n",
              " 'True',\n",
              " 'and',\n",
              " 'as',\n",
              " 'assert',\n",
              " 'break',\n",
              " 'class',\n",
              " 'continue',\n",
              " 'def',\n",
              " 'del',\n",
              " 'elif',\n",
              " 'else',\n",
              " 'except',\n",
              " 'finally',\n",
              " 'for',\n",
              " 'from',\n",
              " 'global',\n",
              " 'if',\n",
              " 'import',\n",
              " 'in',\n",
              " 'is',\n",
              " 'lambda',\n",
              " 'nonlocal',\n",
              " 'not',\n",
              " 'or',\n",
              " 'pass',\n",
              " 'raise',\n",
              " 'return',\n",
              " 'try',\n",
              " 'while',\n",
              " 'with',\n",
              " 'yield']"
            ]
          },
          "metadata": {
            "tags": []
          },
          "execution_count": 27
        }
      ]
    },
    {
      "cell_type": "markdown",
      "metadata": {
        "id": "NlqFqGyshGd-",
        "colab_type": "text"
      },
      "source": [
        "### 3. **Variables and their data types** \n",
        "\n",
        "Variables can be of different types like `int` (integer), `float` (real number), `str` (string, character chain) and other types we will discuss later. Not all types can be combined in an expression. Float and integer can be combined, but not integer and string."
      ]
    },
    {
      "cell_type": "code",
      "metadata": {
        "id": "kqucWiQghGd_",
        "colab_type": "code",
        "outputId": "0e941d06-12e8-4b9b-d1ee-683a7f7a9118",
        "colab": {
          "base_uri": "https://localhost:8080/",
          "height": 36
        }
      },
      "source": [
        "5 // 3   # the result of this expression is integer"
      ],
      "execution_count": 0,
      "outputs": [
        {
          "output_type": "execute_result",
          "data": {
            "text/plain": [
              "1"
            ]
          },
          "metadata": {
            "tags": []
          },
          "execution_count": 28
        }
      ]
    },
    {
      "cell_type": "code",
      "metadata": {
        "id": "tXV-CL6mhGeA",
        "colab_type": "code",
        "outputId": "578fa98c-a8c3-40e1-c764-35cd0409e4af",
        "colab": {
          "base_uri": "https://localhost:8080/",
          "height": 36
        }
      },
      "source": [
        "5 / 3 # the result of this expression is float"
      ],
      "execution_count": 0,
      "outputs": [
        {
          "output_type": "execute_result",
          "data": {
            "text/plain": [
              "1.6666666666666667"
            ]
          },
          "metadata": {
            "tags": []
          },
          "execution_count": 29
        }
      ]
    },
    {
      "cell_type": "code",
      "metadata": {
        "id": "SF7fYO38hGeC",
        "colab_type": "code",
        "outputId": "6e0cc5a1-9ca6-47cd-ee07-49a730f6e934",
        "colab": {
          "base_uri": "https://localhost:8080/",
          "height": 36
        }
      },
      "source": [
        "6 // 2   # Notice the difference between this..."
      ],
      "execution_count": 0,
      "outputs": [
        {
          "output_type": "execute_result",
          "data": {
            "text/plain": [
              "3"
            ]
          },
          "metadata": {
            "tags": []
          },
          "execution_count": 30
        }
      ]
    },
    {
      "cell_type": "code",
      "metadata": {
        "id": "Nf2YA61ohGeE",
        "colab_type": "code",
        "outputId": "12913217-543c-489a-e5cb-f5d0d8e8e39e",
        "colab": {
          "base_uri": "https://localhost:8080/",
          "height": 36
        }
      },
      "source": [
        "6 / 2    #.... and this"
      ],
      "execution_count": 0,
      "outputs": [
        {
          "output_type": "execute_result",
          "data": {
            "text/plain": [
              "3.0"
            ]
          },
          "metadata": {
            "tags": []
          },
          "execution_count": 31
        }
      ]
    },
    {
      "cell_type": "markdown",
      "metadata": {
        "id": "bUsqwmMYhGeG",
        "colab_type": "text"
      },
      "source": [
        "Floats and integers can be added together, the result is float.  \n",
        "\n",
        "**HANDS-ON:** Guess (and check editing the below cell), what are the results of adding `int` with `int` or `float` with `float`"
      ]
    },
    {
      "cell_type": "code",
      "metadata": {
        "id": "bkaKHex1hGeH",
        "colab_type": "code",
        "outputId": "77332cd7-baf2-4414-b92d-4f5f27c8d95f",
        "colab": {
          "base_uri": "https://localhost:8080/",
          "height": 36
        }
      },
      "source": [
        "3.0 + 13 "
      ],
      "execution_count": 0,
      "outputs": [
        {
          "output_type": "execute_result",
          "data": {
            "text/plain": [
              "16.0"
            ]
          },
          "metadata": {
            "tags": []
          },
          "execution_count": 32
        }
      ]
    },
    {
      "cell_type": "markdown",
      "metadata": {
        "id": "2guo6AeEG0HN",
        "colab_type": "text"
      },
      "source": [
        "**String variables** are used to store *text* rather than numbers. They data type is called `str` and single (') or double (\") quotes can be used to enclose a string variable"
      ]
    },
    {
      "cell_type": "code",
      "metadata": {
        "id": "p6095grPhGeK",
        "colab_type": "code",
        "outputId": "8315284c-5975-4c89-9f0c-cbc31e088188",
        "colab": {
          "base_uri": "https://localhost:8080/",
          "height": 36
        }
      },
      "source": [
        "\"aaa\" # strings are represented between '' or \"\""
      ],
      "execution_count": 0,
      "outputs": [
        {
          "output_type": "execute_result",
          "data": {
            "text/plain": [
              "'aaa'"
            ]
          },
          "metadata": {
            "tags": []
          },
          "execution_count": 33
        }
      ]
    },
    {
      "cell_type": "code",
      "metadata": {
        "id": "-42kqzuGhGeL",
        "colab_type": "code",
        "outputId": "0e0df2f0-0f1c-4a74-cfc3-9d5bfa04d3d8",
        "colab": {
          "base_uri": "https://localhost:8080/",
          "height": 36
        }
      },
      "source": [
        "\"aaa\"+\"bbb\" # strings can be added together (concatenation)"
      ],
      "execution_count": 0,
      "outputs": [
        {
          "output_type": "execute_result",
          "data": {
            "text/plain": [
              "'aaabbb'"
            ]
          },
          "metadata": {
            "tags": []
          },
          "execution_count": 34
        }
      ]
    },
    {
      "cell_type": "code",
      "metadata": {
        "id": "rlG7jJtnhGeN",
        "colab_type": "code",
        "outputId": "de4a0aba-3d35-4be9-bc09-3c24efa74ec7",
        "colab": {
          "base_uri": "https://localhost:8080/",
          "height": 177
        }
      },
      "source": [
        "\"aaa\"+123 # strings cannot be combined with integers"
      ],
      "execution_count": 0,
      "outputs": [
        {
          "output_type": "error",
          "ename": "TypeError",
          "evalue": "ignored",
          "traceback": [
            "\u001b[0;31m---------------------------------------------------------------------------\u001b[0m",
            "\u001b[0;31mTypeError\u001b[0m                                 Traceback (most recent call last)",
            "\u001b[0;32m<ipython-input-35-f511c5c65e56>\u001b[0m in \u001b[0;36m<module>\u001b[0;34m()\u001b[0m\n\u001b[0;32m----> 1\u001b[0;31m \u001b[0;34m\"aaa\"\u001b[0m\u001b[0;34m+\u001b[0m\u001b[0;36m123\u001b[0m \u001b[0;31m# strings cannot be combined with integers\u001b[0m\u001b[0;34m\u001b[0m\u001b[0;34m\u001b[0m\u001b[0m\n\u001b[0m",
            "\u001b[0;31mTypeError\u001b[0m: must be str, not int"
          ]
        }
      ]
    },
    {
      "cell_type": "markdown",
      "metadata": {
        "id": "z5aQkLDWHnBv",
        "colab_type": "text"
      },
      "source": [
        "**Remember**: \"123\" and 123 are **NOT** the same"
      ]
    },
    {
      "cell_type": "code",
      "metadata": {
        "id": "tseEJkipIAc6",
        "colab_type": "code",
        "outputId": "b29437c8-f436-4ea3-8682-47745de02fca",
        "colab": {
          "base_uri": "https://localhost:8080/",
          "height": 177
        }
      },
      "source": [
        "123+\"123\""
      ],
      "execution_count": 0,
      "outputs": [
        {
          "output_type": "error",
          "ename": "TypeError",
          "evalue": "ignored",
          "traceback": [
            "\u001b[0;31m---------------------------------------------------------------------------\u001b[0m",
            "\u001b[0;31mTypeError\u001b[0m                                 Traceback (most recent call last)",
            "\u001b[0;32m<ipython-input-36-a752e60be039>\u001b[0m in \u001b[0;36m<module>\u001b[0;34m()\u001b[0m\n\u001b[0;32m----> 1\u001b[0;31m \u001b[0;36m123\u001b[0m\u001b[0;34m+\u001b[0m\u001b[0;34m\"123\"\u001b[0m\u001b[0;34m\u001b[0m\u001b[0;34m\u001b[0m\u001b[0m\n\u001b[0m",
            "\u001b[0;31mTypeError\u001b[0m: unsupported operand type(s) for +: 'int' and 'str'"
          ]
        }
      ]
    },
    {
      "cell_type": "markdown",
      "metadata": {
        "id": "9_XS8y9SIF4G",
        "colab_type": "text"
      },
      "source": [
        "Sring variables are declared just as any other variable:"
      ]
    },
    {
      "cell_type": "code",
      "metadata": {
        "id": "YxWPng_OIKFp",
        "colab_type": "code",
        "colab": {}
      },
      "source": [
        "first_name=\"James\"\n",
        "last_name=\"Bond\""
      ],
      "execution_count": 0,
      "outputs": []
    },
    {
      "cell_type": "code",
      "metadata": {
        "id": "Wx6E9C21IY51",
        "colab_type": "code",
        "colab": {}
      },
      "source": [
        "print(first_name)"
      ],
      "execution_count": 0,
      "outputs": []
    },
    {
      "cell_type": "code",
      "metadata": {
        "id": "VGeQF2UeIbFX",
        "colab_type": "code",
        "outputId": "784dfd42-619b-4211-8a79-e31f201ad8f1",
        "colab": {
          "base_uri": "https://localhost:8080/",
          "height": 36
        }
      },
      "source": [
        "print(\"My name is\",last_name,first_name,last_name)"
      ],
      "execution_count": 0,
      "outputs": [
        {
          "output_type": "stream",
          "text": [
            "My name is Bond James Bond\n"
          ],
          "name": "stdout"
        }
      ]
    },
    {
      "cell_type": "code",
      "metadata": {
        "id": "j0mbBnspI4tI",
        "colab_type": "code",
        "colab": {}
      },
      "source": [
        "full_name = first_name+\" \"+last_name"
      ],
      "execution_count": 0,
      "outputs": []
    },
    {
      "cell_type": "markdown",
      "metadata": {
        "id": "lRZOeQtIJFdN",
        "colab_type": "text"
      },
      "source": [
        "In the above cell, why do we need the \" \" between first and last name ?"
      ]
    },
    {
      "cell_type": "code",
      "metadata": {
        "id": "KcmrBFltJAYt",
        "colab_type": "code",
        "outputId": "0b1bbb94-2ede-4e95-d5cd-c5a8250f0221",
        "colab": {
          "base_uri": "https://localhost:8080/",
          "height": 36
        }
      },
      "source": [
        "print(full_name)"
      ],
      "execution_count": 0,
      "outputs": [
        {
          "output_type": "stream",
          "text": [
            "James Bond\n"
          ],
          "name": "stdout"
        }
      ]
    },
    {
      "cell_type": "markdown",
      "metadata": {
        "id": "BhapoAYkJN4u",
        "colab_type": "text"
      },
      "source": [
        "You may wonder we use the \"print\" statement at all. If we type:"
      ]
    },
    {
      "cell_type": "code",
      "metadata": {
        "id": "5J4feQhQJT1z",
        "colab_type": "code",
        "outputId": "e22e95ce-5ac2-48b7-eae9-769989e1fc92",
        "colab": {
          "base_uri": "https://localhost:8080/",
          "height": 36
        }
      },
      "source": [
        "full_name"
      ],
      "execution_count": 0,
      "outputs": [
        {
          "output_type": "execute_result",
          "data": {
            "text/plain": [
              "'James Bond'"
            ]
          },
          "metadata": {
            "tags": []
          },
          "execution_count": 42
        }
      ]
    },
    {
      "cell_type": "markdown",
      "metadata": {
        "id": "Z88xxS30JbGP",
        "colab_type": "text"
      },
      "source": [
        "... the cell evaluates to the contents of our \"full_name\" variable and displays it. But when you require your output to be properly *formatted*, this won't do. You will see plenty of examples below!"
      ]
    },
    {
      "cell_type": "markdown",
      "metadata": {
        "id": "qvBmjx90hGeO",
        "colab_type": "text"
      },
      "source": [
        "The built-in `str` function converts `integer` to `string` or `float` to `string`"
      ]
    },
    {
      "cell_type": "code",
      "metadata": {
        "id": "-yK3uZEZhGeP",
        "colab_type": "code",
        "outputId": "b6fbfbbd-56b6-4d21-8485-1b4e48ce04b7",
        "colab": {
          "base_uri": "https://localhost:8080/",
          "height": 36
        }
      },
      "source": [
        "str(123)  "
      ],
      "execution_count": 0,
      "outputs": [
        {
          "output_type": "execute_result",
          "data": {
            "text/plain": [
              "'123'"
            ]
          },
          "metadata": {
            "tags": []
          },
          "execution_count": 43
        }
      ]
    },
    {
      "cell_type": "code",
      "metadata": {
        "id": "3EtFk8d5hGeR",
        "colab_type": "code",
        "outputId": "d38aa3ca-42bc-4797-994f-2cdba96b5bc8",
        "colab": {
          "base_uri": "https://localhost:8080/",
          "height": 36
        }
      },
      "source": [
        "str(3.1416)"
      ],
      "execution_count": 0,
      "outputs": [
        {
          "output_type": "execute_result",
          "data": {
            "text/plain": [
              "'3.1416'"
            ]
          },
          "metadata": {
            "tags": []
          },
          "execution_count": 44
        }
      ]
    },
    {
      "cell_type": "markdown",
      "metadata": {
        "id": "y29cEy1ehGeS",
        "colab_type": "text"
      },
      "source": [
        "The built-in `float` function converts `string` to `float` or `integer` to `float`"
      ]
    },
    {
      "cell_type": "code",
      "metadata": {
        "id": "_Jyfv0-XhGeT",
        "colab_type": "code",
        "outputId": "43015a47-36aa-45d2-d0bd-2cd50745379a",
        "colab": {
          "base_uri": "https://localhost:8080/",
          "height": 36
        }
      },
      "source": [
        "float(\"1.333\") # the built-in float function converts \"str\" to \"float\""
      ],
      "execution_count": 0,
      "outputs": [
        {
          "output_type": "execute_result",
          "data": {
            "text/plain": [
              "1.333"
            ]
          },
          "metadata": {
            "tags": []
          },
          "execution_count": 45
        }
      ]
    },
    {
      "cell_type": "code",
      "metadata": {
        "id": "4JZTntHIhGeU",
        "colab_type": "code",
        "outputId": "6a5567e2-1592-47ae-febb-d2e039c3e4d0",
        "colab": {
          "base_uri": "https://localhost:8080/",
          "height": 36
        }
      },
      "source": [
        "float(123)"
      ],
      "execution_count": 0,
      "outputs": [
        {
          "output_type": "execute_result",
          "data": {
            "text/plain": [
              "123.0"
            ]
          },
          "metadata": {
            "tags": []
          },
          "execution_count": 46
        }
      ]
    },
    {
      "cell_type": "markdown",
      "metadata": {
        "id": "E8dLeVUTQqJq",
        "colab_type": "text"
      },
      "source": [
        "This doesn't work:"
      ]
    },
    {
      "cell_type": "code",
      "metadata": {
        "id": "vBFq2wlJQtO3",
        "colab_type": "code",
        "outputId": "c3c68d2a-fd7f-4ee1-fb1f-ac4099dcf1c6",
        "colab": {
          "base_uri": "https://localhost:8080/",
          "height": 177
        }
      },
      "source": [
        "\"42\"+10.0"
      ],
      "execution_count": 0,
      "outputs": [
        {
          "output_type": "error",
          "ename": "TypeError",
          "evalue": "ignored",
          "traceback": [
            "\u001b[0;31m---------------------------------------------------------------------------\u001b[0m",
            "\u001b[0;31mTypeError\u001b[0m                                 Traceback (most recent call last)",
            "\u001b[0;32m<ipython-input-47-591164c162a5>\u001b[0m in \u001b[0;36m<module>\u001b[0;34m()\u001b[0m\n\u001b[0;32m----> 1\u001b[0;31m \u001b[0;34m\"42\"\u001b[0m\u001b[0;34m+\u001b[0m\u001b[0;36m10.0\u001b[0m\u001b[0;34m\u001b[0m\u001b[0;34m\u001b[0m\u001b[0m\n\u001b[0m",
            "\u001b[0;31mTypeError\u001b[0m: must be str, not float"
          ]
        }
      ]
    },
    {
      "cell_type": "markdown",
      "metadata": {
        "id": "VFDf4XwWQ1cq",
        "colab_type": "text"
      },
      "source": [
        "Bu this works:"
      ]
    },
    {
      "cell_type": "code",
      "metadata": {
        "id": "D6FqsBE0Q0X9",
        "colab_type": "code",
        "outputId": "60349009-d036-4f43-baf4-9defb3be485c",
        "colab": {
          "base_uri": "https://localhost:8080/",
          "height": 36
        }
      },
      "source": [
        "float(\"42\")+10"
      ],
      "execution_count": 0,
      "outputs": [
        {
          "output_type": "execute_result",
          "data": {
            "text/plain": [
              "52.0"
            ]
          },
          "metadata": {
            "tags": []
          },
          "execution_count": 48
        }
      ]
    },
    {
      "cell_type": "markdown",
      "metadata": {
        "id": "2JxGrxmthGeW",
        "colab_type": "text"
      },
      "source": [
        "### 4. **Mathematical functions** \n",
        "\n",
        "We have just met two functions,  `float` and `str` that are intergral part of the Python language. These functions are called *built-in* because they don't require any additional commands or external modules to make them available to the programmer (see a partial list of Python built-in functions in http://test.test). However, the large majority of functions that we may ever \n",
        "want to use in Python do not fall in this category - rather than being built-in, they need to be **imported** for a Python **module**. The common mathematical functions, including `sqrt`, `sin`, `cos`, `log` and `exp` need to be imported from the `math` module. "
      ]
    },
    {
      "cell_type": "markdown",
      "metadata": {
        "id": "ACQwTAbmhGeW",
        "colab_type": "text"
      },
      "source": [
        "Go ahead and try to use the `cos` function, as if it where a built-in function: "
      ]
    },
    {
      "cell_type": "code",
      "metadata": {
        "id": "IUamscYThGeX",
        "colab_type": "code",
        "outputId": "bea6bdf7-f188-4657-9db1-e4684acfdd2c",
        "colab": {
          "base_uri": "https://localhost:8080/",
          "height": 177
        }
      },
      "source": [
        "cos(0.656)"
      ],
      "execution_count": 0,
      "outputs": [
        {
          "output_type": "error",
          "ename": "NameError",
          "evalue": "ignored",
          "traceback": [
            "\u001b[0;31m---------------------------------------------------------------------------\u001b[0m",
            "\u001b[0;31mNameError\u001b[0m                                 Traceback (most recent call last)",
            "\u001b[0;32m<ipython-input-49-8c17db5a20a5>\u001b[0m in \u001b[0;36m<module>\u001b[0;34m()\u001b[0m\n\u001b[0;32m----> 1\u001b[0;31m \u001b[0mcos\u001b[0m\u001b[0;34m(\u001b[0m\u001b[0;36m0.656\u001b[0m\u001b[0;34m)\u001b[0m\u001b[0;34m\u001b[0m\u001b[0;34m\u001b[0m\u001b[0m\n\u001b[0m",
            "\u001b[0;31mNameError\u001b[0m: name 'cos' is not defined"
          ]
        }
      ]
    },
    {
      "cell_type": "markdown",
      "metadata": {
        "id": "RCD9bDPewNYo",
        "colab_type": "text"
      },
      "source": [
        ""
      ]
    },
    {
      "cell_type": "markdown",
      "metadata": {
        "id": "AnDRcarfN5to",
        "colab_type": "text"
      },
      "source": [
        "Since `cos` is not built-in and you did not previously import it from a module, Python doesn't know about it (hence the \"NameError\")"
      ]
    },
    {
      "cell_type": "markdown",
      "metadata": {
        "id": "zSjKFXdQhGeZ",
        "colab_type": "text"
      },
      "source": [
        "In order to use the `cos` function, we will need to do this:"
      ]
    },
    {
      "cell_type": "code",
      "metadata": {
        "id": "ZKNztLeZhGeZ",
        "colab_type": "code",
        "colab": {}
      },
      "source": [
        "from math import cos"
      ],
      "execution_count": 0,
      "outputs": []
    },
    {
      "cell_type": "markdown",
      "metadata": {
        "id": "14zgIqithGeb",
        "colab_type": "text"
      },
      "source": [
        "The previous command tells the Python interpreter to fetch (import) the `cos` function from the `math` library. Now let's try again:"
      ]
    },
    {
      "cell_type": "code",
      "metadata": {
        "id": "g820DjnDhGeb",
        "colab_type": "code",
        "outputId": "6d70becc-ccaf-4d42-aea4-3d3608b2f1d4",
        "colab": {
          "base_uri": "https://localhost:8080/",
          "height": 36
        }
      },
      "source": [
        "cos(0.656)"
      ],
      "execution_count": 0,
      "outputs": [
        {
          "output_type": "execute_result",
          "data": {
            "text/plain": [
              "0.7924383724359255"
            ]
          },
          "metadata": {
            "tags": []
          },
          "execution_count": 51
        }
      ]
    },
    {
      "cell_type": "markdown",
      "metadata": {
        "id": "tT5tY67YhGeh",
        "colab_type": "text"
      },
      "source": [
        "**HANDS-ON:** Now try to edit the previous two cells in order to calculate the square root of 2. The square root function is named `sqrt`"
      ]
    },
    {
      "cell_type": "markdown",
      "metadata": {
        "id": "B1OOZx0shGej",
        "colab_type": "text"
      },
      "source": [
        "Instead of importing a specific function, we could also import the entire `math` **module**, like this:"
      ]
    },
    {
      "cell_type": "code",
      "metadata": {
        "id": "W3fQoSSohGek",
        "colab_type": "code",
        "colab": {}
      },
      "source": [
        "import math"
      ],
      "execution_count": 0,
      "outputs": []
    },
    {
      "cell_type": "markdown",
      "metadata": {
        "id": "Uf9Z3-6jhGem",
        "colab_type": "text"
      },
      "source": [
        "and now let's say we want to assign the `sine` of 0.23 to the variable name \"csin\""
      ]
    },
    {
      "cell_type": "code",
      "metadata": {
        "id": "uYTDrIbqhGem",
        "colab_type": "code",
        "colab": {}
      },
      "source": [
        "csin = math.sin(0.23)"
      ],
      "execution_count": 0,
      "outputs": []
    },
    {
      "cell_type": "code",
      "metadata": {
        "id": "OquX3FnthGen",
        "colab_type": "code",
        "outputId": "340ec7b7-ceea-4923-b5c7-2d544865ea1a",
        "colab": {
          "base_uri": "https://localhost:8080/",
          "height": 36
        }
      },
      "source": [
        "print(csin) # The print function is used to write output in nicer ways than simply entering the variable in the cell"
      ],
      "execution_count": 0,
      "outputs": [
        {
          "output_type": "stream",
          "text": [
            "0.2279775235351884\n"
          ],
          "name": "stdout"
        }
      ]
    },
    {
      "cell_type": "markdown",
      "metadata": {
        "id": "h-X8qaoQhGep",
        "colab_type": "text"
      },
      "source": [
        "Now *every* function available in the `math` library can be called by prepending the word \"math.\" to its name. But what functions are there to call?? We can find them by using the `dir` built-in function:"
      ]
    },
    {
      "cell_type": "code",
      "metadata": {
        "id": "CqRaakRrhGep",
        "colab_type": "code",
        "outputId": "606df559-e91d-49ba-e77f-9c8a26e63d33",
        "colab": {
          "base_uri": "https://localhost:8080/",
          "height": 1045
        }
      },
      "source": [
        "dir(math)"
      ],
      "execution_count": 0,
      "outputs": [
        {
          "output_type": "execute_result",
          "data": {
            "text/plain": [
              "['__doc__',\n",
              " '__loader__',\n",
              " '__name__',\n",
              " '__package__',\n",
              " '__spec__',\n",
              " 'acos',\n",
              " 'acosh',\n",
              " 'asin',\n",
              " 'asinh',\n",
              " 'atan',\n",
              " 'atan2',\n",
              " 'atanh',\n",
              " 'ceil',\n",
              " 'copysign',\n",
              " 'cos',\n",
              " 'cosh',\n",
              " 'degrees',\n",
              " 'e',\n",
              " 'erf',\n",
              " 'erfc',\n",
              " 'exp',\n",
              " 'expm1',\n",
              " 'fabs',\n",
              " 'factorial',\n",
              " 'floor',\n",
              " 'fmod',\n",
              " 'frexp',\n",
              " 'fsum',\n",
              " 'gamma',\n",
              " 'gcd',\n",
              " 'hypot',\n",
              " 'inf',\n",
              " 'isclose',\n",
              " 'isfinite',\n",
              " 'isinf',\n",
              " 'isnan',\n",
              " 'ldexp',\n",
              " 'lgamma',\n",
              " 'log',\n",
              " 'log10',\n",
              " 'log1p',\n",
              " 'log2',\n",
              " 'modf',\n",
              " 'nan',\n",
              " 'pi',\n",
              " 'pow',\n",
              " 'radians',\n",
              " 'sin',\n",
              " 'sinh',\n",
              " 'sqrt',\n",
              " 'tan',\n",
              " 'tanh',\n",
              " 'tau',\n",
              " 'trunc']"
            ]
          },
          "metadata": {
            "tags": []
          },
          "execution_count": 55
        }
      ]
    },
    {
      "cell_type": "markdown",
      "metadata": {
        "id": "8nqNhu-KhGeq",
        "colab_type": "text"
      },
      "source": [
        "The output of the `dir` command is a `list` (another data type, see below), containing a `str` for each function or variable in the `math` module (never ming the first five strings, they denote special module variables that are not meant to be called directly).\n",
        "\n",
        "So, for instance the decimal logarithm can be calculated using the `log10` function just like this:"
      ]
    },
    {
      "cell_type": "code",
      "metadata": {
        "id": "5M8SeljmhGer",
        "colab_type": "code",
        "outputId": "ec82b761-6ed4-499b-fafb-f4b9c5fa5747",
        "colab": {
          "base_uri": "https://localhost:8080/",
          "height": 36
        }
      },
      "source": [
        "math.log10(3)"
      ],
      "execution_count": 0,
      "outputs": [
        {
          "output_type": "execute_result",
          "data": {
            "text/plain": [
              "0.47712125471966244"
            ]
          },
          "metadata": {
            "tags": []
          },
          "execution_count": 56
        }
      ]
    },
    {
      "cell_type": "markdown",
      "metadata": {
        "id": "1SnZMLsXhGet",
        "colab_type": "text"
      },
      "source": [
        "**HANDS-ON:** Try changing the above cell to compute different math functions."
      ]
    },
    {
      "cell_type": "code",
      "metadata": {
        "id": "bH-oNLvYel27",
        "colab_type": "code",
        "colab": {}
      },
      "source": [
        "from math import *"
      ],
      "execution_count": 0,
      "outputs": []
    },
    {
      "cell_type": "code",
      "metadata": {
        "id": "KS3ciWJBeoi3",
        "colab_type": "code",
        "outputId": "8ddecc7e-2b00-449d-93b6-7d3cf30852ea",
        "colab": {
          "base_uri": "https://localhost:8080/",
          "height": 170
        }
      },
      "source": [
        "%who"
      ],
      "execution_count": 0,
      "outputs": [
        {
          "output_type": "stream",
          "text": [
            "a\t acos\t acosh\t asin\t asinh\t atan\t atan2\t atanh\t b\t \n",
            "ceil\t copysign\t cos\t cosh\t csin\t degrees\t distance\t e\t erf\t \n",
            "erfc\t exp\t expm1\t fabs\t factorial\t first_name\t floor\t fmod\t frexp\t \n",
            "fsum\t full_name\t gamma\t gcd\t hypot\t inf\t isclose\t isfinite\t isinf\t \n",
            "isnan\t keyword\t last_name\t ldexp\t lgamma\t log\t log10\t log1p\t log2\t \n",
            "math\t modf\t nan\t pi\t pow\t radians\t sin\t sinh\t sqrt\t \n",
            "tan\t tanh\t tau\t then\t trunc\t \n"
          ],
          "name": "stdout"
        }
      ]
    },
    {
      "cell_type": "code",
      "metadata": {
        "id": "C54ANZCTeuMG",
        "colab_type": "code",
        "outputId": "5ed99cac-c907-4ccb-b65f-7295732b333b",
        "colab": {
          "base_uri": "https://localhost:8080/",
          "height": 36
        }
      },
      "source": [
        "atan(2)"
      ],
      "execution_count": 0,
      "outputs": [
        {
          "output_type": "execute_result",
          "data": {
            "text/plain": [
              "1.1071487177940904"
            ]
          },
          "metadata": {
            "tags": []
          },
          "execution_count": 59
        }
      ]
    },
    {
      "cell_type": "markdown",
      "metadata": {
        "id": "hAzWoqhChGeu",
        "colab_type": "text"
      },
      "source": [
        "### 5. **List Objects**\n",
        "\n",
        "Lists are what the name indicates: ordered collections of objects that can be of the same or different types.\n",
        "\n",
        "Lists are enclosed in rectangular brackets `[]`."
      ]
    },
    {
      "cell_type": "code",
      "metadata": {
        "id": "0OcpcHgHhGeu",
        "colab_type": "code",
        "outputId": "a9c4eb95-e7c5-4846-caf9-317b78e4ed86",
        "colab": {
          "base_uri": "https://localhost:8080/",
          "height": 36
        }
      },
      "source": [
        "[1,2,4,6,9] # is a list of integers"
      ],
      "execution_count": 0,
      "outputs": [
        {
          "output_type": "execute_result",
          "data": {
            "text/plain": [
              "[1, 2, 4, 6, 9]"
            ]
          },
          "metadata": {
            "tags": []
          },
          "execution_count": 60
        }
      ]
    },
    {
      "cell_type": "code",
      "metadata": {
        "id": "2-DRy704hGex",
        "colab_type": "code",
        "outputId": "190b1347-dd2a-4dab-af19-e3d98330f5bb",
        "colab": {
          "base_uri": "https://localhost:8080/",
          "height": 36
        }
      },
      "source": [
        "[1,\"dfdf\",3.454] #  is a list of integers, floats and strings"
      ],
      "execution_count": 0,
      "outputs": [
        {
          "output_type": "execute_result",
          "data": {
            "text/plain": [
              "[1, 'dfdf', 3.454]"
            ]
          },
          "metadata": {
            "tags": []
          },
          "execution_count": 61
        }
      ]
    },
    {
      "cell_type": "code",
      "metadata": {
        "id": "zqnjqgBGhGez",
        "colab_type": "code",
        "outputId": "e595653c-4819-48bf-dbe9-028081d18db3",
        "colab": {
          "base_uri": "https://localhost:8080/",
          "height": 36
        }
      },
      "source": [
        "[1, 2, [3, 2]]  # a list can contain as one or more of its elements another list (nested lists)"
      ],
      "execution_count": 0,
      "outputs": [
        {
          "output_type": "execute_result",
          "data": {
            "text/plain": [
              "[1, 2, [3, 2]]"
            ]
          },
          "metadata": {
            "tags": []
          },
          "execution_count": 62
        }
      ]
    },
    {
      "cell_type": "markdown",
      "metadata": {
        "id": "E9EucU_xhGe2",
        "colab_type": "text"
      },
      "source": [
        "Let's declare a variable of type `list` "
      ]
    },
    {
      "cell_type": "code",
      "metadata": {
        "id": "Oau6orE-hGe2",
        "colab_type": "code",
        "colab": {}
      },
      "source": [
        "myList = [2, 3, 5, 7, 11, 13, 17, 19, 21]"
      ],
      "execution_count": 0,
      "outputs": []
    },
    {
      "cell_type": "markdown",
      "metadata": {
        "id": "2iyrc02ohGe5",
        "colab_type": "text"
      },
      "source": [
        "A given element of this list can be accessed by index:"
      ]
    },
    {
      "cell_type": "code",
      "metadata": {
        "id": "ToarVKZmhGe5",
        "colab_type": "code",
        "outputId": "23c29501-09bd-4430-90ba-c2fa2c2b7523",
        "colab": {
          "base_uri": "https://localhost:8080/",
          "height": 36
        }
      },
      "source": [
        "myList[3]"
      ],
      "execution_count": 0,
      "outputs": [
        {
          "output_type": "execute_result",
          "data": {
            "text/plain": [
              "7"
            ]
          },
          "metadata": {
            "tags": []
          },
          "execution_count": 64
        }
      ]
    },
    {
      "cell_type": "markdown",
      "metadata": {
        "id": "Pw-5niOJhGe9",
        "colab_type": "text"
      },
      "source": [
        "**IMPORTANT: Notice that indices start at zero (not 1 like in R and other programming languages); that is, in Python the 4th number (7) has index 3 and not 4**"
      ]
    },
    {
      "cell_type": "markdown",
      "metadata": {
        "id": "Z-JbQeFShGe-",
        "colab_type": "text"
      },
      "source": [
        "Consider the following **code** (a set of instructions in Python Language):"
      ]
    },
    {
      "cell_type": "code",
      "metadata": {
        "id": "y1OgPshMhGe-",
        "colab_type": "code",
        "colab": {}
      },
      "source": [
        "a = myList[4]\n",
        "b = a + 5"
      ],
      "execution_count": 0,
      "outputs": []
    },
    {
      "cell_type": "markdown",
      "metadata": {
        "id": "F1GwI7NwhGe_",
        "colab_type": "text"
      },
      "source": [
        "**HANDS-ON**: What do you think the value of \"b\" will be ? After making you guess, execute the next cell to find out."
      ]
    },
    {
      "cell_type": "code",
      "metadata": {
        "id": "80ID1HYghGe_",
        "colab_type": "code",
        "outputId": "c1f2b849-7baf-4a5c-d371-e28a0938309a",
        "colab": {
          "base_uri": "https://localhost:8080/",
          "height": 36
        }
      },
      "source": [
        "print(b) # This is the Python print function, at the moment is just the same has typing variable itself"
      ],
      "execution_count": 0,
      "outputs": [
        {
          "output_type": "stream",
          "text": [
            "16\n"
          ],
          "name": "stdout"
        }
      ]
    },
    {
      "cell_type": "markdown",
      "metadata": {
        "id": "CLWKECmHhGfB",
        "colab_type": "text"
      },
      "source": [
        "It is also possible to refer to a **range** of values within a list (it's called a \"slice\" in Python):"
      ]
    },
    {
      "cell_type": "code",
      "metadata": {
        "id": "YwASWPTFhGfB",
        "colab_type": "code",
        "outputId": "9bb26a6d-96c7-4440-88ed-d53c248e6230",
        "colab": {
          "base_uri": "https://localhost:8080/",
          "height": 36
        }
      },
      "source": [
        "myList[4:8]"
      ],
      "execution_count": 0,
      "outputs": [
        {
          "output_type": "execute_result",
          "data": {
            "text/plain": [
              "[11, 13, 17, 19]"
            ]
          },
          "metadata": {
            "tags": []
          },
          "execution_count": 67
        }
      ]
    },
    {
      "cell_type": "markdown",
      "metadata": {
        "id": "LDH4NOt2hGfF",
        "colab_type": "text"
      },
      "source": [
        "The result is a list containing the elements of myList from position 4 to position 7.   \n",
        "\n",
        "**IMPORTANT NOTE**: notice that the element number 8 is not included, even though it's used as upper value in the range. That's just how Python works, you will have to get used to it!"
      ]
    },
    {
      "cell_type": "markdown",
      "metadata": {
        "id": "5YOt3kVrhGfF",
        "colab_type": "text"
      },
      "source": [
        "Lists are dynamic, we can add elements to or remove elements from them after they are created. For that, we need a set of special functions called *string methods*. Let's see how the `append` method works."
      ]
    },
    {
      "cell_type": "code",
      "metadata": {
        "id": "zA5mxWOrhGfF",
        "colab_type": "code",
        "colab": {}
      },
      "source": [
        "myList.append(23)  # methods are separated from the variable name by a \".\""
      ],
      "execution_count": 0,
      "outputs": []
    },
    {
      "cell_type": "code",
      "metadata": {
        "id": "hMEBuZcIhGfG",
        "colab_type": "code",
        "outputId": "e322d5da-0dcc-4b57-e5f9-06cd06088176",
        "colab": {
          "base_uri": "https://localhost:8080/",
          "height": 36
        }
      },
      "source": [
        "print(myList)"
      ],
      "execution_count": 0,
      "outputs": [
        {
          "output_type": "stream",
          "text": [
            "[2, 3, 5, 7, 11, 13, 17, 19, 21, 23]\n"
          ],
          "name": "stdout"
        }
      ]
    },
    {
      "cell_type": "markdown",
      "metadata": {
        "id": "NF6BUTe6hGfJ",
        "colab_type": "text"
      },
      "source": [
        "As you see, our list has another element at the end, the number 23. What about removing an element ? Let's do it whith the method `pop`"
      ]
    },
    {
      "cell_type": "code",
      "metadata": {
        "id": "OlAWWt7JhGfK",
        "colab_type": "code",
        "outputId": "113c374e-5567-495d-c40e-37217e6878cf",
        "colab": {
          "base_uri": "https://localhost:8080/",
          "height": 36
        }
      },
      "source": [
        "myList.pop()"
      ],
      "execution_count": 0,
      "outputs": [
        {
          "output_type": "execute_result",
          "data": {
            "text/plain": [
              "23"
            ]
          },
          "metadata": {
            "tags": []
          },
          "execution_count": 70
        }
      ]
    },
    {
      "cell_type": "markdown",
      "metadata": {
        "id": "FCfPDTXKhGfL",
        "colab_type": "text"
      },
      "source": [
        "Notice the `pop` method *returned* a value, which was print as the ouput of the command. Compare this with the `append` command, which returned nothing. Let's check our list again. "
      ]
    },
    {
      "cell_type": "code",
      "metadata": {
        "scrolled": true,
        "id": "LyoLHvtVhGfL",
        "colab_type": "code",
        "outputId": "6b121fe0-d104-4f4c-8ed7-803338b28b82",
        "colab": {
          "base_uri": "https://localhost:8080/",
          "height": 36
        }
      },
      "source": [
        "print(myList)"
      ],
      "execution_count": 0,
      "outputs": [
        {
          "output_type": "stream",
          "text": [
            "[2, 3, 5, 7, 11, 13, 17, 19, 21]\n"
          ],
          "name": "stdout"
        }
      ]
    },
    {
      "cell_type": "markdown",
      "metadata": {
        "id": "ZpCDz-tThGfN",
        "colab_type": "text"
      },
      "source": [
        "The last element was removed, and the list is back to its original form."
      ]
    },
    {
      "cell_type": "markdown",
      "metadata": {
        "id": "YpRxedULhGfN",
        "colab_type": "text"
      },
      "source": [
        "**HANDS-ON**: Now, try to guess what's happening here:"
      ]
    },
    {
      "cell_type": "code",
      "metadata": {
        "id": "zpkNtx7NhGfO",
        "colab_type": "code",
        "colab": {}
      },
      "source": [
        "a = myList.pop()"
      ],
      "execution_count": 0,
      "outputs": []
    },
    {
      "cell_type": "markdown",
      "metadata": {
        "id": "ddPsJwFahGfP",
        "colab_type": "text"
      },
      "source": [
        "**HANDS-ON**: What is the value of \"a\" ? Try inserting a cell below this one using the `ALT+ENTER` command, and print the value of variable `a` using that cell."
      ]
    },
    {
      "cell_type": "markdown",
      "metadata": {
        "id": "RFMK8-18hGfS",
        "colab_type": "text"
      },
      "source": [
        "That's right, variable `a` contains the value 21, i.e. the removed last element of our list. This is what the *return* value is for: something to be assigned to a variable, or printed.  Our \"myList\" object now contains one fewer element:"
      ]
    },
    {
      "cell_type": "code",
      "metadata": {
        "id": "OYX5HL5_hGfP",
        "colab_type": "code",
        "outputId": "56be2272-e6d4-4c5d-9341-c62d1a774e7e",
        "colab": {
          "base_uri": "https://localhost:8080/",
          "height": 36
        }
      },
      "source": [
        "print(myList)"
      ],
      "execution_count": 0,
      "outputs": [
        {
          "output_type": "stream",
          "text": [
            "[2, 3]\n"
          ],
          "name": "stdout"
        }
      ]
    },
    {
      "cell_type": "markdown",
      "metadata": {
        "id": "h7YzX8P7hGfS",
        "colab_type": "text"
      },
      "source": [
        "That's great, but what if we want to insert or remove a variable in any position other than the last ? That's what the `insert` and `remove` methods are for:"
      ]
    },
    {
      "cell_type": "code",
      "metadata": {
        "id": "8VCUXY_4hGfT",
        "colab_type": "code",
        "colab": {}
      },
      "source": [
        "myList.insert(4,100)"
      ],
      "execution_count": 0,
      "outputs": []
    },
    {
      "cell_type": "code",
      "metadata": {
        "id": "NMR5T2gshGfU",
        "colab_type": "code",
        "outputId": "2ea1d14e-c548-4be7-edef-c6cf66fecd66",
        "colab": {
          "base_uri": "https://localhost:8080/",
          "height": 36
        }
      },
      "source": [
        "myList"
      ],
      "execution_count": 0,
      "outputs": [
        {
          "output_type": "execute_result",
          "data": {
            "text/plain": [
              "[2, 3, 100]"
            ]
          },
          "metadata": {
            "tags": []
          },
          "execution_count": 83
        }
      ]
    },
    {
      "cell_type": "markdown",
      "metadata": {
        "id": "DmC0lOjvhGfX",
        "colab_type": "text"
      },
      "source": [
        "**Explanation:** The value \"100\" is inserted *after* the fourth element."
      ]
    },
    {
      "cell_type": "code",
      "metadata": {
        "id": "S2zERxbwhGfX",
        "colab_type": "code",
        "outputId": "244f74ae-c111-4184-fbd4-979623ddb3a1",
        "colab": {
          "base_uri": "https://localhost:8080/",
          "height": 177
        }
      },
      "source": [
        "a = myList.pop(4)"
      ],
      "execution_count": 0,
      "outputs": [
        {
          "output_type": "error",
          "ename": "IndexError",
          "evalue": "ignored",
          "traceback": [
            "\u001b[0;31m---------------------------------------------------------------------------\u001b[0m",
            "\u001b[0;31mIndexError\u001b[0m                                Traceback (most recent call last)",
            "\u001b[0;32m<ipython-input-84-6fecee3cb6ff>\u001b[0m in \u001b[0;36m<module>\u001b[0;34m()\u001b[0m\n\u001b[0;32m----> 1\u001b[0;31m \u001b[0ma\u001b[0m \u001b[0;34m=\u001b[0m \u001b[0mmyList\u001b[0m\u001b[0;34m.\u001b[0m\u001b[0mpop\u001b[0m\u001b[0;34m(\u001b[0m\u001b[0;36m4\u001b[0m\u001b[0;34m)\u001b[0m\u001b[0;34m\u001b[0m\u001b[0;34m\u001b[0m\u001b[0m\n\u001b[0m",
            "\u001b[0;31mIndexError\u001b[0m: pop index out of range"
          ]
        }
      ]
    },
    {
      "cell_type": "code",
      "metadata": {
        "id": "9LeKNqvIhGfY",
        "colab_type": "code",
        "outputId": "6c9dad9e-8e30-4713-cd3d-6a15f70b6d77",
        "colab": {
          "base_uri": "https://localhost:8080/",
          "height": 36
        }
      },
      "source": [
        "a"
      ],
      "execution_count": 0,
      "outputs": [
        {
          "output_type": "execute_result",
          "data": {
            "text/plain": [
              "5"
            ]
          },
          "metadata": {
            "tags": []
          },
          "execution_count": 85
        }
      ]
    },
    {
      "cell_type": "markdown",
      "metadata": {
        "id": "Y0gvDkKKhGfZ",
        "colab_type": "text"
      },
      "source": [
        "Notice the `pop` method now has a number between the round brackets. This number is called an *argument* to the `pop` method. In this case, it indicates the position of the number to be *popped* (i.e. removed). "
      ]
    },
    {
      "cell_type": "code",
      "metadata": {
        "id": "ZpGPvi6ahGfa",
        "colab_type": "code",
        "outputId": "f5510b6f-f049-4724-f8dd-f07cbaea1325",
        "colab": {
          "base_uri": "https://localhost:8080/",
          "height": 36
        }
      },
      "source": [
        "myList"
      ],
      "execution_count": 0,
      "outputs": [
        {
          "output_type": "execute_result",
          "data": {
            "text/plain": [
              "[2, 3, 100]"
            ]
          },
          "metadata": {
            "tags": []
          },
          "execution_count": 86
        }
      ]
    },
    {
      "cell_type": "markdown",
      "metadata": {
        "id": "kFd1JnrVhGfb",
        "colab_type": "text"
      },
      "source": [
        "The Python Language has several other *string methods*, you can check them at https://www.programiz.com/python-programming/methods/list"
      ]
    },
    {
      "cell_type": "markdown",
      "metadata": {
        "id": "GrVdU4SUhGfc",
        "colab_type": "text"
      },
      "source": [
        "We can use the `dir` function to list all the methods available to the `str` type."
      ]
    },
    {
      "cell_type": "code",
      "metadata": {
        "id": "ekXJQ_-Ln-Bc",
        "colab_type": "code",
        "outputId": "b04f6d7d-8596-43b9-948b-62a38d4476fa",
        "colab": {
          "base_uri": "https://localhost:8080/",
          "height": 1483
        }
      },
      "source": [
        "dir(str)"
      ],
      "execution_count": 0,
      "outputs": [
        {
          "output_type": "execute_result",
          "data": {
            "text/plain": [
              "['__add__',\n",
              " '__class__',\n",
              " '__contains__',\n",
              " '__delattr__',\n",
              " '__dir__',\n",
              " '__doc__',\n",
              " '__eq__',\n",
              " '__format__',\n",
              " '__ge__',\n",
              " '__getattribute__',\n",
              " '__getitem__',\n",
              " '__getnewargs__',\n",
              " '__gt__',\n",
              " '__hash__',\n",
              " '__init__',\n",
              " '__init_subclass__',\n",
              " '__iter__',\n",
              " '__le__',\n",
              " '__len__',\n",
              " '__lt__',\n",
              " '__mod__',\n",
              " '__mul__',\n",
              " '__ne__',\n",
              " '__new__',\n",
              " '__reduce__',\n",
              " '__reduce_ex__',\n",
              " '__repr__',\n",
              " '__rmod__',\n",
              " '__rmul__',\n",
              " '__setattr__',\n",
              " '__sizeof__',\n",
              " '__str__',\n",
              " '__subclasshook__',\n",
              " 'capitalize',\n",
              " 'casefold',\n",
              " 'center',\n",
              " 'count',\n",
              " 'encode',\n",
              " 'endswith',\n",
              " 'expandtabs',\n",
              " 'find',\n",
              " 'format',\n",
              " 'format_map',\n",
              " 'index',\n",
              " 'isalnum',\n",
              " 'isalpha',\n",
              " 'isdecimal',\n",
              " 'isdigit',\n",
              " 'isidentifier',\n",
              " 'islower',\n",
              " 'isnumeric',\n",
              " 'isprintable',\n",
              " 'isspace',\n",
              " 'istitle',\n",
              " 'isupper',\n",
              " 'join',\n",
              " 'ljust',\n",
              " 'lower',\n",
              " 'lstrip',\n",
              " 'maketrans',\n",
              " 'partition',\n",
              " 'replace',\n",
              " 'rfind',\n",
              " 'rindex',\n",
              " 'rjust',\n",
              " 'rpartition',\n",
              " 'rsplit',\n",
              " 'rstrip',\n",
              " 'split',\n",
              " 'splitlines',\n",
              " 'startswith',\n",
              " 'strip',\n",
              " 'swapcase',\n",
              " 'title',\n",
              " 'translate',\n",
              " 'upper',\n",
              " 'zfill']"
            ]
          },
          "metadata": {
            "tags": []
          },
          "execution_count": 87
        }
      ]
    },
    {
      "cell_type": "code",
      "metadata": {
        "id": "-o9d43OlhGfc",
        "colab_type": "code",
        "outputId": "3ca2e370-9567-4d03-e3b8-2992c7358d06",
        "colab": {
          "base_uri": "https://localhost:8080/",
          "height": 170
        }
      },
      "source": [
        "%who"
      ],
      "execution_count": 0,
      "outputs": [
        {
          "output_type": "stream",
          "text": [
            "a\t acos\t acosh\t asin\t asinh\t atan\t atan2\t atanh\t b\t \n",
            "ceil\t copysign\t cos\t cosh\t csin\t degrees\t distance\t e\t erf\t \n",
            "erfc\t exp\t expm1\t fabs\t factorial\t first_name\t floor\t fmod\t frexp\t \n",
            "fsum\t full_name\t gamma\t gcd\t hypot\t inf\t isclose\t isfinite\t isinf\t \n",
            "isnan\t keyword\t last_name\t ldexp\t lgamma\t log\t log10\t log1p\t log2\t \n",
            "math\t modf\t myList\t nan\t pi\t pow\t radians\t sin\t sinh\t \n",
            "sqrt\t tan\t tanh\t tau\t then\t trunc\t \n"
          ],
          "name": "stdout"
        }
      ]
    },
    {
      "cell_type": "markdown",
      "metadata": {
        "id": "GA0vF-BehGfe",
        "colab_type": "text"
      },
      "source": [
        "A very useful buiilt-in Python function that we can use with `list` objects is `len` (for length). It simply returns the number of elements in the list:"
      ]
    },
    {
      "cell_type": "code",
      "metadata": {
        "id": "pB9jlewAhGfe",
        "colab_type": "code",
        "outputId": "37727c31-7618-40cd-8b8f-97860d4241c1",
        "colab": {
          "base_uri": "https://localhost:8080/",
          "height": 36
        }
      },
      "source": [
        "len(myList)"
      ],
      "execution_count": 0,
      "outputs": [
        {
          "output_type": "execute_result",
          "data": {
            "text/plain": [
              "3"
            ]
          },
          "metadata": {
            "tags": []
          },
          "execution_count": 89
        }
      ]
    },
    {
      "cell_type": "markdown",
      "metadata": {
        "id": "-WMgaTUxhGff",
        "colab_type": "text"
      },
      "source": [
        "And by the way, we can also use `len` with strings. Not surprisingly, it returns the number of characters, i.e. the length of a string in characters (notice that spaces are also characters):"
      ]
    },
    {
      "cell_type": "code",
      "metadata": {
        "id": "DOhZzYqEhGfg",
        "colab_type": "code",
        "outputId": "82c0abea-bb66-4800-bfd3-289246f84554",
        "colab": {
          "base_uri": "https://localhost:8080/",
          "height": 36
        }
      },
      "source": [
        "myString= \"This is a string\"\n",
        "len(myString)"
      ],
      "execution_count": 0,
      "outputs": [
        {
          "output_type": "execute_result",
          "data": {
            "text/plain": [
              "16"
            ]
          },
          "metadata": {
            "tags": []
          },
          "execution_count": 90
        }
      ]
    },
    {
      "cell_type": "markdown",
      "metadata": {
        "id": "XIR4tNCEhGfh",
        "colab_type": "text"
      },
      "source": [
        "In actual fact, string objects are somewhat like lists (with a big difference we'll discuss later) in that they can be *indexed* much in the same way:"
      ]
    },
    {
      "cell_type": "code",
      "metadata": {
        "id": "8g3ad9IqhGfh",
        "colab_type": "code",
        "outputId": "c7f0d3d8-1a14-43f8-c3de-8c86a0e2b673",
        "colab": {
          "base_uri": "https://localhost:8080/",
          "height": 36
        }
      },
      "source": [
        "myString[3]"
      ],
      "execution_count": 0,
      "outputs": [
        {
          "output_type": "execute_result",
          "data": {
            "text/plain": [
              "'s'"
            ]
          },
          "metadata": {
            "tags": []
          },
          "execution_count": 91
        }
      ]
    },
    {
      "cell_type": "code",
      "metadata": {
        "id": "AVpKnZ9QhGfj",
        "colab_type": "code",
        "outputId": "c6e365fb-be56-43c5-fbba-e8458b722a76",
        "colab": {
          "base_uri": "https://localhost:8080/",
          "height": 36
        }
      },
      "source": [
        "myString[8:16]"
      ],
      "execution_count": 0,
      "outputs": [
        {
          "output_type": "execute_result",
          "data": {
            "text/plain": [
              "'a string'"
            ]
          },
          "metadata": {
            "tags": []
          },
          "execution_count": 92
        }
      ]
    },
    {
      "cell_type": "markdown",
      "metadata": {
        "id": "OIuPFZbKhGfl",
        "colab_type": "text"
      },
      "source": [
        "In Python, we say that data types like `str` and `list` are ***iterables*** because they can be indexed in this way. "
      ]
    },
    {
      "cell_type": "markdown",
      "metadata": {
        "id": "WbmLHEuqhGfl",
        "colab_type": "text"
      },
      "source": [
        "### 6. **Iteration and Programming**"
      ]
    },
    {
      "cell_type": "markdown",
      "metadata": {
        "id": "Q479mZVYhGfm",
        "colab_type": "text"
      },
      "source": [
        "Python is a programming language. However, it would be a long shot to call what we did so far \"programming\". Programs are sets of computer instructions that are executed in a specific order depending on a number of conditions. What we did was to print the value of some Python objects, to assign values to variables and to look at the effect of some functions and their return values. That is **not** programming.\n",
        "\n",
        "But wait... maybe we did something akin to programming, when we wrote cells containing more than one Python instruction. Consider the following cell:"
      ]
    },
    {
      "cell_type": "code",
      "metadata": {
        "id": "DX0yOQdyhGfm",
        "colab_type": "code",
        "outputId": "6f4d93f9-fb53-4116-91cc-38a233aa60d4",
        "colab": {
          "base_uri": "https://localhost:8080/",
          "height": 36
        }
      },
      "source": [
        "a = 1\n",
        "b = 2\n",
        "c = a + b\n",
        "print(c)"
      ],
      "execution_count": 0,
      "outputs": [
        {
          "output_type": "stream",
          "text": [
            "3\n"
          ],
          "name": "stdout"
        }
      ]
    },
    {
      "cell_type": "markdown",
      "metadata": {
        "id": "BT6K6ZedhGfn",
        "colab_type": "text"
      },
      "source": [
        "The previous cell contains a ***sequence*** of instructions that the Python interpreter executes in turn. First the value 1 is assigned to variable `a`, then the value 2 is assigned to variable `b`, then the sum of variables `a` and `b` is assigned to variable `c`, then value of `c` is printed. This *\"then, then, then, ...\"* is what programming is about, *executing series of instructions in sequence*. However, programming would be very unpractical (and useless) if we had to **explicitly** write down every instruction we want our program to execute. \n",
        "\n",
        "To better apreciate this crucial point, consider the following problem. We have a list of product prices that we have stored in a Python object of type... list, of course:"
      ]
    },
    {
      "cell_type": "code",
      "metadata": {
        "id": "hdeFTu7ohGfo",
        "colab_type": "code",
        "colab": {}
      },
      "source": [
        "Prices = [24.04, 12.22, 21.43, 26.11, 11.01, 27.59, 31.15, 18.91, 19.58, 17.66, 17.6, 12.96, 17.26, 4.76, 19.62]"
      ],
      "execution_count": 0,
      "outputs": []
    },
    {
      "cell_type": "markdown",
      "metadata": {
        "id": "tULe7CohhGfo",
        "colab_type": "text"
      },
      "source": [
        "And we want to update the list by adding a 23% VAT to each price. We could go like this:"
      ]
    },
    {
      "cell_type": "code",
      "metadata": {
        "id": "yD5GSV5uhGfp",
        "colab_type": "code",
        "colab": {}
      },
      "source": [
        "Prices[0] = Prices[0] * 1.23\n",
        "Prices[1] = Prices[1] * 1.23\n",
        "Prices[2] = Prices[2] * 1.23\n",
        "Prices[3] = Prices[3] * 1.23\n",
        "# and so on until Prices[14] since there are 15 elements in our list."
      ],
      "execution_count": 0,
      "outputs": []
    },
    {
      "cell_type": "markdown",
      "metadata": {
        "id": "_-RyJmyDhGfp",
        "colab_type": "text"
      },
      "source": [
        "Ok, we could do this in a short time. But suppose we had 1000 prices ? There must be a better way to tell the computer to perform those 1000 instructions, with having to *explicitly* type them.\n",
        "\n",
        "That's where the real programming starts. We need to tell the computer to *iterate over the full list and update each price in turn*. Here's one way we could it with Python: "
      ]
    },
    {
      "cell_type": "code",
      "metadata": {
        "id": "KlaSmoz2hGfq",
        "colab_type": "code",
        "colab": {}
      },
      "source": [
        "for i in range(15): # there are 15 elements in our price list\n",
        "    Prices[i] = Prices[i] * 1.23  # this line  is an _indended_ block (one \"Tab\" to the righ)"
      ],
      "execution_count": 0,
      "outputs": []
    },
    {
      "cell_type": "markdown",
      "metadata": {
        "id": "_tAKdIqFhGfq",
        "colab_type": "text"
      },
      "source": [
        "So, what's going on here ? Let's try to break it apart:\n",
        "1. We have a line starting with `for`... this is a Python command used to create *`for` loops*. It tells the Python interpreter to assign the variable `i` to *each* value in range(15)\n",
        "2. What is range(15)? It's just a kind of shortand for the list `[0,1,2,3,4,5,6,7,8,9,10,11,12,13,14,15]` so that the computer will assign to `i` the values from 0 to 15 each in turn.\n",
        "3. For each value of `i`, execute the line inside the loop (notice that the line after the instruction `for` is *indented*, meaning that the line is moved to the right). It will do:   \n",
        "`i=0, Prices[0] = Prices[0] * 1.23`, *then* `i=1, Prices[1] = Prices[1] * 1.23`, and so on until 15. "
      ]
    },
    {
      "cell_type": "markdown",
      "metadata": {
        "id": "ljRkLcE8hGfr",
        "colab_type": "text"
      },
      "source": [
        "Let's check that the \"Prices\" list now contains the updated values:"
      ]
    },
    {
      "cell_type": "code",
      "metadata": {
        "id": "3_J8zDq_hGfr",
        "colab_type": "code",
        "outputId": "245d5a3c-2b91-4193-8587-800028c5ad4c",
        "colab": {
          "base_uri": "https://localhost:8080/",
          "height": 56
        }
      },
      "source": [
        "print(Prices)"
      ],
      "execution_count": 0,
      "outputs": [
        {
          "output_type": "stream",
          "text": [
            "[36.370115999999996, 18.487638, 32.421447, 39.501819, 13.5423, 33.9357, 38.314499999999995, 23.2593, 24.083399999999997, 21.721799999999998, 21.648, 15.940800000000001, 21.2298, 5.8548, 24.1326]\n"
          ],
          "name": "stdout"
        }
      ]
    },
    {
      "cell_type": "markdown",
      "metadata": {
        "id": "Amsx0mKWhGft",
        "colab_type": "text"
      },
      "source": [
        "Notice that `range(15)` is like a list (to be precise it is not a list, but let's leave that for now), so it may be that we could use any list on our `for` loop. For instance:"
      ]
    },
    {
      "cell_type": "code",
      "metadata": {
        "id": "uZxGyMzDhGft",
        "colab_type": "code",
        "outputId": "3a8a7f84-233a-4d1c-9a81-660f61173092",
        "colab": {
          "base_uri": "https://localhost:8080/",
          "height": 303
        }
      },
      "source": [
        "for p in Prices:\n",
        "    print(p*100)"
      ],
      "execution_count": 0,
      "outputs": [
        {
          "output_type": "stream",
          "text": [
            "3637.0116\n",
            "1848.7638\n",
            "3242.1447\n",
            "3950.1818999999996\n",
            "1354.23\n",
            "3393.5699999999997\n",
            "3831.4499999999994\n",
            "2325.93\n",
            "2408.3399999999997\n",
            "2172.18\n",
            "2164.8\n",
            "1594.0800000000002\n",
            "2122.98\n",
            "585.48\n",
            "2413.26\n"
          ],
          "name": "stdout"
        }
      ]
    },
    {
      "cell_type": "markdown",
      "metadata": {
        "id": "Csafoq6GhGfu",
        "colab_type": "text"
      },
      "source": [
        "The `for` loop assigns each value of \"Prices\" to the variable \"p\" in turn, and prints the result of multiplying that value by 100. "
      ]
    },
    {
      "cell_type": "markdown",
      "metadata": {
        "id": "JpQ6yLpnhGfu",
        "colab_type": "text"
      },
      "source": [
        "The printed values are hard to read, because there are a lot of digits after the decimal point - they are *unformatted*. We can format them with the Python `format` method:"
      ]
    },
    {
      "cell_type": "code",
      "metadata": {
        "id": "sV8AfWd3hGfv",
        "colab_type": "code",
        "outputId": "fc0f96b7-699c-42fa-c8ed-aba99d298ee9",
        "colab": {
          "base_uri": "https://localhost:8080/",
          "height": 303
        }
      },
      "source": [
        "for price in Prices:\n",
        "    print(\"{:20.2f}\".format(price*100))"
      ],
      "execution_count": 0,
      "outputs": [
        {
          "output_type": "stream",
          "text": [
            "             3637.01\n",
            "             1848.76\n",
            "             3242.14\n",
            "             3950.18\n",
            "             1354.23\n",
            "             3393.57\n",
            "             3831.45\n",
            "             2325.93\n",
            "             2408.34\n",
            "             2172.18\n",
            "             2164.80\n",
            "             1594.08\n",
            "             2122.98\n",
            "              585.48\n",
            "             2413.26\n"
          ],
          "name": "stdout"
        }
      ]
    },
    {
      "cell_type": "markdown",
      "metadata": {
        "id": "0TXQddTPhGfy",
        "colab_type": "text"
      },
      "source": [
        "The result looks much better. The code `{:7.2f}` indicates that whatever is *inside* the format command should be printed with 2 digits after the decimal point on a field that is 7 characters wide. This allows us to print nicely formatted and aligned tables. Let's go back to our original price list:"
      ]
    },
    {
      "cell_type": "code",
      "metadata": {
        "id": "_n1VHAf7hGf2",
        "colab_type": "code",
        "colab": {}
      },
      "source": [
        "Prices = [24.04, 12.22, 21.43, 26.11, 11.01, 27.59, 31.15, 18.91, 19.58, 17.66, 17.6, 12.96, 17.26, 4.76, 19.62]"
      ],
      "execution_count": 0,
      "outputs": []
    },
    {
      "cell_type": "markdown",
      "metadata": {
        "id": "ZjB5tIgChGf3",
        "colab_type": "text"
      },
      "source": [
        "Suppose we want to print a table with two columns, one for the original prices, and the other for the VAT-adjusted prices. We could do:"
      ]
    },
    {
      "cell_type": "code",
      "metadata": {
        "id": "Lbid1V88hGf4",
        "colab_type": "code",
        "outputId": "52ec35bc-f6fc-4830-c98c-c070975f7c13",
        "colab": {
          "base_uri": "https://localhost:8080/",
          "height": 303
        }
      },
      "source": [
        "for p in Prices:\n",
        "    print(\"{:7.2f} {:7.2f}\".format(p,p*1.23))"
      ],
      "execution_count": 0,
      "outputs": [
        {
          "output_type": "stream",
          "text": [
            "  24.04   29.57\n",
            "  12.22   15.03\n",
            "  21.43   26.36\n",
            "  26.11   32.12\n",
            "  11.01   13.54\n",
            "  27.59   33.94\n",
            "  31.15   38.31\n",
            "  18.91   23.26\n",
            "  19.58   24.08\n",
            "  17.66   21.72\n",
            "  17.60   21.65\n",
            "  12.96   15.94\n",
            "  17.26   21.23\n",
            "   4.76    5.85\n",
            "  19.62   24.13\n"
          ],
          "name": "stdout"
        }
      ]
    },
    {
      "cell_type": "markdown",
      "metadata": {
        "id": "wD63TErwhGf6",
        "colab_type": "text"
      },
      "source": [
        "Notice that the `format` method accepts two arguments, `p` and `p*1.23`, and the string contatins *two* copies of the format code `{:7.2f}` - the two must match in number. "
      ]
    },
    {
      "cell_type": "markdown",
      "metadata": {
        "id": "5sLCyX4uhGf6",
        "colab_type": "text"
      },
      "source": [
        "### 7. **Making decisions: conditional programming**"
      ]
    },
    {
      "cell_type": "markdown",
      "metadata": {
        "id": "wxqzUApUhGf7",
        "colab_type": "text"
      },
      "source": [
        "So now we know how to write programs that repeat statements many times, without us having to type all the stuff the program does. These programs have one important limitation: they will always do the same, no matter what the initial conditions are. Programming becomes really powerful when we introduce *decisions* to be made based on specific circustances, e.g. input values. \n",
        "\n",
        "Let's consider the following piece of code:"
      ]
    },
    {
      "cell_type": "code",
      "metadata": {
        "id": "PhkAPzfuhGf7",
        "colab_type": "code",
        "colab": {}
      },
      "source": [
        "from math import sqrt\n",
        "a = input(\"Please insert a number in this box: \")\n",
        "a = float(a)\n",
        "print(\"The square root of {} is {}\".format(a,sqrt(a)))"
      ],
      "execution_count": 0,
      "outputs": []
    },
    {
      "cell_type": "markdown",
      "metadata": {
        "id": "rhuQmu-qhGf8",
        "colab_type": "text"
      },
      "source": [
        "Fist, notice we introduced a new *function*, called `input`. This function will prompt the user with a message, and wait for some value to by typed, after which the user must press the ENTER key. The inserted value will be assigned to the variable `a` as a *string*. This last point is really important, and it explains the need for the next line in the code, `a = float(a)`, which replaces the string by it's value as a `float` number (for instance, \"3\" is replaced with 3. Without this line, the call to the `sqrt` function in the next line would produce an error. \n",
        "\n",
        "**HANDS-ON:** Run the cell with SHIT+ENTER, try different values in the box and observe the ouput. Try removing the line `a = float(a)`, run the program again and notice the error it produces. \n",
        "\n",
        "Have you tried to input a negative value, like -2? ... Try it now, and see what happens - \"math domain error\". This is understandable, because the *real-valued* square root function is not defined for negative arguments. What could we do to prevent a negative user input from producing this ugly error??... That's where *decision* programming comes in. What we want to do is: \"IF the user input is negative, then don't try to calculate the `sqrt` function, but instead produce a warning to the user. We can do this with the appropriately named **if** statement:"
      ]
    },
    {
      "cell_type": "code",
      "metadata": {
        "id": "xGcNnm_shGf8",
        "colab_type": "code",
        "colab": {}
      },
      "source": [
        "from math import sqrt\n",
        "a = input(\"Please insert a number in this box: \")\n",
        "a = float(a)\n",
        "if a < 0 :\n",
        "    print(\"WARNING: Invalid user input. Removing the negative sign.\")\n",
        "    a = -a\n",
        "print(\"The square root of {} is {}\".format(a,sqrt(a)))"
      ],
      "execution_count": 0,
      "outputs": []
    },
    {
      "cell_type": "markdown",
      "metadata": {
        "id": "eQcSQ8sxhGf8",
        "colab_type": "text"
      },
      "source": [
        "The general form is\n",
        "```python\n",
        "if condition :\n",
        "    statement(s)\n",
        "```\n",
        "Meaning that the *statement(s)* will only execute if the condition is **True**. \n",
        "\n",
        "Conditions are *logical* expressions whose value can either be *True* or *False*. Some examples:\n",
        "\n",
        "- a > b (a greater than b)\n",
        "- a < b (a smaller than b)\n",
        "- a >= b (a greater or equal to b)\n",
        "- a <= (a smaller or equal to b)\n",
        "- a == b (a is equal to b)\n",
        "- a != b (a is different from b)\n",
        "\n",
        "Let's try and evaluate a logical expression in a notebook cell:"
      ]
    },
    {
      "cell_type": "code",
      "metadata": {
        "id": "H4k8YERVhGf9",
        "colab_type": "code",
        "colab": {}
      },
      "source": [
        "5 > 4"
      ],
      "execution_count": 0,
      "outputs": []
    },
    {
      "cell_type": "markdown",
      "metadata": {
        "id": "KAGU6pIIhGf9",
        "colab_type": "text"
      },
      "source": [
        "5 is indeed greater than 4, so the result value of this cell is \"True\".\n",
        "\n",
        "**HANDS-ON**: Try to change the above expression in different ways, producing values that are either \"True\" or \"False\"."
      ]
    },
    {
      "cell_type": "markdown",
      "metadata": {
        "id": "Axo94SXWhGf9",
        "colab_type": "text"
      },
      "source": [
        "In fact, we can assign the resulting \"True\" or \"False\" value to a variable. Run the following code:"
      ]
    },
    {
      "cell_type": "code",
      "metadata": {
        "id": "UjS5aY-ThGf-",
        "colab_type": "code",
        "colab": {}
      },
      "source": [
        "a = 5 > 3\n",
        "print(a)"
      ],
      "execution_count": 0,
      "outputs": []
    },
    {
      "cell_type": "markdown",
      "metadata": {
        "id": "3vYyao4RhGf_",
        "colab_type": "text"
      },
      "source": [
        "The return value of the expression `5 > 3` has been assigned to `a`. That is a new data type, which can only be \"True\" or \"False\", and it is called a `bool` (short for \"boolean\"). \n",
        "\n",
        "Check this:"
      ]
    },
    {
      "cell_type": "code",
      "metadata": {
        "id": "2Lu_ftFdhGgA",
        "colab_type": "code",
        "colab": {}
      },
      "source": [
        "type(a)"
      ],
      "execution_count": 0,
      "outputs": []
    },
    {
      "cell_type": "markdown",
      "metadata": {
        "id": "uMBNVETOhGgB",
        "colab_type": "text"
      },
      "source": [
        "The `type` function is a very useful tool to find out the type of a variable or data object. "
      ]
    },
    {
      "cell_type": "code",
      "metadata": {
        "id": "A--AMZB3hGgB",
        "colab_type": "code",
        "colab": {}
      },
      "source": [
        "type(3)"
      ],
      "execution_count": 0,
      "outputs": []
    },
    {
      "cell_type": "code",
      "metadata": {
        "id": "KYsFM5NmhGgC",
        "colab_type": "code",
        "colab": {}
      },
      "source": [
        "type(3.1416)"
      ],
      "execution_count": 0,
      "outputs": []
    },
    {
      "cell_type": "code",
      "metadata": {
        "id": "GtXftnVZhGgD",
        "colab_type": "code",
        "colab": {}
      },
      "source": [
        "type('this is a string')"
      ],
      "execution_count": 0,
      "outputs": []
    },
    {
      "cell_type": "markdown",
      "metadata": {
        "id": "GW_24AwyhGgE",
        "colab_type": "text"
      },
      "source": [
        "Boolean expressions can be combined with the operators `and`, `or` and `not`:"
      ]
    },
    {
      "cell_type": "code",
      "metadata": {
        "id": "rqBbEUqrhGgE",
        "colab_type": "code",
        "colab": {}
      },
      "source": [
        "5 > 3 or 2 > 7"
      ],
      "execution_count": 0,
      "outputs": []
    },
    {
      "cell_type": "markdown",
      "metadata": {
        "id": "w1PBZ9DyhGgF",
        "colab_type": "text"
      },
      "source": [
        "The previous expression is True because one of the expressions is true (5 > 3). The `or` operator will produced True  in the case of `True or False`. On the other hand, the following expression using `and` will only evaluate to True if **all** individual expressions are true:"
      ]
    },
    {
      "cell_type": "code",
      "metadata": {
        "id": "fTvGCS4ihGgF",
        "colab_type": "code",
        "colab": {}
      },
      "source": [
        "5 > 3 and 2 > 7"
      ],
      "execution_count": 0,
      "outputs": []
    },
    {
      "cell_type": "markdown",
      "metadata": {
        "id": "NnGj3XHZhGgF",
        "colab_type": "text"
      },
      "source": [
        "In this case, since 2 is not greater than 7, the results is `False`.\n",
        "\n",
        "With logical expressions we can produce very complex conditions based on the values of variables. \n",
        "\n",
        "**HANDS-ON:** Look at the cell below and try to guess what the logical result of running it will be:"
      ]
    },
    {
      "cell_type": "code",
      "metadata": {
        "id": "n7u1R9PuhGgG",
        "colab_type": "code",
        "colab": {}
      },
      "source": [
        "a = 3\n",
        "b = 7\n",
        "c = 2\n",
        "x = 9.0\n",
        "((a > b) and not (c > x)) or (x == 9.0)"
      ],
      "execution_count": 0,
      "outputs": []
    },
    {
      "cell_type": "markdown",
      "metadata": {
        "id": "0sPa4KZPhGgG",
        "colab_type": "text"
      },
      "source": [
        "Often, the `if` instruction is not enough to express the *logic* of our program. Suppose we want to do something **if** a condition is `True`, and do something **else** if the condition is false. The Python `else` can be combined with `if` like this:\n",
        "\n",
        "```python\n",
        "if condition :\n",
        "    statement(s)\n",
        "else :\n",
        "    statement(s)\n",
        "```\n",
        "\n",
        "Let's see it in action. We will go back to our `sqrt` program and change it slightly:"
      ]
    },
    {
      "cell_type": "code",
      "metadata": {
        "id": "bC-hY59ehGgH",
        "colab_type": "code",
        "colab": {}
      },
      "source": [
        "from math import sqrt\n",
        "a = input(\"Please insert a number in this box: \")\n",
        "a = float(a)\n",
        "if a >= 0 :\n",
        "    print(\"The square root of {} is {}\".format(a,sqrt(a)))\n",
        "else:\n",
        "    print(\"Cannot compute the square root of a negative number.\")\n"
      ],
      "execution_count": 0,
      "outputs": []
    },
    {
      "cell_type": "markdown",
      "metadata": {
        "id": "PaFWHTvFhGgH",
        "colab_type": "text"
      },
      "source": [
        "Now our simple program just refuses to compute the square root of a negative number, rather than changing its sign (this is probably what we would want in a real application)."
      ]
    },
    {
      "cell_type": "markdown",
      "metadata": {
        "id": "LUA49dslhGgI",
        "colab_type": "text"
      },
      "source": [
        "### 8. **More iterations: while**"
      ]
    },
    {
      "cell_type": "markdown",
      "metadata": {
        "id": "5pF5eRbLhGgI",
        "colab_type": "text"
      },
      "source": [
        "So far we know only one way of automatically repeating program statements, the `for` loop. There is another statement that can do the same sort of thing. It's called `while`, and it is used in this way:\n",
        "\n",
        "```python\n",
        "while condition :\n",
        "    statement(s)\n",
        "```\n",
        "\n",
        "**HANDS-ON:** Try to guess what the following program does:"
      ]
    },
    {
      "cell_type": "code",
      "metadata": {
        "id": "2f5YdYRxhGgI",
        "colab_type": "code",
        "outputId": "c1bd813d-6f33-4879-8a2f-eeec86713b3e",
        "colab": {
          "base_uri": "https://localhost:8080/",
          "height": 207
        }
      },
      "source": [
        "i = 10\n",
        "while i >0 :\n",
        "    i = i -1 \n",
        "    print(i)"
      ],
      "execution_count": 0,
      "outputs": [
        {
          "output_type": "stream",
          "text": [
            "9\n",
            "8\n",
            "7\n",
            "6\n",
            "5\n",
            "4\n",
            "3\n",
            "2\n",
            "1\n",
            "0\n"
          ],
          "name": "stdout"
        }
      ]
    },
    {
      "cell_type": "markdown",
      "metadata": {
        "id": "Ifwz3TPuhGgJ",
        "colab_type": "text"
      },
      "source": [
        "The variable `i` works as a *counter* allowing us to repeat what is inside the `while` loop as many times as the initial value (10 in this case)."
      ]
    },
    {
      "cell_type": "markdown",
      "metadata": {
        "id": "dex-neOuhGgK",
        "colab_type": "text"
      },
      "source": [
        "In fact, `while` loops don't have to systematically go through a list of values like a `for` loop. What a `while` does is to keep executing whatever is inside the loop **while** the condition is `True`. If, for same reason, the condition is always `True` then the loop will *never* stop.   \n",
        "What do you think the following code will do:\n",
        "\n",
        "```python\n",
        "while True :\n",
        "    print(\"I will never stop!\")\n",
        "```\n",
        "\n",
        "You guessed it right... it will keep printing \"I will never stop!\", line after line. That's because the condition in the loop is `True`, and obviouslyu `True` can never be `False`. "
      ]
    },
    {
      "cell_type": "markdown",
      "metadata": {
        "id": "mLh7wASrhGgK",
        "colab_type": "text"
      },
      "source": [
        "Let's use one of these \"always `True`\" to make our square root program more interactive:"
      ]
    },
    {
      "cell_type": "code",
      "metadata": {
        "id": "MUITopCChGgK",
        "colab_type": "code",
        "colab": {}
      },
      "source": [
        "from math import sqrt\n",
        "while True :\n",
        "    a = input(\"Please insert a number in this box: \")\n",
        "    a = float(a)\n",
        "    if a >= 0 :\n",
        "        print(\"The square root of {} is {}\".format(a,sqrt(a)))\n",
        "    else:\n",
        "        print(\"Cannot compute the square root of a negative number.\")\n"
      ],
      "execution_count": 0,
      "outputs": []
    },
    {
      "cell_type": "markdown",
      "metadata": {
        "id": "XIYvN3QGhGgO",
        "colab_type": "text"
      },
      "source": [
        "Notice the rotating line around the button beside the cell - this indicates the cell is *busy* running code.  If you try to execute the following cell:"
      ]
    },
    {
      "cell_type": "code",
      "metadata": {
        "id": "fSoeFhaRhGgO",
        "colab_type": "code",
        "colab": {}
      },
      "source": [
        "1+1"
      ],
      "execution_count": 0,
      "outputs": []
    },
    {
      "cell_type": "markdown",
      "metadata": {
        "id": "H18XEzQthGgP",
        "colab_type": "text"
      },
      "source": [
        "... it becomes stuck - this is  because the notebook cannot run two cells at the same time. To stop the first cell, press the  button next to it -  it now displays an appopriate \"Stop\" symbol (you can also use the menu entry \"Runtime -> Interrup execution\" or the keyboard shortcut Ctl-M I ).\n",
        "Never mind the ugly messages below our square root, it's just the Python interpreter complaining about being rudely stopped. The output of our previous `1+1` cell should appear now. "
      ]
    },
    {
      "cell_type": "markdown",
      "metadata": {
        "id": "tlxkJKKFhGgP",
        "colab_type": "text"
      },
      "source": [
        "One way to avoid this type of situation is to provide our program with a way of **stopping** on user request. We could, for example, define that if the user types \"q\" instead of a number, the program will quit. Let's try it:"
      ]
    },
    {
      "cell_type": "code",
      "metadata": {
        "id": "b-R0_SM7hGgQ",
        "colab_type": "code",
        "outputId": "c14b5648-f3fd-489c-84a6-d3bfafb2fd25",
        "colab": {
          "base_uri": "https://localhost:8080/",
          "height": 272
        }
      },
      "source": [
        "from math import sqrt\n",
        "while True :\n",
        "    a = input(\"Please insert a number in this box: \")\n",
        "    if a == \"q\" :\n",
        "        print(\"Goodbye.\")\n",
        "        break\n",
        "    a = float(a)\n",
        "    if a >= 0:\n",
        "        print(\"The square root of {} is {}\".format(a,sqrt(a)))\n",
        "    else:\n",
        "        print(\"Cannot compute the square root of a negative number.\")\n"
      ],
      "execution_count": 0,
      "outputs": [
        {
          "output_type": "stream",
          "text": [
            "Please insert a number in this box: \n"
          ],
          "name": "stdout"
        },
        {
          "output_type": "error",
          "ename": "ValueError",
          "evalue": "ignored",
          "traceback": [
            "\u001b[0;31m---------------------------------------------------------------------------\u001b[0m",
            "\u001b[0;31mValueError\u001b[0m                                Traceback (most recent call last)",
            "\u001b[0;32m<ipython-input-105-91baa699c08a>\u001b[0m in \u001b[0;36m<module>\u001b[0;34m()\u001b[0m\n\u001b[1;32m      5\u001b[0m         \u001b[0mprint\u001b[0m\u001b[0;34m(\u001b[0m\u001b[0;34m\"Goodbye.\"\u001b[0m\u001b[0;34m)\u001b[0m\u001b[0;34m\u001b[0m\u001b[0;34m\u001b[0m\u001b[0m\n\u001b[1;32m      6\u001b[0m         \u001b[0;32mbreak\u001b[0m\u001b[0;34m\u001b[0m\u001b[0;34m\u001b[0m\u001b[0m\n\u001b[0;32m----> 7\u001b[0;31m     \u001b[0ma\u001b[0m \u001b[0;34m=\u001b[0m \u001b[0mfloat\u001b[0m\u001b[0;34m(\u001b[0m\u001b[0ma\u001b[0m\u001b[0;34m)\u001b[0m\u001b[0;34m\u001b[0m\u001b[0;34m\u001b[0m\u001b[0m\n\u001b[0m\u001b[1;32m      8\u001b[0m     \u001b[0;32mif\u001b[0m \u001b[0ma\u001b[0m \u001b[0;34m>=\u001b[0m \u001b[0;36m0\u001b[0m\u001b[0;34m:\u001b[0m\u001b[0;34m\u001b[0m\u001b[0;34m\u001b[0m\u001b[0m\n\u001b[1;32m      9\u001b[0m         \u001b[0mprint\u001b[0m\u001b[0;34m(\u001b[0m\u001b[0;34m\"The square root of {} is {}\"\u001b[0m\u001b[0;34m.\u001b[0m\u001b[0mformat\u001b[0m\u001b[0;34m(\u001b[0m\u001b[0ma\u001b[0m\u001b[0;34m,\u001b[0m\u001b[0msqrt\u001b[0m\u001b[0;34m(\u001b[0m\u001b[0ma\u001b[0m\u001b[0;34m)\u001b[0m\u001b[0;34m)\u001b[0m\u001b[0;34m)\u001b[0m\u001b[0;34m\u001b[0m\u001b[0;34m\u001b[0m\u001b[0m\n",
            "\u001b[0;31mValueError\u001b[0m: could not convert string to float: "
          ]
        }
      ]
    },
    {
      "cell_type": "markdown",
      "metadata": {
        "id": "K0UttADVhGgR",
        "colab_type": "text"
      },
      "source": [
        "Well, that fixes the stuck (infinite) loop problem. However, there is still a problem with this program. It's very easy to make it crash.\n",
        "\n",
        "**HANDS-ON:** Can you figure out how to make this program exit with an error message? *Hint: What type of invalid input is not accounted for by our program?*\n"
      ]
    },
    {
      "cell_type": "markdown",
      "metadata": {
        "id": "e04WtYEnkPLo",
        "colab_type": "text"
      },
      "source": [
        "try/except "
      ]
    },
    {
      "cell_type": "code",
      "metadata": {
        "id": "fwYJl5vMkA-4",
        "colab_type": "code",
        "cellView": "both",
        "colab": {}
      },
      "source": [
        "from math import sqrt\n",
        "while True :\n",
        "    a = input(\"Please insert a number in this box: \")\n",
        "    if a == \"q\" :\n",
        "        print(\"Goodbye.\")\n",
        "        break\n",
        "    try:     \n",
        "      a = float(a)\n",
        "    except:\n",
        "      print(\"Cannot convert input to float.\")\n",
        "      continue \n",
        "    if a >= 0:\n",
        "        print(\"The square root of {} is {}\".format(a,sqrt(a)))\n",
        "    else:\n",
        "        print(\"Cannot compute the square root of a negative number.\")\n"
      ],
      "execution_count": 0,
      "outputs": []
    },
    {
      "cell_type": "markdown",
      "metadata": {
        "id": "hKjVeUd4hGgR",
        "colab_type": "text"
      },
      "source": [
        "### 9. **Defining our own functions**"
      ]
    },
    {
      "cell_type": "markdown",
      "metadata": {
        "id": "7Kj4xUoDhGgS",
        "colab_type": "text"
      },
      "source": [
        "We have already learned enough statements (`if`, `else`, `for`, `while`) to do some real programming. However, the serious fun starts when we are able to create our own *functions*. So far we have used a few functions that are Python \"built-ins\" or part of the `math` library. To call the `cos` function, for instance, we do:"
      ]
    },
    {
      "cell_type": "code",
      "metadata": {
        "id": "r_Ji3QO1hGgS",
        "colab_type": "code",
        "colab": {}
      },
      "source": [
        "from math import cos\n",
        "print(cos(3))"
      ],
      "execution_count": 0,
      "outputs": []
    },
    {
      "cell_type": "markdown",
      "metadata": {
        "id": "XrSSl09vhGgT",
        "colab_type": "text"
      },
      "source": [
        "For built-in functions like `len` we don't even have to import anything:"
      ]
    },
    {
      "cell_type": "code",
      "metadata": {
        "id": "htxVWdFKhGgT",
        "colab_type": "code",
        "colab": {}
      },
      "source": [
        "len(\"this is a string\")"
      ],
      "execution_count": 0,
      "outputs": []
    },
    {
      "cell_type": "markdown",
      "metadata": {
        "id": "3rXCO2xLhGgU",
        "colab_type": "text"
      },
      "source": [
        "In both cases, the function is a *name* followed by a pair of curly brackets enclosing some *argument*. The `cos` function takes a number as argument and *returns* a value, the *cosine* of that number. The `len` function takes a string as argument, and returns its length. Now suppose we want to fashion a new function for some specific purpose. For instance, let's say we wanted to create a function that would add 10 to every number. Assuming the function is called `add_ten`, it would work like this:\n",
        "\n",
        "```python\n",
        "In [1]: add_ten(3)\n",
        "Out[2]: 13\n",
        "```"
      ]
    },
    {
      "cell_type": "markdown",
      "metadata": {
        "id": "5CvFZiyFhGgV",
        "colab_type": "text"
      },
      "source": [
        "We can indeed create our own functions, using the built-in command `def`. Here is how we would define our \"add_ten\" function:"
      ]
    },
    {
      "cell_type": "code",
      "metadata": {
        "id": "1zCpX_VchGgV",
        "colab_type": "code",
        "colab": {}
      },
      "source": [
        "def add_ten(x):\n",
        "    \"\"\"\n",
        "asdfasdf l asdfasdf.\n",
        "asdfadf asdfadf.\n",
        "     sdfsdfasdf.\n",
        "    \"\"\"\n",
        "    return 10+x"
      ],
      "execution_count": 0,
      "outputs": []
    },
    {
      "cell_type": "code",
      "metadata": {
        "id": "o1GcxOCiwuR5",
        "colab_type": "code",
        "outputId": "fd09f811-bcd0-4a85-f26e-5a72997c3d9f",
        "colab": {
          "base_uri": "https://localhost:8080/",
          "height": 150
        }
      },
      "source": [
        "help(add_ten)"
      ],
      "execution_count": 0,
      "outputs": [
        {
          "output_type": "stream",
          "text": [
            "Help on function add_ten in module __main__:\n",
            "\n",
            "add_ten(x)\n",
            "    asdfasdf l asdfasdf.\n",
            "    asdfadf asdfadf.\n",
            "         sdfsdfasdf.\n",
            "\n"
          ],
          "name": "stdout"
        }
      ]
    },
    {
      "cell_type": "markdown",
      "metadata": {
        "id": "H_PmJuQnhGgX",
        "colab_type": "text"
      },
      "source": [
        "The `x` variable is our *argument*, and the `return` command indicates what the function should return, in this case it is just our argument plus 10. "
      ]
    },
    {
      "cell_type": "markdown",
      "metadata": {
        "id": "gkqSDopohGgX",
        "colab_type": "text"
      },
      "source": [
        "Now that we have defined it, we can use it everywhere."
      ]
    },
    {
      "cell_type": "code",
      "metadata": {
        "id": "-RlnrLXahGgX",
        "colab_type": "code",
        "outputId": "9bf303c9-ff33-4a99-8143-b3ed03367aba",
        "colab": {
          "base_uri": "https://localhost:8080/",
          "height": 36
        }
      },
      "source": [
        "add_ten(34)"
      ],
      "execution_count": 0,
      "outputs": [
        {
          "output_type": "execute_result",
          "data": {
            "text/plain": [
              "44"
            ]
          },
          "metadata": {
            "tags": []
          },
          "execution_count": 114
        }
      ]
    },
    {
      "cell_type": "code",
      "metadata": {
        "id": "XPjkhiEThGgY",
        "colab_type": "code",
        "outputId": "6b9f901a-42c4-43d4-d71f-a6a65ea4a6a6",
        "colab": {
          "base_uri": "https://localhost:8080/",
          "height": 36
        }
      },
      "source": [
        "add_ten(34.)"
      ],
      "execution_count": 0,
      "outputs": [
        {
          "output_type": "execute_result",
          "data": {
            "text/plain": [
              "44.0"
            ]
          },
          "metadata": {
            "tags": []
          },
          "execution_count": 115
        }
      ]
    },
    {
      "cell_type": "markdown",
      "metadata": {
        "id": "1_HIkE_1hGgZ",
        "colab_type": "text"
      },
      "source": [
        "**Note:** Functions can have more than one argument. Suppose we wish to create a function that returns the sum of the squares of two numbers:"
      ]
    },
    {
      "cell_type": "code",
      "metadata": {
        "id": "MVrCsQ-thGgZ",
        "colab_type": "code",
        "colab": {}
      },
      "source": [
        "def sum_squares(a,b) : \n",
        "    return a*a+b*b"
      ],
      "execution_count": 0,
      "outputs": []
    },
    {
      "cell_type": "code",
      "metadata": {
        "id": "R6OS245ihGga",
        "colab_type": "code",
        "outputId": "714e43d9-45af-4754-aedf-15b9433b6263",
        "colab": {
          "base_uri": "https://localhost:8080/",
          "height": 36
        }
      },
      "source": [
        "sum_squares(3,4)"
      ],
      "execution_count": 0,
      "outputs": [
        {
          "output_type": "execute_result",
          "data": {
            "text/plain": [
              "25"
            ]
          },
          "metadata": {
            "tags": []
          },
          "execution_count": 110
        }
      ]
    },
    {
      "cell_type": "markdown",
      "metadata": {
        "id": "S2UlYj7zhGgb",
        "colab_type": "text"
      },
      "source": [
        "**HANDS-ON:** Write a function that returns **the sum of all numbers from 1 to n**. (*Hint*: use a `for` loop with a `range` command inside the function.) Write it in the cell below:"
      ]
    },
    {
      "cell_type": "code",
      "metadata": {
        "id": "Z5U68TMjqGux",
        "colab_type": "code",
        "colab": {}
      },
      "source": [
        ""
      ],
      "execution_count": 0,
      "outputs": []
    },
    {
      "cell_type": "code",
      "metadata": {
        "id": "Mf_8bx7ghGgc",
        "colab_type": "code",
        "cellView": "form",
        "colab": {}
      },
      "source": [
        "#@title ####Solution\n",
        "def sum_one_to_n(n):\n",
        "    for i in range(n) :\n",
        "        n = n + i\n",
        "    return n"
      ],
      "execution_count": 0,
      "outputs": []
    },
    {
      "cell_type": "code",
      "metadata": {
        "id": "CuI46503hGge",
        "colab_type": "code",
        "cellView": "both",
        "outputId": "81b0facd-5423-4513-8ade-ace939726572",
        "colab": {
          "base_uri": "https://localhost:8080/",
          "height": 36
        }
      },
      "source": [
        "sum_one_to_n(3)"
      ],
      "execution_count": 0,
      "outputs": [
        {
          "output_type": "execute_result",
          "data": {
            "text/plain": [
              "6"
            ]
          },
          "metadata": {
            "tags": []
          },
          "execution_count": 108
        }
      ]
    },
    {
      "cell_type": "code",
      "metadata": {
        "id": "F7ktDiKPzhSr",
        "colab_type": "code",
        "colab": {}
      },
      "source": [
        "def F():\n",
        "  return 3"
      ],
      "execution_count": 0,
      "outputs": []
    },
    {
      "cell_type": "code",
      "metadata": {
        "id": "MwWdz-D6zmmF",
        "colab_type": "code",
        "outputId": "3e6e97df-e993-45a1-ea8f-d84149c40c0f",
        "colab": {
          "base_uri": "https://localhost:8080/",
          "height": 177
        }
      },
      "source": [
        "F(2)"
      ],
      "execution_count": 0,
      "outputs": [
        {
          "output_type": "error",
          "ename": "TypeError",
          "evalue": "ignored",
          "traceback": [
            "\u001b[0;31m---------------------------------------------------------------------------\u001b[0m",
            "\u001b[0;31mTypeError\u001b[0m                                 Traceback (most recent call last)",
            "\u001b[0;32m<ipython-input-123-ebadc921094e>\u001b[0m in \u001b[0;36m<module>\u001b[0;34m()\u001b[0m\n\u001b[0;32m----> 1\u001b[0;31m \u001b[0mF\u001b[0m\u001b[0;34m(\u001b[0m\u001b[0;36m2\u001b[0m\u001b[0;34m)\u001b[0m\u001b[0;34m\u001b[0m\u001b[0;34m\u001b[0m\u001b[0m\n\u001b[0m",
            "\u001b[0;31mTypeError\u001b[0m: F() takes 0 positional arguments but 1 was given"
          ]
        }
      ]
    },
    {
      "cell_type": "markdown",
      "metadata": {
        "id": "jcb8mnnKhGgf",
        "colab_type": "text"
      },
      "source": [
        "### 10. **Classes and OOP (Object Oriented Programming):**"
      ]
    },
    {
      "cell_type": "markdown",
      "metadata": {
        "id": "suPP1sgAhGgf",
        "colab_type": "text"
      },
      "source": [
        "The most advanced and flexible object type in Python is the *class*. Classes can *encapsulate* data (like numbers, lists or strings) and functions in a single object. This provides a very powerful and flexible way of programming. Unfortunately, it can be a bit daunting for the begginer programmer. However, some understanding of the concept is required if we are to use Python in any pratical context, like *accessing software tools, databases and scientific libraries*. What we intend here is a very basic understanding of classes and how they can be used to achieve pratical results.\n",
        "\n",
        "Let's start with a very simple example:\n"
      ]
    },
    {
      "cell_type": "code",
      "metadata": {
        "id": "4u9eIU1AhGgg",
        "colab_type": "code",
        "colab": {}
      },
      "source": [
        "class Rectangle :\n",
        "    Test = 123\n",
        "    def __init__(self,a,b):\n",
        "        self.sideA = a\n",
        "        self.sideB = b\n",
        "    def area(self):\n",
        "        return self.sideA*self.sideB\n",
        "\n",
        "        "
      ],
      "execution_count": 0,
      "outputs": []
    },
    {
      "cell_type": "markdown",
      "metadata": {
        "id": "vEIUpAJFhGgi",
        "colab_type": "text"
      },
      "source": [
        "What's happening here ?...  \n",
        "\n",
        "First, we declare a class name `Rectangle`, and inside the class we use the `def` command to define two functions.  \n",
        "\n",
        "1. The first, called `__init__`, is a special function that get's called *every time* a new object of *type rectangle* is created. Notice that this function accepts 3 arguments:\n",
        "    - The first, `self` is a special argument that we always have to include when declaring *methods* for an object.\n",
        "    - The variables `a` and `b` are the lengths of the two sides of the rectangle (we will see shortly how this arguments are passed). Inside the `__init__` function, the values of `a` and `b` are assigned to the two variables `self.sideA` and `self.sideB`. This way, the sides of the rectangle are stored in the object.\n",
        "\n",
        "2. Then we define a second *method*, called `area`. This method will *return the area of the rectangle*, which is simply the product of the length of its sides."
      ]
    },
    {
      "cell_type": "markdown",
      "metadata": {
        "id": "1wRi1RzvhGgi",
        "colab_type": "text"
      },
      "source": [
        "But, how do we use a class ?... We have to create one or more objects of the created type. Creating an object from a class is called ***instantiating*** the class, and each created object is an ***instance***. So for example:"
      ]
    },
    {
      "cell_type": "code",
      "metadata": {
        "id": "Oc7FydbkhGgj",
        "colab_type": "code",
        "colab": {}
      },
      "source": [
        "myS = Rectangle(2,3)  # \"myR\" is an instance of the Rectangle class, with sides of lenght 2 and 3"
      ],
      "execution_count": 0,
      "outputs": []
    },
    {
      "cell_type": "code",
      "metadata": {
        "id": "5VyW9vEw0oEL",
        "colab_type": "code",
        "colab": {}
      },
      "source": [
        "myS.Test = 5\n"
      ],
      "execution_count": 0,
      "outputs": []
    },
    {
      "cell_type": "code",
      "metadata": {
        "id": "CYiUsB0r1FIT",
        "colab_type": "code",
        "colab": {}
      },
      "source": [
        "myR.Test = 455"
      ],
      "execution_count": 0,
      "outputs": []
    },
    {
      "cell_type": "code",
      "metadata": {
        "id": "NeV7Myd21T-V",
        "colab_type": "code",
        "outputId": "c7c79e00-2b33-401e-8df1-faa5d9b68116",
        "colab": {
          "base_uri": "https://localhost:8080/",
          "height": 36
        }
      },
      "source": [
        "Rectangle.Test"
      ],
      "execution_count": 0,
      "outputs": [
        {
          "output_type": "execute_result",
          "data": {
            "text/plain": [
              "123"
            ]
          },
          "metadata": {
            "tags": []
          },
          "execution_count": 134
        }
      ]
    },
    {
      "cell_type": "code",
      "metadata": {
        "id": "axw3oHbz1RWO",
        "colab_type": "code",
        "outputId": "1b28ee19-7cfc-4216-eb9f-31c78a4907dd",
        "colab": {
          "base_uri": "https://localhost:8080/",
          "height": 1483
        }
      },
      "source": [
        "dir(str)"
      ],
      "execution_count": 0,
      "outputs": [
        {
          "output_type": "execute_result",
          "data": {
            "text/plain": [
              "['__add__',\n",
              " '__class__',\n",
              " '__contains__',\n",
              " '__delattr__',\n",
              " '__dir__',\n",
              " '__doc__',\n",
              " '__eq__',\n",
              " '__format__',\n",
              " '__ge__',\n",
              " '__getattribute__',\n",
              " '__getitem__',\n",
              " '__getnewargs__',\n",
              " '__gt__',\n",
              " '__hash__',\n",
              " '__init__',\n",
              " '__init_subclass__',\n",
              " '__iter__',\n",
              " '__le__',\n",
              " '__len__',\n",
              " '__lt__',\n",
              " '__mod__',\n",
              " '__mul__',\n",
              " '__ne__',\n",
              " '__new__',\n",
              " '__reduce__',\n",
              " '__reduce_ex__',\n",
              " '__repr__',\n",
              " '__rmod__',\n",
              " '__rmul__',\n",
              " '__setattr__',\n",
              " '__sizeof__',\n",
              " '__str__',\n",
              " '__subclasshook__',\n",
              " 'capitalize',\n",
              " 'casefold',\n",
              " 'center',\n",
              " 'count',\n",
              " 'encode',\n",
              " 'endswith',\n",
              " 'expandtabs',\n",
              " 'find',\n",
              " 'format',\n",
              " 'format_map',\n",
              " 'index',\n",
              " 'isalnum',\n",
              " 'isalpha',\n",
              " 'isdecimal',\n",
              " 'isdigit',\n",
              " 'isidentifier',\n",
              " 'islower',\n",
              " 'isnumeric',\n",
              " 'isprintable',\n",
              " 'isspace',\n",
              " 'istitle',\n",
              " 'isupper',\n",
              " 'join',\n",
              " 'ljust',\n",
              " 'lower',\n",
              " 'lstrip',\n",
              " 'maketrans',\n",
              " 'partition',\n",
              " 'replace',\n",
              " 'rfind',\n",
              " 'rindex',\n",
              " 'rjust',\n",
              " 'rpartition',\n",
              " 'rsplit',\n",
              " 'rstrip',\n",
              " 'split',\n",
              " 'splitlines',\n",
              " 'startswith',\n",
              " 'strip',\n",
              " 'swapcase',\n",
              " 'title',\n",
              " 'translate',\n",
              " 'upper',\n",
              " 'zfill']"
            ]
          },
          "metadata": {
            "tags": []
          },
          "execution_count": 138
        }
      ]
    },
    {
      "cell_type": "code",
      "metadata": {
        "id": "L_Hm6J_j2Psa",
        "colab_type": "code",
        "outputId": "ca2ac876-e3d1-4e17-a5ed-989cbaae8fe7",
        "colab": {
          "base_uri": "https://localhost:8080/",
          "height": 150
        }
      },
      "source": [
        "help(\"sasdfa\".upper)"
      ],
      "execution_count": 0,
      "outputs": [
        {
          "output_type": "stream",
          "text": [
            "Help on built-in function upper:\n",
            "\n",
            "upper(...) method of builtins.str instance\n",
            "    S.upper() -> str\n",
            "    \n",
            "    Return a copy of S converted to uppercase.\n",
            "\n"
          ],
          "name": "stdout"
        }
      ]
    },
    {
      "cell_type": "code",
      "metadata": {
        "id": "zSirKPTxhGgk",
        "colab_type": "code",
        "colab": {}
      },
      "source": [
        "myR.area() # if we call the \"area\" method on the instance object, it returns myR's area"
      ],
      "execution_count": 0,
      "outputs": []
    },
    {
      "cell_type": "markdown",
      "metadata": {
        "id": "j8PIpIPphGgl",
        "colab_type": "text"
      },
      "source": [
        "We can create as many instances of our class as we want:"
      ]
    },
    {
      "cell_type": "code",
      "metadata": {
        "id": "SvxO7cd_hGgl",
        "colab_type": "code",
        "colab": {}
      },
      "source": [
        "myS = Rectangle(23,11)\n",
        "myT = Rectangle(10,20)\n",
        "myU = Rectangle(1,1) # that's square, which just a particular case of a rectangle"
      ],
      "execution_count": 0,
      "outputs": []
    },
    {
      "cell_type": "markdown",
      "metadata": {
        "id": "ja8xJt_NhGgm",
        "colab_type": "text"
      },
      "source": [
        "Now let's print the areas of those rectangles:"
      ]
    },
    {
      "cell_type": "code",
      "metadata": {
        "id": "y_1gijFLhGgm",
        "colab_type": "code",
        "colab": {}
      },
      "source": [
        "print(myS.area(),myT.area(),myU.area())"
      ],
      "execution_count": 0,
      "outputs": []
    },
    {
      "cell_type": "markdown",
      "metadata": {
        "id": "xtGCVi8UhGgn",
        "colab_type": "text"
      },
      "source": [
        "It is important to realize that all data types in Python are in fact *classes*. Many of these classes have *methods* that can be called exactly in the same way as the *area method* of our *Rectangle class*. For example, `list` objects have many *methods*, one of them being `sort` . Let's see it in action:"
      ]
    },
    {
      "cell_type": "code",
      "metadata": {
        "id": "g1H9NRrzhGgo",
        "colab_type": "code",
        "colab": {}
      },
      "source": [
        "myList = [4,2,8,5,7,9,42,1,13]\n",
        "print(\"Unsorted: \", myList)\n",
        "myList.sort()\n",
        "print(\"Sorted: \", myList)"
      ],
      "execution_count": 0,
      "outputs": []
    },
    {
      "cell_type": "markdown",
      "metadata": {
        "id": "2EoZighqhGgo",
        "colab_type": "text"
      },
      "source": [
        "The *method* `sort` re-arranged the elements in the list in ascending order. "
      ]
    },
    {
      "cell_type": "markdown",
      "metadata": {
        "id": "4mDlvYjuhGgp",
        "colab_type": "text"
      },
      "source": [
        "Strings also have methods. For example:"
      ]
    },
    {
      "cell_type": "code",
      "metadata": {
        "id": "DjopoSFPhGgp",
        "colab_type": "code",
        "colab": {}
      },
      "source": [
        "myString = \"this is a string\"\n",
        "print(myString.upper())   # the \"upper\" method converts all letters to upper case (CAPITALS)  \n",
        "print(myString)"
      ],
      "execution_count": 0,
      "outputs": []
    },
    {
      "cell_type": "markdown",
      "metadata": {
        "id": "xob1m0rihGgp",
        "colab_type": "text"
      },
      "source": [
        "**HANDS-ON:** Try to spot one very important difference between the previous example and the one with the list object. (*Hint:* Think about what the final value of our variable is in each case.)"
      ]
    },
    {
      "cell_type": "markdown",
      "metadata": {
        "id": "WqryAwahhGgp",
        "colab_type": "text"
      },
      "source": [
        "**HANDS-ON:** Go back to our `Rectangle` classe example and add a method named `perimeter` that returns the perimeter of a rectangle. Write the new method in the cell below, and test it with a few examples. "
      ]
    },
    {
      "cell_type": "code",
      "metadata": {
        "id": "g6ot_OWVmkXD",
        "colab_type": "code",
        "colab": {}
      },
      "source": [
        "class Rectangle :\n",
        "    def __init__(self,a,b):\n",
        "        self.sideA = a\n",
        "        self.sideB = b\n",
        "    def area(self):\n",
        "        return self.sideA*self.sideB\n",
        "    def perimeter(self):\n",
        "        return 2 * (self.sideA + self.sideB)"
      ],
      "execution_count": 0,
      "outputs": []
    },
    {
      "cell_type": "code",
      "metadata": {
        "id": "HqGIo9VvoFre",
        "colab_type": "code",
        "colab": {}
      },
      "source": [
        "R = Rectangle(20,34)"
      ],
      "execution_count": 0,
      "outputs": []
    },
    {
      "cell_type": "code",
      "metadata": {
        "id": "jaPMZdDOoXZK",
        "colab_type": "code",
        "colab": {}
      },
      "source": [
        "R.RR"
      ],
      "execution_count": 0,
      "outputs": []
    },
    {
      "cell_type": "code",
      "metadata": {
        "id": "4BIZjYKyogkE",
        "colab_type": "code",
        "colab": {}
      },
      "source": [
        "R.sideB"
      ],
      "execution_count": 0,
      "outputs": []
    },
    {
      "cell_type": "code",
      "metadata": {
        "id": "E4MJbjxLo_zi",
        "colab_type": "code",
        "colab": {}
      },
      "source": [
        "dir(Rectangle)"
      ],
      "execution_count": 0,
      "outputs": []
    },
    {
      "cell_type": "code",
      "metadata": {
        "id": "rZCHaGM-pLzp",
        "colab_type": "code",
        "colab": {}
      },
      "source": [
        "dir(str)"
      ],
      "execution_count": 0,
      "outputs": []
    },
    {
      "cell_type": "code",
      "metadata": {
        "id": "s6InA6JdpUz8",
        "colab_type": "code",
        "colab": {}
      },
      "source": [
        "\"adfad\".upper()"
      ],
      "execution_count": 0,
      "outputs": []
    },
    {
      "cell_type": "markdown",
      "metadata": {
        "id": "RSpHhulohGgq",
        "colab_type": "text"
      },
      "source": [
        "### 11. **Reading and Writing Files**"
      ]
    },
    {
      "cell_type": "markdown",
      "metadata": {
        "id": "FaBmM7XihGgq",
        "colab_type": "text"
      },
      "source": [
        "So far we have seen only the simplest ways to interact with program code: by providing data in input boxes (with the `input` command) and by writing out data to the cell output. If these were the only ways to *input* and *output* data, programming languages wouldn't be very useful - how would we feed a program with the entire gene sequence of an organism, for instance ?... Or how would one save the output of program consisting of *thousands* of lines ?\n",
        "\n",
        "Fortunately, programming languages provide the necessary mechanisms to read and write data to and from *files*. A file is just a piece of information stored on a computer - it could be the text of a book, a computer program, a sound file, a video file or many other things. Not matter what the actual content is, all files are the same: collections of bytes stored in more or less permanent memory. Each file is referred by a *name*, which allows us to retrieve its contents when needed. The Python programming language provides various mechanisms to read and write data from files. Let's learn the simplest one, starting with a motivating example. \n",
        "\n",
        "Suppose we want to compute a table with the cosinuses  of angles between 0 and 360. We could simply do:"
      ]
    },
    {
      "cell_type": "code",
      "metadata": {
        "id": "I8h8c0yZhGgq",
        "colab_type": "code",
        "outputId": "e1f63703-52da-4ed8-dd21-98cad4644821",
        "colab": {
          "base_uri": "https://localhost:8080/",
          "height": 6869
        }
      },
      "source": [
        "from math import cos\n",
        "for angle in range(360):\n",
        "    print(\"{:>4} {:5.2f}\".format(angle, cos(angle)))"
      ],
      "execution_count": 0,
      "outputs": [
        {
          "output_type": "stream",
          "text": [
            "   0  1.00\n",
            "   1  0.54\n",
            "   2 -0.42\n",
            "   3 -0.99\n",
            "   4 -0.65\n",
            "   5  0.28\n",
            "   6  0.96\n",
            "   7  0.75\n",
            "   8 -0.15\n",
            "   9 -0.91\n",
            "  10 -0.84\n",
            "  11  0.00\n",
            "  12  0.84\n",
            "  13  0.91\n",
            "  14  0.14\n",
            "  15 -0.76\n",
            "  16 -0.96\n",
            "  17 -0.28\n",
            "  18  0.66\n",
            "  19  0.99\n",
            "  20  0.41\n",
            "  21 -0.55\n",
            "  22 -1.00\n",
            "  23 -0.53\n",
            "  24  0.42\n",
            "  25  0.99\n",
            "  26  0.65\n",
            "  27 -0.29\n",
            "  28 -0.96\n",
            "  29 -0.75\n",
            "  30  0.15\n",
            "  31  0.91\n",
            "  32  0.83\n",
            "  33 -0.01\n",
            "  34 -0.85\n",
            "  35 -0.90\n",
            "  36 -0.13\n",
            "  37  0.77\n",
            "  38  0.96\n",
            "  39  0.27\n",
            "  40 -0.67\n",
            "  41 -0.99\n",
            "  42 -0.40\n",
            "  43  0.56\n",
            "  44  1.00\n",
            "  45  0.53\n",
            "  46 -0.43\n",
            "  47 -0.99\n",
            "  48 -0.64\n",
            "  49  0.30\n",
            "  50  0.96\n",
            "  51  0.74\n",
            "  52 -0.16\n",
            "  53 -0.92\n",
            "  54 -0.83\n",
            "  55  0.02\n",
            "  56  0.85\n",
            "  57  0.90\n",
            "  58  0.12\n",
            "  59 -0.77\n",
            "  60 -0.95\n",
            "  61 -0.26\n",
            "  62  0.67\n",
            "  63  0.99\n",
            "  64  0.39\n",
            "  65 -0.56\n",
            "  66 -1.00\n",
            "  67 -0.52\n",
            "  68  0.44\n",
            "  69  0.99\n",
            "  70  0.63\n",
            "  71 -0.31\n",
            "  72 -0.97\n",
            "  73 -0.74\n",
            "  74  0.17\n",
            "  75  0.92\n",
            "  76  0.82\n",
            "  77 -0.03\n",
            "  78 -0.86\n",
            "  79 -0.90\n",
            "  80 -0.11\n",
            "  81  0.78\n",
            "  82  0.95\n",
            "  83  0.25\n",
            "  84 -0.68\n",
            "  85 -0.98\n",
            "  86 -0.38\n",
            "  87  0.57\n",
            "  88  1.00\n",
            "  89  0.51\n",
            "  90 -0.45\n",
            "  91 -0.99\n",
            "  92 -0.63\n",
            "  93  0.32\n",
            "  94  0.97\n",
            "  95  0.73\n",
            "  96 -0.18\n",
            "  97 -0.93\n",
            "  98 -0.82\n",
            "  99  0.04\n",
            " 100  0.86\n",
            " 101  0.89\n",
            " 102  0.10\n",
            " 103 -0.78\n",
            " 104 -0.95\n",
            " 105 -0.24\n",
            " 106  0.69\n",
            " 107  0.98\n",
            " 108  0.38\n",
            " 109 -0.58\n",
            " 110 -1.00\n",
            " 111 -0.50\n",
            " 112  0.46\n",
            " 113  1.00\n",
            " 114  0.62\n",
            " 115 -0.33\n",
            " 116 -0.97\n",
            " 117 -0.72\n",
            " 118  0.19\n",
            " 119  0.93\n",
            " 120  0.81\n",
            " 121 -0.05\n",
            " 122 -0.87\n",
            " 123 -0.89\n",
            " 124 -0.09\n",
            " 125  0.79\n",
            " 126  0.94\n",
            " 127  0.23\n",
            " 128 -0.69\n",
            " 129 -0.98\n",
            " 130 -0.37\n",
            " 131  0.58\n",
            " 132  1.00\n",
            " 133  0.49\n",
            " 134 -0.46\n",
            " 135 -1.00\n",
            " 136 -0.61\n",
            " 137  0.33\n",
            " 138  0.97\n",
            " 139  0.72\n",
            " 140 -0.20\n",
            " 141 -0.93\n",
            " 142 -0.81\n",
            " 143  0.06\n",
            " 144  0.87\n",
            " 145  0.88\n",
            " 146  0.08\n",
            " 147 -0.79\n",
            " 148 -0.94\n",
            " 149 -0.22\n",
            " 150  0.70\n",
            " 151  0.98\n",
            " 152  0.36\n",
            " 153 -0.59\n",
            " 154 -1.00\n",
            " 155 -0.49\n",
            " 156  0.47\n",
            " 157  1.00\n",
            " 158  0.61\n",
            " 159 -0.34\n",
            " 160 -0.98\n",
            " 161 -0.71\n",
            " 162  0.21\n",
            " 163  0.93\n",
            " 164  0.80\n",
            " 165 -0.07\n",
            " 166 -0.88\n",
            " 167 -0.88\n",
            " 168 -0.08\n",
            " 169  0.80\n",
            " 170  0.94\n",
            " 171  0.22\n",
            " 172 -0.71\n",
            " 173 -0.98\n",
            " 174 -0.35\n",
            " 175  0.60\n",
            " 176  1.00\n",
            " 177  0.48\n",
            " 178 -0.48\n",
            " 179 -1.00\n",
            " 180 -0.60\n",
            " 181  0.35\n",
            " 182  0.98\n",
            " 183  0.71\n",
            " 184 -0.22\n",
            " 185 -0.94\n",
            " 186 -0.80\n",
            " 187  0.08\n",
            " 188  0.88\n",
            " 189  0.88\n",
            " 190  0.07\n",
            " 191 -0.80\n",
            " 192 -0.93\n",
            " 193 -0.21\n",
            " 194  0.71\n",
            " 195  0.98\n",
            " 196  0.34\n",
            " 197 -0.61\n",
            " 198 -1.00\n",
            " 199 -0.47\n",
            " 200  0.49\n",
            " 201  1.00\n",
            " 202  0.59\n",
            " 203 -0.36\n",
            " 204 -0.98\n",
            " 205 -0.70\n",
            " 206  0.22\n",
            " 207  0.94\n",
            " 208  0.79\n",
            " 209 -0.08\n",
            " 210 -0.88\n",
            " 211 -0.87\n",
            " 212 -0.06\n",
            " 213  0.81\n",
            " 214  0.93\n",
            " 215  0.20\n",
            " 216 -0.72\n",
            " 217 -0.97\n",
            " 218 -0.33\n",
            " 219  0.61\n",
            " 220  1.00\n",
            " 221  0.46\n",
            " 222 -0.49\n",
            " 223 -1.00\n",
            " 224 -0.58\n",
            " 225  0.37\n",
            " 226  0.98\n",
            " 227  0.69\n",
            " 228 -0.23\n",
            " 229 -0.94\n",
            " 230 -0.79\n",
            " 231  0.09\n",
            " 232  0.89\n",
            " 233  0.87\n",
            " 234  0.05\n",
            " 235 -0.81\n",
            " 236 -0.93\n",
            " 237 -0.19\n",
            " 238  0.72\n",
            " 239  0.97\n",
            " 240  0.33\n",
            " 241 -0.62\n",
            " 242 -1.00\n",
            " 243 -0.46\n",
            " 244  0.50\n",
            " 245  1.00\n",
            " 246  0.58\n",
            " 247 -0.38\n",
            " 248 -0.98\n",
            " 249 -0.69\n",
            " 250  0.24\n",
            " 251  0.95\n",
            " 252  0.78\n",
            " 253 -0.10\n",
            " 254 -0.89\n",
            " 255 -0.86\n",
            " 256 -0.04\n",
            " 257  0.82\n",
            " 258  0.93\n",
            " 259  0.18\n",
            " 260 -0.73\n",
            " 261 -0.97\n",
            " 262 -0.32\n",
            " 263  0.63\n",
            " 264  0.99\n",
            " 265  0.45\n",
            " 266 -0.51\n",
            " 267 -1.00\n",
            " 268 -0.57\n",
            " 269  0.38\n",
            " 270  0.98\n",
            " 271  0.68\n",
            " 272 -0.25\n",
            " 273 -0.95\n",
            " 274 -0.78\n",
            " 275  0.11\n",
            " 276  0.90\n",
            " 277  0.86\n",
            " 278  0.03\n",
            " 279 -0.82\n",
            " 280 -0.92\n",
            " 281 -0.17\n",
            " 282  0.74\n",
            " 283  0.97\n",
            " 284  0.31\n",
            " 285 -0.63\n",
            " 286 -0.99\n",
            " 287 -0.44\n",
            " 288  0.52\n",
            " 289  1.00\n",
            " 290  0.56\n",
            " 291 -0.39\n",
            " 292 -0.99\n",
            " 293 -0.67\n",
            " 294  0.26\n",
            " 295  0.95\n",
            " 296  0.77\n",
            " 297 -0.12\n",
            " 298 -0.90\n",
            " 299 -0.85\n",
            " 300 -0.02\n",
            " 301  0.83\n",
            " 302  0.92\n",
            " 303  0.16\n",
            " 304 -0.74\n",
            " 305 -0.96\n",
            " 306 -0.30\n",
            " 307  0.64\n",
            " 308  0.99\n",
            " 309  0.43\n",
            " 310 -0.53\n",
            " 311 -1.00\n",
            " 312 -0.56\n",
            " 313  0.40\n",
            " 314  0.99\n",
            " 315  0.67\n",
            " 316 -0.27\n",
            " 317 -0.96\n",
            " 318 -0.77\n",
            " 319  0.13\n",
            " 320  0.90\n",
            " 321  0.85\n",
            " 322  0.01\n",
            " 323 -0.83\n",
            " 324 -0.91\n",
            " 325 -0.15\n",
            " 326  0.75\n",
            " 327  0.96\n",
            " 328  0.29\n",
            " 329 -0.65\n",
            " 330 -0.99\n",
            " 331 -0.42\n",
            " 332  0.53\n",
            " 333  1.00\n",
            " 334  0.55\n",
            " 335 -0.41\n",
            " 336 -0.99\n",
            " 337 -0.66\n",
            " 338  0.28\n",
            " 339  0.96\n",
            " 340  0.76\n",
            " 341 -0.14\n",
            " 342 -0.91\n",
            " 343 -0.84\n",
            " 344 -0.00\n",
            " 345  0.84\n",
            " 346  0.91\n",
            " 347  0.15\n",
            " 348 -0.75\n",
            " 349 -0.96\n",
            " 350 -0.28\n",
            " 351  0.65\n",
            " 352  0.99\n",
            " 353  0.42\n",
            " 354 -0.54\n",
            " 355 -1.00\n",
            " 356 -0.54\n",
            " 357  0.42\n",
            " 358  0.99\n",
            " 359  0.65\n"
          ],
          "name": "stdout"
        }
      ]
    },
    {
      "cell_type": "markdown",
      "metadata": {
        "id": "GeRO8AcghGgs",
        "colab_type": "text"
      },
      "source": [
        "That's rather a long list, isn't it ? Not very pratical to use in the browser, and what if we wanted to save it for later ?... One way is to save the result into a *file*. Let's see how one creates files in Python. That's what the `open` comand is for:"
      ]
    },
    {
      "cell_type": "code",
      "metadata": {
        "id": "gMjn-OCa3-hS",
        "colab_type": "code",
        "outputId": "3d08c1e6-d152-49a6-a40c-4a336b2ff2a0",
        "colab": {
          "base_uri": "https://localhost:8080/",
          "height": 36
        }
      },
      "source": [
        "%pwd"
      ],
      "execution_count": 0,
      "outputs": [
        {
          "output_type": "execute_result",
          "data": {
            "text/plain": [
              "'/content'"
            ]
          },
          "metadata": {
            "tags": []
          },
          "execution_count": 142
        }
      ]
    },
    {
      "cell_type": "code",
      "metadata": {
        "id": "VM4O1PlJhGgs",
        "colab_type": "code",
        "colab": {}
      },
      "source": [
        "f = open(\"myfile.dat\",\"w\")"
      ],
      "execution_count": 0,
      "outputs": []
    },
    {
      "cell_type": "markdown",
      "metadata": {
        "id": "PXtHz87dhGgs",
        "colab_type": "text"
      },
      "source": [
        "The previous command has just opened the file \"myfile.dat\" for writing (hence the \"w\" as seconda argument in the `open` function). It returns a value, the *file descriptor*, which we assigned to `f`. This variable `f` will work like a handle that we can use to operate on our file. Before we do anything, let's check that this file was indeed create. That's because when we open a file for *writing*, it will be created (if it doesn't exist already).  "
      ]
    },
    {
      "cell_type": "code",
      "metadata": {
        "id": "Nd2RP7-NuIFC",
        "colab_type": "code",
        "outputId": "dcc3eb68-ad13-4b76-bb4e-ac158272cb22",
        "colab": {
          "base_uri": "https://localhost:8080/",
          "height": 36
        }
      },
      "source": [
        "%ls"
      ],
      "execution_count": 0,
      "outputs": [
        {
          "output_type": "stream",
          "text": [
            "junk.txt  myfile.dat  \u001b[0m\u001b[01;34msample_data\u001b[0m/\n"
          ],
          "name": "stdout"
        }
      ]
    },
    {
      "cell_type": "code",
      "metadata": {
        "id": "KNa0V-dTqMIZ",
        "colab_type": "code",
        "colab": {}
      },
      "source": [
        "%cat myfile.dat"
      ],
      "execution_count": 0,
      "outputs": []
    },
    {
      "cell_type": "markdown",
      "metadata": {
        "id": "bTT3Iy9xuNg6",
        "colab_type": "text"
      },
      "source": [
        "Commands starting with \"%\" are called *magic commands*, and they not part of the Python language. The \"%ls\" command will list all files in the work space of your virtual machine. In this you will see the \"myfile.dat\" file, because the `open` command *created* it. For now, the file is open but also empty, because we haven't written anything on it! Let's change that:"
      ]
    },
    {
      "cell_type": "code",
      "metadata": {
        "id": "UO_MyCQahGgt",
        "colab_type": "code",
        "outputId": "10f30118-fee2-4a0a-d04d-236d9393db39",
        "colab": {
          "base_uri": "https://localhost:8080/",
          "height": 36
        }
      },
      "source": [
        "f.write(\"This is the first line of my file.\")"
      ],
      "execution_count": 0,
      "outputs": [
        {
          "output_type": "execute_result",
          "data": {
            "text/plain": [
              "34"
            ]
          },
          "metadata": {
            "tags": []
          },
          "execution_count": 146
        }
      ]
    },
    {
      "cell_type": "code",
      "metadata": {
        "id": "FnNwsn_WhGgv",
        "colab_type": "code",
        "outputId": "b514a677-40a2-4fa8-df8d-05666643d0ca",
        "colab": {
          "base_uri": "https://localhost:8080/",
          "height": 36
        }
      },
      "source": [
        "f.write(\"And this is the second line of my file.\")"
      ],
      "execution_count": 0,
      "outputs": [
        {
          "output_type": "execute_result",
          "data": {
            "text/plain": [
              "39"
            ]
          },
          "metadata": {
            "tags": []
          },
          "execution_count": 147
        }
      ]
    },
    {
      "cell_type": "markdown",
      "metadata": {
        "id": "9hRoygWnhGgw",
        "colab_type": "text"
      },
      "source": [
        "Now that we wrote all we wanted to the file, we need to *close* it, or otherwise we can't read what's in there. Let's try and inspect our newly created file the \"cat\" magi command (magic comands  special non-Python commands started with \"%\"):"
      ]
    },
    {
      "cell_type": "code",
      "metadata": {
        "id": "8qNJitqaoAkD",
        "colab_type": "code",
        "colab": {}
      },
      "source": [
        "%cat myfile.dat"
      ],
      "execution_count": 0,
      "outputs": []
    },
    {
      "cell_type": "markdown",
      "metadata": {
        "id": "kxyo7zQYoBiO",
        "colab_type": "text"
      },
      "source": [
        "The \"cat\" command should have dumped the contents of our file to the cell output, but nothing came out! Why ? ... Because file output is *buffered*, meaning that data is stored on a temporary buffer beforw actually being save to a disk file. To flush the buffer and do the disk write,  we need to call the close function of the descriptor f (we could also say we are calling the method \"close\" on the file object named by \"f\"):"
      ]
    },
    {
      "cell_type": "code",
      "metadata": {
        "id": "eVLu85oShGgw",
        "colab_type": "code",
        "colab": {}
      },
      "source": [
        "f.close()"
      ],
      "execution_count": 0,
      "outputs": []
    },
    {
      "cell_type": "markdown",
      "metadata": {
        "id": "2sh3NKpvpPRT",
        "colab_type": "text"
      },
      "source": [
        "Now let's try  and dump the contents again:"
      ]
    },
    {
      "cell_type": "code",
      "metadata": {
        "id": "z78cxLgdwucQ",
        "colab_type": "code",
        "outputId": "e9abd076-0c86-4918-c5e1-3af1e344dedc",
        "colab": {
          "base_uri": "https://localhost:8080/",
          "height": 36
        }
      },
      "source": [
        "%cat myfile.dat"
      ],
      "execution_count": 0,
      "outputs": [
        {
          "output_type": "stream",
          "text": [
            "This is the first line of my file.And this is the second line of my file."
          ],
          "name": "stdout"
        }
      ]
    },
    {
      "cell_type": "markdown",
      "metadata": {
        "id": "lQAAW4u1hGgx",
        "colab_type": "text"
      },
      "source": [
        "Now the data is stored in the file! But wait... we intended to have each string on a separate line, but instead the two strings are glued together on a single long line. That is because the `f.write()` command outputs exactly what we place between the brackets, and does not add any *line break* to the end. Without line breaks, the file will be a long unbroken line of characters. Now, this may or may not be what we want, but most likely it's *not*. Particularly if the file is meant as a human readable text or table. \n",
        "\n",
        "We can fix it by telling the `write` command where our line breaks are - in this case, at the end of each string. Let's write the complete new code on a single cell:"
      ]
    },
    {
      "cell_type": "code",
      "metadata": {
        "id": "QMzkKCmjhGgx",
        "colab_type": "code",
        "outputId": "3d9ff6cc-a94b-4c22-fff1-4cab64c434a2",
        "colab": {
          "base_uri": "https://localhost:8080/",
          "height": 55
        }
      },
      "source": [
        "f = open(\"myfile.dat\",\"w\")\n",
        "f.write(\"This is the first line of my file.\\n\")\n",
        "f.write(\"And this is the second line of my file.\\n\")\n",
        "f.close()\n",
        "%cat myfile.dat"
      ],
      "execution_count": 0,
      "outputs": [
        {
          "output_type": "stream",
          "text": [
            "This is the first line of my file.\n",
            "And this is the second line of my file.\n"
          ],
          "name": "stdout"
        }
      ]
    },
    {
      "cell_type": "markdown",
      "metadata": {
        "id": "WTtCSBcThGgy",
        "colab_type": "text"
      },
      "source": [
        "We added a \"\\n\" at end of each line. Why?... While there are two characters in \"\\n\" sgring, the Python languate intrepreter reads it as single special \"newline character\". Printing (or `write`ing) this character does not ouput any visible symbols to the screen or file. Instead, it causes a line change (this is similar to the hidden end-of-paragraph symbols in Microsoft Word, for instance). \n",
        "\n",
        "\n",
        "**N.B.:** Notice that the original content of \"myfile.dat\" (the single long line) is entirely replaced with the new content. Every time we open a file for *writing* (using \"w\" as the second argument to the `open` commmand), its contents will be erased and replaced with the new data. Be careful with the \"w\" mode!"
      ]
    },
    {
      "cell_type": "markdown",
      "metadata": {
        "id": "gjyN8EVdhGg0",
        "colab_type": "text"
      },
      "source": [
        "Now that we have properly written our file, closed it and checked the integrity of its contents, we may try to read it using Python commands. The `open` command comes again to our rescue, but now its second argument will be an \"r\" (for *read*), like this:"
      ]
    },
    {
      "cell_type": "code",
      "metadata": {
        "id": "FLbN1_FHhGg0",
        "colab_type": "code",
        "colab": {}
      },
      "source": [
        "f = open(\"myfile.dat\",\"r\")  # the \"r\" mode can be used safely, it won't erase the file!"
      ],
      "execution_count": 0,
      "outputs": []
    },
    {
      "cell_type": "markdown",
      "metadata": {
        "id": "qhs-T_XfhGg1",
        "colab_type": "text"
      },
      "source": [
        "Now let's read the file in one go, using the `read` method:"
      ]
    },
    {
      "cell_type": "code",
      "metadata": {
        "id": "HoY-3N1hhGg1",
        "colab_type": "code",
        "colab": {}
      },
      "source": [
        "contents = f.read()  # the .read() method reads the whole file at once."
      ],
      "execution_count": 0,
      "outputs": []
    },
    {
      "cell_type": "code",
      "metadata": {
        "id": "0l49DqxHhGg2",
        "colab_type": "code",
        "colab": {}
      },
      "source": [
        "f.close() # strictly speaking, we did not need to close the file, but it is a good practice..."
      ],
      "execution_count": 0,
      "outputs": []
    },
    {
      "cell_type": "code",
      "metadata": {
        "id": "Zt8Ns-q7hGg4",
        "colab_type": "code",
        "outputId": "1cec057f-6e2e-4194-d186-25418890166b",
        "colab": {
          "base_uri": "https://localhost:8080/",
          "height": 74
        }
      },
      "source": [
        "print(contents)"
      ],
      "execution_count": 0,
      "outputs": [
        {
          "output_type": "stream",
          "text": [
            "This is the first line of my file.\n",
            "And this is the second line of my file.\n",
            "\n"
          ],
          "name": "stdout"
        }
      ]
    },
    {
      "cell_type": "markdown",
      "metadata": {
        "id": "ChUjnPa0hGg5",
        "colab_type": "text"
      },
      "source": [
        "The ouput is nicely formmated because the `print` command knows how to interpret the \"\\n\" characters. Let's see what really is the file, by evaluating it directly in the cell:"
      ]
    },
    {
      "cell_type": "code",
      "metadata": {
        "id": "pG4Jcp24hGg5",
        "colab_type": "code",
        "outputId": "fcca06ce-c763-41ed-e4a9-f11e6648be80",
        "colab": {
          "base_uri": "https://localhost:8080/",
          "height": 36
        }
      },
      "source": [
        "contents"
      ],
      "execution_count": 0,
      "outputs": [
        {
          "output_type": "execute_result",
          "data": {
            "text/plain": [
              "'This is the first line of my file.\\nAnd this is the second line of my file.\\n'"
            ]
          },
          "metadata": {
            "tags": []
          },
          "execution_count": 157
        }
      ]
    },
    {
      "cell_type": "markdown",
      "metadata": {
        "id": "qigFzZVehGg7",
        "colab_type": "text"
      },
      "source": [
        "We can clearly see the location of each new line character in the file."
      ]
    },
    {
      "cell_type": "markdown",
      "metadata": {
        "id": "PZB2s00dhGg7",
        "colab_type": "text"
      },
      "source": [
        "Now let's go back to our cos table problem and rewrite the code to produce a file with the data:"
      ]
    },
    {
      "cell_type": "code",
      "metadata": {
        "id": "I4MW1_TdhGg8",
        "colab_type": "code",
        "colab": {}
      },
      "source": [
        "from math import cos\n",
        "f = open(\"cos_table.dat\",\"w\")\n",
        "for angle in range(360):\n",
        "    f.write(\"{} {:5.2f}\\n\".format(angle, cos(angle))) # notice the \"\\n\" at the end of the string! \n",
        "f.close()"
      ],
      "execution_count": 0,
      "outputs": []
    },
    {
      "cell_type": "code",
      "metadata": {
        "id": "eR_I-p0IhGg9",
        "colab_type": "code",
        "outputId": "b5487454-c99a-466b-c610-7096544b666a",
        "colab": {
          "base_uri": "https://localhost:8080/",
          "height": 6869
        }
      },
      "source": [
        "%cat cos_table.dat"
      ],
      "execution_count": 0,
      "outputs": [
        {
          "output_type": "stream",
          "text": [
            "0  1.00\n",
            "1  0.54\n",
            "2 -0.42\n",
            "3 -0.99\n",
            "4 -0.65\n",
            "5  0.28\n",
            "6  0.96\n",
            "7  0.75\n",
            "8 -0.15\n",
            "9 -0.91\n",
            "10 -0.84\n",
            "11  0.00\n",
            "12  0.84\n",
            "13  0.91\n",
            "14  0.14\n",
            "15 -0.76\n",
            "16 -0.96\n",
            "17 -0.28\n",
            "18  0.66\n",
            "19  0.99\n",
            "20  0.41\n",
            "21 -0.55\n",
            "22 -1.00\n",
            "23 -0.53\n",
            "24  0.42\n",
            "25  0.99\n",
            "26  0.65\n",
            "27 -0.29\n",
            "28 -0.96\n",
            "29 -0.75\n",
            "30  0.15\n",
            "31  0.91\n",
            "32  0.83\n",
            "33 -0.01\n",
            "34 -0.85\n",
            "35 -0.90\n",
            "36 -0.13\n",
            "37  0.77\n",
            "38  0.96\n",
            "39  0.27\n",
            "40 -0.67\n",
            "41 -0.99\n",
            "42 -0.40\n",
            "43  0.56\n",
            "44  1.00\n",
            "45  0.53\n",
            "46 -0.43\n",
            "47 -0.99\n",
            "48 -0.64\n",
            "49  0.30\n",
            "50  0.96\n",
            "51  0.74\n",
            "52 -0.16\n",
            "53 -0.92\n",
            "54 -0.83\n",
            "55  0.02\n",
            "56  0.85\n",
            "57  0.90\n",
            "58  0.12\n",
            "59 -0.77\n",
            "60 -0.95\n",
            "61 -0.26\n",
            "62  0.67\n",
            "63  0.99\n",
            "64  0.39\n",
            "65 -0.56\n",
            "66 -1.00\n",
            "67 -0.52\n",
            "68  0.44\n",
            "69  0.99\n",
            "70  0.63\n",
            "71 -0.31\n",
            "72 -0.97\n",
            "73 -0.74\n",
            "74  0.17\n",
            "75  0.92\n",
            "76  0.82\n",
            "77 -0.03\n",
            "78 -0.86\n",
            "79 -0.90\n",
            "80 -0.11\n",
            "81  0.78\n",
            "82  0.95\n",
            "83  0.25\n",
            "84 -0.68\n",
            "85 -0.98\n",
            "86 -0.38\n",
            "87  0.57\n",
            "88  1.00\n",
            "89  0.51\n",
            "90 -0.45\n",
            "91 -0.99\n",
            "92 -0.63\n",
            "93  0.32\n",
            "94  0.97\n",
            "95  0.73\n",
            "96 -0.18\n",
            "97 -0.93\n",
            "98 -0.82\n",
            "99  0.04\n",
            "100  0.86\n",
            "101  0.89\n",
            "102  0.10\n",
            "103 -0.78\n",
            "104 -0.95\n",
            "105 -0.24\n",
            "106  0.69\n",
            "107  0.98\n",
            "108  0.38\n",
            "109 -0.58\n",
            "110 -1.00\n",
            "111 -0.50\n",
            "112  0.46\n",
            "113  1.00\n",
            "114  0.62\n",
            "115 -0.33\n",
            "116 -0.97\n",
            "117 -0.72\n",
            "118  0.19\n",
            "119  0.93\n",
            "120  0.81\n",
            "121 -0.05\n",
            "122 -0.87\n",
            "123 -0.89\n",
            "124 -0.09\n",
            "125  0.79\n",
            "126  0.94\n",
            "127  0.23\n",
            "128 -0.69\n",
            "129 -0.98\n",
            "130 -0.37\n",
            "131  0.58\n",
            "132  1.00\n",
            "133  0.49\n",
            "134 -0.46\n",
            "135 -1.00\n",
            "136 -0.61\n",
            "137  0.33\n",
            "138  0.97\n",
            "139  0.72\n",
            "140 -0.20\n",
            "141 -0.93\n",
            "142 -0.81\n",
            "143  0.06\n",
            "144  0.87\n",
            "145  0.88\n",
            "146  0.08\n",
            "147 -0.79\n",
            "148 -0.94\n",
            "149 -0.22\n",
            "150  0.70\n",
            "151  0.98\n",
            "152  0.36\n",
            "153 -0.59\n",
            "154 -1.00\n",
            "155 -0.49\n",
            "156  0.47\n",
            "157  1.00\n",
            "158  0.61\n",
            "159 -0.34\n",
            "160 -0.98\n",
            "161 -0.71\n",
            "162  0.21\n",
            "163  0.93\n",
            "164  0.80\n",
            "165 -0.07\n",
            "166 -0.88\n",
            "167 -0.88\n",
            "168 -0.08\n",
            "169  0.80\n",
            "170  0.94\n",
            "171  0.22\n",
            "172 -0.71\n",
            "173 -0.98\n",
            "174 -0.35\n",
            "175  0.60\n",
            "176  1.00\n",
            "177  0.48\n",
            "178 -0.48\n",
            "179 -1.00\n",
            "180 -0.60\n",
            "181  0.35\n",
            "182  0.98\n",
            "183  0.71\n",
            "184 -0.22\n",
            "185 -0.94\n",
            "186 -0.80\n",
            "187  0.08\n",
            "188  0.88\n",
            "189  0.88\n",
            "190  0.07\n",
            "191 -0.80\n",
            "192 -0.93\n",
            "193 -0.21\n",
            "194  0.71\n",
            "195  0.98\n",
            "196  0.34\n",
            "197 -0.61\n",
            "198 -1.00\n",
            "199 -0.47\n",
            "200  0.49\n",
            "201  1.00\n",
            "202  0.59\n",
            "203 -0.36\n",
            "204 -0.98\n",
            "205 -0.70\n",
            "206  0.22\n",
            "207  0.94\n",
            "208  0.79\n",
            "209 -0.08\n",
            "210 -0.88\n",
            "211 -0.87\n",
            "212 -0.06\n",
            "213  0.81\n",
            "214  0.93\n",
            "215  0.20\n",
            "216 -0.72\n",
            "217 -0.97\n",
            "218 -0.33\n",
            "219  0.61\n",
            "220  1.00\n",
            "221  0.46\n",
            "222 -0.49\n",
            "223 -1.00\n",
            "224 -0.58\n",
            "225  0.37\n",
            "226  0.98\n",
            "227  0.69\n",
            "228 -0.23\n",
            "229 -0.94\n",
            "230 -0.79\n",
            "231  0.09\n",
            "232  0.89\n",
            "233  0.87\n",
            "234  0.05\n",
            "235 -0.81\n",
            "236 -0.93\n",
            "237 -0.19\n",
            "238  0.72\n",
            "239  0.97\n",
            "240  0.33\n",
            "241 -0.62\n",
            "242 -1.00\n",
            "243 -0.46\n",
            "244  0.50\n",
            "245  1.00\n",
            "246  0.58\n",
            "247 -0.38\n",
            "248 -0.98\n",
            "249 -0.69\n",
            "250  0.24\n",
            "251  0.95\n",
            "252  0.78\n",
            "253 -0.10\n",
            "254 -0.89\n",
            "255 -0.86\n",
            "256 -0.04\n",
            "257  0.82\n",
            "258  0.93\n",
            "259  0.18\n",
            "260 -0.73\n",
            "261 -0.97\n",
            "262 -0.32\n",
            "263  0.63\n",
            "264  0.99\n",
            "265  0.45\n",
            "266 -0.51\n",
            "267 -1.00\n",
            "268 -0.57\n",
            "269  0.38\n",
            "270  0.98\n",
            "271  0.68\n",
            "272 -0.25\n",
            "273 -0.95\n",
            "274 -0.78\n",
            "275  0.11\n",
            "276  0.90\n",
            "277  0.86\n",
            "278  0.03\n",
            "279 -0.82\n",
            "280 -0.92\n",
            "281 -0.17\n",
            "282  0.74\n",
            "283  0.97\n",
            "284  0.31\n",
            "285 -0.63\n",
            "286 -0.99\n",
            "287 -0.44\n",
            "288  0.52\n",
            "289  1.00\n",
            "290  0.56\n",
            "291 -0.39\n",
            "292 -0.99\n",
            "293 -0.67\n",
            "294  0.26\n",
            "295  0.95\n",
            "296  0.77\n",
            "297 -0.12\n",
            "298 -0.90\n",
            "299 -0.85\n",
            "300 -0.02\n",
            "301  0.83\n",
            "302  0.92\n",
            "303  0.16\n",
            "304 -0.74\n",
            "305 -0.96\n",
            "306 -0.30\n",
            "307  0.64\n",
            "308  0.99\n",
            "309  0.43\n",
            "310 -0.53\n",
            "311 -1.00\n",
            "312 -0.56\n",
            "313  0.40\n",
            "314  0.99\n",
            "315  0.67\n",
            "316 -0.27\n",
            "317 -0.96\n",
            "318 -0.77\n",
            "319  0.13\n",
            "320  0.90\n",
            "321  0.85\n",
            "322  0.01\n",
            "323 -0.83\n",
            "324 -0.91\n",
            "325 -0.15\n",
            "326  0.75\n",
            "327  0.96\n",
            "328  0.29\n",
            "329 -0.65\n",
            "330 -0.99\n",
            "331 -0.42\n",
            "332  0.53\n",
            "333  1.00\n",
            "334  0.55\n",
            "335 -0.41\n",
            "336 -0.99\n",
            "337 -0.66\n",
            "338  0.28\n",
            "339  0.96\n",
            "340  0.76\n",
            "341 -0.14\n",
            "342 -0.91\n",
            "343 -0.84\n",
            "344 -0.00\n",
            "345  0.84\n",
            "346  0.91\n",
            "347  0.15\n",
            "348 -0.75\n",
            "349 -0.96\n",
            "350 -0.28\n",
            "351  0.65\n",
            "352  0.99\n",
            "353  0.42\n",
            "354 -0.54\n",
            "355 -1.00\n",
            "356 -0.54\n",
            "357  0.42\n",
            "358  0.99\n",
            "359  0.65\n"
          ],
          "name": "stdout"
        }
      ]
    },
    {
      "cell_type": "markdown",
      "metadata": {
        "id": "j-PUdRUGhGg9",
        "colab_type": "text"
      },
      "source": [
        "**HANDS-ON:** Write a program to read the \"cos_table.dat\" and output its content (don't open it with the \"w\" mode, or you will erase its contents!)"
      ]
    },
    {
      "cell_type": "code",
      "metadata": {
        "id": "J3cdsDm2hGg-",
        "colab_type": "code",
        "colab": {}
      },
      "source": [
        ""
      ],
      "execution_count": 0,
      "outputs": []
    },
    {
      "cell_type": "code",
      "metadata": {
        "id": "noUnXszqhGg_",
        "colab_type": "code",
        "outputId": "51b4b29c-6fdf-4cbc-e101-1dd203c3563e",
        "colab": {
          "base_uri": "https://localhost:8080/",
          "height": 6869
        }
      },
      "source": [
        "f = open(\"cos_table.dat\",\"r\")\n",
        "for a in f.read().splitlines():\n",
        "    print(a)\n",
        "f.close()"
      ],
      "execution_count": 0,
      "outputs": [
        {
          "output_type": "stream",
          "text": [
            "0  1.00\n",
            "1  0.54\n",
            "2 -0.42\n",
            "3 -0.99\n",
            "4 -0.65\n",
            "5  0.28\n",
            "6  0.96\n",
            "7  0.75\n",
            "8 -0.15\n",
            "9 -0.91\n",
            "10 -0.84\n",
            "11  0.00\n",
            "12  0.84\n",
            "13  0.91\n",
            "14  0.14\n",
            "15 -0.76\n",
            "16 -0.96\n",
            "17 -0.28\n",
            "18  0.66\n",
            "19  0.99\n",
            "20  0.41\n",
            "21 -0.55\n",
            "22 -1.00\n",
            "23 -0.53\n",
            "24  0.42\n",
            "25  0.99\n",
            "26  0.65\n",
            "27 -0.29\n",
            "28 -0.96\n",
            "29 -0.75\n",
            "30  0.15\n",
            "31  0.91\n",
            "32  0.83\n",
            "33 -0.01\n",
            "34 -0.85\n",
            "35 -0.90\n",
            "36 -0.13\n",
            "37  0.77\n",
            "38  0.96\n",
            "39  0.27\n",
            "40 -0.67\n",
            "41 -0.99\n",
            "42 -0.40\n",
            "43  0.56\n",
            "44  1.00\n",
            "45  0.53\n",
            "46 -0.43\n",
            "47 -0.99\n",
            "48 -0.64\n",
            "49  0.30\n",
            "50  0.96\n",
            "51  0.74\n",
            "52 -0.16\n",
            "53 -0.92\n",
            "54 -0.83\n",
            "55  0.02\n",
            "56  0.85\n",
            "57  0.90\n",
            "58  0.12\n",
            "59 -0.77\n",
            "60 -0.95\n",
            "61 -0.26\n",
            "62  0.67\n",
            "63  0.99\n",
            "64  0.39\n",
            "65 -0.56\n",
            "66 -1.00\n",
            "67 -0.52\n",
            "68  0.44\n",
            "69  0.99\n",
            "70  0.63\n",
            "71 -0.31\n",
            "72 -0.97\n",
            "73 -0.74\n",
            "74  0.17\n",
            "75  0.92\n",
            "76  0.82\n",
            "77 -0.03\n",
            "78 -0.86\n",
            "79 -0.90\n",
            "80 -0.11\n",
            "81  0.78\n",
            "82  0.95\n",
            "83  0.25\n",
            "84 -0.68\n",
            "85 -0.98\n",
            "86 -0.38\n",
            "87  0.57\n",
            "88  1.00\n",
            "89  0.51\n",
            "90 -0.45\n",
            "91 -0.99\n",
            "92 -0.63\n",
            "93  0.32\n",
            "94  0.97\n",
            "95  0.73\n",
            "96 -0.18\n",
            "97 -0.93\n",
            "98 -0.82\n",
            "99  0.04\n",
            "100  0.86\n",
            "101  0.89\n",
            "102  0.10\n",
            "103 -0.78\n",
            "104 -0.95\n",
            "105 -0.24\n",
            "106  0.69\n",
            "107  0.98\n",
            "108  0.38\n",
            "109 -0.58\n",
            "110 -1.00\n",
            "111 -0.50\n",
            "112  0.46\n",
            "113  1.00\n",
            "114  0.62\n",
            "115 -0.33\n",
            "116 -0.97\n",
            "117 -0.72\n",
            "118  0.19\n",
            "119  0.93\n",
            "120  0.81\n",
            "121 -0.05\n",
            "122 -0.87\n",
            "123 -0.89\n",
            "124 -0.09\n",
            "125  0.79\n",
            "126  0.94\n",
            "127  0.23\n",
            "128 -0.69\n",
            "129 -0.98\n",
            "130 -0.37\n",
            "131  0.58\n",
            "132  1.00\n",
            "133  0.49\n",
            "134 -0.46\n",
            "135 -1.00\n",
            "136 -0.61\n",
            "137  0.33\n",
            "138  0.97\n",
            "139  0.72\n",
            "140 -0.20\n",
            "141 -0.93\n",
            "142 -0.81\n",
            "143  0.06\n",
            "144  0.87\n",
            "145  0.88\n",
            "146  0.08\n",
            "147 -0.79\n",
            "148 -0.94\n",
            "149 -0.22\n",
            "150  0.70\n",
            "151  0.98\n",
            "152  0.36\n",
            "153 -0.59\n",
            "154 -1.00\n",
            "155 -0.49\n",
            "156  0.47\n",
            "157  1.00\n",
            "158  0.61\n",
            "159 -0.34\n",
            "160 -0.98\n",
            "161 -0.71\n",
            "162  0.21\n",
            "163  0.93\n",
            "164  0.80\n",
            "165 -0.07\n",
            "166 -0.88\n",
            "167 -0.88\n",
            "168 -0.08\n",
            "169  0.80\n",
            "170  0.94\n",
            "171  0.22\n",
            "172 -0.71\n",
            "173 -0.98\n",
            "174 -0.35\n",
            "175  0.60\n",
            "176  1.00\n",
            "177  0.48\n",
            "178 -0.48\n",
            "179 -1.00\n",
            "180 -0.60\n",
            "181  0.35\n",
            "182  0.98\n",
            "183  0.71\n",
            "184 -0.22\n",
            "185 -0.94\n",
            "186 -0.80\n",
            "187  0.08\n",
            "188  0.88\n",
            "189  0.88\n",
            "190  0.07\n",
            "191 -0.80\n",
            "192 -0.93\n",
            "193 -0.21\n",
            "194  0.71\n",
            "195  0.98\n",
            "196  0.34\n",
            "197 -0.61\n",
            "198 -1.00\n",
            "199 -0.47\n",
            "200  0.49\n",
            "201  1.00\n",
            "202  0.59\n",
            "203 -0.36\n",
            "204 -0.98\n",
            "205 -0.70\n",
            "206  0.22\n",
            "207  0.94\n",
            "208  0.79\n",
            "209 -0.08\n",
            "210 -0.88\n",
            "211 -0.87\n",
            "212 -0.06\n",
            "213  0.81\n",
            "214  0.93\n",
            "215  0.20\n",
            "216 -0.72\n",
            "217 -0.97\n",
            "218 -0.33\n",
            "219  0.61\n",
            "220  1.00\n",
            "221  0.46\n",
            "222 -0.49\n",
            "223 -1.00\n",
            "224 -0.58\n",
            "225  0.37\n",
            "226  0.98\n",
            "227  0.69\n",
            "228 -0.23\n",
            "229 -0.94\n",
            "230 -0.79\n",
            "231  0.09\n",
            "232  0.89\n",
            "233  0.87\n",
            "234  0.05\n",
            "235 -0.81\n",
            "236 -0.93\n",
            "237 -0.19\n",
            "238  0.72\n",
            "239  0.97\n",
            "240  0.33\n",
            "241 -0.62\n",
            "242 -1.00\n",
            "243 -0.46\n",
            "244  0.50\n",
            "245  1.00\n",
            "246  0.58\n",
            "247 -0.38\n",
            "248 -0.98\n",
            "249 -0.69\n",
            "250  0.24\n",
            "251  0.95\n",
            "252  0.78\n",
            "253 -0.10\n",
            "254 -0.89\n",
            "255 -0.86\n",
            "256 -0.04\n",
            "257  0.82\n",
            "258  0.93\n",
            "259  0.18\n",
            "260 -0.73\n",
            "261 -0.97\n",
            "262 -0.32\n",
            "263  0.63\n",
            "264  0.99\n",
            "265  0.45\n",
            "266 -0.51\n",
            "267 -1.00\n",
            "268 -0.57\n",
            "269  0.38\n",
            "270  0.98\n",
            "271  0.68\n",
            "272 -0.25\n",
            "273 -0.95\n",
            "274 -0.78\n",
            "275  0.11\n",
            "276  0.90\n",
            "277  0.86\n",
            "278  0.03\n",
            "279 -0.82\n",
            "280 -0.92\n",
            "281 -0.17\n",
            "282  0.74\n",
            "283  0.97\n",
            "284  0.31\n",
            "285 -0.63\n",
            "286 -0.99\n",
            "287 -0.44\n",
            "288  0.52\n",
            "289  1.00\n",
            "290  0.56\n",
            "291 -0.39\n",
            "292 -0.99\n",
            "293 -0.67\n",
            "294  0.26\n",
            "295  0.95\n",
            "296  0.77\n",
            "297 -0.12\n",
            "298 -0.90\n",
            "299 -0.85\n",
            "300 -0.02\n",
            "301  0.83\n",
            "302  0.92\n",
            "303  0.16\n",
            "304 -0.74\n",
            "305 -0.96\n",
            "306 -0.30\n",
            "307  0.64\n",
            "308  0.99\n",
            "309  0.43\n",
            "310 -0.53\n",
            "311 -1.00\n",
            "312 -0.56\n",
            "313  0.40\n",
            "314  0.99\n",
            "315  0.67\n",
            "316 -0.27\n",
            "317 -0.96\n",
            "318 -0.77\n",
            "319  0.13\n",
            "320  0.90\n",
            "321  0.85\n",
            "322  0.01\n",
            "323 -0.83\n",
            "324 -0.91\n",
            "325 -0.15\n",
            "326  0.75\n",
            "327  0.96\n",
            "328  0.29\n",
            "329 -0.65\n",
            "330 -0.99\n",
            "331 -0.42\n",
            "332  0.53\n",
            "333  1.00\n",
            "334  0.55\n",
            "335 -0.41\n",
            "336 -0.99\n",
            "337 -0.66\n",
            "338  0.28\n",
            "339  0.96\n",
            "340  0.76\n",
            "341 -0.14\n",
            "342 -0.91\n",
            "343 -0.84\n",
            "344 -0.00\n",
            "345  0.84\n",
            "346  0.91\n",
            "347  0.15\n",
            "348 -0.75\n",
            "349 -0.96\n",
            "350 -0.28\n",
            "351  0.65\n",
            "352  0.99\n",
            "353  0.42\n",
            "354 -0.54\n",
            "355 -1.00\n",
            "356 -0.54\n",
            "357  0.42\n",
            "358  0.99\n",
            "359  0.65\n"
          ],
          "name": "stdout"
        }
      ]
    },
    {
      "cell_type": "markdown",
      "metadata": {
        "id": "1UftG_9wq9pm",
        "colab_type": "text"
      },
      "source": [
        "Now it's a good time to got the left window in collabs and select \"Files\". This will show you a list of files in your current colab working directory. There should be a file named \"myfile.da\" (if not, press the refresh button). Right-click on that file and choose \"download\" - you will be asked for a folder in the local machine where to save \"myfile.dat\". A copy of our file is now in the local computer, ready to loaded in any application (try open it with the notebook editor)."
      ]
    },
    {
      "cell_type": "code",
      "metadata": {
        "id": "WwwMz23YtL3-",
        "colab_type": "code",
        "colab": {}
      },
      "source": [
        "f  = open(\"test1.txt\",\"r\")\n",
        "contents = f.read()\n",
        "f.close()\n",
        "print(contents)"
      ],
      "execution_count": 0,
      "outputs": []
    },
    {
      "cell_type": "markdown",
      "metadata": {
        "id": "nGk9ypsIMmQY",
        "colab_type": "text"
      },
      "source": [
        "### 12. **Dictionaries and Data association**"
      ]
    },
    {
      "cell_type": "markdown",
      "metadata": {
        "id": "qZby0_cqM7FU",
        "colab_type": "text"
      },
      "source": [
        "When organizing a collection of structured data, there is often the need to be able to recollect that data based on some property. Let's say we have list of tree common and scientific names, and we want to rerieve the scientific name based on the common name. One way to do this in Pytnon would be to create two lists, one with common tree names and the other with the scientific names:"
      ]
    },
    {
      "cell_type": "code",
      "metadata": {
        "id": "M01xXMwkOC_3",
        "colab_type": "code",
        "colab": {}
      },
      "source": [
        "tree_common = ['willow','pine','oak','maple']\n",
        "tree_scientific = ['Salix alba','Pinus sylvestris','Quercus faginea','Acer saccharum']"
      ],
      "execution_count": 0,
      "outputs": []
    },
    {
      "cell_type": "markdown",
      "metadata": {
        "id": "6jEgFTbVRAOe",
        "colab_type": "text"
      },
      "source": [
        "Now, if we wanted to retrieve a scientific name based on the common name, we would need to find the position of that common name on the first lists, and retrieve the element in the same position on the second list:"
      ]
    },
    {
      "cell_type": "code",
      "metadata": {
        "id": "QHZKOve5RnCO",
        "colab_type": "code",
        "colab": {}
      },
      "source": [
        "# retrieving the \"pine\" scientific name\n",
        "tree_scientific[1]  # pine is in position 1 on the first list"
      ],
      "execution_count": 0,
      "outputs": []
    },
    {
      "cell_type": "markdown",
      "metadata": {
        "id": "NfQ8_VHgTQzn",
        "colab_type": "text"
      },
      "source": [
        "This is easy to do when the list has just 4 elements, easily viewed on the screen. If we had a list of thousands of tree species it wouldn't be so easy... would would we find the position of our common tree name in first list? ... We could use the list method \"index\" , thus"
      ]
    },
    {
      "cell_type": "code",
      "metadata": {
        "id": "Mmj13WVgSA6a",
        "colab_type": "code",
        "colab": {}
      },
      "source": [
        "index = tree_common.index('pine')\n",
        "tree_scientific[index]"
      ],
      "execution_count": 0,
      "outputs": []
    },
    {
      "cell_type": "markdown",
      "metadata": {
        "id": "xBDo3tAuUDrG",
        "colab_type": "text"
      },
      "source": [
        "This works, but it's raher cumbersome. For one thing we need to keep two lists, and the order must match preciscely or the associations will get scrambled. If we insert one item on the first list, for example, all the associations from that point on will be lost. And if we want to add a new tree to our dataset, the we have to update *two* lists, like so:"
      ]
    },
    {
      "cell_type": "code",
      "metadata": {
        "id": "G_ZHsA5VUnkC",
        "colab_type": "code",
        "colab": {}
      },
      "source": [
        "tree_common.append('aspen')\n",
        "tree_scientific.append('Populus tremuloides')"
      ],
      "execution_count": 0,
      "outputs": []
    },
    {
      "cell_type": "markdown",
      "metadata": {
        "id": "PoCdVEo1VA_Q",
        "colab_type": "text"
      },
      "source": [
        "There is a far better way to deal with data associations in Python, using a specialilized data type known as **dicitionary** (dict). Dictionaries are unoredered lists of key/data pairs, allowing for simple retrieval, insertion and deletion of new items. A dictionary is represented between {} (curly brackets), as series of key/data pairs separated by colons (:)\n",
        "```python\n",
        "{key1:data1, key2:data2, key3:data3, ....}\n",
        "```\n",
        "\n",
        "Let's rewrite our previous example with a `dict` variable:"
      ]
    },
    {
      "cell_type": "code",
      "metadata": {
        "id": "7W3V1glfWNn1",
        "colab_type": "code",
        "colab": {}
      },
      "source": [
        "tree_catalogue = {'willow':'Salix alba','pine':'Pinus Sylvestris','oak':'Quercus faginea','maple':'Acer saccharum'}"
      ],
      "execution_count": 0,
      "outputs": []
    },
    {
      "cell_type": "markdown",
      "metadata": {
        "id": "L-Flidf_WyoL",
        "colab_type": "text"
      },
      "source": [
        "To retrieve the common name of the pine, all we need to do is:"
      ]
    },
    {
      "cell_type": "code",
      "metadata": {
        "id": "2jvcmoMgU_VA",
        "colab_type": "code",
        "colab": {}
      },
      "source": [
        "tree_catalogue['pine']"
      ],
      "execution_count": 0,
      "outputs": []
    },
    {
      "cell_type": "markdown",
      "metadata": {
        "id": "jCFXV92NXGvu",
        "colab_type": "text"
      },
      "source": [
        "Even better, to add a new entry to our catalogue all we need to do is:"
      ]
    },
    {
      "cell_type": "code",
      "metadata": {
        "id": "QuMbpw9fXQzU",
        "colab_type": "code",
        "colab": {}
      },
      "source": [
        "tree_catalogue['aspen'] = 'Populus tremuloides'"
      ],
      "execution_count": 0,
      "outputs": []
    },
    {
      "cell_type": "markdown",
      "metadata": {
        "id": "i0b-zpOeXeTj",
        "colab_type": "text"
      },
      "source": [
        "If we inspect the dict now:"
      ]
    },
    {
      "cell_type": "code",
      "metadata": {
        "id": "XcxbDhVqXhOX",
        "colab_type": "code",
        "colab": {}
      },
      "source": [
        "tree_catalogue"
      ],
      "execution_count": 0,
      "outputs": []
    },
    {
      "cell_type": "markdown",
      "metadata": {
        "id": "LnAX6s6YXxIp",
        "colab_type": "text"
      },
      "source": [
        "The new entry is there. Notice, however, that it wasn't append as the last element, like before. This does not really matter, because dictionaries are *unsorted* collections of data, the key/value pairs are not guaranteed to be in any specific order. But this is just as well: dictionaries are meant to be used to retrieve data by *key*, not by *index*:"
      ]
    },
    {
      "cell_type": "code",
      "metadata": {
        "id": "oKz2k5CAYluF",
        "colab_type": "code",
        "colab": {}
      },
      "source": [
        "tree_catalogue[3]"
      ],
      "execution_count": 0,
      "outputs": []
    },
    {
      "cell_type": "markdown",
      "metadata": {
        "id": "3B184lxCYqy_",
        "colab_type": "text"
      },
      "source": [
        "This did not return the ( 'pine': 'Pinus Sylvestris') pair, as one could expect. Instead, it produces a *KeyError*, because \"3\" is not one of the keys in our `dict`variable. To list the keys of a dict variable we can use the `keys` method:"
      ]
    },
    {
      "cell_type": "code",
      "metadata": {
        "id": "CFqdcZQtZSrf",
        "colab_type": "code",
        "colab": {}
      },
      "source": [
        "tree_catalogue.keys()"
      ],
      "execution_count": 0,
      "outputs": []
    },
    {
      "cell_type": "markdown",
      "metadata": {
        "id": "HkSNm-EfZXzE",
        "colab_type": "text"
      },
      "source": [
        "And to list the values:"
      ]
    },
    {
      "cell_type": "code",
      "metadata": {
        "id": "RygEgSJTZZ9D",
        "colab_type": "code",
        "colab": {}
      },
      "source": [
        "tree_catalogue.values()"
      ],
      "execution_count": 0,
      "outputs": []
    },
    {
      "cell_type": "markdown",
      "metadata": {
        "id": "Tkp6mqYrZkFZ",
        "colab_type": "text"
      },
      "source": [
        "We can also loop througb the dictionary with a \"for\" command, using the `items` method:"
      ]
    },
    {
      "cell_type": "code",
      "metadata": {
        "id": "s6Pq6So0ZpvA",
        "colab_type": "code",
        "colab": {}
      },
      "source": [
        "for key, value in tree_catalogue.items():\n",
        "  print(key,value)"
      ],
      "execution_count": 0,
      "outputs": []
    },
    {
      "cell_type": "code",
      "metadata": {
        "id": "y51tKZSCaOr2",
        "colab_type": "code",
        "colab": {}
      },
      "source": [
        "tree_catalogue.items()"
      ],
      "execution_count": 0,
      "outputs": []
    },
    {
      "cell_type": "markdown",
      "metadata": {
        "id": "BI7BtsbtalYN",
        "colab_type": "text"
      },
      "source": [
        "Note that we can use other data types as key/value pairs in a dict variable, not just strings. For example;"
      ]
    },
    {
      "cell_type": "code",
      "metadata": {
        "id": "gP33jbC7a3T6",
        "colab_type": "code",
        "colab": {}
      },
      "source": [
        "weights = {'john':65,'adam':72,'robert':80,'william':75}"
      ],
      "execution_count": 0,
      "outputs": []
    },
    {
      "cell_type": "markdown",
      "metadata": {
        "id": "IzLEgA7Nbyhw",
        "colab_type": "text"
      },
      "source": [
        "Dict variables have the following methods availabe to them:\n",
        "\n",
        "- **clear** - remove all entries of a dict\n",
        "- **copy** - make a copy a dictionary\n",
        "- **fromkeys** - return a new dictionary with keys from an iterable and default value\n",
        "- **get** - get an element from a dictionary with optional default value\n",
        "- **items** - return a complete list of the (key, value) pairs in a dictionary\n",
        "- **keys** - return list of keys in a dictionary\n",
        "- **pop** - remove and return an element from a dictionary, with default value\n",
        "- **popitem** - remove and return one (key, value) pair from the dictionary\n",
        "- **setdefault** - get an element from a dictionary and set to default if key not found\n",
        "- **update** - make dictionary from another dictionary or list of (key,value)  pairs\n",
        "-  **values** - return list of values in a dictionary\n",
        "\n"
      ]
    },
    {
      "cell_type": "markdown",
      "metadata": {
        "id": "58LmWLkjZ8BJ",
        "colab_type": "text"
      },
      "source": [
        "**Hands-On:** Try adding and deleting new elements to the \"tree_catalogue\" dictionary. Experiment with the different methods. "
      ]
    },
    {
      "cell_type": "markdown",
      "metadata": {
        "id": "KsrixTxQhGhA",
        "colab_type": "text"
      },
      "source": [
        "### 12. **Plotting Data**"
      ]
    },
    {
      "cell_type": "markdown",
      "metadata": {
        "id": "OwPqbIrghGhA",
        "colab_type": "text"
      },
      "source": [
        "Plotting data is an activity central to doing science. So, any language with an ambition for being relevant in scientific programming must have a plotting mechanism. Python has several, but we will briefly focus on the one that is by far the most popular: the `matplolib` library.\n",
        "\n",
        "To exemplify the use of `matplotlib`, let's first get some data:"
      ]
    },
    {
      "cell_type": "code",
      "metadata": {
        "id": "aC8-_hKGhGhA",
        "colab_type": "code",
        "colab": {}
      },
      "source": [
        "# Genebank Statistics\n",
        "Years = [1985,1990,1995,2000,2005,2010,2015]\n",
        "GenBankEntries = [4954, 35100, 425211, 7077491, 45236251, 120604423, 185019352]"
      ],
      "execution_count": 0,
      "outputs": []
    },
    {
      "cell_type": "markdown",
      "metadata": {
        "id": "yMUjByePhGhB",
        "colab_type": "text"
      },
      "source": [
        "These two lists, `Years` and `GenBankEntries` will be the `x` and `y` data points in our graph. What we want is to plot `GenBankEntries` as a function of `Years`. This can be done with `matplotlib` in the simplest possible way with just two lines of code:"
      ]
    },
    {
      "cell_type": "code",
      "metadata": {
        "id": "BWjjuIhZhGhB",
        "colab_type": "code",
        "outputId": "2ee1b04b-4412-4aac-e1e3-4c083d7d449e",
        "colab": {
          "base_uri": "https://localhost:8080/",
          "height": 295
        }
      },
      "source": [
        "# Lets import the module matplolib.pyplot\n",
        "import matplotlib.pyplot as plt   # this line imports the library and allows it to be called plt (for brevity) \n",
        "plt.plot(Years, GenBankEntries)"
      ],
      "execution_count": 0,
      "outputs": [
        {
          "output_type": "execute_result",
          "data": {
            "text/plain": [
              "[<matplotlib.lines.Line2D at 0x7f83700d0710>]"
            ]
          },
          "metadata": {
            "tags": []
          },
          "execution_count": 165
        },
        {
          "output_type": "display_data",
          "data": {
            "image/png": "[encoded data removed]",
            "text/plain": [
              "<Figure size 432x288 with 1 Axes>"
            ]
          },
          "metadata": {
            "tags": []
          }
        }
      ]
    },
    {
      "cell_type": "markdown",
      "metadata": {
        "id": "kFJ72LRXhGhC",
        "colab_type": "text"
      },
      "source": [
        "We got a plot, but it is really *raw*. With just a few more lines of code, we can make it look a lot better:"
      ]
    },
    {
      "cell_type": "code",
      "metadata": {
        "id": "cHdyTrdXhGhC",
        "colab_type": "code",
        "outputId": "24622016-33e1-49ee-e782-4c0b558c86a1",
        "colab": {
          "base_uri": "https://localhost:8080/",
          "height": 318
        }
      },
      "source": [
        "# We first import the matplotlib.pyplot module as \"plt\"\n",
        "import matplotlib.pyplot as plt \n",
        "plt.title(\"Genebank Growth\")          # set the title graph\n",
        "plt.xlabel(\"Years\")                   # set the x axis title\n",
        "plt.ylabel(\"Number of Entries\")       # set the y axis title\n",
        "plt.plot(Years, GenBankEntries,'ro-') # plot with red lines and circle markers\n"
      ],
      "execution_count": 0,
      "outputs": [
        {
          "output_type": "execute_result",
          "data": {
            "text/plain": [
              "[<matplotlib.lines.Line2D at 0x7f8370086470>]"
            ]
          },
          "metadata": {
            "tags": []
          },
          "execution_count": 166
        },
        {
          "output_type": "display_data",
          "data": {
            "image/png": "[encoded data removed]",
            "text/plain": [
              "<Figure size 432x288 with 1 Axes>"
            ]
          },
          "metadata": {
            "tags": []
          }
        }
      ]
    },
    {
      "cell_type": "markdown",
      "metadata": {
        "id": "43FRolH-hGhE",
        "colab_type": "text"
      },
      "source": [
        "Notice the argument \"ro-\" to the `plot` command - \"r\" is for red, \"o\" for circle markers and \"-\" for lines. \n",
        "\n",
        "**HANDS-ON:** Guess what happens if 'ro-' is replaced with 'g+--'. Check it. \n",
        "\n",
        "This plot should probably have bars rather than points:"
      ]
    },
    {
      "cell_type": "code",
      "metadata": {
        "id": "0oTZq2sehGhE",
        "colab_type": "code",
        "outputId": "62eceaec-6dbc-4093-fc8a-a97b371d0875",
        "colab": {
          "base_uri": "https://localhost:8080/",
          "height": 318
        }
      },
      "source": [
        "# We first import the matplotlib.pyplot module as \"plt\"\n",
        "import matplotlib.pyplot as plt \n",
        "plt.style.use(\"ggplot\") # using a non-standard plotstyle\n",
        "plt.title(\"Genebank Growth\")        # set the title graph\n",
        "plt.xlabel(\"Years\")                 # set the x axis title\n",
        "plt.ylabel(\"Number of Entries\")     # set the y axis title\n",
        "plt.bar(Years, GenBankEntries, width=3) # plot bars with a width of 3"
      ],
      "execution_count": 0,
      "outputs": [
        {
          "output_type": "execute_result",
          "data": {
            "text/plain": [
              "<BarContainer object of 7 artists>"
            ]
          },
          "metadata": {
            "tags": []
          },
          "execution_count": 167
        },
        {
          "output_type": "display_data",
          "data": {
            "image/png": "[encoded data removed]",
            "text/plain": [
              "<Figure size 432x288 with 1 Axes>"
            ]
          },
          "metadata": {
            "tags": []
          }
        }
      ]
    },
    {
      "cell_type": "markdown",
      "metadata": {
        "id": "kxHXJKf-hGhF",
        "colab_type": "text"
      },
      "source": [
        "(The bar width can be ajusted with the \"width\" parameter. Try it.)"
      ]
    },
    {
      "cell_type": "markdown",
      "metadata": {
        "id": "RgONYHYZhGhF",
        "colab_type": "text"
      },
      "source": [
        "Different colors for lines and points can be used: "
      ]
    },
    {
      "cell_type": "code",
      "metadata": {
        "id": "MvrCGjC8hGhF",
        "colab_type": "code",
        "outputId": "a71fb6d9-443f-457f-bda2-5b737b730e75",
        "colab": {
          "base_uri": "https://localhost:8080/",
          "height": 299
        }
      },
      "source": [
        "# We first import the matplotlib.pyplot module as \"plt\"\n",
        "import matplotlib.pyplot as plt \n",
        "plt.style.use(\"ggplot\")\n",
        "plt.title(\"Genebank Growth\")         # set the title graph\n",
        "plt.xlabel(\"Years\")                  # set the x axis title\n",
        "plt.ylabel(\"Number of Entries\")      # set the y axis title\n",
        "plt.plot(Years, GenBankEntries,'g--') # plot with green dashed lines\n",
        "plt.plot(Years, GenBankEntries,'ro')  # plot with red circle markers\n",
        "plt.savefig(\"plot.png\") # This will save your plot to the \"plot.png\" file\n",
        "\n"
      ],
      "execution_count": 0,
      "outputs": [
        {
          "output_type": "display_data",
          "data": {
            "image/png": "[encoded data removed]",
            "text/plain": [
              "<Figure size 432x288 with 1 Axes>"
            ]
          },
          "metadata": {
            "tags": []
          }
        }
      ]
    },
    {
      "cell_type": "code",
      "metadata": {
        "id": "cWud4Lm_zLhB",
        "colab_type": "code",
        "colab": {}
      },
      "source": [
        ""
      ],
      "execution_count": 0,
      "outputs": []
    },
    {
      "cell_type": "markdown",
      "metadata": {
        "id": "eRrfQjjihGhG",
        "colab_type": "text"
      },
      "source": [
        "### 13. **Where to go from here**"
      ]
    },
    {
      "cell_type": "markdown",
      "metadata": {
        "id": "EqmjA1JZhGhG",
        "colab_type": "text"
      },
      "source": [
        "This tutorial was meant as a generic introduction to the basic features of the Python programming language and the notebook environment. It was also\n",
        "meant as a first acquaintance with the world of computer programming. As such, many topics had to be lightly covered, and some not covered at all.\n",
        "However, it is hoped that this is good starting point for further exploration of the Python language. \n",
        "Here are a few aspects of the language core that haven't been covered, and are an essential further study:\n",
        "\n",
        "- list compreensions\n",
        "- named arguments and variable number of arguments in functions\n",
        "- iterators and generators\n",
        "- lambda functions and functional programming\n",
        "- error handling with try / except\n",
        "\n",
        "Here are a few Python libraries that are absotutely essential for scientific programming:\n",
        "\n",
        "- numerical python (numpy)\n",
        "- scientific python (scipy)\n",
        "- data manipulation and analysis library (pandas)\n",
        "\n",
        "For machine learning/deep learning:\n",
        "- sklearn\n",
        "- tensor flow\n",
        "- torch\n",
        "\n",
        "For harnessing the power of the GPU withing Python programs:\n",
        "\n",
        "- pycuda\n",
        "\n",
        "I hope this tutorial offered a little insight on the basics of Python and its usage. However, we barely scratched the surface of what is possible, and how to make it work in real case scenarios. The only way to truly learn a programming language is by using it over and over and over, until all its ins and outs become second nature. That was not the purpose of this tutorial, but rather to provide you with a basis for further development, and also with the ability to grasp the basics of simple Python code snippets that will be used in the next classes."
      ]
    },
    {
      "cell_type": "code",
      "metadata": {
        "id": "JCwhnJ7x_kyZ",
        "colab_type": "code",
        "colab": {}
      },
      "source": [
        ""
      ],
      "execution_count": 0,
      "outputs": []
    }
  ]
}