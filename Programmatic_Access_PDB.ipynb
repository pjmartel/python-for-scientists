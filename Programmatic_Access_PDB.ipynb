{
  "nbformat": 4,
  "nbformat_minor": 0,
  "metadata": {
    "colab": {
      "name": "Programmatic_Access_PDB.ipynb",
      "version": "0.3.2",
      "provenance": [],
      "collapsed_sections": [
        "bxSbl5BYye4R"
      ],
      "include_colab_link": true
    },
    "language_info": {
      "codemirror_mode": {
        "name": "ipython",
        "version": 3
      },
      "file_extension": ".py",
      "mimetype": "text/x-python",
      "name": "python",
      "nbconvert_exporter": "python",
      "pygments_lexer": "ipython3",
      "version": "3.6.7"
    },
    "kernelspec": {
      "display_name": "Python 3",
      "language": "python",
      "name": "python3"
    }
  },
  "cells": [
    {
      "cell_type": "markdown",
      "metadata": {
        "id": "view-in-github",
        "colab_type": "text"
      },
      "source": [
        "<a href=\"https://colab.research.google.com/github/pjmartel/python-for-scientists/blob/master/Programmatic_Access_PDB.ipynb\" target=\"_parent\"><img src=\"https://colab.research.google.com/assets/colab-badge.svg\" alt=\"Open In Colab\"/></a>"
      ]
    },
    {
      "cell_type": "markdown",
      "metadata": {
        "id": "ziXkTaLOye3r",
        "colab_type": "text"
      },
      "source": [
        "## Programatic access to PDB using Python"
      ]
    },
    {
      "cell_type": "markdown",
      "metadata": {
        "id": "2NtduFvbQtpd",
        "colab_type": "text"
      },
      "source": [
        "The Protein Data Bank (PDB) is a on-line database and repository of all knwo structures of biological macromolecules, maintained by the Research Colaboratory on Structural Bioonformatics (RCSB). The web site offers multiple ways of searrch the structures includign name, size, date of deposition, experimental method, etc...Once a set of structure entities is selected, they can be downloaded as coordinate files, to be visualized or used in structural modelling methods.  The PDB website  is available at the following URL: https://www.rcsb.org.\n",
        "\n",
        "The site has a very nicely designed user interface, but there are times were we would like to access the information in a *programmatic* way, meaning by getting the information using program code and not by clicking pulldowns or filling forms on a web page. The later is particularly impratical if you are dealing with very large amounts of data or massively repetitive operations (nobody deserves having to to click 10000 times on a web page!). There several ways in which you can access  information avaliable on the PDB, different methods being more or less sutied depending on the type of information you required."
      ]
    },
    {
      "cell_type": "markdown",
      "metadata": {
        "id": "hMrckmZfye3s",
        "colab_type": "text"
      },
      "source": [
        "### Using the PDB REST API"
      ]
    },
    {
      "cell_type": "markdown",
      "metadata": {
        "id": "qUSfjgdZS-7n",
        "colab_type": "text"
      },
      "source": [
        "The PDB RESTful (or REST for short) API is an interface that allows querying the databank using special URLs encoding our request. As an example, let's say we want to get information about the structure with id code \"sdfdf\". All we have to is to enter the following URL in our web browser: https://www.rcsb.org/pdb/rest/describePDB?structureId=4hhb . Try it now and see what happens. The browser should display a *XML file* file, a kind of universal format for enconding structured information. While very easy to parse with a computer program, this format is clearly not the best to present data for human consumption - this information needs some pre-processing.  On the other hand, the idea here is not that you, as the user, will by typing the REST URL in the browser, it should instead be done by a program!\n",
        "\n",
        "So, there are two things we want to do here:\n",
        "\n",
        "1. Programatically query the websever to obtain the XML file\n",
        "2. Programatically parse the XML file and present the information in a more human readable form"
      ]
    },
    {
      "cell_type": "markdown",
      "metadata": {
        "id": "BAsZh8TIye3s",
        "colab_type": "text"
      },
      "source": [
        "#### 1. Access general information about a PDB entry"
      ]
    },
    {
      "cell_type": "markdown",
      "metadata": {
        "id": "UIIFKbO2ye3t",
        "colab_type": "text"
      },
      "source": [
        "First we import the module `request`from the urllib library. This module is used to retrieve information from a PDB server:"
      ]
    },
    {
      "cell_type": "code",
      "metadata": {
        "scrolled": true,
        "id": "_lPvUWefye3t",
        "colab_type": "code",
        "colab": {}
      },
      "source": [
        "import urllib.request"
      ],
      "execution_count": 0,
      "outputs": []
    },
    {
      "cell_type": "markdown",
      "metadata": {
        "id": "B8zGvZzgye3v",
        "colab_type": "text"
      },
      "source": [
        "The returned data will in the form of **XML file**. In order to read these, we need to import the `ElementTree` module from the `xml` library:"
      ]
    },
    {
      "cell_type": "code",
      "metadata": {
        "scrolled": true,
        "id": "RXHuSB8Rye3w",
        "colab_type": "code",
        "colab": {}
      },
      "source": [
        "import xml.etree.ElementTree "
      ],
      "execution_count": 0,
      "outputs": []
    },
    {
      "cell_type": "markdown",
      "metadata": {
        "id": "SID0-9_Xye3y",
        "colab_type": "text"
      },
      "source": [
        "Select a specific PDB file by proving its PDB Id"
      ]
    },
    {
      "cell_type": "code",
      "metadata": {
        "scrolled": true,
        "id": "8pV4Gqvjye3y",
        "colab_type": "code",
        "colab": {}
      },
      "source": [
        "pdb_code = \"1beo\" # change thid to your desired PDB id"
      ],
      "execution_count": 0,
      "outputs": []
    },
    {
      "cell_type": "markdown",
      "metadata": {
        "id": "NRqZbLjfye30",
        "colab_type": "text"
      },
      "source": [
        "Build the request URL (as a string) and pass it as argument to the `urlopen` method, which will return the server response. This return value is assigned to `fp`:"
      ]
    },
    {
      "cell_type": "code",
      "metadata": {
        "scrolled": true,
        "id": "S5fj0tNLye30",
        "colab_type": "code",
        "colab": {}
      },
      "source": [
        "fp = urllib.request.urlopen(\"https://www.rcsb.org/pdb/rest/describePDB?structureId=\"+pdb_code)"
      ],
      "execution_count": 0,
      "outputs": []
    },
    {
      "cell_type": "code",
      "metadata": {
        "scrolled": true,
        "id": "zSv-Cpotye32",
        "colab_type": "code",
        "outputId": "c371eae5-fee0-4198-9629-af40ff2b4619",
        "colab": {
          "base_uri": "https://localhost:8080/",
          "height": 34
        }
      },
      "source": [
        "print(fp)"
      ],
      "execution_count": 0,
      "outputs": [
        {
          "output_type": "stream",
          "text": [
            "<http.client.HTTPResponse object at 0x7f652bfc0390>\n"
          ],
          "name": "stdout"
        }
      ]
    },
    {
      "cell_type": "markdown",
      "metadata": {
        "id": "Eopu5CpTye35",
        "colab_type": "text"
      },
      "source": [
        "`fp` is an object storing the resonse given by the http server to the client. That resonse is a XML file that needs to be read (*parsed*) to extract the information therein:"
      ]
    },
    {
      "cell_type": "code",
      "metadata": {
        "scrolled": true,
        "id": "UZN_wWr5ye35",
        "colab_type": "code",
        "colab": {}
      },
      "source": [
        "e = xml.etree.ElementTree.parse(fp).getroot()"
      ],
      "execution_count": 0,
      "outputs": []
    },
    {
      "cell_type": "code",
      "metadata": {
        "scrolled": true,
        "id": "62U9Fza4ye37",
        "colab_type": "code",
        "outputId": "4b2fc766-247e-4a3f-a106-c944edb6f2b4",
        "colab": {
          "base_uri": "https://localhost:8080/",
          "height": 34
        }
      },
      "source": [
        "print(e)"
      ],
      "execution_count": 0,
      "outputs": [
        {
          "output_type": "stream",
          "text": [
            "<Element 'PDBdescription' at 0x7f652bfbb368>\n"
          ],
          "name": "stdout"
        }
      ]
    },
    {
      "cell_type": "markdown",
      "metadata": {
        "id": "x76al0F4ye3-",
        "colab_type": "text"
      },
      "source": [
        "The response `e` contains a top (or root) element called `PDBdescription`. Please open a tab in your broweser session and open the following URL: https://www.rcsb.org/pdb/rest/describePDB?structureId=1beo . The contents of the XML response will be shown. That is what your program is analyzing!"
      ]
    },
    {
      "cell_type": "markdown",
      "metadata": {
        "id": "uZOYf9AKye3-",
        "colab_type": "text"
      },
      "source": [
        "Let's find all the  information in the tag \"PDB\""
      ]
    },
    {
      "cell_type": "code",
      "metadata": {
        "scrolled": true,
        "id": "K27pE9vcye3_",
        "colab_type": "code",
        "colab": {}
      },
      "source": [
        "PDB = e.findall(\"PDB\")[0]  # findall returns a list with a single element, we need the [0] to grab that element"
      ],
      "execution_count": 0,
      "outputs": []
    },
    {
      "cell_type": "markdown",
      "metadata": {
        "id": "ON3Wmjtqye4A",
        "colab_type": "text"
      },
      "source": [
        "The `items` method will return all the information in the PDB tag. Let's check that this is true:"
      ]
    },
    {
      "cell_type": "code",
      "metadata": {
        "scrolled": true,
        "id": "VFPYjfpwye4B",
        "colab_type": "code",
        "outputId": "b4ca5613-65aa-489d-941c-291327400ed4",
        "colab": {
          "base_uri": "https://localhost:8080/",
          "height": 54
        }
      },
      "source": [
        "print(PDB.items())"
      ],
      "execution_count": 0,
      "outputs": [
        {
          "output_type": "stream",
          "text": [
            "[('structureId', '1BEO'), ('title', 'BETA-CRYPTOGEIN'), ('pubmedId', '8994969'), ('expMethod', 'X-RAY DIFFRACTION'), ('resolution', '2.20'), ('keywords', 'FUNGAL TOXIC ELICITOR'), ('nr_entities', '1'), ('nr_residues', '98'), ('nr_atoms', '717'), ('deposition_date', '1996-08-02'), ('release_date', '1997-05-15'), ('last_modification_date', '2011-07-13'), ('structure_authors', 'Boissy, G., De La Fortelle, E., Kahn, R., Huet, J.C., Bricogne, G., Pernollet, J.C., Brunie, S.'), ('citation_authors', 'Boissy, G., de La Fortelle, E., Kahn, R., Huet, J.C., Bricogne, G., Pernollet, J.C., Brunie, S.'), ('status', 'CURRENT')]\n"
          ],
          "name": "stdout"
        }
      ]
    },
    {
      "cell_type": "markdown",
      "metadata": {
        "id": "Nw72rkuKye4D",
        "colab_type": "text"
      },
      "source": [
        "No we will **loop** through that list of *tuples*, print their content and stored it a `dict` variable called \"myDict\":"
      ]
    },
    {
      "cell_type": "code",
      "metadata": {
        "scrolled": true,
        "id": "HTGwrQiyye4D",
        "colab_type": "code",
        "outputId": "7af8e5c7-dcd7-407c-de53-5a2509b24903",
        "colab": {
          "base_uri": "https://localhost:8080/",
          "height": 301
        }
      },
      "source": [
        "myDict = {}\n",
        "for a in PDB.items():\n",
        "        print(a[0]+\" : \"+a[1])\n",
        "        myDict[a[0]] = a[1]"
      ],
      "execution_count": 0,
      "outputs": [
        {
          "output_type": "stream",
          "text": [
            "structureId : 1BEO\n",
            "title : BETA-CRYPTOGEIN\n",
            "pubmedId : 8994969\n",
            "expMethod : X-RAY DIFFRACTION\n",
            "resolution : 2.20\n",
            "keywords : FUNGAL TOXIC ELICITOR\n",
            "nr_entities : 1\n",
            "nr_residues : 98\n",
            "nr_atoms : 717\n",
            "deposition_date : 1996-08-02\n",
            "release_date : 1997-05-15\n",
            "last_modification_date : 2011-07-13\n",
            "structure_authors : Boissy, G., De La Fortelle, E., Kahn, R., Huet, J.C., Bricogne, G., Pernollet, J.C., Brunie, S.\n",
            "citation_authors : Boissy, G., de La Fortelle, E., Kahn, R., Huet, J.C., Bricogne, G., Pernollet, J.C., Brunie, S.\n",
            "status : CURRENT\n"
          ],
          "name": "stdout"
        }
      ]
    },
    {
      "cell_type": "code",
      "metadata": {
        "scrolled": true,
        "id": "u6_Av9kWye4G",
        "colab_type": "code",
        "outputId": "25ee6410-146a-4608-dd3a-495c8064e859",
        "colab": {
          "base_uri": "https://localhost:8080/",
          "height": 301
        }
      },
      "source": [
        "myDict  # myDict contains all the information"
      ],
      "execution_count": 0,
      "outputs": [
        {
          "output_type": "execute_result",
          "data": {
            "text/plain": [
              "{'citation_authors': 'Boissy, G., de La Fortelle, E., Kahn, R., Huet, J.C., Bricogne, G., Pernollet, J.C., Brunie, S.',\n",
              " 'deposition_date': '1996-08-02',\n",
              " 'expMethod': 'X-RAY DIFFRACTION',\n",
              " 'keywords': 'FUNGAL TOXIC ELICITOR',\n",
              " 'last_modification_date': '2011-07-13',\n",
              " 'nr_atoms': '717',\n",
              " 'nr_entities': '1',\n",
              " 'nr_residues': '98',\n",
              " 'pubmedId': '8994969',\n",
              " 'release_date': '1997-05-15',\n",
              " 'resolution': '2.20',\n",
              " 'status': 'CURRENT',\n",
              " 'structureId': '1BEO',\n",
              " 'structure_authors': 'Boissy, G., De La Fortelle, E., Kahn, R., Huet, J.C., Bricogne, G., Pernollet, J.C., Brunie, S.',\n",
              " 'title': 'BETA-CRYPTOGEIN'}"
            ]
          },
          "metadata": {
            "tags": []
          },
          "execution_count": 12
        }
      ]
    },
    {
      "cell_type": "markdown",
      "metadata": {
        "id": "2Gltt5LNye4I",
        "colab_type": "text"
      },
      "source": [
        "We can use myDict like so:"
      ]
    },
    {
      "cell_type": "code",
      "metadata": {
        "scrolled": true,
        "id": "IG63qu5Jye4I",
        "colab_type": "code",
        "outputId": "cc64c069-1677-4fdf-cb7a-64cb584eaf0c",
        "colab": {
          "base_uri": "https://localhost:8080/",
          "height": 34
        }
      },
      "source": [
        "myDict['title']"
      ],
      "execution_count": 0,
      "outputs": [
        {
          "output_type": "execute_result",
          "data": {
            "text/plain": [
              "'BETA-CRYPTOGEIN'"
            ]
          },
          "metadata": {
            "tags": []
          },
          "execution_count": 13
        }
      ]
    },
    {
      "cell_type": "markdown",
      "metadata": {
        "id": "5J6CFOMQye4L",
        "colab_type": "text"
      },
      "source": [
        "Another way to get the same information:"
      ]
    },
    {
      "cell_type": "code",
      "metadata": {
        "scrolled": true,
        "id": "DZwg-wIPye4M",
        "colab_type": "code",
        "outputId": "938f4955-0a67-4f15-ec82-14831ebdaddf",
        "colab": {
          "base_uri": "https://localhost:8080/",
          "height": 301
        }
      },
      "source": [
        "for a in PDB.keys():\n",
        "    print(a,\":\",PDB.get(a))"
      ],
      "execution_count": 0,
      "outputs": [
        {
          "output_type": "stream",
          "text": [
            "structureId : 1BEO\n",
            "title : BETA-CRYPTOGEIN\n",
            "pubmedId : 8994969\n",
            "expMethod : X-RAY DIFFRACTION\n",
            "resolution : 2.20\n",
            "keywords : FUNGAL TOXIC ELICITOR\n",
            "nr_entities : 1\n",
            "nr_residues : 98\n",
            "nr_atoms : 717\n",
            "deposition_date : 1996-08-02\n",
            "release_date : 1997-05-15\n",
            "last_modification_date : 2011-07-13\n",
            "structure_authors : Boissy, G., De La Fortelle, E., Kahn, R., Huet, J.C., Bricogne, G., Pernollet, J.C., Brunie, S.\n",
            "citation_authors : Boissy, G., de La Fortelle, E., Kahn, R., Huet, J.C., Bricogne, G., Pernollet, J.C., Brunie, S.\n",
            "status : CURRENT\n"
          ],
          "name": "stdout"
        }
      ]
    },
    {
      "cell_type": "markdown",
      "metadata": {
        "id": "BNENw7u7Xh5d",
        "colab_type": "text"
      },
      "source": [
        ""
      ]
    },
    {
      "cell_type": "markdown",
      "metadata": {
        "id": "azYFf5TEXiy6",
        "colab_type": "text"
      },
      "source": [
        "#### 2. Describe all molecular entities in a PDB entry\n",
        "\n",
        "This can be done with the following type of URL: https://www.rcsb.org/pdb/rest/describeMol?structureId=4hhb\n",
        "(in this case for the structure with id=4hhb)\n",
        "\n",
        "**HANDS-ON:** Inspect the XML output of the following URL. Based on the above example, write the necessary code to get the XML and parse it into human readable output."
      ]
    },
    {
      "cell_type": "markdown",
      "metadata": {
        "id": "bxSbl5BYye4R",
        "colab_type": "text"
      },
      "source": [
        "#### 3. Getting representative chains for a given % id cluster"
      ]
    },
    {
      "cell_type": "code",
      "metadata": {
        "scrolled": true,
        "id": "4JthYBqOye4T",
        "colab_type": "code",
        "cellView": "code",
        "colab": {}
      },
      "source": [
        "#@title\n",
        "import urllib.request   # import the module for reading data from http server"
      ],
      "execution_count": 0,
      "outputs": []
    },
    {
      "cell_type": "code",
      "metadata": {
        "scrolled": true,
        "id": "4xiym4RNye4W",
        "colab_type": "code",
        "cellView": "both",
        "colab": {}
      },
      "source": [
        "#@title\n",
        "import xml.etree.ElementTree   # import library to parse XML files"
      ],
      "execution_count": 0,
      "outputs": []
    },
    {
      "cell_type": "code",
      "metadata": {
        "scrolled": true,
        "id": "URU5xbhUye4Z",
        "colab_type": "code",
        "cellView": "both",
        "colab": {}
      },
      "source": [
        "#@title\n",
        "cluster = \"100\" # Cluster % identity (100,95,90,70,50,40,30)"
      ],
      "execution_count": 0,
      "outputs": []
    },
    {
      "cell_type": "code",
      "metadata": {
        "id": "8nYhK8lvye4a",
        "colab_type": "code",
        "cellView": "both",
        "colab": {}
      },
      "source": [
        "#@title\n",
        "urllib.request.urlopen?"
      ],
      "execution_count": 0,
      "outputs": []
    },
    {
      "cell_type": "code",
      "metadata": {
        "scrolled": true,
        "id": "vRtFNohEye4b",
        "colab_type": "code",
        "cellView": "both",
        "colab": {}
      },
      "source": [
        "#@title\n",
        "fp = urllib.request.urlopen(\"https://www.rcsb.org/pdb/rest/representatives?cluster=\"+cluster,timeout=3600)"
      ],
      "execution_count": 0,
      "outputs": []
    },
    {
      "cell_type": "code",
      "metadata": {
        "scrolled": true,
        "id": "QSvzl2uoye4d",
        "colab_type": "code",
        "cellView": "both",
        "colab": {}
      },
      "source": [
        "#@title\n",
        "e = xml.etree.ElementTree.parse(fp).getroot()"
      ],
      "execution_count": 0,
      "outputs": []
    },
    {
      "cell_type": "code",
      "metadata": {
        "scrolled": true,
        "id": "M3vGIr5kye4e",
        "colab_type": "code",
        "cellView": "both",
        "colab": {}
      },
      "source": [
        "#@title\n",
        "chain_codes = []"
      ],
      "execution_count": 0,
      "outputs": []
    },
    {
      "cell_type": "code",
      "metadata": {
        "scrolled": true,
        "id": "x3Vf28Jeye4f",
        "colab_type": "code",
        "cellView": "both",
        "colab": {}
      },
      "source": [
        "#@title\n",
        "for atype in e.findall('pdbChain'):\n",
        "    chain_codes.append(atype.get('name'))"
      ],
      "execution_count": 0,
      "outputs": []
    },
    {
      "cell_type": "code",
      "metadata": {
        "scrolled": true,
        "id": "Z5JQYejuye4h",
        "colab_type": "code",
        "outputId": "9a57b0ad-20d1-4d3f-8cc0-05e6d34fe9d7",
        "cellView": "both",
        "colab": {}
      },
      "source": [
        "#@title\n",
        "len(chain_codes)"
      ],
      "execution_count": 0,
      "outputs": [
        {
          "output_type": "execute_result",
          "data": {
            "text/plain": [
              "71459"
            ]
          },
          "metadata": {
            "tags": []
          },
          "execution_count": 26
        }
      ]
    },
    {
      "cell_type": "code",
      "metadata": {
        "scrolled": true,
        "id": "dDQuXTNDye4i",
        "colab_type": "code",
        "outputId": "e5f862e9-d670-4e39-d261-8298ae3c165c",
        "cellView": "both",
        "colab": {}
      },
      "source": [
        "#@title\n",
        "chain_codes[0:10]"
      ],
      "execution_count": 0,
      "outputs": [
        {
          "output_type": "execute_result",
          "data": {
            "text/plain": [
              "['6B2K.A',\n",
              " '1K5N.B',\n",
              " '1GTF.A',\n",
              " '2VB1.A',\n",
              " '5NVG.A',\n",
              " '2HS1.A',\n",
              " '5E7W.A',\n",
              " '5E7W.B',\n",
              " '5Y2S.A',\n",
              " '4B1Y.B']"
            ]
          },
          "metadata": {
            "tags": []
          },
          "execution_count": 27
        }
      ]
    },
    {
      "cell_type": "markdown",
      "metadata": {
        "id": "UYU32HPpye4l",
        "colab_type": "text"
      },
      "source": [
        "#### 4. Getting all chains in the same % id cluster of a given chain"
      ]
    },
    {
      "cell_type": "markdown",
      "metadata": {
        "id": "ko1DKuqvye4l",
        "colab_type": "text"
      },
      "source": [
        "Entries in the PDB are *clustered* according to sequence similarity, each cluster containing proteins whose sequences are have percent identity no smaller than the cluster level. For instance the 60% clusters contain proteins whose sequences have 60% identity or greater. The 100% clusters contain PDB entries whose sequences are 100% identical. "
      ]
    },
    {
      "cell_type": "code",
      "metadata": {
        "scrolled": true,
        "id": "l6eLF9k5ye4m",
        "colab_type": "code",
        "colab": {}
      },
      "source": [
        "import urllib.request   # import the module for reading data from http server"
      ],
      "execution_count": 0,
      "outputs": []
    },
    {
      "cell_type": "code",
      "metadata": {
        "scrolled": true,
        "id": "btLHbGh4ye4n",
        "colab_type": "code",
        "colab": {}
      },
      "source": [
        "import xml.etree.ElementTree as ET  # import library to parse XML files"
      ],
      "execution_count": 0,
      "outputs": []
    },
    {
      "cell_type": "code",
      "metadata": {
        "scrolled": true,
        "id": "cwXcqwXYye4p",
        "colab_type": "code",
        "colab": {}
      },
      "source": [
        "nmax = None # maximum number of entries to return"
      ],
      "execution_count": 0,
      "outputs": []
    },
    {
      "cell_type": "code",
      "metadata": {
        "scrolled": true,
        "id": "VxMhfN1Jye4q",
        "colab_type": "code",
        "colab": {}
      },
      "source": [
        "cluster = \"100\" # Cluster % identity"
      ],
      "execution_count": 0,
      "outputs": []
    },
    {
      "cell_type": "code",
      "metadata": {
        "scrolled": true,
        "id": "fc2QczR-ye4s",
        "colab_type": "code",
        "colab": {}
      },
      "source": [
        "pdbFile = \"2a8f\"  # PDB id"
      ],
      "execution_count": 0,
      "outputs": []
    },
    {
      "cell_type": "code",
      "metadata": {
        "scrolled": true,
        "id": "fyUicfrXye4u",
        "colab_type": "code",
        "colab": {}
      },
      "source": [
        "chain = \"A\"  # PDB chain"
      ],
      "execution_count": 0,
      "outputs": []
    },
    {
      "cell_type": "code",
      "metadata": {
        "scrolled": true,
        "id": "W_SdunBYye4x",
        "colab_type": "code",
        "colab": {}
      },
      "source": [
        "fp = urllib.request.urlopen(\"https://www.rcsb.org/pdb/rest/sequenceCluster?cluster=\"+\\\n",
        "    cluster+\"&structureId=\"+pdbFile+\".\"+chain)"
      ],
      "execution_count": 0,
      "outputs": []
    },
    {
      "cell_type": "code",
      "metadata": {
        "scrolled": true,
        "id": "Rz42-Yo6ye4z",
        "colab_type": "code",
        "colab": {}
      },
      "source": [
        "e = ET.parse(fp).getroot()"
      ],
      "execution_count": 0,
      "outputs": []
    },
    {
      "cell_type": "code",
      "metadata": {
        "scrolled": true,
        "id": "rnAnbKsJye40",
        "colab_type": "code",
        "colab": {}
      },
      "source": [
        "chain_codes = []"
      ],
      "execution_count": 0,
      "outputs": []
    },
    {
      "cell_type": "code",
      "metadata": {
        "scrolled": true,
        "id": "H6nnd7GFye42",
        "colab_type": "code",
        "outputId": "d20d7f19-238e-440f-91b2-a85747e1c93d",
        "colab": {}
      },
      "source": [
        "for atype in e.findall('pdbChain')[:nmax]:\n",
        "    pdbName = atype.get('name')\n",
        "    pdbRank = atype.get('rank')\n",
        "    pp = urllib.request.urlopen(\n",
        "        \"https://www.rcsb.org/pdb/rest/describePDB?structureId=\"+pdbName[:4])\n",
        "    root = ET.parse(pp).getroot()\n",
        "    #for curPDB in root.findall(\"PDB\")\n",
        "    curPDB = root.find(\"PDB\")\n",
        "    structureId = curPDB.get(\"structureId\")\n",
        "    resolution = curPDB.get(\"resolution\")\n",
        "    release_date = curPDB.get(\"release_date\")[:4]\n",
        "    nr_entities = curPDB.get(\"nr_entities\")\n",
        "    nr_residues = curPDB.get(\"nr_residues\")\n",
        "    title = curPDB.get(\"title\")[:90]\n",
        "    if resolution == None:\n",
        "        resolution = -1 # NMR\n",
        "    print(\"{:1} {:6} {:4} {:1} {:>4} {:5} {} \".format(\\\n",
        "        pdbRank, pdbName,resolution, nr_entities, nr_residues, release_date[:4],title))\n",
        "    #print(pdbRank, pdbName,resolution, nr_entities, nr_residues, release_date[:4],title)\n"
      ],
      "execution_count": 0,
      "outputs": [
        {
          "output_type": "stream",
          "text": [
            "1 2AIB.A 1.10 1  196 2006  beta-cinnamomin in complex with ergosterol \n",
            "1 2AIB.B 1.10 1  196 2006  beta-cinnamomin in complex with ergosterol \n",
            "2 2A8F.A 1.35 1  196 2006  beta-cinnamomin after sterol removal \n",
            "2 2A8F.B 1.35 1  196 2006  beta-cinnamomin after sterol removal \n",
            "3 1LRI.A 1.45 1   98 2002  BETA-CRYPTOGEIN-CHOLESTEROL COMPLEX \n",
            "4 1LJP.A 1.80 1  196 2002  Crystal Structure of beta-Cinnamomin Elicitin \n",
            "4 1LJP.B 1.80 1  196 2002  Crystal Structure of beta-Cinnamomin Elicitin \n",
            "5 1BEO.A 2.20 1   98 1997  BETA-CRYPTOGEIN \n",
            "6 1BEG.A   -1 1   98 1997  STRUCTURE OF FUNGAL ELICITOR, NMR, 18 STRUCTURES \n"
          ],
          "name": "stdout"
        }
      ]
    },
    {
      "cell_type": "markdown",
      "metadata": {
        "id": "LzuSY2uuye44",
        "colab_type": "text"
      },
      "source": [
        "### Using the BioPython Library"
      ]
    },
    {
      "cell_type": "code",
      "metadata": {
        "id": "JR0wYRtuy0Ck",
        "colab_type": "code",
        "outputId": "81b6edba-6452-4790-eda4-8df116f36ec0",
        "colab": {
          "base_uri": "https://localhost:8080/",
          "height": 143
        }
      },
      "source": [
        "!pip install biopython"
      ],
      "execution_count": 0,
      "outputs": [
        {
          "output_type": "stream",
          "text": [
            "Collecting biopython\n",
            "\u001b[?25l  Downloading https://files.pythonhosted.org/packages/28/15/8ac646ff24cfa2588b4d5e5ea51e8d13f3d35806bd9498fbf40ef79026fd/biopython-1.73-cp36-cp36m-manylinux1_x86_64.whl (2.2MB)\n",
            "\u001b[K    100% |████████████████████████████████| 2.2MB 13.4MB/s \n",
            "\u001b[?25hRequirement already satisfied: numpy in /usr/local/lib/python3.6/dist-packages (from biopython) (1.14.6)\n",
            "Installing collected packages: biopython\n",
            "Successfully installed biopython-1.73\n"
          ],
          "name": "stdout"
        }
      ]
    },
    {
      "cell_type": "code",
      "metadata": {
        "scrolled": true,
        "id": "PgEolXgUye46",
        "colab_type": "code",
        "colab": {}
      },
      "source": [
        "from Bio.PDB import PDBParser, PDBList"
      ],
      "execution_count": 0,
      "outputs": []
    },
    {
      "cell_type": "code",
      "metadata": {
        "scrolled": true,
        "id": "ov4PpgCHye48",
        "colab_type": "code",
        "colab": {}
      },
      "source": [
        "pdbl = PDBList()"
      ],
      "execution_count": 0,
      "outputs": []
    },
    {
      "cell_type": "code",
      "metadata": {
        "scrolled": true,
        "id": "t9rI-7E4ye49",
        "colab_type": "code",
        "outputId": "855a1e6a-484b-4c9c-8d90-33e14f3f743d",
        "colab": {
          "base_uri": "https://localhost:8080/",
          "height": 35
        }
      },
      "source": [
        "idList = pdbl.get_all_entries()"
      ],
      "execution_count": 0,
      "outputs": [
        {
          "output_type": "stream",
          "text": [
            "Retrieving index file. Takes about 27 MB.\n"
          ],
          "name": "stdout"
        }
      ]
    },
    {
      "cell_type": "code",
      "metadata": {
        "scrolled": true,
        "id": "cUF_dmclye5C",
        "colab_type": "code",
        "outputId": "2a12e893-0285-4eb5-af06-17cb774ba213",
        "colab": {
          "base_uri": "https://localhost:8080/",
          "height": 35
        }
      },
      "source": [
        "print(\"The current number of PDB files is:\",len(idList))"
      ],
      "execution_count": 0,
      "outputs": [
        {
          "output_type": "stream",
          "text": [
            "The current number of PDB files is: 150861\n"
          ],
          "name": "stdout"
        }
      ]
    },
    {
      "cell_type": "code",
      "metadata": {
        "scrolled": true,
        "id": "Brmy8Rg_ye5E",
        "colab_type": "code",
        "outputId": "ecacb53a-d7e0-4d33-b1f8-32a42d7c220b",
        "colab": {
          "base_uri": "https://localhost:8080/",
          "height": 52
        }
      },
      "source": [
        "pdbl.retrieve_pdb_file(\"4ekz\",file_format=\"pdb\")"
      ],
      "execution_count": 0,
      "outputs": [
        {
          "output_type": "stream",
          "text": [
            "Downloading PDB structure '4ekz'...\n"
          ],
          "name": "stdout"
        },
        {
          "output_type": "execute_result",
          "data": {
            "text/plain": [
              "'/content/ek/pdb4ekz.ent'"
            ]
          },
          "metadata": {
            "tags": []
          },
          "execution_count": 10
        }
      ]
    },
    {
      "cell_type": "code",
      "metadata": {
        "scrolled": true,
        "id": "S7FJrERQye5G",
        "colab_type": "code",
        "colab": {}
      },
      "source": [
        "parser = PDBParser()"
      ],
      "execution_count": 0,
      "outputs": []
    },
    {
      "cell_type": "code",
      "metadata": {
        "scrolled": true,
        "id": "07UnK1iYye5H",
        "colab_type": "code",
        "colab": {}
      },
      "source": [
        "structure = parser.get_structure('4ekz', 'ek/pdb4ekz.ent')"
      ],
      "execution_count": 0,
      "outputs": []
    },
    {
      "cell_type": "code",
      "metadata": {
        "scrolled": true,
        "id": "zjqNifz8ye5K",
        "colab_type": "code",
        "colab": {}
      },
      "source": [
        "view = nv.show_biopython(structure)"
      ],
      "execution_count": 0,
      "outputs": []
    },
    {
      "cell_type": "code",
      "metadata": {
        "scrolled": true,
        "id": "lPhl7DFRye5L",
        "colab_type": "code",
        "colab": {}
      },
      "source": [
        "view.background = \"black\"\n",
        "view"
      ],
      "execution_count": 0,
      "outputs": []
    },
    {
      "cell_type": "markdown",
      "metadata": {
        "id": "89PAp0WLye5M",
        "colab_type": "text"
      },
      "source": [
        "### Viewing PDB files with the nlviewer"
      ]
    },
    {
      "cell_type": "code",
      "metadata": {
        "id": "77M4GF5aanGC",
        "colab_type": "code",
        "colab": {}
      },
      "source": [
        "!pip install nglview"
      ],
      "execution_count": 0,
      "outputs": []
    },
    {
      "cell_type": "code",
      "metadata": {
        "scrolled": true,
        "id": "ZJar-Z7Aye5M",
        "colab_type": "code",
        "colab": {}
      },
      "source": [
        "import nglview as nv"
      ],
      "execution_count": 0,
      "outputs": []
    },
    {
      "cell_type": "code",
      "metadata": {
        "scrolled": true,
        "id": "8rWvaUvFye5O",
        "colab_type": "code",
        "colab": {}
      },
      "source": [
        "view = nv.NGLWidget()"
      ],
      "execution_count": 0,
      "outputs": []
    },
    {
      "cell_type": "code",
      "metadata": {
        "scrolled": true,
        "id": "u2djja_Vye5P",
        "colab_type": "code",
        "colab": {}
      },
      "source": [
        "c = view.add_component('rcsb://2vb1.pdb')"
      ],
      "execution_count": 0,
      "outputs": []
    },
    {
      "cell_type": "code",
      "metadata": {
        "scrolled": true,
        "id": "AlsGdst7ye5Q",
        "colab_type": "code",
        "colab": {}
      },
      "source": [
        "view"
      ],
      "execution_count": 0,
      "outputs": []
    }
  ]
}