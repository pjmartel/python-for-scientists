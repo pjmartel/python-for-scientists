{
  "nbformat": 4,
  "nbformat_minor": 0,
  "metadata": {
    "colab": {
      "name": "Introduction_to_numpy.ipynb",
      "provenance": [],
      "include_colab_link": true
    },
    "kernelspec": {
      "name": "python3",
      "display_name": "Python 3"
    }
  },
  "cells": [
    {
      "cell_type": "markdown",
      "metadata": {
        "id": "view-in-github",
        "colab_type": "text"
      },
      "source": [
        "<a href=\"https://colab.research.google.com/github/pjmartel/python-for-scientists/blob/master/Introduction_to_numpy.ipynb\" target=\"_parent\"><img src=\"https://colab.research.google.com/assets/colab-badge.svg\" alt=\"Open In Colab\"/></a>"
      ]
    },
    {
      "cell_type": "markdown",
      "metadata": {
        "id": "FoAKqmMqYTHz"
      },
      "source": [
        "### Introduction to Numerical Python\n",
        "\n",
        "Although Python is a very versatile and powerful language on its own, its full power is only realized through the use of various **packages** and **modules** that extend the language functionality with new data types, objects and functions.\n",
        "\n",
        "The **Numerical Python** (Numpy) package is the fundamental library for scientific computing, adding vectors, matrices and higher-level multidimensional arrays whose elements can be of a variety of new numeric datatypes of different precisions. Numpy supports *vector operations* on these arrays, and use of low-level  C language calls that can speed Python calculations enormously. Numpy comes with a variety of *methods* and functions operating on these array types, for things like optimzation, fitting, approximation, equation solving and statistics. It is safe to say that no Python scientific programming is feasible without the use of Numpy."
      ]
    },
    {
      "cell_type": "markdown",
      "metadata": {
        "id": "2_FqXW3ZRUQm"
      },
      "source": [
        "While not very practical, versatile or computationally efficient, multi-dimensional arrays could in fact be constructed from the *list* Python datatype.\n",
        "\n",
        "**HANDS-ON:** Create a 2-Dimensional array using the list type."
      ]
    },
    {
      "cell_type": "code",
      "metadata": {
        "id": "UEZOZbwgR4Op",
        "colab": {
          "base_uri": "https://localhost:8080/"
        },
        "outputId": "8ef88b74-bbee-4c3a-e995-0ab3b4f75bd4"
      },
      "source": [
        "#@title Solution\n",
        "l2d = [[1,2,3],[4,5,6]]\n",
        "l2d[1][2]"
      ],
      "execution_count": 1,
      "outputs": [
        {
          "output_type": "execute_result",
          "data": {
            "text/plain": [
              "6"
            ]
          },
          "metadata": {},
          "execution_count": 1
        }
      ]
    },
    {
      "cell_type": "markdown",
      "metadata": {
        "id": "vuO4o-_rSU1o"
      },
      "source": [
        "#### Importing Numpy"
      ]
    },
    {
      "cell_type": "markdown",
      "metadata": {
        "id": "EjN95iUHnfbL"
      },
      "source": [
        "To start using Numpy, we must import it:"
      ]
    },
    {
      "cell_type": "code",
      "metadata": {
        "id": "hIMzF2SQnkID"
      },
      "source": [
        "import numpy as np"
      ],
      "execution_count": 2,
      "outputs": []
    },
    {
      "cell_type": "markdown",
      "metadata": {
        "id": "uAPJYTfgnqrB"
      },
      "source": [
        "**Note:** While we could have used another name to import Numpy, \"np\" is an accepted convention in the Python programming community - using another name is a bad idea, as it will make your code harder to read for others and more difficult to use with external snippets of code."
      ]
    },
    {
      "cell_type": "markdown",
      "metadata": {
        "id": "TKi-FPINtpQS"
      },
      "source": [
        "#### Numpy arrays are NOT lists"
      ]
    },
    {
      "cell_type": "markdown",
      "metadata": {
        "id": "odIs6CeeoqPm"
      },
      "source": [
        "It is important to understand that while numpy arrays share some common traits with lists, they are entirely different beasts. There are differences both in the way *operations* are done on numpy, and on the format of the contained *data* and how it is *represented* in memory. We will come to that.\n",
        "\n",
        "The `np.array`function can create an array from a list:"
      ]
    },
    {
      "cell_type": "code",
      "metadata": {
        "id": "PabUbUj6ooX5"
      },
      "source": [
        "a = np.array(([0, 1, 2, 3, 4, 5, 6, 7, 8, 9]))"
      ],
      "execution_count": 3,
      "outputs": []
    },
    {
      "cell_type": "markdown",
      "metadata": {
        "id": "YzSsZSoppBvn"
      },
      "source": [
        "For comparison, let's declare a variable \"L\" for the same list:"
      ]
    },
    {
      "cell_type": "code",
      "metadata": {
        "id": "9cXwGc9-pBVN"
      },
      "source": [
        "L = [0, 1, 2, 3, 4, 5, 6, 7, 8, 9]"
      ],
      "execution_count": 4,
      "outputs": []
    },
    {
      "cell_type": "markdown",
      "metadata": {
        "id": "_1u1Kh7Cpdlu"
      },
      "source": [
        "Now let's inspect `a` and `L`:"
      ]
    },
    {
      "cell_type": "code",
      "metadata": {
        "id": "UDklY1b-pcpo",
        "colab": {
          "base_uri": "https://localhost:8080/"
        },
        "outputId": "ee9e47c5-1a95-43dc-9d74-41d4f702df78"
      },
      "source": [
        "a"
      ],
      "execution_count": 5,
      "outputs": [
        {
          "output_type": "execute_result",
          "data": {
            "text/plain": [
              "array([0, 1, 2, 3, 4, 5, 6, 7, 8, 9])"
            ]
          },
          "metadata": {},
          "execution_count": 5
        }
      ]
    },
    {
      "cell_type": "code",
      "metadata": {
        "id": "l-2A-wBzo_uF",
        "colab": {
          "base_uri": "https://localhost:8080/"
        },
        "outputId": "9c475bac-3efd-46ac-d0a6-dc272570a800"
      },
      "source": [
        "L"
      ],
      "execution_count": 6,
      "outputs": [
        {
          "output_type": "execute_result",
          "data": {
            "text/plain": [
              "[0, 1, 2, 3, 4, 5, 6, 7, 8, 9]"
            ]
          },
          "metadata": {},
          "execution_count": 6
        }
      ]
    },
    {
      "cell_type": "markdown",
      "metadata": {
        "id": "0z9_QEroqAZy"
      },
      "source": [
        "The *array* name tag in the output tells us  that \"a\" is not of list type, even tough it contains a list of numbers."
      ]
    },
    {
      "cell_type": "markdown",
      "metadata": {
        "id": "UlfXoesdqtSn"
      },
      "source": [
        "And now let's reveal the first major difference between the two objects:"
      ]
    },
    {
      "cell_type": "code",
      "metadata": {
        "id": "LdALxaXNp-st",
        "colab": {
          "base_uri": "https://localhost:8080/"
        },
        "outputId": "0b7b2251-db2e-4ac4-848e-cfd6e62ca0b9"
      },
      "source": [
        "2*L"
      ],
      "execution_count": 7,
      "outputs": [
        {
          "output_type": "execute_result",
          "data": {
            "text/plain": [
              "[0, 1, 2, 3, 4, 5, 6, 7, 8, 9, 0, 1, 2, 3, 4, 5, 6, 7, 8, 9]"
            ]
          },
          "metadata": {},
          "execution_count": 7
        }
      ]
    },
    {
      "cell_type": "code",
      "metadata": {
        "id": "8oGfOqn0pm6_",
        "colab": {
          "base_uri": "https://localhost:8080/"
        },
        "outputId": "6d03a591-ad45-43df-875a-a1575264c710"
      },
      "source": [
        "2*a"
      ],
      "execution_count": 8,
      "outputs": [
        {
          "output_type": "execute_result",
          "data": {
            "text/plain": [
              "array([ 0,  2,  4,  6,  8, 10, 12, 14, 16, 18])"
            ]
          },
          "metadata": {},
          "execution_count": 8
        }
      ]
    },
    {
      "cell_type": "markdown",
      "metadata": {
        "id": "B2QHecU3q5Dm"
      },
      "source": [
        "While multiplying a list by \"n\" returns a list with \"n\" concatenated copies of the original list, multiplying a numpy 1D array with a number simply multiplies *each of its elements* by the same number \"n\". This is what's called a *vector operation*, which applies equally to all elements of an array.\n",
        "As we will see, vector operations go far beyond multiplication by a scalar.\n",
        "\n",
        "Let's create a second numpy array, at same time demonstrating the use of the function `np.arange`:"
      ]
    },
    {
      "cell_type": "code",
      "metadata": {
        "id": "WrPmh8RWq33B",
        "colab": {
          "base_uri": "https://localhost:8080/"
        },
        "outputId": "91c3cd27-6a0b-47f9-ffad-5024a131947a"
      },
      "source": [
        "b = np.arange(10,20) # creates an array containing numbersfrom 10 to 20 (last not included)\n",
        "b"
      ],
      "execution_count": 9,
      "outputs": [
        {
          "output_type": "execute_result",
          "data": {
            "text/plain": [
              "array([10, 11, 12, 13, 14, 15, 16, 17, 18, 19])"
            ]
          },
          "metadata": {},
          "execution_count": 9
        }
      ]
    },
    {
      "cell_type": "markdown",
      "metadata": {
        "id": "ojHysrXBsGu2"
      },
      "source": [
        "What happens if we add the two arrays ?"
      ]
    },
    {
      "cell_type": "code",
      "metadata": {
        "id": "DKQOeTmzsBx8",
        "colab": {
          "base_uri": "https://localhost:8080/"
        },
        "outputId": "ad67a161-b9e3-414d-ca12-93fc4051dcbb"
      },
      "source": [
        "a + b"
      ],
      "execution_count": 10,
      "outputs": [
        {
          "output_type": "execute_result",
          "data": {
            "text/plain": [
              "array([10, 12, 14, 16, 18, 20, 22, 24, 26, 28])"
            ]
          },
          "metadata": {},
          "execution_count": 10
        }
      ]
    },
    {
      "cell_type": "markdown",
      "metadata": {
        "id": "MyEdsi7fsYw-"
      },
      "source": [
        "The two arrays got summed elementwise (each element of the new array is the sum of the elements of the two arrays in the corresponding position)"
      ]
    },
    {
      "cell_type": "markdown",
      "metadata": {
        "id": "ueSXRDjlstIT"
      },
      "source": [
        "Mutlitplication of 1D arrays works in the same way:"
      ]
    },
    {
      "cell_type": "code",
      "metadata": {
        "id": "4a8em2XpsOXA",
        "colab": {
          "base_uri": "https://localhost:8080/"
        },
        "outputId": "ec816929-d068-4dea-bd24-a0ebcefa95ff"
      },
      "source": [
        "a*b"
      ],
      "execution_count": 11,
      "outputs": [
        {
          "output_type": "execute_result",
          "data": {
            "text/plain": [
              "array([  0,  11,  24,  39,  56,  75,  96, 119, 144, 171])"
            ]
          },
          "metadata": {},
          "execution_count": 11
        }
      ]
    },
    {
      "cell_type": "markdown",
      "metadata": {
        "id": "lapESnB5s9kF"
      },
      "source": [
        "... and so does division:"
      ]
    },
    {
      "cell_type": "code",
      "metadata": {
        "id": "2-xBAixYszSZ",
        "colab": {
          "base_uri": "https://localhost:8080/"
        },
        "outputId": "6313d149-3372-4341-bc6f-70c59cf6a4c3"
      },
      "source": [
        "a/b"
      ],
      "execution_count": 12,
      "outputs": [
        {
          "output_type": "execute_result",
          "data": {
            "text/plain": [
              "array([0.        , 0.09090909, 0.16666667, 0.23076923, 0.28571429,\n",
              "       0.33333333, 0.375     , 0.41176471, 0.44444444, 0.47368421])"
            ]
          },
          "metadata": {},
          "execution_count": 12
        }
      ]
    },
    {
      "cell_type": "markdown",
      "metadata": {
        "id": "7D2EWR3ktO2X"
      },
      "source": [
        "Constrast this with lists:"
      ]
    },
    {
      "cell_type": "code",
      "metadata": {
        "id": "XpUt0CBxtDDG",
        "colab": {
          "base_uri": "https://localhost:8080/",
          "height": 141
        },
        "outputId": "e84ab7ad-478d-48a8-b5b2-af330d3e1362"
      },
      "source": [
        "L*L"
      ],
      "execution_count": 13,
      "outputs": [
        {
          "output_type": "error",
          "ename": "TypeError",
          "evalue": "can't multiply sequence by non-int of type 'list'",
          "traceback": [
            "\u001b[0;31m---------------------------------------------------------------------------\u001b[0m",
            "\u001b[0;31mTypeError\u001b[0m                                 Traceback (most recent call last)",
            "\u001b[0;32m<ipython-input-13-ebc56ab7be53>\u001b[0m in \u001b[0;36m<cell line: 1>\u001b[0;34m()\u001b[0m\n\u001b[0;32m----> 1\u001b[0;31m \u001b[0mL\u001b[0m\u001b[0;34m*\u001b[0m\u001b[0mL\u001b[0m\u001b[0;34m\u001b[0m\u001b[0;34m\u001b[0m\u001b[0m\n\u001b[0m",
            "\u001b[0;31mTypeError\u001b[0m: can't multiply sequence by non-int of type 'list'"
          ]
        }
      ]
    },
    {
      "cell_type": "markdown",
      "metadata": {
        "id": "CZZ9JhKptVAv"
      },
      "source": [
        "or"
      ]
    },
    {
      "cell_type": "code",
      "metadata": {
        "id": "b4sjQfXftStW",
        "colab": {
          "base_uri": "https://localhost:8080/",
          "height": 141
        },
        "outputId": "e5164d11-5a4d-42ad-e6fe-d184f358bd8a"
      },
      "source": [
        "L/L"
      ],
      "execution_count": 14,
      "outputs": [
        {
          "output_type": "error",
          "ename": "TypeError",
          "evalue": "unsupported operand type(s) for /: 'list' and 'list'",
          "traceback": [
            "\u001b[0;31m---------------------------------------------------------------------------\u001b[0m",
            "\u001b[0;31mTypeError\u001b[0m                                 Traceback (most recent call last)",
            "\u001b[0;32m<ipython-input-14-155075f65d14>\u001b[0m in \u001b[0;36m<cell line: 1>\u001b[0;34m()\u001b[0m\n\u001b[0;32m----> 1\u001b[0;31m \u001b[0mL\u001b[0m\u001b[0;34m/\u001b[0m\u001b[0mL\u001b[0m\u001b[0;34m\u001b[0m\u001b[0;34m\u001b[0m\u001b[0m\n\u001b[0m",
            "\u001b[0;31mTypeError\u001b[0m: unsupported operand type(s) for /: 'list' and 'list'"
          ]
        }
      ]
    },
    {
      "cell_type": "markdown",
      "metadata": {
        "id": "WBxbbzqO7v-c"
      },
      "source": [
        "Numpy array elements can be accessed through *slice notation*, in the same  as str or list objects:"
      ]
    },
    {
      "cell_type": "code",
      "metadata": {
        "id": "qCnxywzI8CQI",
        "colab": {
          "base_uri": "https://localhost:8080/"
        },
        "outputId": "6b00d7b1-3be7-4a61-d594-97623125da1a"
      },
      "source": [
        "a[3:7]"
      ],
      "execution_count": 15,
      "outputs": [
        {
          "output_type": "execute_result",
          "data": {
            "text/plain": [
              "array([3, 4, 5, 6])"
            ]
          },
          "metadata": {},
          "execution_count": 15
        }
      ]
    },
    {
      "cell_type": "code",
      "metadata": {
        "id": "QgQKWhNn8Bhr"
      },
      "source": [],
      "execution_count": null,
      "outputs": []
    },
    {
      "cell_type": "markdown",
      "metadata": {
        "id": "2FhAv2qwuT13"
      },
      "source": [
        "#### Numpy arrays can be of different numerical types\n"
      ]
    },
    {
      "cell_type": "markdown",
      "metadata": {
        "id": "CoF0DzSpuaBD"
      },
      "source": [
        "While Python has a default \"int\" and \"float\" data types, these are generally not well suited for scientific computing, where we want a  lot more control over the precison, size and way numbers are internally represented. Numpy provides a host of numerical types of varying precision and type. Let's list them:"
      ]
    },
    {
      "cell_type": "code",
      "metadata": {
        "id": "73If9oUUtYHW",
        "colab": {
          "base_uri": "https://localhost:8080/"
        },
        "outputId": "40a47534-5c7f-4132-d288-0ac256fd63c5"
      },
      "source": [
        "np.sctypes"
      ],
      "execution_count": 16,
      "outputs": [
        {
          "output_type": "execute_result",
          "data": {
            "text/plain": [
              "{'int': [numpy.int8, numpy.int16, numpy.int32, numpy.int64],\n",
              " 'uint': [numpy.uint8, numpy.uint16, numpy.uint32, numpy.uint64],\n",
              " 'float': [numpy.float16, numpy.float32, numpy.float64, numpy.longdouble],\n",
              " 'complex': [numpy.complex64, numpy.complex128, numpy.clongdouble],\n",
              " 'others': [bool, object, bytes, str, numpy.void]}"
            ]
          },
          "metadata": {},
          "execution_count": 16
        }
      ]
    },
    {
      "cell_type": "markdown",
      "metadata": {
        "id": "RqOEVBiAwods"
      },
      "source": [
        "Numpy has differents types for \"int\", \"float\" or \"complex\", and a few others. For each type, the different versions have a number appended, meaning the number of bytes that each number uses for internal representation. The \"float\" data types, for istance:"
      ]
    },
    {
      "cell_type": "code",
      "metadata": {
        "id": "cdy76sk1u89S",
        "colab": {
          "base_uri": "https://localhost:8080/"
        },
        "outputId": "30859038-7f51-453c-87e9-19e86703ac86"
      },
      "source": [
        "np.sctypes['float']"
      ],
      "execution_count": 17,
      "outputs": [
        {
          "output_type": "execute_result",
          "data": {
            "text/plain": [
              "[numpy.float16, numpy.float32, numpy.float64, numpy.longdouble]"
            ]
          },
          "metadata": {},
          "execution_count": 17
        }
      ]
    },
    {
      "cell_type": "markdown",
      "metadata": {
        "id": "rW3cSL1JxZnp"
      },
      "source": [
        "denote floating point nunbers with 16 bits (float16), 32 bits (float32), 64 bits (float64) and 128 bits (float128). Generally speaking, types with higher number of bits offer  increased precision at the cost of higher storage requirements and slower computation."
      ]
    },
    {
      "cell_type": "markdown",
      "metadata": {
        "id": "nVKnwq1OyOrA"
      },
      "source": [
        "If we are really not all that much worried with the size of our numbers, Numpy provides default options for \"float\" and \"int\". So, for instance when we created our numpy array with"
      ]
    },
    {
      "cell_type": "code",
      "metadata": {
        "id": "Ff5awgUxwDXM"
      },
      "source": [
        "a = np.arange(10)"
      ],
      "execution_count": 18,
      "outputs": []
    },
    {
      "cell_type": "markdown",
      "metadata": {
        "id": "0_XYa8MXykUx"
      },
      "source": [
        "numpy assumed you wanted integers (because of the lack of a decimal poin in the range limit). We can chek it by using the  \"dtype\" *attribute*  of numpy array objects:"
      ]
    },
    {
      "cell_type": "code",
      "metadata": {
        "id": "kEznUPqkzgWb",
        "colab": {
          "base_uri": "https://localhost:8080/"
        },
        "outputId": "c90d567e-eb78-44e3-dd0f-fcb598fdf683"
      },
      "source": [
        "a.dtype"
      ],
      "execution_count": 19,
      "outputs": [
        {
          "output_type": "execute_result",
          "data": {
            "text/plain": [
              "dtype('int64')"
            ]
          },
          "metadata": {},
          "execution_count": 19
        }
      ]
    },
    {
      "cell_type": "markdown",
      "metadata": {
        "id": "SSQiYM0izx08"
      },
      "source": [
        "This tells us that the dafult \"int\" type for numpy is \"int64\" (integers with an internal representation of 64 bits, or 8 bytes)"
      ]
    },
    {
      "cell_type": "markdown",
      "metadata": {
        "id": "iMVPXB800AJG"
      },
      "source": [
        "If we had typed instead:"
      ]
    },
    {
      "cell_type": "code",
      "metadata": {
        "id": "X1njVeK6zlFI",
        "colab": {
          "base_uri": "https://localhost:8080/"
        },
        "outputId": "59028c95-ddfb-4490-f6ce-e9ecb3640eeb"
      },
      "source": [
        "a = np.arange(10.0)\n",
        "a"
      ],
      "execution_count": 20,
      "outputs": [
        {
          "output_type": "execute_result",
          "data": {
            "text/plain": [
              "array([0., 1., 2., 3., 4., 5., 6., 7., 8., 9.])"
            ]
          },
          "metadata": {},
          "execution_count": 20
        }
      ]
    },
    {
      "cell_type": "markdown",
      "metadata": {
        "id": "L2EVHisj8Ssh"
      },
      "source": [
        "(Notice the decimal point after each number now, denoting a *float* type)"
      ]
    },
    {
      "cell_type": "code",
      "metadata": {
        "id": "4uB9iJHf0HeU",
        "colab": {
          "base_uri": "https://localhost:8080/"
        },
        "outputId": "aeef666d-26d7-4b49-c0af-2cd5d618296d"
      },
      "source": [
        "a.dtype"
      ],
      "execution_count": 21,
      "outputs": [
        {
          "output_type": "execute_result",
          "data": {
            "text/plain": [
              "dtype('float64')"
            ]
          },
          "metadata": {},
          "execution_count": 21
        }
      ]
    },
    {
      "cell_type": "markdown",
      "metadata": {
        "id": "FsD-l4000ObR"
      },
      "source": [
        "So the default `Numpy` type is `float64`, denoting floating point numbers internally represented in 64 bits (or 8 bytes).\n",
        "\n",
        "**Note:** The default size types for `int`\" and `float` in numpy are 64 bits because most machines nowadays use 64-bit CPUs where numbers are internally stored in 64 bits registers, and so there is generally no computing penalty for using numbers up to this size (GPU computation is a different story)."
      ]
    },
    {
      "cell_type": "markdown",
      "metadata": {
        "id": "ogvkPLaU1BZ6"
      },
      "source": [
        "Whenever we want numpy to create arrays of a non-default data type, we can simply do"
      ]
    },
    {
      "cell_type": "code",
      "metadata": {
        "id": "hhwDTFyJ0KIC",
        "colab": {
          "base_uri": "https://localhost:8080/"
        },
        "outputId": "4bb30e9d-8bf4-494e-ba43-4a899ec0f838"
      },
      "source": [
        "a = np.arange(10, dtype=np.float32)\n",
        "a"
      ],
      "execution_count": 22,
      "outputs": [
        {
          "output_type": "execute_result",
          "data": {
            "text/plain": [
              "array([0., 1., 2., 3., 4., 5., 6., 7., 8., 9.], dtype=float32)"
            ]
          },
          "metadata": {},
          "execution_count": 22
        }
      ]
    },
    {
      "cell_type": "code",
      "metadata": {
        "id": "e-HxbkoY1L_c",
        "colab": {
          "base_uri": "https://localhost:8080/"
        },
        "outputId": "a98a7624-0b2b-4b0a-e7c4-fdc12ee97dbf"
      },
      "source": [
        "a.dtype"
      ],
      "execution_count": 23,
      "outputs": [
        {
          "output_type": "execute_result",
          "data": {
            "text/plain": [
              "dtype('float32')"
            ]
          },
          "metadata": {},
          "execution_count": 23
        }
      ]
    },
    {
      "cell_type": "markdown",
      "metadata": {
        "id": "nLm7FPpk1XZ1"
      },
      "source": [
        "(notice how we need to prepend the data type \"float32\" with \"np\" or Python will not recognize it).\n",
        "<br><br>\n",
        "Another useful method of numpy objects is \"shape\":"
      ]
    },
    {
      "cell_type": "code",
      "metadata": {
        "id": "5A5mOryk1R20",
        "colab": {
          "base_uri": "https://localhost:8080/"
        },
        "outputId": "7d652977-1621-48be-8ae5-926eff94155c"
      },
      "source": [
        "a.shape"
      ],
      "execution_count": 24,
      "outputs": [
        {
          "output_type": "execute_result",
          "data": {
            "text/plain": [
              "(10,)"
            ]
          },
          "metadata": {},
          "execution_count": 24
        }
      ]
    },
    {
      "cell_type": "markdown",
      "metadata": {
        "id": "vNMkkk3d1pLv"
      },
      "source": [
        "The \"(10,)\" tuple indicates this is an array with only one dimension of size 10."
      ]
    },
    {
      "cell_type": "markdown",
      "metadata": {
        "id": "x6j4ltIz4h49"
      },
      "source": [
        "#### Different ways to initialize a numpy array"
      ]
    },
    {
      "cell_type": "markdown",
      "metadata": {
        "id": "HuU4CKWD4sPD"
      },
      "source": [
        "Numpy arrays can be initalized in different ways. So far we made accquaintance  with the `np.array` and `np.arange` methods.\n",
        "<br><br>\n",
        "The general form of the `np.arange` command is:\n",
        "\n",
        "```python\n",
        "a = np.arange(min_value, max_value, step)\n",
        "```\n",
        "where \"min\", \"max\" and \"step\" can be a \"int\" of \"float\" type.  For instance:"
      ]
    },
    {
      "cell_type": "code",
      "metadata": {
        "id": "KKsU8fOB1m0l",
        "colab": {
          "base_uri": "https://localhost:8080/"
        },
        "outputId": "e5097fe4-40a6-43ad-880e-2c6ebbd120f2"
      },
      "source": [
        "np.arange(1,5,0.1)"
      ],
      "execution_count": 25,
      "outputs": [
        {
          "output_type": "execute_result",
          "data": {
            "text/plain": [
              "array([1. , 1.1, 1.2, 1.3, 1.4, 1.5, 1.6, 1.7, 1.8, 1.9, 2. , 2.1, 2.2,\n",
              "       2.3, 2.4, 2.5, 2.6, 2.7, 2.8, 2.9, 3. , 3.1, 3.2, 3.3, 3.4, 3.5,\n",
              "       3.6, 3.7, 3.8, 3.9, 4. , 4.1, 4.2, 4.3, 4.4, 4.5, 4.6, 4.7, 4.8,\n",
              "       4.9])"
            ]
          },
          "metadata": {},
          "execution_count": 25
        }
      ]
    },
    {
      "cell_type": "markdown",
      "metadata": {
        "id": "X2O_pJNl5ogd"
      },
      "source": [
        "When creating a numpy array in this way, it is not immediately obvious how many elements it will contain - it depends on min, max and step. If you need to split the the `[min_value, max_value]` interval in an exact number of  elements, then `np.linspace` is your friend:"
      ]
    },
    {
      "cell_type": "code",
      "metadata": {
        "id": "tOgfANdS10xt",
        "colab": {
          "base_uri": "https://localhost:8080/"
        },
        "outputId": "26e52231-3efe-4f6d-de1f-8e0a5e32013d"
      },
      "source": [
        "a = np.linspace(1,5,20)\n",
        "a"
      ],
      "execution_count": 26,
      "outputs": [
        {
          "output_type": "execute_result",
          "data": {
            "text/plain": [
              "array([1.        , 1.21052632, 1.42105263, 1.63157895, 1.84210526,\n",
              "       2.05263158, 2.26315789, 2.47368421, 2.68421053, 2.89473684,\n",
              "       3.10526316, 3.31578947, 3.52631579, 3.73684211, 3.94736842,\n",
              "       4.15789474, 4.36842105, 4.57894737, 4.78947368, 5.        ])"
            ]
          },
          "metadata": {},
          "execution_count": 26
        }
      ]
    },
    {
      "cell_type": "markdown",
      "metadata": {
        "id": "mdZUKszp-OxF"
      },
      "source": [
        "Let's check the number of elements in a:"
      ]
    },
    {
      "cell_type": "code",
      "metadata": {
        "id": "xEefjbmw-S5a",
        "colab": {
          "base_uri": "https://localhost:8080/"
        },
        "outputId": "33e7e1fe-6d3b-4a5f-ded0-02140adda39a"
      },
      "source": [
        "a.shape"
      ],
      "execution_count": 27,
      "outputs": [
        {
          "output_type": "execute_result",
          "data": {
            "text/plain": [
              "(20,)"
            ]
          },
          "metadata": {},
          "execution_count": 27
        }
      ]
    },
    {
      "cell_type": "markdown",
      "metadata": {
        "id": "XYquyL315-3c"
      },
      "source": [
        "The array thus created is sure to have the number of elements specified in the third argument to the \"linspace\" method."
      ]
    },
    {
      "cell_type": "markdown",
      "metadata": {
        "id": "fORJw4rc6OBW"
      },
      "source": [
        "There many situations where we simply want to initialize an array with a given number of elements and are not particularly worried about the *intial* contents of said array.  We may be happy to fill it with zeros:"
      ]
    },
    {
      "cell_type": "code",
      "metadata": {
        "id": "WLrRxiVe59Pl",
        "colab": {
          "base_uri": "https://localhost:8080/"
        },
        "outputId": "9187c406-b042-4aa1-be26-3d245e14686b"
      },
      "source": [
        "np.zeros(10)"
      ],
      "execution_count": 28,
      "outputs": [
        {
          "output_type": "execute_result",
          "data": {
            "text/plain": [
              "array([0., 0., 0., 0., 0., 0., 0., 0., 0., 0.])"
            ]
          },
          "metadata": {},
          "execution_count": 28
        }
      ]
    },
    {
      "cell_type": "markdown",
      "metadata": {
        "id": "Qv5GRKqy6jTL"
      },
      "source": [
        "Or with ones:"
      ]
    },
    {
      "cell_type": "code",
      "metadata": {
        "id": "MkdLNmPi6gn7",
        "colab": {
          "base_uri": "https://localhost:8080/"
        },
        "outputId": "f993d7ec-caa2-4c36-bac8-5fdbf07cbb27"
      },
      "source": [
        "np.ones(10)"
      ],
      "execution_count": 29,
      "outputs": [
        {
          "output_type": "execute_result",
          "data": {
            "text/plain": [
              "array([1., 1., 1., 1., 1., 1., 1., 1., 1., 1.])"
            ]
          },
          "metadata": {},
          "execution_count": 29
        }
      ]
    },
    {
      "cell_type": "markdown",
      "metadata": {
        "id": "jwiU1ZDV858u"
      },
      "source": [
        "You can also initialize your array with a constant value other than zero or one using \"np.full\" :"
      ]
    },
    {
      "cell_type": "code",
      "metadata": {
        "id": "M8aTG5Cv6lvQ",
        "colab": {
          "base_uri": "https://localhost:8080/"
        },
        "outputId": "5baf004c-48ec-46fd-91e1-e8d66b447bf6"
      },
      "source": [
        "np.full(10,42)"
      ],
      "execution_count": 30,
      "outputs": [
        {
          "output_type": "execute_result",
          "data": {
            "text/plain": [
              "array([42, 42, 42, 42, 42, 42, 42, 42, 42, 42])"
            ]
          },
          "metadata": {},
          "execution_count": 30
        }
      ]
    },
    {
      "cell_type": "markdown",
      "metadata": {
        "id": "bxZ0o4Tx9OhG"
      },
      "source": [
        "You can even use \"np.empty\" to just allocate space for the array, without initializing it in any way. Note, however, that in this case the array elements will be initialized with whatever random bytes happen to be at the memory location that Python decides to use for your array - you cannot assume anything  about these initial values!"
      ]
    },
    {
      "cell_type": "code",
      "metadata": {
        "id": "_Y94b_gK61Wg",
        "colab": {
          "base_uri": "https://localhost:8080/"
        },
        "outputId": "e42575b7-296d-4c50-ff5b-44facd604e93"
      },
      "source": [
        "np.empty(5)"
      ],
      "execution_count": 31,
      "outputs": [
        {
          "output_type": "execute_result",
          "data": {
            "text/plain": [
              "array([7.74860419e-304, 7.74860419e-304, 7.74860419e-304, 7.74860419e-304,\n",
              "       7.74860419e-304])"
            ]
          },
          "metadata": {},
          "execution_count": 31
        }
      ]
    },
    {
      "cell_type": "markdown",
      "metadata": {
        "id": "NFs_PDxUHULO"
      },
      "source": [
        "Numpy arrays can also be initialized from lists using the \"np.array\" command:"
      ]
    },
    {
      "cell_type": "code",
      "metadata": {
        "id": "fp3u7KS_HbYK"
      },
      "source": [
        "a = np.array([0,1,2,3,4],dtype=np.float64)"
      ],
      "execution_count": 32,
      "outputs": []
    },
    {
      "cell_type": "code",
      "metadata": {
        "id": "iQtcpsvTHk5h",
        "colab": {
          "base_uri": "https://localhost:8080/"
        },
        "outputId": "24457070-8497-493f-8420-0a0764f2b557"
      },
      "source": [
        "a"
      ],
      "execution_count": 33,
      "outputs": [
        {
          "output_type": "execute_result",
          "data": {
            "text/plain": [
              "array([0., 1., 2., 3., 4.])"
            ]
          },
          "metadata": {},
          "execution_count": 33
        }
      ]
    },
    {
      "cell_type": "markdown",
      "metadata": {
        "id": "GhsnBwu1-MIg"
      },
      "source": [
        "#### Numpy arrays of higher dimensions"
      ]
    },
    {
      "cell_type": "markdown",
      "metadata": {
        "id": "hZpvJtBX_PUx"
      },
      "source": [
        "We've started out by saying  the numpy package expands Python with new data objects for multi-dimensional arrays, but so far we have only seen  arrays in one dimension. Actually, most of the commands we have listed for numpy array creation can be used for creating 2D, 3D, or ND arrays.  "
      ]
    },
    {
      "cell_type": "markdown",
      "metadata": {
        "id": "ofdyurFzIp77"
      },
      "source": [
        "Let's make a 5x10 2D array of zeros:"
      ]
    },
    {
      "cell_type": "code",
      "metadata": {
        "id": "NEjO1-uE9rlu"
      },
      "source": [
        "a =np.zeros((5,10))"
      ],
      "execution_count": 34,
      "outputs": []
    },
    {
      "cell_type": "markdown",
      "metadata": {
        "id": "Smau-BlHJO70"
      },
      "source": [
        "The tuple (5,10) is passed as argument to the np.zeros function to specify the desired *shape* of the array"
      ]
    },
    {
      "cell_type": "code",
      "metadata": {
        "id": "leB8tOVFI3Ol",
        "colab": {
          "base_uri": "https://localhost:8080/"
        },
        "outputId": "1b4188bb-6950-42c5-ac8b-b5b67733827f"
      },
      "source": [
        "a.shape"
      ],
      "execution_count": 35,
      "outputs": [
        {
          "output_type": "execute_result",
          "data": {
            "text/plain": [
              "(5, 10)"
            ]
          },
          "metadata": {},
          "execution_count": 35
        }
      ]
    },
    {
      "cell_type": "code",
      "metadata": {
        "id": "5xbT6C9uJfdU",
        "colab": {
          "base_uri": "https://localhost:8080/"
        },
        "outputId": "1859417a-de2e-47c4-b746-a50202f75c20"
      },
      "source": [
        "a"
      ],
      "execution_count": 36,
      "outputs": [
        {
          "output_type": "execute_result",
          "data": {
            "text/plain": [
              "array([[0., 0., 0., 0., 0., 0., 0., 0., 0., 0.],\n",
              "       [0., 0., 0., 0., 0., 0., 0., 0., 0., 0.],\n",
              "       [0., 0., 0., 0., 0., 0., 0., 0., 0., 0.],\n",
              "       [0., 0., 0., 0., 0., 0., 0., 0., 0., 0.],\n",
              "       [0., 0., 0., 0., 0., 0., 0., 0., 0., 0.]])"
            ]
          },
          "metadata": {},
          "execution_count": 36
        }
      ]
    },
    {
      "cell_type": "markdown",
      "metadata": {
        "id": "97hVt-9jIFhm"
      },
      "source": [
        "<br>\n",
        "To refer to  the element on row \"i\" and column \"j\" you would do:"
      ]
    },
    {
      "cell_type": "code",
      "metadata": {
        "id": "XJSpVkBkIa9t"
      },
      "source": [
        "i = 2\n",
        "j = 3\n",
        "a[i,j] = 999"
      ],
      "execution_count": 37,
      "outputs": []
    },
    {
      "cell_type": "markdown",
      "metadata": {
        "id": "LE1nDm6mKFsq"
      },
      "source": [
        "**NOTE**: Seeing how a 2D array can be created with a list of lists, it could have been reasonable to assume that referencing an element i, j would similarly be done  with\n",
        "\n",
        "\n",
        "```\n",
        "a[i][j]\n",
        "```\n",
        "While this does indeed work as a way of accessing single elements of N-dimensional np arrays, it prevents the ue of the very powerful numpy *slice notation*."
      ]
    },
    {
      "cell_type": "markdown",
      "metadata": {
        "id": "OgQqKoCYNpdY"
      },
      "source": [
        "Let's create a 2D array in a different way, using the \"reshape\" method of 2D arrays:"
      ]
    },
    {
      "cell_type": "code",
      "metadata": {
        "id": "wXnaYOqdJgXL",
        "colab": {
          "base_uri": "https://localhost:8080/"
        },
        "outputId": "6fa9d06c-973c-4128-d98d-b74601ead973"
      },
      "source": [
        "a = np.arange(25).reshape(5,5)\n",
        "a"
      ],
      "execution_count": 38,
      "outputs": [
        {
          "output_type": "execute_result",
          "data": {
            "text/plain": [
              "array([[ 0,  1,  2,  3,  4],\n",
              "       [ 5,  6,  7,  8,  9],\n",
              "       [10, 11, 12, 13, 14],\n",
              "       [15, 16, 17, 18, 19],\n",
              "       [20, 21, 22, 23, 24]])"
            ]
          },
          "metadata": {},
          "execution_count": 38
        }
      ]
    },
    {
      "cell_type": "markdown",
      "metadata": {
        "id": "zQjJ_nGmOFXC"
      },
      "source": [
        "Can you understand how this array was created ?\n",
        "\n",
        "\n",
        "1.   A 1D array of lenght 25 was created\n",
        "2.   The 1D array was *reshaped* to a 5 by 5 2D array\n",
        "\n",
        "The methods \"arange\" and \"reshape\" were *chained* in a single command. We could have done this in parts:\n"
      ]
    },
    {
      "cell_type": "code",
      "metadata": {
        "id": "n30htFrJJBUn",
        "colab": {
          "base_uri": "https://localhost:8080/"
        },
        "outputId": "81bbde21-b6a2-4f23-b5c5-8d76fffb29e8"
      },
      "source": [
        "a = np.arange(25)\n",
        "a = a.reshape(5,5)\n",
        "a"
      ],
      "execution_count": 39,
      "outputs": [
        {
          "output_type": "execute_result",
          "data": {
            "text/plain": [
              "array([[ 0,  1,  2,  3,  4],\n",
              "       [ 5,  6,  7,  8,  9],\n",
              "       [10, 11, 12, 13, 14],\n",
              "       [15, 16, 17, 18, 19],\n",
              "       [20, 21, 22, 23, 24]])"
            ]
          },
          "metadata": {},
          "execution_count": 39
        }
      ]
    },
    {
      "cell_type": "markdown",
      "metadata": {
        "id": "LnaZQTwHO7Ba"
      },
      "source": [
        "The first form may be less readable at first, but witth a little experience it becomes a really nice and  compact way to encapsulate complex operations.\n",
        "\n",
        "We can check the array shape:"
      ]
    },
    {
      "cell_type": "code",
      "metadata": {
        "id": "ZetSKuiOO3zo",
        "colab": {
          "base_uri": "https://localhost:8080/"
        },
        "outputId": "c1d228fa-023f-4a4f-f673-28ff62794b46"
      },
      "source": [
        "a.shape"
      ],
      "execution_count": 40,
      "outputs": [
        {
          "output_type": "execute_result",
          "data": {
            "text/plain": [
              "(5, 5)"
            ]
          },
          "metadata": {},
          "execution_count": 40
        }
      ]
    },
    {
      "cell_type": "markdown",
      "metadata": {
        "id": "UzjP4bCkTrmo"
      },
      "source": [
        "To access a given element of the array:"
      ]
    },
    {
      "cell_type": "code",
      "metadata": {
        "id": "6y99402mTyOD",
        "colab": {
          "base_uri": "https://localhost:8080/"
        },
        "outputId": "a79c9e09-49e5-4cc0-b838-85e2ad1182d9"
      },
      "source": [
        "a[3,3]"
      ],
      "execution_count": 41,
      "outputs": [
        {
          "output_type": "execute_result",
          "data": {
            "text/plain": [
              "18"
            ]
          },
          "metadata": {},
          "execution_count": 41
        }
      ]
    },
    {
      "cell_type": "markdown",
      "metadata": {
        "id": "XQ6swKtoT7s1"
      },
      "source": [
        "A range of elements can be accessed with the slice notation:"
      ]
    },
    {
      "cell_type": "code",
      "metadata": {
        "id": "GZNx9dYpUAZF",
        "colab": {
          "base_uri": "https://localhost:8080/"
        },
        "outputId": "d54db7bf-3f9e-4dc9-ba22-0165cc21d6d9"
      },
      "source": [
        "a[2:5,1:4]"
      ],
      "execution_count": 43,
      "outputs": [
        {
          "output_type": "execute_result",
          "data": {
            "text/plain": [
              "array([[11, 12, 13],\n",
              "       [16, 17, 18],\n",
              "       [21, 22, 23]])"
            ]
          },
          "metadata": {},
          "execution_count": 43
        }
      ]
    },
    {
      "cell_type": "markdown",
      "metadata": {
        "id": "Re4spyn5UIeO"
      },
      "source": [
        "The first index always refers to rows, and the second to columns, so using only one index will return the entire row:"
      ]
    },
    {
      "cell_type": "code",
      "metadata": {
        "id": "zS-kecmyUbC1",
        "colab": {
          "base_uri": "https://localhost:8080/"
        },
        "outputId": "4d496c02-7726-4e18-bb3d-0d9ec8aba48f"
      },
      "source": [
        "a[1]"
      ],
      "execution_count": 44,
      "outputs": [
        {
          "output_type": "execute_result",
          "data": {
            "text/plain": [
              "array([5, 6, 7, 8, 9])"
            ]
          },
          "metadata": {},
          "execution_count": 44
        }
      ]
    },
    {
      "cell_type": "markdown",
      "metadata": {
        "id": "4rsxnHASUo0Q"
      },
      "source": [
        "To refer to a single column, the folloing notation is used:"
      ]
    },
    {
      "cell_type": "code",
      "metadata": {
        "id": "_Y8rUQz0U0aP",
        "colab": {
          "base_uri": "https://localhost:8080/"
        },
        "outputId": "6e224eb2-6fff-4689-debd-54430b321bf1"
      },
      "source": [
        "a[:,1]"
      ],
      "execution_count": 45,
      "outputs": [
        {
          "output_type": "execute_result",
          "data": {
            "text/plain": [
              "array([ 1,  6, 11, 16, 21])"
            ]
          },
          "metadata": {},
          "execution_count": 45
        }
      ]
    },
    {
      "cell_type": "markdown",
      "metadata": {
        "id": "gA_ozXUdU6yM"
      },
      "source": [
        "(the \":\" for the row index means all row values will used, producing the entire column)"
      ]
    },
    {
      "cell_type": "markdown",
      "metadata": {
        "id": "K1k_7qm3VRLW"
      },
      "source": [
        "**HANDS-ON:** Figure what the correct slicing to apply to array \"a\" in order to produce this result:\n",
        "\n",
        "\n",
        "\n",
        "```Python\n",
        "array([[ 7,  8,  9],\n",
        "       [12, 13, 14],\n",
        "       [17, 18, 19]])\n",
        "```\n",
        "\n"
      ]
    },
    {
      "cell_type": "code",
      "metadata": {
        "id": "cAy8UD1tVkm0",
        "cellView": "form"
      },
      "source": [
        "#@title SOLUTION\n",
        "a[1:4,2:5]"
      ],
      "execution_count": null,
      "outputs": []
    },
    {
      "cell_type": "markdown",
      "metadata": {
        "id": "7K3JornUTQLJ"
      },
      "source": [
        "Higher-dimensional arrays can be created in the same way:"
      ]
    },
    {
      "cell_type": "code",
      "metadata": {
        "id": "5QE6z80kTPHP",
        "colab": {
          "base_uri": "https://localhost:8080/"
        },
        "outputId": "62b82b86-ea7b-4463-c34c-47fd0b1be5fd"
      },
      "source": [
        "b = np.arange(125).reshape(5,5,5)\n",
        "b"
      ],
      "execution_count": 46,
      "outputs": [
        {
          "output_type": "execute_result",
          "data": {
            "text/plain": [
              "array([[[  0,   1,   2,   3,   4],\n",
              "        [  5,   6,   7,   8,   9],\n",
              "        [ 10,  11,  12,  13,  14],\n",
              "        [ 15,  16,  17,  18,  19],\n",
              "        [ 20,  21,  22,  23,  24]],\n",
              "\n",
              "       [[ 25,  26,  27,  28,  29],\n",
              "        [ 30,  31,  32,  33,  34],\n",
              "        [ 35,  36,  37,  38,  39],\n",
              "        [ 40,  41,  42,  43,  44],\n",
              "        [ 45,  46,  47,  48,  49]],\n",
              "\n",
              "       [[ 50,  51,  52,  53,  54],\n",
              "        [ 55,  56,  57,  58,  59],\n",
              "        [ 60,  61,  62,  63,  64],\n",
              "        [ 65,  66,  67,  68,  69],\n",
              "        [ 70,  71,  72,  73,  74]],\n",
              "\n",
              "       [[ 75,  76,  77,  78,  79],\n",
              "        [ 80,  81,  82,  83,  84],\n",
              "        [ 85,  86,  87,  88,  89],\n",
              "        [ 90,  91,  92,  93,  94],\n",
              "        [ 95,  96,  97,  98,  99]],\n",
              "\n",
              "       [[100, 101, 102, 103, 104],\n",
              "        [105, 106, 107, 108, 109],\n",
              "        [110, 111, 112, 113, 114],\n",
              "        [115, 116, 117, 118, 119],\n",
              "        [120, 121, 122, 123, 124]]])"
            ]
          },
          "metadata": {},
          "execution_count": 46
        }
      ]
    },
    {
      "cell_type": "markdown",
      "metadata": {
        "id": "50smO4qVXB-C"
      },
      "source": [
        "We can imagine a 3D array as a cube of numbers, where each value of the first index points to a 2D-array \"slice\" of the cube:"
      ]
    },
    {
      "cell_type": "code",
      "metadata": {
        "id": "lQq_PZKSXPLS",
        "colab": {
          "base_uri": "https://localhost:8080/"
        },
        "outputId": "4cb5750d-d82a-4f1a-962c-e77e51e3aeca"
      },
      "source": [
        "b[2]"
      ],
      "execution_count": 47,
      "outputs": [
        {
          "output_type": "execute_result",
          "data": {
            "text/plain": [
              "array([[50, 51, 52, 53, 54],\n",
              "       [55, 56, 57, 58, 59],\n",
              "       [60, 61, 62, 63, 64],\n",
              "       [65, 66, 67, 68, 69],\n",
              "       [70, 71, 72, 73, 74]])"
            ]
          },
          "metadata": {},
          "execution_count": 47
        }
      ]
    },
    {
      "cell_type": "markdown",
      "metadata": {
        "id": "ZNbf-M8RXskt"
      },
      "source": [
        "#### Vector operations on arrays\n",
        "\n",
        "One of the most powerful things about numpy arrays is how operations can be done on them on a vectorial (elementwise) manner. Not only does this produce much more compact and elegant code, but also frequently results in major code speedups, as the vectorized operations are done by very fast pre-compiled C functions. Generally, if $X = [X_1,X_2,...,X_n]$ is a numpy array and $f()$ a *universal function* (ufunc), the operation:\n",
        "\n",
        "$$ A = f(X) $$\n",
        "\n",
        "will return an array whose are values $A = [f(X_1),f(X_2),...,f(X_n)]$. The numpy library has many universal functions, ranging from simply arithmetic to transcendant functions like cos, sin, tan, log...  Essentially, this means that in many instances we do not need  to *explicitly* iterate over the elements of an array (for istance with a \"for\" loop) to produce the desired result. In fact, \"for\" loops will be pratically non-existent in proeficient numpy code!"
      ]
    },
    {
      "cell_type": "markdown",
      "metadata": {
        "id": "2n5T0CJjcpw6"
      },
      "source": [
        "Let's start out with a simple example:"
      ]
    },
    {
      "cell_type": "code",
      "metadata": {
        "id": "SJk2ITHHZTl2",
        "colab": {
          "base_uri": "https://localhost:8080/"
        },
        "outputId": "d477134e-cb00-4cf2-959a-0bc2679295d0"
      },
      "source": [
        "x = np.arange(0,2*np.pi,0.1)\n",
        "x"
      ],
      "execution_count": 48,
      "outputs": [
        {
          "output_type": "execute_result",
          "data": {
            "text/plain": [
              "array([0. , 0.1, 0.2, 0.3, 0.4, 0.5, 0.6, 0.7, 0.8, 0.9, 1. , 1.1, 1.2,\n",
              "       1.3, 1.4, 1.5, 1.6, 1.7, 1.8, 1.9, 2. , 2.1, 2.2, 2.3, 2.4, 2.5,\n",
              "       2.6, 2.7, 2.8, 2.9, 3. , 3.1, 3.2, 3.3, 3.4, 3.5, 3.6, 3.7, 3.8,\n",
              "       3.9, 4. , 4.1, 4.2, 4.3, 4.4, 4.5, 4.6, 4.7, 4.8, 4.9, 5. , 5.1,\n",
              "       5.2, 5.3, 5.4, 5.5, 5.6, 5.7, 5.8, 5.9, 6. , 6.1, 6.2])"
            ]
          },
          "metadata": {},
          "execution_count": 48
        }
      ]
    },
    {
      "cell_type": "markdown",
      "metadata": {
        "id": "zWniO601c38S"
      },
      "source": [
        "As you may have guessed, \"np.pi\" is the number $\\pi$ . The array \"x\" is loaded with floating point numbers ranging from $0$ to $2\\pi$. Now lets apply the ufunc \"np.sin\" to the array x:"
      ]
    },
    {
      "cell_type": "code",
      "metadata": {
        "id": "rd3clGZqdwQM",
        "colab": {
          "base_uri": "https://localhost:8080/"
        },
        "outputId": "7b15276d-2e86-4e81-909d-f40f8501cc14"
      },
      "source": [
        "y = np.sin(x)\n",
        "y"
      ],
      "execution_count": 49,
      "outputs": [
        {
          "output_type": "execute_result",
          "data": {
            "text/plain": [
              "array([ 0.        ,  0.09983342,  0.19866933,  0.29552021,  0.38941834,\n",
              "        0.47942554,  0.56464247,  0.64421769,  0.71735609,  0.78332691,\n",
              "        0.84147098,  0.89120736,  0.93203909,  0.96355819,  0.98544973,\n",
              "        0.99749499,  0.9995736 ,  0.99166481,  0.97384763,  0.94630009,\n",
              "        0.90929743,  0.86320937,  0.8084964 ,  0.74570521,  0.67546318,\n",
              "        0.59847214,  0.51550137,  0.42737988,  0.33498815,  0.23924933,\n",
              "        0.14112001,  0.04158066, -0.05837414, -0.15774569, -0.2555411 ,\n",
              "       -0.35078323, -0.44252044, -0.52983614, -0.61185789, -0.68776616,\n",
              "       -0.7568025 , -0.81827711, -0.87157577, -0.91616594, -0.95160207,\n",
              "       -0.97753012, -0.993691  , -0.99992326, -0.99616461, -0.98245261,\n",
              "       -0.95892427, -0.92581468, -0.88345466, -0.83226744, -0.77276449,\n",
              "       -0.70554033, -0.63126664, -0.55068554, -0.46460218, -0.37387666,\n",
              "       -0.2794155 , -0.1821625 , -0.0830894 ])"
            ]
          },
          "metadata": {},
          "execution_count": 49
        }
      ]
    },
    {
      "cell_type": "markdown",
      "metadata": {
        "id": "YGJua5QDd1DI"
      },
      "source": [
        "y is a new array containing the sine of every element in the x array!\n",
        "\n",
        "To convinces us that this is so, let's plot y against x using Matplotlib:"
      ]
    },
    {
      "cell_type": "code",
      "metadata": {
        "id": "jBnEbwZ9eRJX",
        "colab": {
          "base_uri": "https://localhost:8080/",
          "height": 447
        },
        "outputId": "b4c26bdd-a3ad-4d8d-f343-641824528c65"
      },
      "source": [
        "import matplotlib.pyplot as plt\n",
        "plt.plot(x,y,'ko-')"
      ],
      "execution_count": 50,
      "outputs": [
        {
          "output_type": "execute_result",
          "data": {
            "text/plain": [
              "[<matplotlib.lines.Line2D at 0x7f97e4034d90>]"
            ]
          },
          "metadata": {},
          "execution_count": 50
        },
        {
          "output_type": "display_data",
          "data": {
            "text/plain": [
              "<Figure size 640x480 with 1 Axes>"
            ],
            "image/png": "[encoded data removed]"
          },
          "metadata": {}
        }
      ]
    },
    {
      "cell_type": "markdown",
      "metadata": {
        "id": "8-ZpUVXbeyqW"
      },
      "source": [
        "**HANDS-ON:** If `z = np.cos(x)`, what do you think will be the return result of the following expression:\n",
        "\n",
        "```\n",
        "y*y+z*z\n",
        "```\n",
        "(don't just run it, try to guess the result first!)"
      ]
    },
    {
      "cell_type": "code",
      "metadata": {
        "id": "sDm9gjKpelIU",
        "colab": {
          "base_uri": "https://localhost:8080/"
        },
        "outputId": "c599c22a-929f-4814-bb33-2684a42ab67a"
      },
      "source": [
        "#@title SOLUTION\n",
        "z = np.cos(x)\n",
        "y*y+z*z"
      ],
      "execution_count": 51,
      "outputs": [
        {
          "output_type": "execute_result",
          "data": {
            "text/plain": [
              "array([1., 1., 1., 1., 1., 1., 1., 1., 1., 1., 1., 1., 1., 1., 1., 1., 1.,\n",
              "       1., 1., 1., 1., 1., 1., 1., 1., 1., 1., 1., 1., 1., 1., 1., 1., 1.,\n",
              "       1., 1., 1., 1., 1., 1., 1., 1., 1., 1., 1., 1., 1., 1., 1., 1., 1.,\n",
              "       1., 1., 1., 1., 1., 1., 1., 1., 1., 1., 1., 1.])"
            ]
          },
          "metadata": {},
          "execution_count": 51
        }
      ]
    },
    {
      "cell_type": "markdown",
      "metadata": {
        "id": "gvxwWsn4UjKn"
      },
      "source": [
        "Another example, generating a polynomial function from argument x :"
      ]
    },
    {
      "cell_type": "code",
      "metadata": {
        "id": "UcGqpPVPpKIn"
      },
      "source": [
        "a = 2\n",
        "b = 3\n",
        "c = -1\n",
        "y = a * x**2 + b * x + c"
      ],
      "execution_count": 52,
      "outputs": []
    },
    {
      "cell_type": "code",
      "metadata": {
        "id": "3qtq8xQspSeI",
        "colab": {
          "base_uri": "https://localhost:8080/",
          "height": 447
        },
        "outputId": "d2d70760-0526-472a-b285-a7be07894bad"
      },
      "source": [
        "plt.plot(x,y,'ko-')"
      ],
      "execution_count": 53,
      "outputs": [
        {
          "output_type": "execute_result",
          "data": {
            "text/plain": [
              "[<matplotlib.lines.Line2D at 0x7f97e1f27bb0>]"
            ]
          },
          "metadata": {},
          "execution_count": 53
        },
        {
          "output_type": "display_data",
          "data": {
            "text/plain": [
              "<Figure size 640x480 with 1 Axes>"
            ],
            "image/png": "[encoded data removed]"
          },
          "metadata": {}
        }
      ]
    },
    {
      "cell_type": "markdown",
      "metadata": {
        "id": "wWEMTf8fjnit"
      },
      "source": [
        "Besides vectorized functions, all numpy objects support a number of *methods* that can be used to operate on their elements in various ways. Combining these methods with the vector ufuncs makes for a really powerful way of producing all sorts of computations with numpy arrays."
      ]
    },
    {
      "cell_type": "markdown",
      "metadata": {
        "id": "QC4HzNOAkSsD"
      },
      "source": [
        "Here are some examples of the available numpy methods:"
      ]
    },
    {
      "cell_type": "code",
      "metadata": {
        "id": "Jb4Qq0pnkcb1",
        "colab": {
          "base_uri": "https://localhost:8080/"
        },
        "outputId": "553ab208-3240-48bf-8086-4b5a21d20256"
      },
      "source": [
        "import numpy as np\n",
        "x = np.array([2, 5, 4, 3, 1, 6])\n",
        "print(x.sum())\n",
        "print(x.mean())\n",
        "print(x.var())\n",
        "print(x.std())\n",
        "print(x.max())\n",
        "print(x.min())\n",
        "print(x.argmax())\n",
        "print(x.argmin())"
      ],
      "execution_count": 54,
      "outputs": [
        {
          "output_type": "stream",
          "name": "stdout",
          "text": [
            "21\n",
            "3.5\n",
            "2.9166666666666665\n",
            "1.707825127659933\n",
            "6\n",
            "1\n",
            "5\n",
            "4\n"
          ]
        }
      ]
    },
    {
      "cell_type": "markdown",
      "metadata": {
        "id": "YMx-78MPlKWi"
      },
      "source": [
        "**HANDS-ON:** The purpose of most of these functions is pretty obvious, but can you guess what the \"argmax\" and \"argmin\" functions do ?"
      ]
    },
    {
      "cell_type": "markdown",
      "metadata": {
        "id": "H22PaDUKDmhw"
      },
      "source": [
        "Example: the Root Mean Square Deviation of two arrays X and Y is defined as:\n",
        "\n",
        "$$ \\text{RMSD} = \\sqrt{\\frac{1}{N}\\sum_i^N (X_i-Y_i)^2} $$\n",
        "\n",
        "Let's calculate with a numpy expression:"
      ]
    },
    {
      "cell_type": "code",
      "metadata": {
        "id": "grl1e2gEErHu",
        "colab": {
          "base_uri": "https://localhost:8080/"
        },
        "outputId": "9c46a6f0-50a9-47a2-9469-3662e91030b4"
      },
      "source": [
        "x = np.array([1,2,3])\n",
        "y = np.array([4,5,7])\n",
        "np.sqrt(((x-y)**2).mean())"
      ],
      "execution_count": 55,
      "outputs": [
        {
          "output_type": "execute_result",
          "data": {
            "text/plain": [
              "3.366501646120693"
            ]
          },
          "metadata": {},
          "execution_count": 55
        }
      ]
    },
    {
      "cell_type": "markdown",
      "metadata": {
        "id": "nhVLLkAPFvsT"
      },
      "source": [
        "The expression:\n",
        "\n",
        "\n",
        "```\n",
        "np.sqrt(((x-y)**2).mean())\n",
        "```\n",
        "\n",
        "is a good example of chaining of various numpy operations. Analyze it carefully, working from the inside to the outside, and try to understand what it does.\n"
      ]
    },
    {
      "cell_type": "markdown",
      "metadata": {
        "id": "eegIkv8Yl_8N"
      },
      "source": [
        "**HANDS-ON:** The sample covariance of two random variables X and Y, is\n",
        "\n",
        "\n",
        "$$ {\\displaystyle S_{XY}={\\frac {1}{N-1}}\\sum _{i=1}^{N}\\left(X_{i}-{\\bar {X}}\\right)\\left(Y_{i}-{\\bar {Y}}\\right),}$$\n",
        "\n",
        "where $\\bar{X}$ and $\\bar{Y}$ are the sample means of the wariables:\n",
        "\n",
        "$$ \\bar X ={\\frac {1}{N}}\\sum _{i=1}^{N} X_{i} \\quad \\text{and} \\quad \\bar Y ={\\frac {1}{N}}\\sum _{i=1}^{N} Y_{i}$$\n",
        "\n",
        "Write a numpy expression that calculates the covariance of two arrays \"x\" and \"Y\" (which must have the same lenght!)\n",
        "<br>\n",
        "<br>\n",
        "**NOTE:** $S_{XX}$ is\n",
        "\n",
        "$$ {\\displaystyle S_{XX}={\\frac {1}{N-1}}\\sum _{i=1}^{N}\\left(X_{i}-{\\bar {X}}\\right)\\left(X_{i}-{\\bar {X}}\\right) = {\\frac {1}{N-1}}\\sum _{i=1}^{N}\\left(X_{i}-{\\bar {X}}\\right)^2}$$  \n",
        "\n",
        "which is simply the sample variance $S_X$ of the random variable X. So the variance is simply the covariance of a random variable with itself."
      ]
    },
    {
      "cell_type": "code",
      "metadata": {
        "id": "PrEOO6uxlD84",
        "cellView": "form",
        "colab": {
          "base_uri": "https://localhost:8080/"
        },
        "outputId": "a00d4ce7-3ae3-4ffb-e469-804ec35df366"
      },
      "source": [
        "#@title SOLUTION\n",
        "x = np.array([1,3,5,6,11,14])\n",
        "y = np.array([3,9,17,22,31,35])\n",
        "((x-x.mean())*(y-y.mean())).sum()/(len(x)-1)"
      ],
      "execution_count": 56,
      "outputs": [
        {
          "output_type": "execute_result",
          "data": {
            "text/plain": [
              "59.6"
            ]
          },
          "metadata": {},
          "execution_count": 56
        }
      ]
    },
    {
      "cell_type": "markdown",
      "metadata": {
        "id": "4NEUVrDZqyfz"
      },
      "source": [
        "**HANDS-ON:** Now let's caculate the Pearson correlation coeficient,\n",
        "\n",
        "$${\\displaystyle \\rho _{X,Y}={\\frac {\\operatorname {cov} (X,Y)}{\\sigma _{X}\\sigma _{Y}}}}$$\n",
        "\n",
        "where $\\sigma _{X}$ and $\\sigma _{Y}$ are *standard deviations* of the two random variables.\n",
        "\n",
        "For two sizes $n$ samples of $X$ and $Y$, the sample correlation coefficient is given by:\n",
        "\n",
        "$${\\displaystyle r_{XY}={\\frac {\\sum _{i=1}^{n}(X_{i}-{\\bar {X}})(Y_{i}-{\\bar {Y}})}{{\\sqrt {\\sum _{i=1}^{n}(X_{i}-{\\bar {X}})^{2}}}{\\sqrt {\\sum _{i=1}^{n}(Y_{i}-{\\bar {Y}})^{2}}}}}} $$\n",
        "\n",
        "1. Define a function named `covar` such that `covar(x,y)` returns the covariance of random samples x and y.\n",
        "2. Using `covar`, implement another function named `pearson` that calculates the sample Pearson correlation coefficient $r_{XY}$\n",
        "\n"
      ]
    },
    {
      "cell_type": "code",
      "metadata": {
        "id": "jZGAmorVvGOe"
      },
      "source": [
        "#@title SOLUTION\n",
        "def covar(x,y):\n",
        "  return ((x-x.mean())*(y-y.mean())).sum()/(len(x)-1)\n",
        "\n",
        "def pearson(x,y):\n",
        "  return covar(x,y)/(np.sqrt(covar(x,x))*np.sqrt(covar(y,y)))\n",
        "\n",
        "pearson(x,y)"
      ],
      "execution_count": null,
      "outputs": []
    },
    {
      "cell_type": "markdown",
      "metadata": {
        "id": "BY3l7UnXBttA"
      },
      "source": [
        "You can actually check the correctness of your solution by checking your result agains that of the following command:\n",
        "\n",
        "```\n",
        "np.corrcoeof(x,y),\n",
        "```\n",
        "\n",
        "a numpy  function that implements the Pearson correlation coefficient (sorry for wasting your time...).\n"
      ]
    },
    {
      "cell_type": "code",
      "metadata": {
        "id": "3lE4m9_xvteU",
        "colab": {
          "base_uri": "https://localhost:8080/"
        },
        "outputId": "5ed79911-60ca-4e12-cb50-3bc2069338d7"
      },
      "source": [
        "np.corrcoef(x,y)"
      ],
      "execution_count": 57,
      "outputs": [
        {
          "output_type": "execute_result",
          "data": {
            "text/plain": [
              "array([[1.        , 0.97653319],\n",
              "       [0.97653319, 1.        ]])"
            ]
          },
          "metadata": {},
          "execution_count": 57
        }
      ]
    },
    {
      "cell_type": "markdown",
      "metadata": {
        "id": "QAfBcSNZD78G"
      },
      "source": [
        "Likewise, the covariance of two random variables X and Y can be obtained from the off-diagonal elements of the *covariance matrix*:"
      ]
    },
    {
      "cell_type": "code",
      "metadata": {
        "id": "D8Xd4wtRqoi0",
        "colab": {
          "base_uri": "https://localhost:8080/"
        },
        "outputId": "b0e1d80e-d46a-4f83-bf82-63e6b80d7adc"
      },
      "source": [
        "np.cov(x,y)[0,1]"
      ],
      "execution_count": 58,
      "outputs": [
        {
          "output_type": "execute_result",
          "data": {
            "text/plain": [
              "59.6"
            ]
          },
          "metadata": {},
          "execution_count": 58
        }
      ]
    },
    {
      "cell_type": "markdown",
      "metadata": {
        "id": "sCuvEBZt8Ji5"
      },
      "source": [
        "#### Row and Column operations on 2D Numpy Arrays"
      ]
    },
    {
      "cell_type": "markdown",
      "metadata": {
        "id": "2Rdx40d-8RCz"
      },
      "source": [
        "Tabular forms are a very common way to organize all sorts of data, and 2D Numpy array is just one way of storing such data in a Python object. Spreadsheet programs like Excel or Google Spreadsheets allow operation on columns or rows of tabular data, like sorting, filter, statistical operations, numerical operations, functions, and so on. With Numpy, we can programatically perform such operations on tabular data."
      ]
    },
    {
      "cell_type": "markdown",
      "metadata": {
        "id": "-3VsLEuBzwMP"
      },
      "source": [
        "Let's ilustrate numpy array tabular calculations with an example. The data in the \"grades\"  array below represents the classifications of 11 students (one for each row) in each of 3 tests. The final grade is the average of the 3 tests, but a minum grade of 7   in each test is an absolute requirement for passing. Also, the grade average of the 3 tests must be at least 9.5. Here is the data:"
      ]
    },
    {
      "cell_type": "code",
      "metadata": {
        "id": "9YEMhwAEDIEZ"
      },
      "source": [
        "grades =\\\n",
        "np.array([[ 7.50, 10.55, 11.40 ],\n",
        "       [10.25, 10.15,  7.15],\n",
        "       [12.95, 10.95, 11.45],\n",
        "       [12.20,  8.25, 11.50],\n",
        "       [16.85, 17.20 , 20.00],\n",
        "       [14.50, 15.75, 15.15],\n",
        "       [16.85, 16.25, 18.00],\n",
        "       [15.60, 11.80, 16.75],\n",
        "       [12.40,  11.80, 6.00],\n",
        "       [7.50,  8.85,   8.80],\n",
        "       [ 9.50,  10.00, 6.50]])"
      ],
      "execution_count": 59,
      "outputs": []
    },
    {
      "cell_type": "code",
      "metadata": {
        "id": "40VR0-MtzsIx",
        "colab": {
          "base_uri": "https://localhost:8080/"
        },
        "outputId": "b4536f8f-f190-43c1-9297-c57654c0f517"
      },
      "source": [
        "print(grades)"
      ],
      "execution_count": 60,
      "outputs": [
        {
          "output_type": "stream",
          "name": "stdout",
          "text": [
            "[[ 7.5  10.55 11.4 ]\n",
            " [10.25 10.15  7.15]\n",
            " [12.95 10.95 11.45]\n",
            " [12.2   8.25 11.5 ]\n",
            " [16.85 17.2  20.  ]\n",
            " [14.5  15.75 15.15]\n",
            " [16.85 16.25 18.  ]\n",
            " [15.6  11.8  16.75]\n",
            " [12.4  11.8   6.  ]\n",
            " [ 7.5   8.85  8.8 ]\n",
            " [ 9.5  10.    6.5 ]]\n"
          ]
        }
      ]
    },
    {
      "cell_type": "code",
      "metadata": {
        "id": "1Hph6uqWwVmI",
        "colab": {
          "base_uri": "https://localhost:8080/"
        },
        "outputId": "339858b5-ddb8-4800-a511-8e97f4356223"
      },
      "source": [
        "# This is a trick to produce a well-formatted version of a numpy array\n",
        "from sys import stdout\n",
        "np.savetxt(stdout,grades,fmt=\"%5.2f\")"
      ],
      "execution_count": 61,
      "outputs": [
        {
          "output_type": "stream",
          "name": "stdout",
          "text": [
            " 7.50 10.55 11.40\n",
            "10.25 10.15  7.15\n",
            "12.95 10.95 11.45\n",
            "12.20  8.25 11.50\n",
            "16.85 17.20 20.00\n",
            "14.50 15.75 15.15\n",
            "16.85 16.25 18.00\n",
            "15.60 11.80 16.75\n",
            "12.40 11.80  6.00\n",
            " 7.50  8.85  8.80\n",
            " 9.50 10.00  6.50\n"
          ]
        }
      ]
    },
    {
      "cell_type": "markdown",
      "metadata": {
        "id": "YijOO1n02V7r"
      },
      "source": [
        "Let's calculate the final grade average for each student, which the same as the average along the rows. We already now that numpy arrays have a method named \"`mean`\", which calculate the mean of its values. If we use it with our \"grades\" array :"
      ]
    },
    {
      "cell_type": "code",
      "metadata": {
        "id": "LiItw-Kh2w4j",
        "colab": {
          "base_uri": "https://localhost:8080/"
        },
        "outputId": "6a43c5d7-a537-48c2-fdeb-4dc8fdf0d305"
      },
      "source": [
        "grades.mean()"
      ],
      "execution_count": 62,
      "outputs": [
        {
          "output_type": "execute_result",
          "data": {
            "text/plain": [
              "12.131818181818183"
            ]
          },
          "metadata": {},
          "execution_count": 62
        }
      ]
    },
    {
      "cell_type": "markdown",
      "metadata": {
        "id": "N9bv165522eu"
      },
      "source": [
        "The resulting value is the mean over the *full* set of values in the array, i.e. the mean grade of all tests taken by all students in all three evaluations. That is not what we want, but rather the mean along each row. We can get that by passing the \"axis\" argument to the \"mean\"  method - it will tell numpy to evaluate the mean *along the given axis*. For 2D arrays, axis = 0 means \"along columns\" and \"axis=1\" means \"along rows\", and what we want is the latter:"
      ]
    },
    {
      "cell_type": "code",
      "metadata": {
        "id": "hchgMvc43pQZ",
        "colab": {
          "base_uri": "https://localhost:8080/"
        },
        "outputId": "096d16bc-46fb-4787-d499-5ffadcd9578e"
      },
      "source": [
        "grades.mean(axis=1)"
      ],
      "execution_count": 63,
      "outputs": [
        {
          "output_type": "execute_result",
          "data": {
            "text/plain": [
              "array([ 9.81666667,  9.18333333, 11.78333333, 10.65      , 18.01666667,\n",
              "       15.13333333, 17.03333333, 14.71666667, 10.06666667,  8.38333333,\n",
              "        8.66666667])"
            ]
          },
          "metadata": {},
          "execution_count": 63
        }
      ]
    },
    {
      "cell_type": "markdown",
      "metadata": {
        "id": "RzBPslRBHh0u"
      },
      "source": [
        "This being the final grades, we might want to round them to full values:"
      ]
    },
    {
      "cell_type": "code",
      "metadata": {
        "id": "hVUSTQ-SHrE5",
        "colab": {
          "base_uri": "https://localhost:8080/"
        },
        "outputId": "0e47d688-ae33-4076-f3d7-e39bea64fd06"
      },
      "source": [
        "np.round(grades.mean(axis=1),0)"
      ],
      "execution_count": 64,
      "outputs": [
        {
          "output_type": "execute_result",
          "data": {
            "text/plain": [
              "array([10.,  9., 12., 11., 18., 15., 17., 15., 10.,  8.,  9.])"
            ]
          },
          "metadata": {},
          "execution_count": 64
        }
      ]
    },
    {
      "cell_type": "markdown",
      "metadata": {
        "id": "CoR1bSeI3sjg"
      },
      "source": [
        "As expected, we get exactly 11 values, one for each student, representing their grade averages over the three tests."
      ]
    },
    {
      "cell_type": "markdown",
      "metadata": {
        "id": "FPvLN6d34Pca"
      },
      "source": [
        "Now, suppose we are interested in the mean grade of each test, to assess their relative difficulty when given to the same set of students. We need to take the average *over the columns* :"
      ]
    },
    {
      "cell_type": "code",
      "metadata": {
        "id": "TPK76Rv54eLb",
        "colab": {
          "base_uri": "https://localhost:8080/"
        },
        "outputId": "a04c55f1-9708-46ab-84bc-79e880f3b187"
      },
      "source": [
        "grades.mean(axis=0)"
      ],
      "execution_count": 65,
      "outputs": [
        {
          "output_type": "execute_result",
          "data": {
            "text/plain": [
              "array([12.37272727, 11.95909091, 12.06363636])"
            ]
          },
          "metadata": {},
          "execution_count": 65
        }
      ]
    },
    {
      "cell_type": "markdown",
      "metadata": {
        "id": "HpufODGa4iJ-"
      },
      "source": [
        "The overal performance seems rather similar for the three tests (the dataset is small, so it's risky to draw any conclusions)"
      ]
    },
    {
      "cell_type": "markdown",
      "metadata": {
        "id": "txn0skd75FPv"
      },
      "source": [
        "Now let's performe some filtering and searching operatins on the data.  How many students have passed ?"
      ]
    },
    {
      "cell_type": "code",
      "metadata": {
        "id": "rkJy0TZ8zs4B",
        "colab": {
          "base_uri": "https://localhost:8080/"
        },
        "outputId": "4cfeadc3-6169-4982-bd15-fb558a555c98"
      },
      "source": [
        "grades.mean(axis=1) >= 9.5  # this returns a boolean array with True values when our condition is met"
      ],
      "execution_count": 66,
      "outputs": [
        {
          "output_type": "execute_result",
          "data": {
            "text/plain": [
              "array([ True, False,  True,  True,  True,  True,  True,  True,  True,\n",
              "       False, False])"
            ]
          },
          "metadata": {},
          "execution_count": 66
        }
      ]
    },
    {
      "cell_type": "code",
      "metadata": {
        "id": "wwZUOKpd6gde",
        "colab": {
          "base_uri": "https://localhost:8080/"
        },
        "outputId": "254d159e-ef88-445d-8cf5-a4f7297ed8ee"
      },
      "source": [
        "sum(grades.mean(axis=1) >= 9.5)  # True evaluates to one, so this counts the number of students who passed"
      ],
      "execution_count": 67,
      "outputs": [
        {
          "output_type": "execute_result",
          "data": {
            "text/plain": [
              "8"
            ]
          },
          "metadata": {},
          "execution_count": 67
        }
      ]
    },
    {
      "cell_type": "markdown",
      "metadata": {
        "id": "Gz7KlZKn6ydV"
      },
      "source": [
        "Number of students who failed:"
      ]
    },
    {
      "cell_type": "code",
      "metadata": {
        "id": "jXEII1Dj0wnQ",
        "colab": {
          "base_uri": "https://localhost:8080/"
        },
        "outputId": "c591d153-c252-42bb-8752-486ba85635da"
      },
      "source": [
        "grades.shape[0] - sum(grades.mean(axis=1) >= 9.5) # grades.shape[0] is the number of rows (students) in the table"
      ],
      "execution_count": 68,
      "outputs": [
        {
          "output_type": "execute_result",
          "data": {
            "text/plain": [
              "3"
            ]
          },
          "metadata": {},
          "execution_count": 68
        }
      ]
    },
    {
      "cell_type": "markdown",
      "metadata": {
        "id": "ucj8KY7z9eTH"
      },
      "source": [
        "**HANDS-ON:** We want to know the best and worst grande in each of the three tests. How would you do  it ?"
      ]
    },
    {
      "cell_type": "code",
      "metadata": {
        "id": "Lhra0gze9txz",
        "cellView": "form",
        "colab": {
          "base_uri": "https://localhost:8080/"
        },
        "outputId": "37de6312-dd0b-467e-eae2-40108cba6e95"
      },
      "source": [
        "#@title SOLUTION\n",
        "print(\"Lowest grades:\", grades.min(axis=0))\n",
        "print(\"Highest grades:\", grades.max(axis=0))"
      ],
      "execution_count": 69,
      "outputs": [
        {
          "output_type": "stream",
          "name": "stdout",
          "text": [
            "Lowest grades: [7.5  8.25 6.  ]\n",
            "Highest grades: [16.85 17.2  20.  ]\n"
          ]
        }
      ]
    },
    {
      "cell_type": "markdown",
      "metadata": {
        "id": "twQeAYbl7Ty6"
      },
      "source": []
    },
    {
      "cell_type": "markdown",
      "metadata": {
        "id": "zRP88XBA-Fhi"
      },
      "source": [
        "There is something wrong about how we computed the number of students that passed. We forgot to account for the case where a student is automatically failed because of getting a grade lower than 7 in any test. Let's see how we could spot such cases:"
      ]
    },
    {
      "cell_type": "code",
      "metadata": {
        "id": "iWZOn6D3-s1S",
        "colab": {
          "base_uri": "https://localhost:8080/"
        },
        "outputId": "07ff5617-dc32-49fc-92a1-248e20fc120b"
      },
      "source": [
        "np.where(grades < 7)"
      ],
      "execution_count": 70,
      "outputs": [
        {
          "output_type": "execute_result",
          "data": {
            "text/plain": [
              "(array([ 8, 10]), array([2, 2]))"
            ]
          },
          "metadata": {},
          "execution_count": 70
        }
      ]
    },
    {
      "cell_type": "markdown",
      "metadata": {
        "id": "7ymplfCJ-yN7"
      },
      "source": [
        "This command returns the row indices and the column indices in two numpy 1D arrays, for each element that satisfy our condition. In this case  there are two elements (8,2) and (10,2) that meet this condition, and they correspond to tests of students 8 and 10. Student 10 had already failed by average, but student had 8 not, and he will due to the obe grade < 7 .  "
      ]
    },
    {
      "cell_type": "markdown",
      "metadata": {
        "id": "VQxQajd-IfQh"
      },
      "source": [
        "We might also want to use \"`hist`\" method in `matplotlib` to produce an histogram of the final classications:"
      ]
    },
    {
      "cell_type": "code",
      "metadata": {
        "id": "4A1sEyE00_LO",
        "colab": {
          "base_uri": "https://localhost:8080/",
          "height": 430
        },
        "outputId": "519d2888-761f-4076-a1da-e58b7973f464"
      },
      "source": [
        "import matplotlib.pyplot as plt\n",
        "plt.hist(grades.mean(axis=1));  # the semicolon (;) after the statment suppresses output"
      ],
      "execution_count": 71,
      "outputs": [
        {
          "output_type": "display_data",
          "data": {
            "text/plain": [
              "<Figure size 640x480 with 1 Axes>"
            ],
            "image/png": "[encoded data removed]"
          },
          "metadata": {}
        }
      ]
    },
    {
      "cell_type": "markdown",
      "metadata": {
        "id": "lMUwXXbcJhJU"
      },
      "source": [
        "Or we could produce an histogram for the classification of the three separate tests - \"`plt.plot`\" will automatically recognize that there are three columns and make a plot with three histograms combined (notice how labels are placed on the graph):"
      ]
    },
    {
      "cell_type": "code",
      "metadata": {
        "id": "DNmjSaJ49UHb",
        "colab": {
          "base_uri": "https://localhost:8080/",
          "height": 430
        },
        "outputId": "538f78ae-638e-4056-9027-eae9f080e2aa"
      },
      "source": [
        "plt.hist(grades, label=(\"1st test\",\"2nd test\",\"3rd test\"))\n",
        "plt.legend();"
      ],
      "execution_count": 72,
      "outputs": [
        {
          "output_type": "display_data",
          "data": {
            "text/plain": [
              "<Figure size 640x480 with 1 Axes>"
            ],
            "image/png": "[encoded data removed]"
          },
          "metadata": {}
        }
      ]
    },
    {
      "cell_type": "markdown",
      "metadata": {
        "id": "WVCv6k95J25I"
      },
      "source": [
        "The number of bins can be adjusted, or left untouched for \"`plt.hist`\" to automatically set."
      ]
    },
    {
      "cell_type": "code",
      "metadata": {
        "id": "exoFIg72HxVn",
        "colab": {
          "base_uri": "https://localhost:8080/",
          "height": 430
        },
        "outputId": "4712c039-3c8a-4591-c551-9b9df3e7a2aa"
      },
      "source": [
        "plt.hist(grades, label=(\"1st test\",\"2nd test\",\"3rd test\"),bins=4)\n",
        "plt.legend();"
      ],
      "execution_count": 73,
      "outputs": [
        {
          "output_type": "display_data",
          "data": {
            "text/plain": [
              "<Figure size 640x480 with 1 Axes>"
            ],
            "image/png": "[encoded data removed]"
          },
          "metadata": {}
        }
      ]
    },
    {
      "cell_type": "code",
      "metadata": {
        "id": "XDnekgQ2H7FQ"
      },
      "source": [],
      "execution_count": null,
      "outputs": []
    }
  ]
}