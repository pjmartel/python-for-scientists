{
  "nbformat": 4,
  "nbformat_minor": 0,
  "metadata": {
    "colab": {
      "name": "Introduction_to_numpy.ipynb",
      "version": "0.3.2",
      "provenance": [],
      "collapsed_sections": [],
      "include_colab_link": true
    },
    "kernelspec": {
      "name": "python3",
      "display_name": "Python 3"
    }
  },
  "cells": [
    {
      "cell_type": "markdown",
      "metadata": {
        "id": "view-in-github",
        "colab_type": "text"
      },
      "source": [
        "<a href=\"https://colab.research.google.com/github/pjmartel/python-for-scientists/blob/master/Introduction_to_numpy.ipynb\" target=\"_parent\"><img src=\"https://colab.research.google.com/assets/colab-badge.svg\" alt=\"Open In Colab\"/></a>"
      ]
    },
    {
      "cell_type": "markdown",
      "metadata": {
        "id": "FoAKqmMqYTHz",
        "colab_type": "text"
      },
      "source": [
        "### Introduction to Numerical Python\n",
        "\n",
        "Although Python is a very versatile and powerful language on its own, its full power is only realized through the use of various **packages** and **modules** that extend the language functionality with new data types, objects and functions. \n",
        "\n",
        "The **Numerical Python** (Numpy) package is the fundamental library for scientific computing, adding vectors, matrices and higher-level multidimensional arrays whose elements can be of a variety of new numeric datatypes of different precisions. Numpy supports *vector operations* on these arrays, and use of low-level  C language calls that can speed Python calculations enormously. Numpy comes with a variety of *methods* and functions operating on these array types, for things likie optimzation, fitting, approximation, equation solving and statistics. It is safe to say that no Python scientific programming is feasible without the use of Numpy."
      ]
    },
    {
      "cell_type": "markdown",
      "metadata": {
        "id": "2_FqXW3ZRUQm",
        "colab_type": "text"
      },
      "source": [
        "While not very practical, versatile or computationally efficient, multi-dimensional arrays could in fact be constructed from the *list* Python datatype. \n",
        "\n",
        "**HANDS-ON:** Create a 2-Dimensional array using the list type."
      ]
    },
    {
      "cell_type": "code",
      "metadata": {
        "id": "UEZOZbwgR4Op",
        "colab_type": "code",
        "cellView": "form",
        "colab": {}
      },
      "source": [
        "#@title Solution\n",
        "l2d = [[1,2,3],[4,5,6]]\n",
        "l2d[1][2]"
      ],
      "execution_count": 0,
      "outputs": []
    },
    {
      "cell_type": "markdown",
      "metadata": {
        "id": "vuO4o-_rSU1o",
        "colab_type": "text"
      },
      "source": [
        "#### Importing Numpy"
      ]
    },
    {
      "cell_type": "markdown",
      "metadata": {
        "id": "EjN95iUHnfbL",
        "colab_type": "text"
      },
      "source": [
        "To start using Numpy, we must import it:"
      ]
    },
    {
      "cell_type": "code",
      "metadata": {
        "id": "hIMzF2SQnkID",
        "colab_type": "code",
        "colab": {}
      },
      "source": [
        "import numpy as np"
      ],
      "execution_count": 0,
      "outputs": []
    },
    {
      "cell_type": "markdown",
      "metadata": {
        "id": "uAPJYTfgnqrB",
        "colab_type": "text"
      },
      "source": [
        "**Note:** While we could have used another name to import Numpy, \"np\" is an accepted convention in the Python programming community - using another name is a bad idea, as it will make your code harder to read for others and more difficult for to use external snippets of code in your own programs. "
      ]
    },
    {
      "cell_type": "markdown",
      "metadata": {
        "id": "TKi-FPINtpQS",
        "colab_type": "text"
      },
      "source": [
        "#### Numpy arrays are NOT lists"
      ]
    },
    {
      "cell_type": "markdown",
      "metadata": {
        "id": "odIs6CeeoqPm",
        "colab_type": "text"
      },
      "source": [
        "It is important to understand that while numpy arrays share some common traits with lists, they are entirely different beasts. There are differences both the way *operations* are done on numpy, and on the format of the contained *data* and the is *represented* in memory. We will come to that.\n",
        "\n",
        "The `np.array`function can create an array from a list:"
      ]
    },
    {
      "cell_type": "code",
      "metadata": {
        "id": "PabUbUj6ooX5",
        "colab_type": "code",
        "colab": {}
      },
      "source": [
        "a = np.array(([0, 1, 2, 3, 4, 5, 6, 7, 8, 9]))"
      ],
      "execution_count": 0,
      "outputs": []
    },
    {
      "cell_type": "markdown",
      "metadata": {
        "id": "YzSsZSoppBvn",
        "colab_type": "text"
      },
      "source": [
        "For comparison, let's declare a variable \"L\" for the same list:"
      ]
    },
    {
      "cell_type": "code",
      "metadata": {
        "id": "9cXwGc9-pBVN",
        "colab_type": "code",
        "colab": {}
      },
      "source": [
        "L = [0, 1, 2, 3, 4, 5, 6, 7, 8, 9]"
      ],
      "execution_count": 0,
      "outputs": []
    },
    {
      "cell_type": "markdown",
      "metadata": {
        "id": "_1u1Kh7Cpdlu",
        "colab_type": "text"
      },
      "source": [
        "Now let's inspect `a` and `L`:"
      ]
    },
    {
      "cell_type": "code",
      "metadata": {
        "id": "UDklY1b-pcpo",
        "colab_type": "code",
        "outputId": "0fcbf964-56b0-49bf-c093-4dcf1ac46c98",
        "colab": {
          "base_uri": "https://localhost:8080/",
          "height": 35
        }
      },
      "source": [
        "a"
      ],
      "execution_count": 0,
      "outputs": [
        {
          "output_type": "execute_result",
          "data": {
            "text/plain": [
              "array([0, 1, 2, 3, 4, 5, 6, 7, 8, 9])"
            ]
          },
          "metadata": {
            "tags": []
          },
          "execution_count": 5
        }
      ]
    },
    {
      "cell_type": "code",
      "metadata": {
        "id": "l-2A-wBzo_uF",
        "colab_type": "code",
        "outputId": "15d21076-d689-408a-d12a-7f78e09a2f44",
        "colab": {
          "base_uri": "https://localhost:8080/",
          "height": 35
        }
      },
      "source": [
        "L"
      ],
      "execution_count": 0,
      "outputs": [
        {
          "output_type": "execute_result",
          "data": {
            "text/plain": [
              "[0, 1, 2, 3, 4, 5, 6, 7, 8, 9]"
            ]
          },
          "metadata": {
            "tags": []
          },
          "execution_count": 6
        }
      ]
    },
    {
      "cell_type": "markdown",
      "metadata": {
        "id": "0z9_QEroqAZy",
        "colab_type": "text"
      },
      "source": [
        "The *array* name tag in the output tells us  that \"a\" is not of list type, even tough it contains a list of numbers. "
      ]
    },
    {
      "cell_type": "markdown",
      "metadata": {
        "id": "UlfXoesdqtSn",
        "colab_type": "text"
      },
      "source": [
        "And now let's reveal the first major difference between the two objects:"
      ]
    },
    {
      "cell_type": "code",
      "metadata": {
        "id": "LdALxaXNp-st",
        "colab_type": "code",
        "outputId": "c8c858a4-36b3-40ca-afb6-535c8f597d76",
        "colab": {
          "base_uri": "https://localhost:8080/",
          "height": 35
        }
      },
      "source": [
        "2*L"
      ],
      "execution_count": 0,
      "outputs": [
        {
          "output_type": "execute_result",
          "data": {
            "text/plain": [
              "[0, 1, 2, 3, 4, 5, 6, 7, 8, 9, 0, 1, 2, 3, 4, 5, 6, 7, 8, 9]"
            ]
          },
          "metadata": {
            "tags": []
          },
          "execution_count": 7
        }
      ]
    },
    {
      "cell_type": "code",
      "metadata": {
        "id": "8oGfOqn0pm6_",
        "colab_type": "code",
        "outputId": "0d7c55c9-3a7a-4069-8b22-7d2578754076",
        "colab": {
          "base_uri": "https://localhost:8080/",
          "height": 35
        }
      },
      "source": [
        "2*a"
      ],
      "execution_count": 0,
      "outputs": [
        {
          "output_type": "execute_result",
          "data": {
            "text/plain": [
              "array([ 0,  2,  4,  6,  8, 10, 12, 14, 16, 18])"
            ]
          },
          "metadata": {
            "tags": []
          },
          "execution_count": 8
        }
      ]
    },
    {
      "cell_type": "markdown",
      "metadata": {
        "id": "B2QHecU3q5Dm",
        "colab_type": "text"
      },
      "source": [
        "While multiplying a list by \"n\" returns a list with \"n\" concatenated copies of the original list, multiplying a numpy 1D array with a number simply multiplies *each of its elements* by the same number \"n\". This is what's called a *vector operation*, which applies equally to all elements of an array.\n",
        "As we will see, vector operations go far beyond multiplication by a scalar. \n",
        "\n",
        "Let's create a second numpy array, at same time demonstrating the use of the function `np.arange`:"
      ]
    },
    {
      "cell_type": "code",
      "metadata": {
        "id": "WrPmh8RWq33B",
        "colab_type": "code",
        "outputId": "e51cc8fb-c516-4b2f-953e-552868af561e",
        "colab": {
          "base_uri": "https://localhost:8080/",
          "height": 35
        }
      },
      "source": [
        "b = np.arange(10,20) # creates an array contain numbersfrom 10 to 20 (last not included)\n",
        "b"
      ],
      "execution_count": 0,
      "outputs": [
        {
          "output_type": "execute_result",
          "data": {
            "text/plain": [
              "array([10, 11, 12, 13, 14, 15, 16, 17, 18, 19])"
            ]
          },
          "metadata": {
            "tags": []
          },
          "execution_count": 9
        }
      ]
    },
    {
      "cell_type": "markdown",
      "metadata": {
        "id": "ojHysrXBsGu2",
        "colab_type": "text"
      },
      "source": [
        "What happens if we add the two arrays ? "
      ]
    },
    {
      "cell_type": "code",
      "metadata": {
        "id": "DKQOeTmzsBx8",
        "colab_type": "code",
        "outputId": "2f7f5c62-63a7-4e0e-ca6c-78d0b0693163",
        "colab": {
          "base_uri": "https://localhost:8080/",
          "height": 35
        }
      },
      "source": [
        "a + b"
      ],
      "execution_count": 0,
      "outputs": [
        {
          "output_type": "execute_result",
          "data": {
            "text/plain": [
              "array([10, 12, 14, 16, 18, 20, 22, 24, 26, 28])"
            ]
          },
          "metadata": {
            "tags": []
          },
          "execution_count": 13
        }
      ]
    },
    {
      "cell_type": "markdown",
      "metadata": {
        "id": "MyEdsi7fsYw-",
        "colab_type": "text"
      },
      "source": [
        "The two arrays got summed elementwise (each element of the new array is the sum of the elements of the two arrays in the corresponding position)"
      ]
    },
    {
      "cell_type": "markdown",
      "metadata": {
        "id": "ueSXRDjlstIT",
        "colab_type": "text"
      },
      "source": [
        "Mutlitplication of 1D arrays works in the same way:"
      ]
    },
    {
      "cell_type": "code",
      "metadata": {
        "id": "4a8em2XpsOXA",
        "colab_type": "code",
        "outputId": "429be511-5c53-4f5f-b025-d02b4b584c56",
        "colab": {
          "base_uri": "https://localhost:8080/",
          "height": 35
        }
      },
      "source": [
        "a*b"
      ],
      "execution_count": 0,
      "outputs": [
        {
          "output_type": "execute_result",
          "data": {
            "text/plain": [
              "array([  0,  11,  24,  39,  56,  75,  96, 119, 144, 171])"
            ]
          },
          "metadata": {
            "tags": []
          },
          "execution_count": 23
        }
      ]
    },
    {
      "cell_type": "markdown",
      "metadata": {
        "id": "lapESnB5s9kF",
        "colab_type": "text"
      },
      "source": [
        "... and so does division:"
      ]
    },
    {
      "cell_type": "code",
      "metadata": {
        "id": "2-xBAixYszSZ",
        "colab_type": "code",
        "outputId": "5f5bd78b-0bc0-4749-f246-78d4a51f8fb2",
        "colab": {
          "base_uri": "https://localhost:8080/",
          "height": 52
        }
      },
      "source": [
        "a/b"
      ],
      "execution_count": 0,
      "outputs": [
        {
          "output_type": "execute_result",
          "data": {
            "text/plain": [
              "array([0.        , 0.09090909, 0.16666667, 0.23076923, 0.28571429,\n",
              "       0.33333333, 0.375     , 0.41176471, 0.44444444, 0.47368421])"
            ]
          },
          "metadata": {
            "tags": []
          },
          "execution_count": 24
        }
      ]
    },
    {
      "cell_type": "markdown",
      "metadata": {
        "id": "7D2EWR3ktO2X",
        "colab_type": "text"
      },
      "source": [
        "Constrast this with lists:"
      ]
    },
    {
      "cell_type": "code",
      "metadata": {
        "id": "XpUt0CBxtDDG",
        "colab_type": "code",
        "outputId": "ced52894-a896-464b-e1f5-0663b702a04e",
        "colab": {
          "base_uri": "https://localhost:8080/",
          "height": 167
        }
      },
      "source": [
        "L*L"
      ],
      "execution_count": 0,
      "outputs": [
        {
          "output_type": "error",
          "ename": "TypeError",
          "evalue": "ignored",
          "traceback": [
            "\u001b[0;31m---------------------------------------------------------------------------\u001b[0m",
            "\u001b[0;31mTypeError\u001b[0m                                 Traceback (most recent call last)",
            "\u001b[0;32m<ipython-input-26-ebc56ab7be53>\u001b[0m in \u001b[0;36m<module>\u001b[0;34m()\u001b[0m\n\u001b[0;32m----> 1\u001b[0;31m \u001b[0mL\u001b[0m\u001b[0;34m*\u001b[0m\u001b[0mL\u001b[0m\u001b[0;34m\u001b[0m\u001b[0;34m\u001b[0m\u001b[0m\n\u001b[0m",
            "\u001b[0;31mTypeError\u001b[0m: can't multiply sequence by non-int of type 'list'"
          ]
        }
      ]
    },
    {
      "cell_type": "markdown",
      "metadata": {
        "id": "CZZ9JhKptVAv",
        "colab_type": "text"
      },
      "source": [
        "or"
      ]
    },
    {
      "cell_type": "code",
      "metadata": {
        "id": "b4sjQfXftStW",
        "colab_type": "code",
        "outputId": "e708eb8d-44bf-4bb2-be77-7c8995d69979",
        "colab": {
          "base_uri": "https://localhost:8080/",
          "height": 167
        }
      },
      "source": [
        "L/L"
      ],
      "execution_count": 0,
      "outputs": [
        {
          "output_type": "error",
          "ename": "TypeError",
          "evalue": "ignored",
          "traceback": [
            "\u001b[0;31m---------------------------------------------------------------------------\u001b[0m",
            "\u001b[0;31mTypeError\u001b[0m                                 Traceback (most recent call last)",
            "\u001b[0;32m<ipython-input-27-155075f65d14>\u001b[0m in \u001b[0;36m<module>\u001b[0;34m()\u001b[0m\n\u001b[0;32m----> 1\u001b[0;31m \u001b[0mL\u001b[0m\u001b[0;34m/\u001b[0m\u001b[0mL\u001b[0m\u001b[0;34m\u001b[0m\u001b[0;34m\u001b[0m\u001b[0m\n\u001b[0m",
            "\u001b[0;31mTypeError\u001b[0m: unsupported operand type(s) for /: 'list' and 'list'"
          ]
        }
      ]
    },
    {
      "cell_type": "markdown",
      "metadata": {
        "id": "WBxbbzqO7v-c",
        "colab_type": "text"
      },
      "source": [
        "Numpy array elements can be accessed through *slice notation*, in the same  as str or list objects:"
      ]
    },
    {
      "cell_type": "code",
      "metadata": {
        "id": "qCnxywzI8CQI",
        "colab_type": "code",
        "outputId": "e96e79a0-bf09-4443-cecc-159587406b45",
        "colab": {
          "base_uri": "https://localhost:8080/",
          "height": 35
        }
      },
      "source": [
        "a[3:7]"
      ],
      "execution_count": 0,
      "outputs": [
        {
          "output_type": "execute_result",
          "data": {
            "text/plain": [
              "array([3, 4, 5, 6])"
            ]
          },
          "metadata": {
            "tags": []
          },
          "execution_count": 14
        }
      ]
    },
    {
      "cell_type": "code",
      "metadata": {
        "id": "QgQKWhNn8Bhr",
        "colab_type": "code",
        "colab": {}
      },
      "source": [
        ""
      ],
      "execution_count": 0,
      "outputs": []
    },
    {
      "cell_type": "markdown",
      "metadata": {
        "id": "2FhAv2qwuT13",
        "colab_type": "text"
      },
      "source": [
        "#### Numpy arrays can be of different numerical types\n"
      ]
    },
    {
      "cell_type": "markdown",
      "metadata": {
        "id": "CoF0DzSpuaBD",
        "colab_type": "text"
      },
      "source": [
        "While Python has a default \"int\" and \"float\" data types, these are generally not welll suited for scientific computing, where we want a  lot more control about the precison, size and the way numbers are internally represented. Numpy provides a host of numerical types of varying precision and type. Let's list them:"
      ]
    },
    {
      "cell_type": "code",
      "metadata": {
        "id": "73If9oUUtYHW",
        "colab_type": "code",
        "outputId": "1c2dc361-816a-4640-a7d7-8fd7fd35ac38",
        "colab": {
          "base_uri": "https://localhost:8080/",
          "height": 105
        }
      },
      "source": [
        "np.sctypes"
      ],
      "execution_count": 0,
      "outputs": [
        {
          "output_type": "execute_result",
          "data": {
            "text/plain": [
              "{'complex': [numpy.complex64, numpy.complex128, numpy.complex256],\n",
              " 'float': [numpy.float16, numpy.float32, numpy.float64, numpy.float128],\n",
              " 'int': [numpy.int8, numpy.int16, numpy.int32, numpy.int64],\n",
              " 'others': [bool, object, bytes, str, numpy.void],\n",
              " 'uint': [numpy.uint8, numpy.uint16, numpy.uint32, numpy.uint64]}"
            ]
          },
          "metadata": {
            "tags": []
          },
          "execution_count": 46
        }
      ]
    },
    {
      "cell_type": "markdown",
      "metadata": {
        "id": "RqOEVBiAwods",
        "colab_type": "text"
      },
      "source": [
        "Numpy has differents types for \"int\", \"float\" or \"complex\", and a few others. For each type, the different versions have a number appended, meaning the number of bytes that each number uses for internal representation. The \"float\" data types, for istance:"
      ]
    },
    {
      "cell_type": "code",
      "metadata": {
        "id": "cdy76sk1u89S",
        "colab_type": "code",
        "outputId": "3b0f1230-f722-4035-dbb5-1777461e8fde",
        "colab": {
          "base_uri": "https://localhost:8080/",
          "height": 35
        }
      },
      "source": [
        "np.sctypes['float']"
      ],
      "execution_count": 0,
      "outputs": [
        {
          "output_type": "execute_result",
          "data": {
            "text/plain": [
              "[numpy.float16, numpy.float32, numpy.float64, numpy.float128]"
            ]
          },
          "metadata": {
            "tags": []
          },
          "execution_count": 47
        }
      ]
    },
    {
      "cell_type": "markdown",
      "metadata": {
        "id": "rW3cSL1JxZnp",
        "colab_type": "text"
      },
      "source": [
        "denote floating point nunbers with 16 bits (float16), 32 bits (float32), 64 bits (float64) and 128 bits (float128). Gnerally speaking, types with higher number of bits offer  increased precision at the cost of higher storage requirements and slower computation. "
      ]
    },
    {
      "cell_type": "markdown",
      "metadata": {
        "id": "nVKnwq1OyOrA",
        "colab_type": "text"
      },
      "source": [
        "If we are really not all that much worried with the size of our numbers, Numpy provides default options for \"float\" and \"int\". So for instance when we created our numpy array with"
      ]
    },
    {
      "cell_type": "code",
      "metadata": {
        "id": "Ff5awgUxwDXM",
        "colab_type": "code",
        "colab": {}
      },
      "source": [
        "a = np.arange(10)"
      ],
      "execution_count": 0,
      "outputs": []
    },
    {
      "cell_type": "markdown",
      "metadata": {
        "id": "0_XYa8MXykUx",
        "colab_type": "text"
      },
      "source": [
        "numpy assumed you wanted integers (because of the lackof a decimal poin in the range limit). Whe can chek it by using the method \"dtype\" *attribute*  numpy array objects:"
      ]
    },
    {
      "cell_type": "code",
      "metadata": {
        "id": "kEznUPqkzgWb",
        "colab_type": "code",
        "outputId": "287831de-3407-47ea-f756-ea908ea45908",
        "colab": {
          "base_uri": "https://localhost:8080/",
          "height": 35
        }
      },
      "source": [
        "a.dtype"
      ],
      "execution_count": 4,
      "outputs": [
        {
          "output_type": "execute_result",
          "data": {
            "text/plain": [
              "dtype('int64')"
            ]
          },
          "metadata": {
            "tags": []
          },
          "execution_count": 4
        }
      ]
    },
    {
      "cell_type": "markdown",
      "metadata": {
        "id": "SSQiYM0izx08",
        "colab_type": "text"
      },
      "source": [
        "This tells us that the dafult \"int\" type for numpy is \"int64\" (integers with an internal representation of 64 bits, or 8 bytes)"
      ]
    },
    {
      "cell_type": "markdown",
      "metadata": {
        "id": "iMVPXB800AJG",
        "colab_type": "text"
      },
      "source": [
        "If we had typed instead:"
      ]
    },
    {
      "cell_type": "code",
      "metadata": {
        "id": "X1njVeK6zlFI",
        "colab_type": "code",
        "outputId": "df6c99e5-c70c-4d46-b66e-ba653306a1c9",
        "colab": {
          "base_uri": "https://localhost:8080/",
          "height": 35
        }
      },
      "source": [
        "a = np.arange(10.0)\n",
        "a"
      ],
      "execution_count": 0,
      "outputs": [
        {
          "output_type": "execute_result",
          "data": {
            "text/plain": [
              "array([0., 1., 2., 3., 4., 5., 6., 7., 8., 9.])"
            ]
          },
          "metadata": {
            "tags": []
          },
          "execution_count": 53
        }
      ]
    },
    {
      "cell_type": "markdown",
      "metadata": {
        "id": "L2EVHisj8Ssh",
        "colab_type": "text"
      },
      "source": [
        "(Notice the decimal point after each number now, denoting *float* type)"
      ]
    },
    {
      "cell_type": "code",
      "metadata": {
        "id": "4uB9iJHf0HeU",
        "colab_type": "code",
        "outputId": "17086b46-1ffb-4c12-f904-d7465ff4e1c3",
        "colab": {
          "base_uri": "https://localhost:8080/",
          "height": 35
        }
      },
      "source": [
        "a.dtype"
      ],
      "execution_count": 0,
      "outputs": [
        {
          "output_type": "execute_result",
          "data": {
            "text/plain": [
              "dtype('float64')"
            ]
          },
          "metadata": {
            "tags": []
          },
          "execution_count": 52
        }
      ]
    },
    {
      "cell_type": "markdown",
      "metadata": {
        "id": "FsD-l4000ObR",
        "colab_type": "text"
      },
      "source": [
        "So the default numpy type is \"float64\", denoting floating point numbers internally represented in 64 bits (or 8 bytes). \n",
        "\n",
        "**Note:** The default size types for int and float in numpy are 64 bits because most machines nowadays use 64-bit CPUs where numbers are internally stored in 64 bits registers, so there is generally no computation penalty  for using numbers up to this size (GPU computation is a different story)."
      ]
    },
    {
      "cell_type": "markdown",
      "metadata": {
        "id": "ogvkPLaU1BZ6",
        "colab_type": "text"
      },
      "source": [
        "Whenever we want numpy to create arrays of a non-default data type, we can simply do "
      ]
    },
    {
      "cell_type": "code",
      "metadata": {
        "id": "hhwDTFyJ0KIC",
        "colab_type": "code",
        "outputId": "f27a3330-4d2e-4c36-b024-6bfd129f1a92",
        "colab": {
          "base_uri": "https://localhost:8080/",
          "height": 35
        }
      },
      "source": [
        "a = np.arange(10, dtype=np.float32)\n",
        "a"
      ],
      "execution_count": 0,
      "outputs": [
        {
          "output_type": "execute_result",
          "data": {
            "text/plain": [
              "array([0., 1., 2., 3., 4., 5., 6., 7., 8., 9.], dtype=float32)"
            ]
          },
          "metadata": {
            "tags": []
          },
          "execution_count": 15
        }
      ]
    },
    {
      "cell_type": "code",
      "metadata": {
        "id": "e-HxbkoY1L_c",
        "colab_type": "code",
        "outputId": "6ad272d3-b713-4f14-d935-6f706bfa99cc",
        "colab": {
          "base_uri": "https://localhost:8080/",
          "height": 35
        }
      },
      "source": [
        "a.dtype"
      ],
      "execution_count": 0,
      "outputs": [
        {
          "output_type": "execute_result",
          "data": {
            "text/plain": [
              "dtype('float32')"
            ]
          },
          "metadata": {
            "tags": []
          },
          "execution_count": 16
        }
      ]
    },
    {
      "cell_type": "markdown",
      "metadata": {
        "id": "nLm7FPpk1XZ1",
        "colab_type": "text"
      },
      "source": [
        "(notice how we need to prepend the data type \"float32\" with \"np\" or Python will not recognize it).\n",
        "<br><br>\n",
        "Another useful of method numpy objects is \"shape\":"
      ]
    },
    {
      "cell_type": "code",
      "metadata": {
        "id": "5A5mOryk1R20",
        "colab_type": "code",
        "outputId": "5e442c75-2167-48a0-db89-158504f1639e",
        "colab": {
          "base_uri": "https://localhost:8080/",
          "height": 35
        }
      },
      "source": [
        "a.shape"
      ],
      "execution_count": 0,
      "outputs": [
        {
          "output_type": "execute_result",
          "data": {
            "text/plain": [
              "(10,)"
            ]
          },
          "metadata": {
            "tags": []
          },
          "execution_count": 58
        }
      ]
    },
    {
      "cell_type": "markdown",
      "metadata": {
        "id": "vNMkkk3d1pLv",
        "colab_type": "text"
      },
      "source": [
        "The \"(10,)\" tuple indicates this is an array with only one dimension of size 10."
      ]
    },
    {
      "cell_type": "markdown",
      "metadata": {
        "id": "x6j4ltIz4h49",
        "colab_type": "text"
      },
      "source": [
        "#### Different ways to initialize a numpy array"
      ]
    },
    {
      "cell_type": "markdown",
      "metadata": {
        "id": "HuU4CKWD4sPD",
        "colab_type": "text"
      },
      "source": [
        "Numpy arrays can be initalized in different ways. So far we made accquaintance  with the `np.array` and `np.arange`methods.\n",
        "<br><br>\n",
        "The general form of the `np.arange` command is:\n",
        "\n",
        "```python\n",
        "a = np.arange(min_value, max_value, step)\n",
        "```\n",
        "where \"min\", \"max\" and \"step\" can be a \"int\" of \"float\" type.  For instance:"
      ]
    },
    {
      "cell_type": "code",
      "metadata": {
        "id": "KKsU8fOB1m0l",
        "colab_type": "code",
        "outputId": "2a942597-2b3b-4d97-e049-97a6ae89aae6",
        "colab": {
          "base_uri": "https://localhost:8080/",
          "height": 87
        }
      },
      "source": [
        "np.arange(1,5,0.1)"
      ],
      "execution_count": 0,
      "outputs": [
        {
          "output_type": "execute_result",
          "data": {
            "text/plain": [
              "array([1. , 1.1, 1.2, 1.3, 1.4, 1.5, 1.6, 1.7, 1.8, 1.9, 2. , 2.1, 2.2,\n",
              "       2.3, 2.4, 2.5, 2.6, 2.7, 2.8, 2.9, 3. , 3.1, 3.2, 3.3, 3.4, 3.5,\n",
              "       3.6, 3.7, 3.8, 3.9, 4. , 4.1, 4.2, 4.3, 4.4, 4.5, 4.6, 4.7, 4.8,\n",
              "       4.9])"
            ]
          },
          "metadata": {
            "tags": []
          },
          "execution_count": 59
        }
      ]
    },
    {
      "cell_type": "markdown",
      "metadata": {
        "id": "X2O_pJNl5ogd",
        "colab_type": "text"
      },
      "source": [
        "When creating a numpy array in this way, it is not immediately obvious how many elements it will contain - it depends on min, max and step. If you need to split the the `[min_value, max_value]` interval in an exact number of  elements, then `np.linspace` is your friend:"
      ]
    },
    {
      "cell_type": "code",
      "metadata": {
        "id": "tOgfANdS10xt",
        "colab_type": "code",
        "outputId": "dcfb9267-db98-4116-d825-8328374553ea",
        "colab": {
          "base_uri": "https://localhost:8080/",
          "height": 88
        }
      },
      "source": [
        "a = np.linspace(1,5,20)\n",
        "a"
      ],
      "execution_count": 0,
      "outputs": [
        {
          "output_type": "execute_result",
          "data": {
            "text/plain": [
              "array([1.        , 1.21052632, 1.42105263, 1.63157895, 1.84210526,\n",
              "       2.05263158, 2.26315789, 2.47368421, 2.68421053, 2.89473684,\n",
              "       3.10526316, 3.31578947, 3.52631579, 3.73684211, 3.94736842,\n",
              "       4.15789474, 4.36842105, 4.57894737, 4.78947368, 5.        ])"
            ]
          },
          "metadata": {
            "tags": []
          },
          "execution_count": 17
        }
      ]
    },
    {
      "cell_type": "markdown",
      "metadata": {
        "id": "mdZUKszp-OxF",
        "colab_type": "text"
      },
      "source": [
        "Let's check the number of elements in a:"
      ]
    },
    {
      "cell_type": "code",
      "metadata": {
        "id": "xEefjbmw-S5a",
        "colab_type": "code",
        "outputId": "44c096a5-3491-443c-8ec5-fd8f32822a13",
        "colab": {
          "base_uri": "https://localhost:8080/",
          "height": 35
        }
      },
      "source": [
        "a.shape"
      ],
      "execution_count": 0,
      "outputs": [
        {
          "output_type": "execute_result",
          "data": {
            "text/plain": [
              "(20,)"
            ]
          },
          "metadata": {
            "tags": []
          },
          "execution_count": 18
        }
      ]
    },
    {
      "cell_type": "markdown",
      "metadata": {
        "id": "XYquyL315-3c",
        "colab_type": "text"
      },
      "source": [
        "The array thus created is sure to have the number of elements specified in the third argument to the \"linspace\" call. "
      ]
    },
    {
      "cell_type": "markdown",
      "metadata": {
        "id": "fORJw4rc6OBW",
        "colab_type": "text"
      },
      "source": [
        "There many situations where we simply want to initialize an array with a given number of elements and are not particularly worried about the *intial* contents of said array.  We may be happy to fill it with zeros:"
      ]
    },
    {
      "cell_type": "code",
      "metadata": {
        "id": "WLrRxiVe59Pl",
        "colab_type": "code",
        "outputId": "b1d56436-016b-416c-c3a4-2ee8e6d50232",
        "colab": {
          "base_uri": "https://localhost:8080/",
          "height": 35
        }
      },
      "source": [
        "np.zeros(10)"
      ],
      "execution_count": 0,
      "outputs": [
        {
          "output_type": "execute_result",
          "data": {
            "text/plain": [
              "array([0., 0., 0., 0., 0., 0., 0., 0., 0., 0.])"
            ]
          },
          "metadata": {
            "tags": []
          },
          "execution_count": 61
        }
      ]
    },
    {
      "cell_type": "markdown",
      "metadata": {
        "id": "Qv5GRKqy6jTL",
        "colab_type": "text"
      },
      "source": [
        "Or with ones:"
      ]
    },
    {
      "cell_type": "code",
      "metadata": {
        "id": "MkdLNmPi6gn7",
        "colab_type": "code",
        "outputId": "d67e3f82-7700-49ff-f1c3-4594ead1f105",
        "colab": {
          "base_uri": "https://localhost:8080/",
          "height": 35
        }
      },
      "source": [
        "np.ones(10)"
      ],
      "execution_count": 0,
      "outputs": [
        {
          "output_type": "execute_result",
          "data": {
            "text/plain": [
              "array([1., 1., 1., 1., 1., 1., 1., 1., 1., 1.])"
            ]
          },
          "metadata": {
            "tags": []
          },
          "execution_count": 63
        }
      ]
    },
    {
      "cell_type": "markdown",
      "metadata": {
        "id": "jwiU1ZDV858u",
        "colab_type": "text"
      },
      "source": [
        "You calso initialize your array with constante value other than zero or one using \"np.full\" :"
      ]
    },
    {
      "cell_type": "code",
      "metadata": {
        "id": "M8aTG5Cv6lvQ",
        "colab_type": "code",
        "outputId": "f267ab88-b829-49f9-c9eb-2aff9c7ce3b8",
        "colab": {
          "base_uri": "https://localhost:8080/",
          "height": 35
        }
      },
      "source": [
        "np.full(10,42)"
      ],
      "execution_count": 0,
      "outputs": [
        {
          "output_type": "execute_result",
          "data": {
            "text/plain": [
              "array([42, 42, 42, 42, 42, 42, 42, 42, 42, 42])"
            ]
          },
          "metadata": {
            "tags": []
          },
          "execution_count": 76
        }
      ]
    },
    {
      "cell_type": "markdown",
      "metadata": {
        "id": "bxZ0o4Tx9OhG",
        "colab_type": "text"
      },
      "source": [
        "You can even use \"np.empty\" to just allocate space for the array, without initializing it in any way. Note, however, that in this case the array elements will be initialized with whatever random bytes happend to be at the memory location that Python decides to use for your array - you cannot assume anything  about these initial values!"
      ]
    },
    {
      "cell_type": "code",
      "metadata": {
        "id": "_Y94b_gK61Wg",
        "colab_type": "code",
        "outputId": "b2092f98-41a4-44f8-ac53-d013fe986fd2",
        "colab": {
          "base_uri": "https://localhost:8080/",
          "height": 52
        }
      },
      "source": [
        "np.empty(5)"
      ],
      "execution_count": 0,
      "outputs": [
        {
          "output_type": "execute_result",
          "data": {
            "text/plain": [
              "array([7.74860419e-304, 7.74860419e-304, 7.74860419e-304, 7.74860419e-304,\n",
              "       7.74860419e-304])"
            ]
          },
          "metadata": {
            "tags": []
          },
          "execution_count": 77
        }
      ]
    },
    {
      "cell_type": "markdown",
      "metadata": {
        "id": "NFs_PDxUHULO",
        "colab_type": "text"
      },
      "source": [
        "Numpy arrays can also be initialized from lists using the \"np.array\" command:"
      ]
    },
    {
      "cell_type": "code",
      "metadata": {
        "id": "fp3u7KS_HbYK",
        "colab_type": "code",
        "colab": {}
      },
      "source": [
        "a = np.array([0,1,2,3,4],dtype=np.float64)"
      ],
      "execution_count": 0,
      "outputs": []
    },
    {
      "cell_type": "code",
      "metadata": {
        "id": "iQtcpsvTHk5h",
        "colab_type": "code",
        "outputId": "f4ae6a77-9e5d-4798-d831-476075c34c1a",
        "colab": {
          "base_uri": "https://localhost:8080/",
          "height": 35
        }
      },
      "source": [
        "a"
      ],
      "execution_count": 0,
      "outputs": [
        {
          "output_type": "execute_result",
          "data": {
            "text/plain": [
              "array([0., 1., 2., 3., 4.])"
            ]
          },
          "metadata": {
            "tags": []
          },
          "execution_count": 44
        }
      ]
    },
    {
      "cell_type": "markdown",
      "metadata": {
        "id": "GhsnBwu1-MIg",
        "colab_type": "text"
      },
      "source": [
        "#### Numpy arrays of higher dimensions"
      ]
    },
    {
      "cell_type": "markdown",
      "metadata": {
        "id": "hZpvJtBX_PUx",
        "colab_type": "text"
      },
      "source": [
        "We've started out by saing that the numpy package expands Python with new data objects for multi-dimensional arrays, but so far we have only seen  arrays in one dimension. Actually, most of the commands we have listed for numpy array creation can be used for creating 2D, 3D, or ND arrays.  "
      ]
    },
    {
      "cell_type": "markdown",
      "metadata": {
        "id": "ofdyurFzIp77",
        "colab_type": "text"
      },
      "source": [
        "Let's make a 5x10 2D array of zeros:"
      ]
    },
    {
      "cell_type": "code",
      "metadata": {
        "id": "NEjO1-uE9rlu",
        "colab_type": "code",
        "colab": {}
      },
      "source": [
        "a =np.zeros((5,10))"
      ],
      "execution_count": 0,
      "outputs": []
    },
    {
      "cell_type": "markdown",
      "metadata": {
        "id": "Smau-BlHJO70",
        "colab_type": "text"
      },
      "source": [
        "The tuple (5,10) is passed as argument to the np.zeros function to specify the desired *shape* of the array"
      ]
    },
    {
      "cell_type": "code",
      "metadata": {
        "id": "leB8tOVFI3Ol",
        "colab_type": "code",
        "outputId": "cea387d5-a30e-4c2f-c820-40705961c919",
        "colab": {
          "base_uri": "https://localhost:8080/",
          "height": 35
        }
      },
      "source": [
        "a.shape"
      ],
      "execution_count": 0,
      "outputs": [
        {
          "output_type": "execute_result",
          "data": {
            "text/plain": [
              "(5, 10)"
            ]
          },
          "metadata": {
            "tags": []
          },
          "execution_count": 57
        }
      ]
    },
    {
      "cell_type": "code",
      "metadata": {
        "id": "5xbT6C9uJfdU",
        "colab_type": "code",
        "outputId": "3948bd08-661b-4c5b-9f83-2288cdc578ac",
        "colab": {
          "base_uri": "https://localhost:8080/",
          "height": 105
        }
      },
      "source": [
        "a"
      ],
      "execution_count": 0,
      "outputs": [
        {
          "output_type": "execute_result",
          "data": {
            "text/plain": [
              "array([[0., 0., 0., 0., 0., 0., 0., 0., 0., 0.],\n",
              "       [0., 0., 0., 0., 0., 0., 0., 0., 0., 0.],\n",
              "       [0., 0., 0., 0., 0., 0., 0., 0., 0., 0.],\n",
              "       [0., 0., 0., 0., 0., 0., 0., 0., 0., 0.],\n",
              "       [0., 0., 0., 0., 0., 0., 0., 0., 0., 0.]])"
            ]
          },
          "metadata": {
            "tags": []
          },
          "execution_count": 58
        }
      ]
    },
    {
      "cell_type": "markdown",
      "metadata": {
        "id": "QCh2zcE-JjwR",
        "colab_type": "text"
      },
      "source": [
        ""
      ]
    },
    {
      "cell_type": "markdown",
      "metadata": {
        "id": "97hVt-9jIFhm",
        "colab_type": "text"
      },
      "source": [
        "To refer to  the element on row \"i\" and column \"j\" you would do:"
      ]
    },
    {
      "cell_type": "code",
      "metadata": {
        "id": "XJSpVkBkIa9t",
        "colab_type": "code",
        "colab": {}
      },
      "source": [
        "i = 2 \n",
        "j = 3\n",
        "a[i,j] = 999"
      ],
      "execution_count": 0,
      "outputs": []
    },
    {
      "cell_type": "markdown",
      "metadata": {
        "id": "LE1nDm6mKFsq",
        "colab_type": "text"
      },
      "source": [
        "**NOTE**: Seeing how a 2D array can be created with lists of a lists, it could have been reasonable to assume that referenece to an element i, j would be done  with \n",
        "\n",
        "\n",
        "```\n",
        "a[i][j]\n",
        "```\n",
        "While this does indeed work as a way of accessing single elements of N-dimensional np arrays, it prevents the ue of the very powerful numpy *slice notation*. "
      ]
    },
    {
      "cell_type": "markdown",
      "metadata": {
        "id": "OgQqKoCYNpdY",
        "colab_type": "text"
      },
      "source": [
        "Let's create a 2D array in a different way, using the \"reshape\" method of 2D arrays:"
      ]
    },
    {
      "cell_type": "code",
      "metadata": {
        "id": "wXnaYOqdJgXL",
        "colab_type": "code",
        "outputId": "8a2c5a4b-24be-4ead-cab8-42e2897d09b2",
        "colab": {
          "base_uri": "https://localhost:8080/",
          "height": 105
        }
      },
      "source": [
        "a = np.arange(25).reshape(5,5)\n",
        "a"
      ],
      "execution_count": 0,
      "outputs": [
        {
          "output_type": "execute_result",
          "data": {
            "text/plain": [
              "array([[ 0,  1,  2,  3,  4],\n",
              "       [ 5,  6,  7,  8,  9],\n",
              "       [10, 11, 12, 13, 14],\n",
              "       [15, 16, 17, 18, 19],\n",
              "       [20, 21, 22, 23, 24]])"
            ]
          },
          "metadata": {
            "tags": []
          },
          "execution_count": 85
        }
      ]
    },
    {
      "cell_type": "markdown",
      "metadata": {
        "id": "zQjJ_nGmOFXC",
        "colab_type": "text"
      },
      "source": [
        "Can you understand how this array was created ?\n",
        "\n",
        "\n",
        "1.   A 1D array of lenght 25 was created\n",
        "2.   The 1D array was *reshaped* to a 5 by 5 2D array\n",
        "\n",
        "The methods \"arange\" and \"reshape\" were *chained* in a single command. We could have done this in parts:\n"
      ]
    },
    {
      "cell_type": "code",
      "metadata": {
        "id": "n30htFrJJBUn",
        "colab_type": "code",
        "outputId": "1991038c-e3b3-426e-ae47-5354ebf290c0",
        "colab": {
          "base_uri": "https://localhost:8080/",
          "height": 105
        }
      },
      "source": [
        "a = np.arange(25)\n",
        "a = a.reshape(5,5)\n",
        "a"
      ],
      "execution_count": 0,
      "outputs": [
        {
          "output_type": "execute_result",
          "data": {
            "text/plain": [
              "array([[ 0,  1,  2,  3,  4],\n",
              "       [ 5,  6,  7,  8,  9],\n",
              "       [10, 11, 12, 13, 14],\n",
              "       [15, 16, 17, 18, 19],\n",
              "       [20, 21, 22, 23, 24]])"
            ]
          },
          "metadata": {
            "tags": []
          },
          "execution_count": 23
        }
      ]
    },
    {
      "cell_type": "markdown",
      "metadata": {
        "id": "LnaZQTwHO7Ba",
        "colab_type": "text"
      },
      "source": [
        "The first form may be less readable at first, but witth a little experience it becomes a really nice and  compact way to encapsulate complex operations. \n",
        "\n",
        "We can check the array shape:"
      ]
    },
    {
      "cell_type": "code",
      "metadata": {
        "id": "ZetSKuiOO3zo",
        "colab_type": "code",
        "outputId": "b6882a33-c810-475c-8197-98f5e142ab7a",
        "colab": {
          "base_uri": "https://localhost:8080/",
          "height": 35
        }
      },
      "source": [
        "a.shape"
      ],
      "execution_count": 0,
      "outputs": [
        {
          "output_type": "execute_result",
          "data": {
            "text/plain": [
              "(5, 5)"
            ]
          },
          "metadata": {
            "tags": []
          },
          "execution_count": 24
        }
      ]
    },
    {
      "cell_type": "markdown",
      "metadata": {
        "id": "UzjP4bCkTrmo",
        "colab_type": "text"
      },
      "source": [
        "To access a given element of the array:"
      ]
    },
    {
      "cell_type": "code",
      "metadata": {
        "id": "6y99402mTyOD",
        "colab_type": "code",
        "outputId": "d4ffe2a1-d0e2-405c-cd68-3a3502a5d3b5",
        "colab": {
          "base_uri": "https://localhost:8080/",
          "height": 35
        }
      },
      "source": [
        "a[3,3]"
      ],
      "execution_count": 0,
      "outputs": [
        {
          "output_type": "execute_result",
          "data": {
            "text/plain": [
              "18"
            ]
          },
          "metadata": {
            "tags": []
          },
          "execution_count": 25
        }
      ]
    },
    {
      "cell_type": "markdown",
      "metadata": {
        "id": "XQ6swKtoT7s1",
        "colab_type": "text"
      },
      "source": [
        "A range of elements can be accessed with the slice notation:"
      ]
    },
    {
      "cell_type": "code",
      "metadata": {
        "id": "GZNx9dYpUAZF",
        "colab_type": "code",
        "outputId": "1dcdff26-134f-4b0a-b5a4-24f3c6ce6894",
        "colab": {
          "base_uri": "https://localhost:8080/",
          "height": 70
        }
      },
      "source": [
        "a[2:5,1:4]"
      ],
      "execution_count": 0,
      "outputs": [
        {
          "output_type": "execute_result",
          "data": {
            "text/plain": [
              "array([[11, 12, 13],\n",
              "       [16, 17, 18],\n",
              "       [21, 22, 23]])"
            ]
          },
          "metadata": {
            "tags": []
          },
          "execution_count": 27
        }
      ]
    },
    {
      "cell_type": "markdown",
      "metadata": {
        "id": "Re4spyn5UIeO",
        "colab_type": "text"
      },
      "source": [
        "The first index always referrs to rows, and the second to columns, so using only one index return the entire row:"
      ]
    },
    {
      "cell_type": "code",
      "metadata": {
        "id": "zS-kecmyUbC1",
        "colab_type": "code",
        "outputId": "e94edec5-c788-46b5-d7bb-d8b6f47c1b38",
        "colab": {
          "base_uri": "https://localhost:8080/",
          "height": 35
        }
      },
      "source": [
        "a[1]"
      ],
      "execution_count": 0,
      "outputs": [
        {
          "output_type": "execute_result",
          "data": {
            "text/plain": [
              "array([5, 6, 7, 8, 9])"
            ]
          },
          "metadata": {
            "tags": []
          },
          "execution_count": 29
        }
      ]
    },
    {
      "cell_type": "markdown",
      "metadata": {
        "id": "4rsxnHASUo0Q",
        "colab_type": "text"
      },
      "source": [
        "To refer to a single column, the folloing notation is used:"
      ]
    },
    {
      "cell_type": "code",
      "metadata": {
        "id": "_Y8rUQz0U0aP",
        "colab_type": "code",
        "outputId": "f5c26706-a57f-4a06-f0ca-8d81ae75207f",
        "colab": {
          "base_uri": "https://localhost:8080/",
          "height": 35
        }
      },
      "source": [
        "a[:,1]"
      ],
      "execution_count": 0,
      "outputs": [
        {
          "output_type": "execute_result",
          "data": {
            "text/plain": [
              "array([ 1,  6, 11, 16, 21])"
            ]
          },
          "metadata": {
            "tags": []
          },
          "execution_count": 30
        }
      ]
    },
    {
      "cell_type": "markdown",
      "metadata": {
        "id": "gA_ozXUdU6yM",
        "colab_type": "text"
      },
      "source": [
        "(the \":\" for the row index means all row values will used, produced the entire column)"
      ]
    },
    {
      "cell_type": "markdown",
      "metadata": {
        "id": "K1k_7qm3VRLW",
        "colab_type": "text"
      },
      "source": [
        "**HANDS-ON:** Figure what the correct slicing to apply to array \"a\" in order to produce this result:\n",
        "\n",
        "\n",
        "\n",
        "```Python\n",
        "array([[ 7,  8,  9],\n",
        "       [12, 13, 14],\n",
        "       [17, 18, 19]])\n",
        "```\n",
        "\n"
      ]
    },
    {
      "cell_type": "code",
      "metadata": {
        "id": "cAy8UD1tVkm0",
        "colab_type": "code",
        "cellView": "form",
        "colab": {}
      },
      "source": [
        "#@title SOLUTION\n",
        "a[1:4,2:5]"
      ],
      "execution_count": 0,
      "outputs": []
    },
    {
      "cell_type": "markdown",
      "metadata": {
        "id": "7K3JornUTQLJ",
        "colab_type": "text"
      },
      "source": [
        "Higher-dimensional arrays can be created in the same way:"
      ]
    },
    {
      "cell_type": "code",
      "metadata": {
        "id": "5QE6z80kTPHP",
        "colab_type": "code",
        "outputId": "1cc620ad-1dd0-41b4-f9d4-8eacdc3ca806",
        "colab": {
          "base_uri": "https://localhost:8080/",
          "height": 528
        }
      },
      "source": [
        "b = np.arange(125).reshape(5,5,5)\n",
        "b"
      ],
      "execution_count": 0,
      "outputs": [
        {
          "output_type": "execute_result",
          "data": {
            "text/plain": [
              "array([[[  0,   1,   2,   3,   4],\n",
              "        [  5,   6,   7,   8,   9],\n",
              "        [ 10,  11,  12,  13,  14],\n",
              "        [ 15,  16,  17,  18,  19],\n",
              "        [ 20,  21,  22,  23,  24]],\n",
              "\n",
              "       [[ 25,  26,  27,  28,  29],\n",
              "        [ 30,  31,  32,  33,  34],\n",
              "        [ 35,  36,  37,  38,  39],\n",
              "        [ 40,  41,  42,  43,  44],\n",
              "        [ 45,  46,  47,  48,  49]],\n",
              "\n",
              "       [[ 50,  51,  52,  53,  54],\n",
              "        [ 55,  56,  57,  58,  59],\n",
              "        [ 60,  61,  62,  63,  64],\n",
              "        [ 65,  66,  67,  68,  69],\n",
              "        [ 70,  71,  72,  73,  74]],\n",
              "\n",
              "       [[ 75,  76,  77,  78,  79],\n",
              "        [ 80,  81,  82,  83,  84],\n",
              "        [ 85,  86,  87,  88,  89],\n",
              "        [ 90,  91,  92,  93,  94],\n",
              "        [ 95,  96,  97,  98,  99]],\n",
              "\n",
              "       [[100, 101, 102, 103, 104],\n",
              "        [105, 106, 107, 108, 109],\n",
              "        [110, 111, 112, 113, 114],\n",
              "        [115, 116, 117, 118, 119],\n",
              "        [120, 121, 122, 123, 124]]])"
            ]
          },
          "metadata": {
            "tags": []
          },
          "execution_count": 35
        }
      ]
    },
    {
      "cell_type": "markdown",
      "metadata": {
        "id": "50smO4qVXB-C",
        "colab_type": "text"
      },
      "source": [
        "We can imagine a 3D array as a cube of numbers, where each value of the first index points to a 2D-array \"slice\" of the cube:"
      ]
    },
    {
      "cell_type": "code",
      "metadata": {
        "id": "lQq_PZKSXPLS",
        "colab_type": "code",
        "outputId": "136c66ea-132a-4280-a56a-b11e62da561c",
        "colab": {
          "base_uri": "https://localhost:8080/",
          "height": 105
        }
      },
      "source": [
        "b[2]"
      ],
      "execution_count": 0,
      "outputs": [
        {
          "output_type": "execute_result",
          "data": {
            "text/plain": [
              "array([[50, 51, 52, 53, 54],\n",
              "       [55, 56, 57, 58, 59],\n",
              "       [60, 61, 62, 63, 64],\n",
              "       [65, 66, 67, 68, 69],\n",
              "       [70, 71, 72, 73, 74]])"
            ]
          },
          "metadata": {
            "tags": []
          },
          "execution_count": 36
        }
      ]
    },
    {
      "cell_type": "markdown",
      "metadata": {
        "id": "ZNbf-M8RXskt",
        "colab_type": "text"
      },
      "source": [
        "#### Vector operations on arrays\n",
        "\n",
        "One of the most powerful things about numpy arrays is how operations can be done on them on a vectorial (elementwise) manner. Not only does this produce much more compact and elegant code, but also frequently results in major code speedups, as the vectorized operations are done by very fast pre-compiled C functions. Generally, if $X = [X_1,X_2,...,X_n]$ is a numpy array and $f()$ a *universal function* (ufunc), the operation:\n",
        "\n",
        "$$ A = f(X) $$\n",
        "\n",
        "will return an array whose are values $A = [f(X_1),f(X_2),...,f(X_n)]$. The numpy library has many universal functions, ranging from simply arithmetic to transcendant functions like cos, sin, tan, log...  Essentially, this means that in many instances we do not need  to *explicitly* iterate over the elements of an array (for istance with a \"for\" loop) to produce the desired result. In fact, \"for\" loops will be pratically non-existent in proeficient numpy code! "
      ]
    },
    {
      "cell_type": "markdown",
      "metadata": {
        "id": "2n5T0CJjcpw6",
        "colab_type": "text"
      },
      "source": [
        "Let's start out with a simple example:"
      ]
    },
    {
      "cell_type": "code",
      "metadata": {
        "id": "SJk2ITHHZTl2",
        "colab_type": "code",
        "outputId": "9bff2a54-6b6b-4ffd-b04d-0d6d15144a5a",
        "colab": {
          "base_uri": "https://localhost:8080/",
          "height": 105
        }
      },
      "source": [
        "x = np.arange(0,2*np.pi,0.1)\n",
        "x"
      ],
      "execution_count": 0,
      "outputs": [
        {
          "output_type": "execute_result",
          "data": {
            "text/plain": [
              "array([0. , 0.1, 0.2, 0.3, 0.4, 0.5, 0.6, 0.7, 0.8, 0.9, 1. , 1.1, 1.2,\n",
              "       1.3, 1.4, 1.5, 1.6, 1.7, 1.8, 1.9, 2. , 2.1, 2.2, 2.3, 2.4, 2.5,\n",
              "       2.6, 2.7, 2.8, 2.9, 3. , 3.1, 3.2, 3.3, 3.4, 3.5, 3.6, 3.7, 3.8,\n",
              "       3.9, 4. , 4.1, 4.2, 4.3, 4.4, 4.5, 4.6, 4.7, 4.8, 4.9, 5. , 5.1,\n",
              "       5.2, 5.3, 5.4, 5.5, 5.6, 5.7, 5.8, 5.9, 6. , 6.1, 6.2])"
            ]
          },
          "metadata": {
            "tags": []
          },
          "execution_count": 37
        }
      ]
    },
    {
      "cell_type": "markdown",
      "metadata": {
        "id": "zWniO601c38S",
        "colab_type": "text"
      },
      "source": [
        "As you may have guessed, \"np.pi\" is the number $\\pi$ . The array \"x\" is loaded with floating point numbers ranging from $0$ to $2\\pi$. Now lets apply the ufunc \"np.sin\" to the array x:"
      ]
    },
    {
      "cell_type": "code",
      "metadata": {
        "id": "rd3clGZqdwQM",
        "colab_type": "code",
        "outputId": "2a571cf5-985c-4830-c679-aedc4aad50ea",
        "colab": {
          "base_uri": "https://localhost:8080/",
          "height": 247
        }
      },
      "source": [
        "y = np.sin(x)\n",
        "y"
      ],
      "execution_count": 0,
      "outputs": [
        {
          "output_type": "execute_result",
          "data": {
            "text/plain": [
              "array([ 0.        ,  0.09983342,  0.19866933,  0.29552021,  0.38941834,\n",
              "        0.47942554,  0.56464247,  0.64421769,  0.71735609,  0.78332691,\n",
              "        0.84147098,  0.89120736,  0.93203909,  0.96355819,  0.98544973,\n",
              "        0.99749499,  0.9995736 ,  0.99166481,  0.97384763,  0.94630009,\n",
              "        0.90929743,  0.86320937,  0.8084964 ,  0.74570521,  0.67546318,\n",
              "        0.59847214,  0.51550137,  0.42737988,  0.33498815,  0.23924933,\n",
              "        0.14112001,  0.04158066, -0.05837414, -0.15774569, -0.2555411 ,\n",
              "       -0.35078323, -0.44252044, -0.52983614, -0.61185789, -0.68776616,\n",
              "       -0.7568025 , -0.81827711, -0.87157577, -0.91616594, -0.95160207,\n",
              "       -0.97753012, -0.993691  , -0.99992326, -0.99616461, -0.98245261,\n",
              "       -0.95892427, -0.92581468, -0.88345466, -0.83226744, -0.77276449,\n",
              "       -0.70554033, -0.63126664, -0.55068554, -0.46460218, -0.37387666,\n",
              "       -0.2794155 , -0.1821625 , -0.0830894 ])"
            ]
          },
          "metadata": {
            "tags": []
          },
          "execution_count": 38
        }
      ]
    },
    {
      "cell_type": "markdown",
      "metadata": {
        "id": "YGJua5QDd1DI",
        "colab_type": "text"
      },
      "source": [
        "y is a new array containing the sine of every element in the x array!\n",
        "\n",
        "To convinces us that this is so, let's plot y against x using Matplotlib:"
      ]
    },
    {
      "cell_type": "code",
      "metadata": {
        "id": "jBnEbwZ9eRJX",
        "colab_type": "code",
        "outputId": "c1cfb2a4-3885-4f66-b1e5-351d426064d9",
        "colab": {
          "base_uri": "https://localhost:8080/",
          "height": 287
        }
      },
      "source": [
        "import matplotlib.pyplot as plt\n",
        "plt.plot(x,y,'ko-')"
      ],
      "execution_count": 0,
      "outputs": [
        {
          "output_type": "execute_result",
          "data": {
            "text/plain": [
              "[<matplotlib.lines.Line2D at 0x7f8b8f1206a0>]"
            ]
          },
          "metadata": {
            "tags": []
          },
          "execution_count": 39
        },
        {
          "output_type": "display_data",
          "data": {
            "image/png": "[encoded data removed]",
            "text/plain": [
              "<Figure size 432x288 with 1 Axes>"
            ]
          },
          "metadata": {
            "tags": []
          }
        }
      ]
    },
    {
      "cell_type": "markdown",
      "metadata": {
        "id": "8-ZpUVXbeyqW",
        "colab_type": "text"
      },
      "source": [
        "**HANDS-ON:** If `z = np.cos(x)`, what do you think will be the return result of the following expression:\n",
        "\n",
        "```\n",
        "y*y+z*z\n",
        "```\n",
        "(don't just run it, try to guess the result first!)"
      ]
    },
    {
      "cell_type": "code",
      "metadata": {
        "id": "sDm9gjKpelIU",
        "colab_type": "code",
        "cellView": "form",
        "colab": {}
      },
      "source": [
        "#@title SOLUTION\n",
        "z = np.cos(x)\n",
        "y*y+z*z"
      ],
      "execution_count": 0,
      "outputs": []
    },
    {
      "cell_type": "markdown",
      "metadata": {
        "id": "gvxwWsn4UjKn",
        "colab_type": "text"
      },
      "source": [
        "Another example, generating a polynomial function from argument x :"
      ]
    },
    {
      "cell_type": "code",
      "metadata": {
        "id": "UcGqpPVPpKIn",
        "colab_type": "code",
        "colab": {}
      },
      "source": [
        "a = 2\n",
        "b = 3\n",
        "c = -1\n",
        "y = a * x**2 + b * x + c"
      ],
      "execution_count": 0,
      "outputs": []
    },
    {
      "cell_type": "code",
      "metadata": {
        "id": "3qtq8xQspSeI",
        "colab_type": "code",
        "outputId": "de77faae-e727-4ddb-c7d7-aa4d02805e81",
        "colab": {
          "base_uri": "https://localhost:8080/",
          "height": 287
        }
      },
      "source": [
        "plt.plot(x,y,'ko-')"
      ],
      "execution_count": 0,
      "outputs": [
        {
          "output_type": "execute_result",
          "data": {
            "text/plain": [
              "[<matplotlib.lines.Line2D at 0x7f8b8c806be0>]"
            ]
          },
          "metadata": {
            "tags": []
          },
          "execution_count": 64
        },
        {
          "output_type": "display_data",
          "data": {
            "image/png": "[encoded data removed]",
            "text/plain": [
              "<Figure size 432x288 with 1 Axes>"
            ]
          },
          "metadata": {
            "tags": []
          }
        }
      ]
    },
    {
      "cell_type": "markdown",
      "metadata": {
        "id": "wWEMTf8fjnit",
        "colab_type": "text"
      },
      "source": [
        "Besides vectorized functions, all numpy objects support a number of *methods* that can be used to operate on their elements in various ways. Combining these methods with the vector ufuncs makes for a really powerful way of making all sorts of computations with numpy arrays. "
      ]
    },
    {
      "cell_type": "markdown",
      "metadata": {
        "id": "QC4HzNOAkSsD",
        "colab_type": "text"
      },
      "source": [
        "Here are some examples of the available numpy methods:"
      ]
    },
    {
      "cell_type": "code",
      "metadata": {
        "id": "Jb4Qq0pnkcb1",
        "colab_type": "code",
        "outputId": "20f3c2b5-d04e-4dac-a343-192d8d51e054",
        "colab": {
          "base_uri": "https://localhost:8080/",
          "height": 159
        }
      },
      "source": [
        "import numpy as np\n",
        "x = np.array([2, 5, 4, 3, 1, 6])\n",
        "print(x.sum())\n",
        "print(x.mean())\n",
        "print(x.var())\n",
        "print(x.std())\n",
        "print(x.max())\n",
        "print(x.min())\n",
        "print(x.argmax())\n",
        "print(x.argmin())"
      ],
      "execution_count": 0,
      "outputs": [
        {
          "output_type": "stream",
          "text": [
            "21\n",
            "3.5\n",
            "2.9166666666666665\n",
            "1.707825127659933\n",
            "6\n",
            "1\n",
            "5\n",
            "4\n"
          ],
          "name": "stdout"
        }
      ]
    },
    {
      "cell_type": "markdown",
      "metadata": {
        "id": "YMx-78MPlKWi",
        "colab_type": "text"
      },
      "source": [
        "**HANDS-ON:** The purpose of most of these functions is pretty obvious, but can you guess what the \"argmax\" and \"argmin\" functions do ?"
      ]
    },
    {
      "cell_type": "markdown",
      "metadata": {
        "id": "H22PaDUKDmhw",
        "colab_type": "text"
      },
      "source": [
        "Example: the Root Mean Square Deviation of two arrays X and Y is defined as:\n",
        "\n",
        "$$ \\text{RMSD} = \\sqrt{\\frac{1}{N}\\sum_i^N (X_i-Y_i)^2} $$\n",
        "\n",
        "Let's calculate with a numpy expression:"
      ]
    },
    {
      "cell_type": "code",
      "metadata": {
        "id": "grl1e2gEErHu",
        "colab_type": "code",
        "outputId": "85e85c3c-1994-4f8e-bdbc-45ad2981e35d",
        "colab": {
          "base_uri": "https://localhost:8080/",
          "height": 35
        }
      },
      "source": [
        "x = np.array([1,2,3])\n",
        "y = np.array([4,5,7])\n",
        "np.sqrt(((x-y)**2).mean())"
      ],
      "execution_count": 0,
      "outputs": [
        {
          "output_type": "execute_result",
          "data": {
            "text/plain": [
              "3.366501646120693"
            ]
          },
          "metadata": {
            "tags": []
          },
          "execution_count": 25
        }
      ]
    },
    {
      "cell_type": "markdown",
      "metadata": {
        "id": "nhVLLkAPFvsT",
        "colab_type": "text"
      },
      "source": [
        "The expression:\n",
        "\n",
        "\n",
        "```\n",
        "np.sqrt(((x-y)**2).mean())\n",
        "```\n",
        "\n",
        "is a good example of chaining of various numpy operations. Analyze it carefully, working from the inside to the outside, and try to understand what it does.\n"
      ]
    },
    {
      "cell_type": "markdown",
      "metadata": {
        "id": "eegIkv8Yl_8N",
        "colab_type": "text"
      },
      "source": [
        "**HANDS-ON:** The sample covariance of two random variables X and Y, is \n",
        "\n",
        "\n",
        "$$ {\\displaystyle S_{XY}={\\frac {1}{N-1}}\\sum _{i=1}^{N}\\left(X_{i}-{\\bar {X}}\\right)\\left(Y_{i}-{\\bar {Y}}\\right),}$$\n",
        "\n",
        "where $\\bar{X}$ and $\\bar{Y}$ are the sample means of the wariables:\n",
        "\n",
        "$$ \\bar X ={\\frac {1}{N}}\\sum _{i=1}^{N} X_{i} \\quad \\text{and} \\quad \\bar Y ={\\frac {1}{N}}\\sum _{i=1}^{N} Y_{i}$$\n",
        "\n",
        "Write a numpy expression that calculates the covariance of two arrays \"x\" and \"Y\" (which must have the same lenght!)\n",
        "<br>\n",
        "<br>\n",
        "**NOTE:** $S_{XX}$ is \n",
        "\n",
        "$$ {\\displaystyle S_{XX}={\\frac {1}{N-1}}\\sum _{i=1}^{N}\\left(X_{i}-{\\bar {X}}\\right)\\left(X_{i}-{\\bar {X}}\\right) = {\\frac {1}{N-1}}\\sum _{i=1}^{N}\\left(X_{i}-{\\bar {X}}\\right)^2}$$  \n",
        "\n",
        "which is simply the sample variance $S_X$ of the random variable X. So the variance is simply the covariance of a random variable with itself. "
      ]
    },
    {
      "cell_type": "code",
      "metadata": {
        "id": "PrEOO6uxlD84",
        "colab_type": "code",
        "cellView": "form",
        "colab": {}
      },
      "source": [
        "#@title SOLUTION\n",
        "x = np.array([1,3,5,6,11,14])\n",
        "y = np.array([3,9,17,22,31,35])\n",
        "((x-x.mean())*(y-y.mean())).sum()/(len(x)-1)"
      ],
      "execution_count": 0,
      "outputs": []
    },
    {
      "cell_type": "markdown",
      "metadata": {
        "id": "4NEUVrDZqyfz",
        "colab_type": "text"
      },
      "source": [
        "**HANDS-ON:** Now let's caculate the Pearson correlation coeficient, \n",
        "\n",
        "$${\\displaystyle \\rho _{X,Y}={\\frac {\\operatorname {cov} (X,Y)}{\\sigma _{X}\\sigma _{Y}}}}$$\n",
        "\n",
        "where $\\sigma _{X}$ and $\\sigma _{Y}$ are *standard deviations* of the two random variables.\n",
        "\n",
        "For two sizes $n$ samples of $X$ and $Y$, the sample correlation coefficient is given by:\n",
        "\n",
        "$${\\displaystyle r_{XY}={\\frac {\\sum _{i=1}^{n}(X_{i}-{\\bar {X}})(Y_{i}-{\\bar {Y}})}{{\\sqrt {\\sum _{i=1}^{n}(X_{i}-{\\bar {X}})^{2}}}{\\sqrt {\\sum _{i=1}^{n}(Y_{i}-{\\bar {Y}})^{2}}}}}} $$\n",
        "\n",
        "1. Define a function named `covar` such that `covar(x,y)` returns the covariance of random samples x and y.\n",
        "2. Using `covar`, implement another function named `pearson` that calculates the sample Pearson correlation coefficient $r_{XY}$\n",
        "\n"
      ]
    },
    {
      "cell_type": "code",
      "metadata": {
        "id": "jZGAmorVvGOe",
        "colab_type": "code",
        "cellView": "form",
        "outputId": "0ea3f5a6-15af-4d98-c5e6-f65e277d930b",
        "colab": {
          "base_uri": "https://localhost:8080/",
          "height": 35
        }
      },
      "source": [
        "#@title SOLUTION\n",
        "def covar(x,y):\n",
        "  return ((x-x.mean())*(y-y.mean())).sum()/(len(x)-1)\n",
        "\n",
        "def pearson(x,y):\n",
        "  return covar(x,y)/(np.sqrt(covar(x,x))*np.sqrt(covar(y,y)))\n",
        "\n",
        "pearson(x,y)"
      ],
      "execution_count": 0,
      "outputs": [
        {
          "output_type": "execute_result",
          "data": {
            "text/plain": [
              "0.9765331878498119"
            ]
          },
          "metadata": {
            "tags": []
          },
          "execution_count": 13
        }
      ]
    },
    {
      "cell_type": "markdown",
      "metadata": {
        "id": "BY3l7UnXBttA",
        "colab_type": "text"
      },
      "source": [
        "You can actually check the correctness of your solution by checking your result agains that of the following command:\n",
        "\n",
        "```\n",
        "np.corrcoeof(x,y),\n",
        "```\n",
        "\n",
        "a numpy  function that implements the Pearson correlation coefficient (sorry for wasting your time...).\n"
      ]
    },
    {
      "cell_type": "code",
      "metadata": {
        "id": "3lE4m9_xvteU",
        "colab_type": "code",
        "outputId": "6252bf0f-aeeb-499a-da56-59db18aabf19",
        "colab": {
          "base_uri": "https://localhost:8080/",
          "height": 52
        }
      },
      "source": [
        "np.corrcoef(x,y)"
      ],
      "execution_count": 0,
      "outputs": [
        {
          "output_type": "execute_result",
          "data": {
            "text/plain": [
              "array([[1.        , 0.97653319],\n",
              "       [0.97653319, 1.        ]])"
            ]
          },
          "metadata": {
            "tags": []
          },
          "execution_count": 14
        }
      ]
    },
    {
      "cell_type": "code",
      "metadata": {
        "id": "D8Xd4wtRqoi0",
        "colab_type": "code",
        "outputId": "2d113443-8eb1-4347-ef4d-e1c80a98f84f",
        "colab": {
          "base_uri": "https://localhost:8080/",
          "height": 35
        }
      },
      "source": [
        "np.cov(x,y)[0,1]"
      ],
      "execution_count": 0,
      "outputs": [
        {
          "output_type": "execute_result",
          "data": {
            "text/plain": [
              "59.6"
            ]
          },
          "metadata": {
            "tags": []
          },
          "execution_count": 12
        }
      ]
    },
    {
      "cell_type": "code",
      "metadata": {
        "id": "OHvHZSoFVRsa",
        "colab_type": "code",
        "outputId": "5e96ee0b-30e5-449f-b140-dfc187de27c5",
        "colab": {
          "base_uri": "https://localhost:8080/",
          "height": 35
        }
      },
      "source": [
        "(np.multiply.reduce(a))**(1./6)"
      ],
      "execution_count": 0,
      "outputs": [
        {
          "output_type": "execute_result",
          "data": {
            "text/plain": [
              "2.993795165523909"
            ]
          },
          "metadata": {
            "tags": []
          },
          "execution_count": 19
        }
      ]
    },
    {
      "cell_type": "code",
      "metadata": {
        "id": "i873AVDjCnNS",
        "colab_type": "code",
        "outputId": "dd3c3d0d-d197-4001-95e9-da3cd123f90b",
        "colab": {
          "base_uri": "https://localhost:8080/",
          "height": 35
        }
      },
      "source": [
        "np.roots((1,0,2))"
      ],
      "execution_count": 0,
      "outputs": [
        {
          "output_type": "execute_result",
          "data": {
            "text/plain": [
              "array([-0.+1.41421356j,  0.-1.41421356j])"
            ]
          },
          "metadata": {
            "tags": []
          },
          "execution_count": 21
        }
      ]
    },
    {
      "cell_type": "code",
      "metadata": {
        "id": "RDBAwO0HCJps",
        "colab_type": "code",
        "outputId": "101066fa-2ed8-42ac-8de0-dbf881a02ec0",
        "colab": {
          "base_uri": "https://localhost:8080/",
          "height": 70
        }
      },
      "source": [
        "np.outer([1, 2, 3], [4, 5, 6])"
      ],
      "execution_count": 0,
      "outputs": [
        {
          "output_type": "execute_result",
          "data": {
            "text/plain": [
              "array([[ 4,  5,  6],\n",
              "       [ 8, 10, 12],\n",
              "       [12, 15, 18]])"
            ]
          },
          "metadata": {
            "tags": []
          },
          "execution_count": 38
        }
      ]
    },
    {
      "cell_type": "code",
      "metadata": {
        "id": "3P5KQ7uhGNt8",
        "colab_type": "code",
        "outputId": "470d27f2-2e13-4804-d00a-eb912c70bc02",
        "colab": {
          "base_uri": "https://localhost:8080/",
          "height": 70
        }
      },
      "source": [
        "np.multiply.outer([1, 2, 3], [4, 5, 6])"
      ],
      "execution_count": 0,
      "outputs": [
        {
          "output_type": "execute_result",
          "data": {
            "text/plain": [
              "array([[ 4,  5,  6],\n",
              "       [ 8, 10, 12],\n",
              "       [12, 15, 18]])"
            ]
          },
          "metadata": {
            "tags": []
          },
          "execution_count": 39
        }
      ]
    },
    {
      "cell_type": "code",
      "metadata": {
        "id": "wV2_75FSG7ty",
        "colab_type": "code",
        "colab": {}
      },
      "source": [
        "x = np.arange(10)\n",
        "y = 2 * x + 10 + np.random.randn(10)"
      ],
      "execution_count": 0,
      "outputs": []
    },
    {
      "cell_type": "code",
      "metadata": {
        "id": "y6i0lbtdME6d",
        "colab_type": "code",
        "outputId": "12ce11ca-1116-42b5-cc3b-47142e4095bf",
        "colab": {
          "base_uri": "https://localhost:8080/",
          "height": 35
        }
      },
      "source": [
        "C = (x*y-x.mean()*y.mean()).sum()\n",
        "Y = (y*y-y.mean()**2).sum()\n",
        "C,X,Y\n",
        "C/(np.sqrt(X)*np.sqrt(Y))"
      ],
      "execution_count": 0,
      "outputs": [
        {
          "output_type": "execute_result",
          "data": {
            "text/plain": [
              "0.9930923312521637"
            ]
          },
          "metadata": {
            "tags": []
          },
          "execution_count": 17
        }
      ]
    },
    {
      "cell_type": "code",
      "metadata": {
        "id": "a-WdJ-hTMdmz",
        "colab_type": "code",
        "outputId": "ab43e2f2-a292-43b4-86e6-e91b15ba1ac9",
        "colab": {
          "base_uri": "https://localhost:8080/",
          "height": 52
        }
      },
      "source": [
        "np.corrcoef(x,y)"
      ],
      "execution_count": 0,
      "outputs": [
        {
          "output_type": "execute_result",
          "data": {
            "text/plain": [
              "array([[1.        , 0.99309233],\n",
              "       [0.99309233, 1.        ]])"
            ]
          },
          "metadata": {
            "tags": []
          },
          "execution_count": 18
        }
      ]
    },
    {
      "cell_type": "code",
      "metadata": {
        "id": "fZMCHHePMFEb",
        "colab_type": "code",
        "colab": {}
      },
      "source": [
        ""
      ],
      "execution_count": 0,
      "outputs": []
    }
  ]
}