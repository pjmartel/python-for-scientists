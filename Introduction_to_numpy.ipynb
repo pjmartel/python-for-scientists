{
  "nbformat": 4,
  "nbformat_minor": 0,
  "metadata": {
    "colab": {
      "name": "Introduction_to_numpy.ipynb",
      "version": "0.3.2",
      "provenance": [],
      "collapsed_sections": [],
      "include_colab_link": true
    },
    "kernelspec": {
      "name": "python3",
      "display_name": "Python 3"
    }
  },
  "cells": [
    {
      "cell_type": "markdown",
      "metadata": {
        "id": "view-in-github",
        "colab_type": "text"
      },
      "source": [
        "<a href=\"https://colab.research.google.com/github/pjmartel/python-for-scientists/blob/master/Introduction_to_numpy.ipynb\" target=\"_parent\"><img src=\"https://colab.research.google.com/assets/colab-badge.svg\" alt=\"Open In Colab\"/></a>"
      ]
    },
    {
      "cell_type": "markdown",
      "metadata": {
        "id": "FoAKqmMqYTHz",
        "colab_type": "text"
      },
      "source": [
        "### Introduction to Numerical Python\n",
        "\n",
        "Although Python is a very versatile and powerful language on its own, its full power is only realized through the use of various **packages** and **modules** that extend the language functionality with new data types, objects and functions. \n",
        "\n",
        "The **Numerical Python** (Numpy) package is the fundamental library for scientific computing, adding vectors, matrices and higher-level multidimensional arrays whose elements can be of a variety of new numeric datatypes of different precisions. Numpy supports *vector operations* on these arrays, and use of low-level  C language calls that can speed Python calculations enormously. Numpy comes with a variety of *methods* and functions operating on these array types, for things likie optimzation, fitting, approximation, equation solving and statistics. It is safe to say that no Python scientific programming is feasible without the use of Numpy."
      ]
    },
    {
      "cell_type": "markdown",
      "metadata": {
        "id": "2_FqXW3ZRUQm",
        "colab_type": "text"
      },
      "source": [
        "While not very practical, versatile or computationally efficient, multi-dimensional arrays could in fact be constructed from the *list* Python datatype. \n",
        "\n",
        "**HANDS-ON:** Create a 2-Dimensional array using the list type."
      ]
    },
    {
      "cell_type": "code",
      "metadata": {
        "id": "UEZOZbwgR4Op",
        "colab_type": "code",
        "cellView": "form",
        "colab": {}
      },
      "source": [
        "#@title Solution\n",
        "l2d = [[1,2,3],[4,5,6]]\n",
        "l2d[1][2]"
      ],
      "execution_count": 0,
      "outputs": []
    },
    {
      "cell_type": "markdown",
      "metadata": {
        "id": "vuO4o-_rSU1o",
        "colab_type": "text"
      },
      "source": [
        "#### Importing Numpy"
      ]
    },
    {
      "cell_type": "markdown",
      "metadata": {
        "id": "EjN95iUHnfbL",
        "colab_type": "text"
      },
      "source": [
        "To start using Numpy, we must import it:"
      ]
    },
    {
      "cell_type": "code",
      "metadata": {
        "id": "hIMzF2SQnkID",
        "colab_type": "code",
        "colab": {}
      },
      "source": [
        "import numpy as np"
      ],
      "execution_count": 0,
      "outputs": []
    },
    {
      "cell_type": "markdown",
      "metadata": {
        "id": "uAPJYTfgnqrB",
        "colab_type": "text"
      },
      "source": [
        "**Note:** While we could have used another name to import Numpy, \"np\" is an accepted convention in the Python programming community - using another name is a bad idea, as it will make your code harder to read for others and more difficult for to use external snippets of code in your own programs. "
      ]
    },
    {
      "cell_type": "markdown",
      "metadata": {
        "id": "TKi-FPINtpQS",
        "colab_type": "text"
      },
      "source": [
        "#### Numpy arrays are NOT lists"
      ]
    },
    {
      "cell_type": "markdown",
      "metadata": {
        "id": "odIs6CeeoqPm",
        "colab_type": "text"
      },
      "source": [
        "It is important to understand that while numpy arrays share some common traits with lists, they are entirely different beasts. There are differences both the way *operations* are done on numpy, and on the format of the contained *data* and the is *represented* in memory. We will come to that.\n",
        "\n",
        "The `np.array`function can create an array from a list:"
      ]
    },
    {
      "cell_type": "code",
      "metadata": {
        "id": "PabUbUj6ooX5",
        "colab_type": "code",
        "colab": {}
      },
      "source": [
        "a = np.array(([0, 1, 2, 3, 4, 5, 6, 7, 8, 9]))"
      ],
      "execution_count": 0,
      "outputs": []
    },
    {
      "cell_type": "markdown",
      "metadata": {
        "id": "YzSsZSoppBvn",
        "colab_type": "text"
      },
      "source": [
        "For comparison, let's declare a variable \"L\" for the same list:"
      ]
    },
    {
      "cell_type": "code",
      "metadata": {
        "id": "9cXwGc9-pBVN",
        "colab_type": "code",
        "colab": {}
      },
      "source": [
        "L = [0, 1, 2, 3, 4, 5, 6, 7, 8, 9]"
      ],
      "execution_count": 0,
      "outputs": []
    },
    {
      "cell_type": "markdown",
      "metadata": {
        "id": "_1u1Kh7Cpdlu",
        "colab_type": "text"
      },
      "source": [
        "Now let's inspect `a` and `L`:"
      ]
    },
    {
      "cell_type": "code",
      "metadata": {
        "id": "UDklY1b-pcpo",
        "colab_type": "code",
        "outputId": "0fcbf964-56b0-49bf-c093-4dcf1ac46c98",
        "colab": {
          "base_uri": "https://localhost:8080/",
          "height": 35
        }
      },
      "source": [
        "a"
      ],
      "execution_count": 5,
      "outputs": [
        {
          "output_type": "execute_result",
          "data": {
            "text/plain": [
              "array([0, 1, 2, 3, 4, 5, 6, 7, 8, 9])"
            ]
          },
          "metadata": {
            "tags": []
          },
          "execution_count": 5
        }
      ]
    },
    {
      "cell_type": "code",
      "metadata": {
        "id": "l-2A-wBzo_uF",
        "colab_type": "code",
        "outputId": "15d21076-d689-408a-d12a-7f78e09a2f44",
        "colab": {
          "base_uri": "https://localhost:8080/",
          "height": 35
        }
      },
      "source": [
        "L"
      ],
      "execution_count": 6,
      "outputs": [
        {
          "output_type": "execute_result",
          "data": {
            "text/plain": [
              "[0, 1, 2, 3, 4, 5, 6, 7, 8, 9]"
            ]
          },
          "metadata": {
            "tags": []
          },
          "execution_count": 6
        }
      ]
    },
    {
      "cell_type": "markdown",
      "metadata": {
        "id": "0z9_QEroqAZy",
        "colab_type": "text"
      },
      "source": [
        "The *array* name tag in the output tells us  that \"a\" is not of list type, even tough it contains a list of numbers. "
      ]
    },
    {
      "cell_type": "markdown",
      "metadata": {
        "id": "UlfXoesdqtSn",
        "colab_type": "text"
      },
      "source": [
        "And now let's reveal the first major difference between the two objects:"
      ]
    },
    {
      "cell_type": "code",
      "metadata": {
        "id": "LdALxaXNp-st",
        "colab_type": "code",
        "outputId": "c8c858a4-36b3-40ca-afb6-535c8f597d76",
        "colab": {
          "base_uri": "https://localhost:8080/",
          "height": 35
        }
      },
      "source": [
        "2*L"
      ],
      "execution_count": 7,
      "outputs": [
        {
          "output_type": "execute_result",
          "data": {
            "text/plain": [
              "[0, 1, 2, 3, 4, 5, 6, 7, 8, 9, 0, 1, 2, 3, 4, 5, 6, 7, 8, 9]"
            ]
          },
          "metadata": {
            "tags": []
          },
          "execution_count": 7
        }
      ]
    },
    {
      "cell_type": "code",
      "metadata": {
        "id": "8oGfOqn0pm6_",
        "colab_type": "code",
        "outputId": "0d7c55c9-3a7a-4069-8b22-7d2578754076",
        "colab": {
          "base_uri": "https://localhost:8080/",
          "height": 35
        }
      },
      "source": [
        "2*a"
      ],
      "execution_count": 8,
      "outputs": [
        {
          "output_type": "execute_result",
          "data": {
            "text/plain": [
              "array([ 0,  2,  4,  6,  8, 10, 12, 14, 16, 18])"
            ]
          },
          "metadata": {
            "tags": []
          },
          "execution_count": 8
        }
      ]
    },
    {
      "cell_type": "markdown",
      "metadata": {
        "id": "B2QHecU3q5Dm",
        "colab_type": "text"
      },
      "source": [
        "While multiplying a list by \"n\" returns a list with \"n\" concatenated copies of the original list, multiplying a numpy 1D array with a number simply multiplies *each of its elements* by the same number \"n\". This is what's called a *vector operation*, which applies equally to all elements of an array.\n",
        "As we will see, vector operations go far beyond multiplication by a scalar. \n",
        "\n",
        "Let's create a second numpy array, at same time demonstrating the use of the function `np.arange`:"
      ]
    },
    {
      "cell_type": "code",
      "metadata": {
        "id": "WrPmh8RWq33B",
        "colab_type": "code",
        "outputId": "e51cc8fb-c516-4b2f-953e-552868af561e",
        "colab": {
          "base_uri": "https://localhost:8080/",
          "height": 35
        }
      },
      "source": [
        "b = np.arange(10,20) # creates an array contain numbersfrom 10 to 20 (last not included)\n",
        "b"
      ],
      "execution_count": 9,
      "outputs": [
        {
          "output_type": "execute_result",
          "data": {
            "text/plain": [
              "array([10, 11, 12, 13, 14, 15, 16, 17, 18, 19])"
            ]
          },
          "metadata": {
            "tags": []
          },
          "execution_count": 9
        }
      ]
    },
    {
      "cell_type": "markdown",
      "metadata": {
        "id": "ojHysrXBsGu2",
        "colab_type": "text"
      },
      "source": [
        "What happens if we add the two arrays ? "
      ]
    },
    {
      "cell_type": "code",
      "metadata": {
        "id": "DKQOeTmzsBx8",
        "colab_type": "code",
        "outputId": "2f7f5c62-63a7-4e0e-ca6c-78d0b0693163",
        "colab": {
          "base_uri": "https://localhost:8080/",
          "height": 35
        }
      },
      "source": [
        "a + b"
      ],
      "execution_count": 13,
      "outputs": [
        {
          "output_type": "execute_result",
          "data": {
            "text/plain": [
              "array([10, 12, 14, 16, 18, 20, 22, 24, 26, 28])"
            ]
          },
          "metadata": {
            "tags": []
          },
          "execution_count": 13
        }
      ]
    },
    {
      "cell_type": "markdown",
      "metadata": {
        "id": "MyEdsi7fsYw-",
        "colab_type": "text"
      },
      "source": [
        "The two arrays got summed elementwise (each element of the new array is the sum of the elements of the two arrays in the corresponding position)"
      ]
    },
    {
      "cell_type": "markdown",
      "metadata": {
        "id": "ueSXRDjlstIT",
        "colab_type": "text"
      },
      "source": [
        "Mutlitplication of 1D arrays works in the same way:"
      ]
    },
    {
      "cell_type": "code",
      "metadata": {
        "id": "4a8em2XpsOXA",
        "colab_type": "code",
        "outputId": "429be511-5c53-4f5f-b025-d02b4b584c56",
        "colab": {
          "base_uri": "https://localhost:8080/",
          "height": 35
        }
      },
      "source": [
        "a*b"
      ],
      "execution_count": 0,
      "outputs": [
        {
          "output_type": "execute_result",
          "data": {
            "text/plain": [
              "array([  0,  11,  24,  39,  56,  75,  96, 119, 144, 171])"
            ]
          },
          "metadata": {
            "tags": []
          },
          "execution_count": 23
        }
      ]
    },
    {
      "cell_type": "markdown",
      "metadata": {
        "id": "lapESnB5s9kF",
        "colab_type": "text"
      },
      "source": [
        "... and so does division:"
      ]
    },
    {
      "cell_type": "code",
      "metadata": {
        "id": "2-xBAixYszSZ",
        "colab_type": "code",
        "outputId": "5f5bd78b-0bc0-4749-f246-78d4a51f8fb2",
        "colab": {
          "base_uri": "https://localhost:8080/",
          "height": 52
        }
      },
      "source": [
        "a/b"
      ],
      "execution_count": 0,
      "outputs": [
        {
          "output_type": "execute_result",
          "data": {
            "text/plain": [
              "array([0.        , 0.09090909, 0.16666667, 0.23076923, 0.28571429,\n",
              "       0.33333333, 0.375     , 0.41176471, 0.44444444, 0.47368421])"
            ]
          },
          "metadata": {
            "tags": []
          },
          "execution_count": 24
        }
      ]
    },
    {
      "cell_type": "markdown",
      "metadata": {
        "id": "7D2EWR3ktO2X",
        "colab_type": "text"
      },
      "source": [
        "Constrast this with lists:"
      ]
    },
    {
      "cell_type": "code",
      "metadata": {
        "id": "XpUt0CBxtDDG",
        "colab_type": "code",
        "outputId": "ced52894-a896-464b-e1f5-0663b702a04e",
        "colab": {
          "base_uri": "https://localhost:8080/",
          "height": 167
        }
      },
      "source": [
        "L*L"
      ],
      "execution_count": 0,
      "outputs": [
        {
          "output_type": "error",
          "ename": "TypeError",
          "evalue": "ignored",
          "traceback": [
            "\u001b[0;31m---------------------------------------------------------------------------\u001b[0m",
            "\u001b[0;31mTypeError\u001b[0m                                 Traceback (most recent call last)",
            "\u001b[0;32m<ipython-input-26-ebc56ab7be53>\u001b[0m in \u001b[0;36m<module>\u001b[0;34m()\u001b[0m\n\u001b[0;32m----> 1\u001b[0;31m \u001b[0mL\u001b[0m\u001b[0;34m*\u001b[0m\u001b[0mL\u001b[0m\u001b[0;34m\u001b[0m\u001b[0;34m\u001b[0m\u001b[0m\n\u001b[0m",
            "\u001b[0;31mTypeError\u001b[0m: can't multiply sequence by non-int of type 'list'"
          ]
        }
      ]
    },
    {
      "cell_type": "markdown",
      "metadata": {
        "id": "CZZ9JhKptVAv",
        "colab_type": "text"
      },
      "source": [
        "or"
      ]
    },
    {
      "cell_type": "code",
      "metadata": {
        "id": "b4sjQfXftStW",
        "colab_type": "code",
        "outputId": "e708eb8d-44bf-4bb2-be77-7c8995d69979",
        "colab": {
          "base_uri": "https://localhost:8080/",
          "height": 167
        }
      },
      "source": [
        "L/L"
      ],
      "execution_count": 0,
      "outputs": [
        {
          "output_type": "error",
          "ename": "TypeError",
          "evalue": "ignored",
          "traceback": [
            "\u001b[0;31m---------------------------------------------------------------------------\u001b[0m",
            "\u001b[0;31mTypeError\u001b[0m                                 Traceback (most recent call last)",
            "\u001b[0;32m<ipython-input-27-155075f65d14>\u001b[0m in \u001b[0;36m<module>\u001b[0;34m()\u001b[0m\n\u001b[0;32m----> 1\u001b[0;31m \u001b[0mL\u001b[0m\u001b[0;34m/\u001b[0m\u001b[0mL\u001b[0m\u001b[0;34m\u001b[0m\u001b[0;34m\u001b[0m\u001b[0m\n\u001b[0m",
            "\u001b[0;31mTypeError\u001b[0m: unsupported operand type(s) for /: 'list' and 'list'"
          ]
        }
      ]
    },
    {
      "cell_type": "markdown",
      "metadata": {
        "id": "WBxbbzqO7v-c",
        "colab_type": "text"
      },
      "source": [
        "Numpy array elements can be accessed through *slice notation*, in the same  as str or list objects:"
      ]
    },
    {
      "cell_type": "code",
      "metadata": {
        "id": "qCnxywzI8CQI",
        "colab_type": "code",
        "colab": {
          "base_uri": "https://localhost:8080/",
          "height": 35
        },
        "outputId": "e96e79a0-bf09-4443-cecc-159587406b45"
      },
      "source": [
        "a[3:7]"
      ],
      "execution_count": 14,
      "outputs": [
        {
          "output_type": "execute_result",
          "data": {
            "text/plain": [
              "array([3, 4, 5, 6])"
            ]
          },
          "metadata": {
            "tags": []
          },
          "execution_count": 14
        }
      ]
    },
    {
      "cell_type": "code",
      "metadata": {
        "id": "QgQKWhNn8Bhr",
        "colab_type": "code",
        "colab": {}
      },
      "source": [
        ""
      ],
      "execution_count": 0,
      "outputs": []
    },
    {
      "cell_type": "markdown",
      "metadata": {
        "id": "2FhAv2qwuT13",
        "colab_type": "text"
      },
      "source": [
        "#### Numpy arrays can be of different numerical types\n"
      ]
    },
    {
      "cell_type": "markdown",
      "metadata": {
        "id": "CoF0DzSpuaBD",
        "colab_type": "text"
      },
      "source": [
        "While Python has a default \"int\" and \"float\" data types, these are generally not welll suited for scientific computing, where we want a  lot more control about the precison, size and the way numbers are internally represented. Numpy provides a host of numerical types of varying precision and type. Let's list them:"
      ]
    },
    {
      "cell_type": "code",
      "metadata": {
        "id": "73If9oUUtYHW",
        "colab_type": "code",
        "outputId": "1c2dc361-816a-4640-a7d7-8fd7fd35ac38",
        "colab": {
          "base_uri": "https://localhost:8080/",
          "height": 105
        }
      },
      "source": [
        "np.sctypes"
      ],
      "execution_count": 0,
      "outputs": [
        {
          "output_type": "execute_result",
          "data": {
            "text/plain": [
              "{'complex': [numpy.complex64, numpy.complex128, numpy.complex256],\n",
              " 'float': [numpy.float16, numpy.float32, numpy.float64, numpy.float128],\n",
              " 'int': [numpy.int8, numpy.int16, numpy.int32, numpy.int64],\n",
              " 'others': [bool, object, bytes, str, numpy.void],\n",
              " 'uint': [numpy.uint8, numpy.uint16, numpy.uint32, numpy.uint64]}"
            ]
          },
          "metadata": {
            "tags": []
          },
          "execution_count": 46
        }
      ]
    },
    {
      "cell_type": "markdown",
      "metadata": {
        "id": "RqOEVBiAwods",
        "colab_type": "text"
      },
      "source": [
        "Numpy has differents types for \"int\", \"float\" or \"complex\", and a few others. For each type, the different versions have a number appended, meaning the number of bytes that each number uses for internal representation. The \"float\" data types, for istance:"
      ]
    },
    {
      "cell_type": "code",
      "metadata": {
        "id": "cdy76sk1u89S",
        "colab_type": "code",
        "outputId": "3b0f1230-f722-4035-dbb5-1777461e8fde",
        "colab": {
          "base_uri": "https://localhost:8080/",
          "height": 35
        }
      },
      "source": [
        "np.sctypes['float']"
      ],
      "execution_count": 0,
      "outputs": [
        {
          "output_type": "execute_result",
          "data": {
            "text/plain": [
              "[numpy.float16, numpy.float32, numpy.float64, numpy.float128]"
            ]
          },
          "metadata": {
            "tags": []
          },
          "execution_count": 47
        }
      ]
    },
    {
      "cell_type": "markdown",
      "metadata": {
        "id": "rW3cSL1JxZnp",
        "colab_type": "text"
      },
      "source": [
        "denote floating point nunbers with 16 bits (float16), 32 bits (float32), 64 bits (float64) and 128 bits (float128). Gnerally speaking, types with higher number of bits offer  increased precision at the cost of higher storage requirements and slower computation. "
      ]
    },
    {
      "cell_type": "markdown",
      "metadata": {
        "id": "nVKnwq1OyOrA",
        "colab_type": "text"
      },
      "source": [
        "If we are really not all that much worried with the size of our numbers, Numpy provides default options for \"float\" and \"int\". So for instance when we created our numpy array with"
      ]
    },
    {
      "cell_type": "code",
      "metadata": {
        "id": "Ff5awgUxwDXM",
        "colab_type": "code",
        "colab": {}
      },
      "source": [
        "a = np.arange(10)"
      ],
      "execution_count": 0,
      "outputs": []
    },
    {
      "cell_type": "markdown",
      "metadata": {
        "id": "0_XYa8MXykUx",
        "colab_type": "text"
      },
      "source": [
        "numpy assumed you wanted integers (because of the lake of a decimal poin in the range limit). Whe can chek it by using the method \"dtype\" of numpy array objects:"
      ]
    },
    {
      "cell_type": "code",
      "metadata": {
        "id": "kEznUPqkzgWb",
        "colab_type": "code",
        "outputId": "cc913c6f-a5af-4ff8-a2ef-20596fc822b8",
        "colab": {
          "base_uri": "https://localhost:8080/",
          "height": 35
        }
      },
      "source": [
        "a.dtype"
      ],
      "execution_count": 0,
      "outputs": [
        {
          "output_type": "execute_result",
          "data": {
            "text/plain": [
              "dtype('int64')"
            ]
          },
          "metadata": {
            "tags": []
          },
          "execution_count": 50
        }
      ]
    },
    {
      "cell_type": "markdown",
      "metadata": {
        "id": "SSQiYM0izx08",
        "colab_type": "text"
      },
      "source": [
        "This tells us that the dafult \"int\" type for numpy is \"int64\" (integers with an internal representation of 64 bits, or 8 bytes)"
      ]
    },
    {
      "cell_type": "markdown",
      "metadata": {
        "id": "iMVPXB800AJG",
        "colab_type": "text"
      },
      "source": [
        "If we had typed instead:"
      ]
    },
    {
      "cell_type": "code",
      "metadata": {
        "id": "X1njVeK6zlFI",
        "colab_type": "code",
        "outputId": "df6c99e5-c70c-4d46-b66e-ba653306a1c9",
        "colab": {
          "base_uri": "https://localhost:8080/",
          "height": 35
        }
      },
      "source": [
        "a = np.arange(10.0)\n",
        "a"
      ],
      "execution_count": 0,
      "outputs": [
        {
          "output_type": "execute_result",
          "data": {
            "text/plain": [
              "array([0., 1., 2., 3., 4., 5., 6., 7., 8., 9.])"
            ]
          },
          "metadata": {
            "tags": []
          },
          "execution_count": 53
        }
      ]
    },
    {
      "cell_type": "markdown",
      "metadata": {
        "id": "L2EVHisj8Ssh",
        "colab_type": "text"
      },
      "source": [
        "(Notice the decimal point after each number now, denoting *float* type)"
      ]
    },
    {
      "cell_type": "code",
      "metadata": {
        "id": "4uB9iJHf0HeU",
        "colab_type": "code",
        "outputId": "17086b46-1ffb-4c12-f904-d7465ff4e1c3",
        "colab": {
          "base_uri": "https://localhost:8080/",
          "height": 35
        }
      },
      "source": [
        "a.dtype"
      ],
      "execution_count": 0,
      "outputs": [
        {
          "output_type": "execute_result",
          "data": {
            "text/plain": [
              "dtype('float64')"
            ]
          },
          "metadata": {
            "tags": []
          },
          "execution_count": 52
        }
      ]
    },
    {
      "cell_type": "markdown",
      "metadata": {
        "id": "FsD-l4000ObR",
        "colab_type": "text"
      },
      "source": [
        "So the default numpy type is \"float64\", denoting floating point numbers internally represented in 64 bits (or 8 bytes). \n",
        "\n",
        "**Note:** The default size types for int and float in numpy are 64 bits because most machines nowadays use 64-bit CPUs where numbers are internally stored in 64 bits registers, so there is generally no computation penalty  for using numbers up to this size (GPU computation is a different story)."
      ]
    },
    {
      "cell_type": "markdown",
      "metadata": {
        "id": "ogvkPLaU1BZ6",
        "colab_type": "text"
      },
      "source": [
        "Whenever we want numpy to create arrays of a non-default data type, we can simply do "
      ]
    },
    {
      "cell_type": "code",
      "metadata": {
        "id": "hhwDTFyJ0KIC",
        "colab_type": "code",
        "outputId": "f27a3330-4d2e-4c36-b024-6bfd129f1a92",
        "colab": {
          "base_uri": "https://localhost:8080/",
          "height": 35
        }
      },
      "source": [
        "a = np.arange(10, dtype=np.float32)\n",
        "a"
      ],
      "execution_count": 15,
      "outputs": [
        {
          "output_type": "execute_result",
          "data": {
            "text/plain": [
              "array([0., 1., 2., 3., 4., 5., 6., 7., 8., 9.], dtype=float32)"
            ]
          },
          "metadata": {
            "tags": []
          },
          "execution_count": 15
        }
      ]
    },
    {
      "cell_type": "code",
      "metadata": {
        "id": "e-HxbkoY1L_c",
        "colab_type": "code",
        "outputId": "6ad272d3-b713-4f14-d935-6f706bfa99cc",
        "colab": {
          "base_uri": "https://localhost:8080/",
          "height": 35
        }
      },
      "source": [
        "a.dtype"
      ],
      "execution_count": 16,
      "outputs": [
        {
          "output_type": "execute_result",
          "data": {
            "text/plain": [
              "dtype('float32')"
            ]
          },
          "metadata": {
            "tags": []
          },
          "execution_count": 16
        }
      ]
    },
    {
      "cell_type": "markdown",
      "metadata": {
        "id": "nLm7FPpk1XZ1",
        "colab_type": "text"
      },
      "source": [
        "(notice how we need to prepend the data type \"float32\" with \"np\" or Python will not recognize it).\n",
        "<br><br>\n",
        "Another useful of method numpy objects is \"shape\":"
      ]
    },
    {
      "cell_type": "code",
      "metadata": {
        "id": "5A5mOryk1R20",
        "colab_type": "code",
        "outputId": "5e442c75-2167-48a0-db89-158504f1639e",
        "colab": {
          "base_uri": "https://localhost:8080/",
          "height": 35
        }
      },
      "source": [
        "a.shape"
      ],
      "execution_count": 0,
      "outputs": [
        {
          "output_type": "execute_result",
          "data": {
            "text/plain": [
              "(10,)"
            ]
          },
          "metadata": {
            "tags": []
          },
          "execution_count": 58
        }
      ]
    },
    {
      "cell_type": "markdown",
      "metadata": {
        "id": "vNMkkk3d1pLv",
        "colab_type": "text"
      },
      "source": [
        "The \"(10,)\" tuple indicates this is an array with only one dimension of size 10."
      ]
    },
    {
      "cell_type": "markdown",
      "metadata": {
        "id": "x6j4ltIz4h49",
        "colab_type": "text"
      },
      "source": [
        "#### Different ways to initialize a numpy array"
      ]
    },
    {
      "cell_type": "markdown",
      "metadata": {
        "id": "HuU4CKWD4sPD",
        "colab_type": "text"
      },
      "source": [
        "Numpy arrays can be initalized in different ways. So far we made accquaintance  with the `np.array` and `np.arange`methods.\n",
        "<br><br>\n",
        "The general form of the `np.arange` command is:\n",
        "\n",
        "```python\n",
        "a = np.arange(min_value, max_value, step)\n",
        "```\n",
        "where \"min\", \"max\" and \"step\" can be a \"int\" of \"float\" type.  For instance:"
      ]
    },
    {
      "cell_type": "code",
      "metadata": {
        "id": "KKsU8fOB1m0l",
        "colab_type": "code",
        "outputId": "2a942597-2b3b-4d97-e049-97a6ae89aae6",
        "colab": {
          "base_uri": "https://localhost:8080/",
          "height": 87
        }
      },
      "source": [
        "np.arange(1,5,0.1)"
      ],
      "execution_count": 0,
      "outputs": [
        {
          "output_type": "execute_result",
          "data": {
            "text/plain": [
              "array([1. , 1.1, 1.2, 1.3, 1.4, 1.5, 1.6, 1.7, 1.8, 1.9, 2. , 2.1, 2.2,\n",
              "       2.3, 2.4, 2.5, 2.6, 2.7, 2.8, 2.9, 3. , 3.1, 3.2, 3.3, 3.4, 3.5,\n",
              "       3.6, 3.7, 3.8, 3.9, 4. , 4.1, 4.2, 4.3, 4.4, 4.5, 4.6, 4.7, 4.8,\n",
              "       4.9])"
            ]
          },
          "metadata": {
            "tags": []
          },
          "execution_count": 59
        }
      ]
    },
    {
      "cell_type": "markdown",
      "metadata": {
        "id": "X2O_pJNl5ogd",
        "colab_type": "text"
      },
      "source": [
        "When creating a numpy array in this way, it is not immediately obvious how many elements it will contain - it depends on min, max and step. If you need to split the the `[min_value, max_value]` interval in an exact number of  elements, then `np.linspace` is your friend:"
      ]
    },
    {
      "cell_type": "code",
      "metadata": {
        "id": "tOgfANdS10xt",
        "colab_type": "code",
        "outputId": "dcfb9267-db98-4116-d825-8328374553ea",
        "colab": {
          "base_uri": "https://localhost:8080/",
          "height": 88
        }
      },
      "source": [
        "a = np.linspace(1,5,20)\n",
        "a"
      ],
      "execution_count": 17,
      "outputs": [
        {
          "output_type": "execute_result",
          "data": {
            "text/plain": [
              "array([1.        , 1.21052632, 1.42105263, 1.63157895, 1.84210526,\n",
              "       2.05263158, 2.26315789, 2.47368421, 2.68421053, 2.89473684,\n",
              "       3.10526316, 3.31578947, 3.52631579, 3.73684211, 3.94736842,\n",
              "       4.15789474, 4.36842105, 4.57894737, 4.78947368, 5.        ])"
            ]
          },
          "metadata": {
            "tags": []
          },
          "execution_count": 17
        }
      ]
    },
    {
      "cell_type": "markdown",
      "metadata": {
        "id": "mdZUKszp-OxF",
        "colab_type": "text"
      },
      "source": [
        "Let's check the number of elements in a:"
      ]
    },
    {
      "cell_type": "code",
      "metadata": {
        "id": "xEefjbmw-S5a",
        "colab_type": "code",
        "colab": {
          "base_uri": "https://localhost:8080/",
          "height": 35
        },
        "outputId": "44c096a5-3491-443c-8ec5-fd8f32822a13"
      },
      "source": [
        "a.shape"
      ],
      "execution_count": 18,
      "outputs": [
        {
          "output_type": "execute_result",
          "data": {
            "text/plain": [
              "(20,)"
            ]
          },
          "metadata": {
            "tags": []
          },
          "execution_count": 18
        }
      ]
    },
    {
      "cell_type": "markdown",
      "metadata": {
        "id": "XYquyL315-3c",
        "colab_type": "text"
      },
      "source": [
        "The array thus created is sure to have the number of elements specified in the third argument to the \"linspace\" call. "
      ]
    },
    {
      "cell_type": "markdown",
      "metadata": {
        "id": "fORJw4rc6OBW",
        "colab_type": "text"
      },
      "source": [
        "There many situations where we simply want to initialize an array with a given number of elements and are not particularly worried about the *intial* contents of said array.  We may be happy to fill it with zeros:"
      ]
    },
    {
      "cell_type": "code",
      "metadata": {
        "id": "WLrRxiVe59Pl",
        "colab_type": "code",
        "outputId": "b1d56436-016b-416c-c3a4-2ee8e6d50232",
        "colab": {
          "base_uri": "https://localhost:8080/",
          "height": 35
        }
      },
      "source": [
        "np.zeros(10)"
      ],
      "execution_count": 0,
      "outputs": [
        {
          "output_type": "execute_result",
          "data": {
            "text/plain": [
              "array([0., 0., 0., 0., 0., 0., 0., 0., 0., 0.])"
            ]
          },
          "metadata": {
            "tags": []
          },
          "execution_count": 61
        }
      ]
    },
    {
      "cell_type": "markdown",
      "metadata": {
        "id": "Qv5GRKqy6jTL",
        "colab_type": "text"
      },
      "source": [
        "Or with ones:"
      ]
    },
    {
      "cell_type": "code",
      "metadata": {
        "id": "MkdLNmPi6gn7",
        "colab_type": "code",
        "outputId": "d67e3f82-7700-49ff-f1c3-4594ead1f105",
        "colab": {
          "base_uri": "https://localhost:8080/",
          "height": 35
        }
      },
      "source": [
        "np.ones(10)"
      ],
      "execution_count": 0,
      "outputs": [
        {
          "output_type": "execute_result",
          "data": {
            "text/plain": [
              "array([1., 1., 1., 1., 1., 1., 1., 1., 1., 1.])"
            ]
          },
          "metadata": {
            "tags": []
          },
          "execution_count": 63
        }
      ]
    },
    {
      "cell_type": "markdown",
      "metadata": {
        "id": "jwiU1ZDV858u",
        "colab_type": "text"
      },
      "source": [
        "You calso initialize your array with constante value other than zero or one using \"np.full\" :"
      ]
    },
    {
      "cell_type": "code",
      "metadata": {
        "id": "M8aTG5Cv6lvQ",
        "colab_type": "code",
        "outputId": "f267ab88-b829-49f9-c9eb-2aff9c7ce3b8",
        "colab": {
          "base_uri": "https://localhost:8080/",
          "height": 35
        }
      },
      "source": [
        "np.full(10,42)"
      ],
      "execution_count": 0,
      "outputs": [
        {
          "output_type": "execute_result",
          "data": {
            "text/plain": [
              "array([42, 42, 42, 42, 42, 42, 42, 42, 42, 42])"
            ]
          },
          "metadata": {
            "tags": []
          },
          "execution_count": 76
        }
      ]
    },
    {
      "cell_type": "markdown",
      "metadata": {
        "id": "bxZ0o4Tx9OhG",
        "colab_type": "text"
      },
      "source": [
        "You can even use \"np.empty\" to just allocate space for the array, without initializing it in any way. Note, however, that in this case the array elements will be initialized with whatever random bytes happend to be at the memory location that Python decides to use for your array - you cannot assume anything  about these initial values!"
      ]
    },
    {
      "cell_type": "code",
      "metadata": {
        "id": "_Y94b_gK61Wg",
        "colab_type": "code",
        "outputId": "b2092f98-41a4-44f8-ac53-d013fe986fd2",
        "colab": {
          "base_uri": "https://localhost:8080/",
          "height": 52
        }
      },
      "source": [
        "np.empty(5)"
      ],
      "execution_count": 0,
      "outputs": [
        {
          "output_type": "execute_result",
          "data": {
            "text/plain": [
              "array([7.74860419e-304, 7.74860419e-304, 7.74860419e-304, 7.74860419e-304,\n",
              "       7.74860419e-304])"
            ]
          },
          "metadata": {
            "tags": []
          },
          "execution_count": 77
        }
      ]
    },
    {
      "cell_type": "markdown",
      "metadata": {
        "id": "NFs_PDxUHULO",
        "colab_type": "text"
      },
      "source": [
        "Numpy arrays can also be initialized from lists using the \"np.array\" command:"
      ]
    },
    {
      "cell_type": "code",
      "metadata": {
        "id": "fp3u7KS_HbYK",
        "colab_type": "code",
        "colab": {}
      },
      "source": [
        "a = np.array([0,1,2,3,4],dtype=np.float64)"
      ],
      "execution_count": 0,
      "outputs": []
    },
    {
      "cell_type": "code",
      "metadata": {
        "id": "iQtcpsvTHk5h",
        "colab_type": "code",
        "outputId": "f4ae6a77-9e5d-4798-d831-476075c34c1a",
        "colab": {
          "base_uri": "https://localhost:8080/",
          "height": 35
        }
      },
      "source": [
        "a"
      ],
      "execution_count": 0,
      "outputs": [
        {
          "output_type": "execute_result",
          "data": {
            "text/plain": [
              "array([0., 1., 2., 3., 4.])"
            ]
          },
          "metadata": {
            "tags": []
          },
          "execution_count": 44
        }
      ]
    },
    {
      "cell_type": "markdown",
      "metadata": {
        "id": "GhsnBwu1-MIg",
        "colab_type": "text"
      },
      "source": [
        "#### Numpy arrays of higher dimensions"
      ]
    },
    {
      "cell_type": "markdown",
      "metadata": {
        "id": "hZpvJtBX_PUx",
        "colab_type": "text"
      },
      "source": [
        "We've started out by saing that the numpy package expands Python with new data objects for multi-dimensional arrays, but so far we have only seen  arrays in one dimension. Actually, most of the commands we have listed for numpy array creation can be used for creating 2D, 3D, or ND arrays.  "
      ]
    },
    {
      "cell_type": "markdown",
      "metadata": {
        "id": "ofdyurFzIp77",
        "colab_type": "text"
      },
      "source": [
        "Let's make a 5x10 2D array of zeros:"
      ]
    },
    {
      "cell_type": "code",
      "metadata": {
        "id": "NEjO1-uE9rlu",
        "colab_type": "code",
        "colab": {}
      },
      "source": [
        "a =np.zeros((5,10))"
      ],
      "execution_count": 0,
      "outputs": []
    },
    {
      "cell_type": "markdown",
      "metadata": {
        "id": "Smau-BlHJO70",
        "colab_type": "text"
      },
      "source": [
        "The tuple (5,10) is passed as argument to the np.zeros function to specify the desired *shape* of the array"
      ]
    },
    {
      "cell_type": "code",
      "metadata": {
        "id": "leB8tOVFI3Ol",
        "colab_type": "code",
        "outputId": "cea387d5-a30e-4c2f-c820-40705961c919",
        "colab": {
          "base_uri": "https://localhost:8080/",
          "height": 35
        }
      },
      "source": [
        "a.shape"
      ],
      "execution_count": 0,
      "outputs": [
        {
          "output_type": "execute_result",
          "data": {
            "text/plain": [
              "(5, 10)"
            ]
          },
          "metadata": {
            "tags": []
          },
          "execution_count": 57
        }
      ]
    },
    {
      "cell_type": "code",
      "metadata": {
        "id": "5xbT6C9uJfdU",
        "colab_type": "code",
        "outputId": "3948bd08-661b-4c5b-9f83-2288cdc578ac",
        "colab": {
          "base_uri": "https://localhost:8080/",
          "height": 105
        }
      },
      "source": [
        "a"
      ],
      "execution_count": 0,
      "outputs": [
        {
          "output_type": "execute_result",
          "data": {
            "text/plain": [
              "array([[0., 0., 0., 0., 0., 0., 0., 0., 0., 0.],\n",
              "       [0., 0., 0., 0., 0., 0., 0., 0., 0., 0.],\n",
              "       [0., 0., 0., 0., 0., 0., 0., 0., 0., 0.],\n",
              "       [0., 0., 0., 0., 0., 0., 0., 0., 0., 0.],\n",
              "       [0., 0., 0., 0., 0., 0., 0., 0., 0., 0.]])"
            ]
          },
          "metadata": {
            "tags": []
          },
          "execution_count": 58
        }
      ]
    },
    {
      "cell_type": "markdown",
      "metadata": {
        "id": "QCh2zcE-JjwR",
        "colab_type": "text"
      },
      "source": [
        ""
      ]
    },
    {
      "cell_type": "markdown",
      "metadata": {
        "id": "97hVt-9jIFhm",
        "colab_type": "text"
      },
      "source": [
        "To refer to  the element on row \"i\" and column \"j\" you would do:"
      ]
    },
    {
      "cell_type": "code",
      "metadata": {
        "id": "XJSpVkBkIa9t",
        "colab_type": "code",
        "colab": {}
      },
      "source": [
        "i = 2 \n",
        "j = 3\n",
        "a[i,j] = 999"
      ],
      "execution_count": 0,
      "outputs": []
    },
    {
      "cell_type": "markdown",
      "metadata": {
        "id": "LE1nDm6mKFsq",
        "colab_type": "text"
      },
      "source": [
        "**NOTE**: Seeing how a 2D array can be created with lists of a lists, it could have been reasonable to assume that referenece to an element i, j would be done  with \n",
        "\n",
        "\n",
        "```\n",
        "a[i][j]\n",
        "```\n",
        "While this does indeed work as a way of accessing single elements of N-dimensional np arrays, it prevents the ue of the very powerful numpy *slice notation*. "
      ]
    },
    {
      "cell_type": "markdown",
      "metadata": {
        "id": "OgQqKoCYNpdY",
        "colab_type": "text"
      },
      "source": [
        "Let's create a 2D array in a different way, using the \"reshape\" method of 2D arrays:"
      ]
    },
    {
      "cell_type": "code",
      "metadata": {
        "id": "wXnaYOqdJgXL",
        "colab_type": "code",
        "outputId": "8a2c5a4b-24be-4ead-cab8-42e2897d09b2",
        "colab": {
          "base_uri": "https://localhost:8080/",
          "height": 105
        }
      },
      "source": [
        "a = np.arange(25).reshape(5,5)\n",
        "a"
      ],
      "execution_count": 0,
      "outputs": [
        {
          "output_type": "execute_result",
          "data": {
            "text/plain": [
              "array([[ 0,  1,  2,  3,  4],\n",
              "       [ 5,  6,  7,  8,  9],\n",
              "       [10, 11, 12, 13, 14],\n",
              "       [15, 16, 17, 18, 19],\n",
              "       [20, 21, 22, 23, 24]])"
            ]
          },
          "metadata": {
            "tags": []
          },
          "execution_count": 85
        }
      ]
    },
    {
      "cell_type": "markdown",
      "metadata": {
        "id": "zQjJ_nGmOFXC",
        "colab_type": "text"
      },
      "source": [
        "Can you understand how this array was created ?\n",
        "\n",
        "\n",
        "1.   A 1D array of lenght 25 was created\n",
        "2.   The 1D array was *reshaped* to a 5 by 5 2D array\n",
        "\n",
        "The methods \"arange\" and \"reshape\" were *chained* in a single command. We could have done this in parts:\n"
      ]
    },
    {
      "cell_type": "code",
      "metadata": {
        "id": "n30htFrJJBUn",
        "colab_type": "code",
        "outputId": "1991038c-e3b3-426e-ae47-5354ebf290c0",
        "colab": {
          "base_uri": "https://localhost:8080/",
          "height": 105
        }
      },
      "source": [
        "a = np.arange(25)\n",
        "a = a.reshape(5,5)\n",
        "a"
      ],
      "execution_count": 0,
      "outputs": [
        {
          "output_type": "execute_result",
          "data": {
            "text/plain": [
              "array([[ 0,  1,  2,  3,  4],\n",
              "       [ 5,  6,  7,  8,  9],\n",
              "       [10, 11, 12, 13, 14],\n",
              "       [15, 16, 17, 18, 19],\n",
              "       [20, 21, 22, 23, 24]])"
            ]
          },
          "metadata": {
            "tags": []
          },
          "execution_count": 23
        }
      ]
    },
    {
      "cell_type": "markdown",
      "metadata": {
        "id": "LnaZQTwHO7Ba",
        "colab_type": "text"
      },
      "source": [
        "The first form may be less readable at first, but witth a little experience it becomes a really nice and  compact way to encapsulate complex operations. \n",
        "\n",
        "We can check the array shape:"
      ]
    },
    {
      "cell_type": "code",
      "metadata": {
        "id": "ZetSKuiOO3zo",
        "colab_type": "code",
        "outputId": "b6882a33-c810-475c-8197-98f5e142ab7a",
        "colab": {
          "base_uri": "https://localhost:8080/",
          "height": 35
        }
      },
      "source": [
        "a.shape"
      ],
      "execution_count": 0,
      "outputs": [
        {
          "output_type": "execute_result",
          "data": {
            "text/plain": [
              "(5, 5)"
            ]
          },
          "metadata": {
            "tags": []
          },
          "execution_count": 24
        }
      ]
    },
    {
      "cell_type": "markdown",
      "metadata": {
        "id": "UzjP4bCkTrmo",
        "colab_type": "text"
      },
      "source": [
        "To access a given element of the array:"
      ]
    },
    {
      "cell_type": "code",
      "metadata": {
        "id": "6y99402mTyOD",
        "colab_type": "code",
        "outputId": "d4ffe2a1-d0e2-405c-cd68-3a3502a5d3b5",
        "colab": {
          "base_uri": "https://localhost:8080/",
          "height": 35
        }
      },
      "source": [
        "a[3,3]"
      ],
      "execution_count": 0,
      "outputs": [
        {
          "output_type": "execute_result",
          "data": {
            "text/plain": [
              "18"
            ]
          },
          "metadata": {
            "tags": []
          },
          "execution_count": 25
        }
      ]
    },
    {
      "cell_type": "markdown",
      "metadata": {
        "id": "XQ6swKtoT7s1",
        "colab_type": "text"
      },
      "source": [
        "A range of elements can be accessed with the slice notation:"
      ]
    },
    {
      "cell_type": "code",
      "metadata": {
        "id": "GZNx9dYpUAZF",
        "colab_type": "code",
        "outputId": "1dcdff26-134f-4b0a-b5a4-24f3c6ce6894",
        "colab": {
          "base_uri": "https://localhost:8080/",
          "height": 70
        }
      },
      "source": [
        "a[2:5,1:4]"
      ],
      "execution_count": 0,
      "outputs": [
        {
          "output_type": "execute_result",
          "data": {
            "text/plain": [
              "array([[11, 12, 13],\n",
              "       [16, 17, 18],\n",
              "       [21, 22, 23]])"
            ]
          },
          "metadata": {
            "tags": []
          },
          "execution_count": 27
        }
      ]
    },
    {
      "cell_type": "markdown",
      "metadata": {
        "id": "Re4spyn5UIeO",
        "colab_type": "text"
      },
      "source": [
        "The first index always referrs to rows, and the second to columns, so using only one index return the entire row:"
      ]
    },
    {
      "cell_type": "code",
      "metadata": {
        "id": "zS-kecmyUbC1",
        "colab_type": "code",
        "outputId": "e94edec5-c788-46b5-d7bb-d8b6f47c1b38",
        "colab": {
          "base_uri": "https://localhost:8080/",
          "height": 35
        }
      },
      "source": [
        "a[1]"
      ],
      "execution_count": 0,
      "outputs": [
        {
          "output_type": "execute_result",
          "data": {
            "text/plain": [
              "array([5, 6, 7, 8, 9])"
            ]
          },
          "metadata": {
            "tags": []
          },
          "execution_count": 29
        }
      ]
    },
    {
      "cell_type": "markdown",
      "metadata": {
        "id": "4rsxnHASUo0Q",
        "colab_type": "text"
      },
      "source": [
        "To refer to a single column, the folloing notation is used:"
      ]
    },
    {
      "cell_type": "code",
      "metadata": {
        "id": "_Y8rUQz0U0aP",
        "colab_type": "code",
        "outputId": "f5c26706-a57f-4a06-f0ca-8d81ae75207f",
        "colab": {
          "base_uri": "https://localhost:8080/",
          "height": 35
        }
      },
      "source": [
        "a[:,1]"
      ],
      "execution_count": 0,
      "outputs": [
        {
          "output_type": "execute_result",
          "data": {
            "text/plain": [
              "array([ 1,  6, 11, 16, 21])"
            ]
          },
          "metadata": {
            "tags": []
          },
          "execution_count": 30
        }
      ]
    },
    {
      "cell_type": "markdown",
      "metadata": {
        "id": "gA_ozXUdU6yM",
        "colab_type": "text"
      },
      "source": [
        "(the \":\" for the row index means all row values will used, produced the entire column)"
      ]
    },
    {
      "cell_type": "markdown",
      "metadata": {
        "id": "K1k_7qm3VRLW",
        "colab_type": "text"
      },
      "source": [
        "**HANDS-ON:** Figure what the correct slicing to apply to array \"a\" in order to produce this result:\n",
        "\n",
        "\n",
        "\n",
        "```Python\n",
        "array([[ 7,  8,  9],\n",
        "       [12, 13, 14],\n",
        "       [17, 18, 19]])\n",
        "```\n",
        "\n"
      ]
    },
    {
      "cell_type": "code",
      "metadata": {
        "id": "cAy8UD1tVkm0",
        "colab_type": "code",
        "cellView": "form",
        "colab": {}
      },
      "source": [
        "#@title SOLUTION\n",
        "a[1:4,2:5]"
      ],
      "execution_count": 0,
      "outputs": []
    },
    {
      "cell_type": "markdown",
      "metadata": {
        "id": "7K3JornUTQLJ",
        "colab_type": "text"
      },
      "source": [
        "Higher-dimensional arrays can be created in the same way:"
      ]
    },
    {
      "cell_type": "code",
      "metadata": {
        "id": "5QE6z80kTPHP",
        "colab_type": "code",
        "outputId": "1cc620ad-1dd0-41b4-f9d4-8eacdc3ca806",
        "colab": {
          "base_uri": "https://localhost:8080/",
          "height": 528
        }
      },
      "source": [
        "b = np.arange(125).reshape(5,5,5)\n",
        "b"
      ],
      "execution_count": 0,
      "outputs": [
        {
          "output_type": "execute_result",
          "data": {
            "text/plain": [
              "array([[[  0,   1,   2,   3,   4],\n",
              "        [  5,   6,   7,   8,   9],\n",
              "        [ 10,  11,  12,  13,  14],\n",
              "        [ 15,  16,  17,  18,  19],\n",
              "        [ 20,  21,  22,  23,  24]],\n",
              "\n",
              "       [[ 25,  26,  27,  28,  29],\n",
              "        [ 30,  31,  32,  33,  34],\n",
              "        [ 35,  36,  37,  38,  39],\n",
              "        [ 40,  41,  42,  43,  44],\n",
              "        [ 45,  46,  47,  48,  49]],\n",
              "\n",
              "       [[ 50,  51,  52,  53,  54],\n",
              "        [ 55,  56,  57,  58,  59],\n",
              "        [ 60,  61,  62,  63,  64],\n",
              "        [ 65,  66,  67,  68,  69],\n",
              "        [ 70,  71,  72,  73,  74]],\n",
              "\n",
              "       [[ 75,  76,  77,  78,  79],\n",
              "        [ 80,  81,  82,  83,  84],\n",
              "        [ 85,  86,  87,  88,  89],\n",
              "        [ 90,  91,  92,  93,  94],\n",
              "        [ 95,  96,  97,  98,  99]],\n",
              "\n",
              "       [[100, 101, 102, 103, 104],\n",
              "        [105, 106, 107, 108, 109],\n",
              "        [110, 111, 112, 113, 114],\n",
              "        [115, 116, 117, 118, 119],\n",
              "        [120, 121, 122, 123, 124]]])"
            ]
          },
          "metadata": {
            "tags": []
          },
          "execution_count": 35
        }
      ]
    },
    {
      "cell_type": "markdown",
      "metadata": {
        "id": "50smO4qVXB-C",
        "colab_type": "text"
      },
      "source": [
        "We can imagine a 3D array as a cube of numbers, where is value of the first index points to a 2D-array \"slice\" of the cube:"
      ]
    },
    {
      "cell_type": "code",
      "metadata": {
        "id": "lQq_PZKSXPLS",
        "colab_type": "code",
        "outputId": "136c66ea-132a-4280-a56a-b11e62da561c",
        "colab": {
          "base_uri": "https://localhost:8080/",
          "height": 105
        }
      },
      "source": [
        "b[2]"
      ],
      "execution_count": 0,
      "outputs": [
        {
          "output_type": "execute_result",
          "data": {
            "text/plain": [
              "array([[50, 51, 52, 53, 54],\n",
              "       [55, 56, 57, 58, 59],\n",
              "       [60, 61, 62, 63, 64],\n",
              "       [65, 66, 67, 68, 69],\n",
              "       [70, 71, 72, 73, 74]])"
            ]
          },
          "metadata": {
            "tags": []
          },
          "execution_count": 36
        }
      ]
    },
    {
      "cell_type": "markdown",
      "metadata": {
        "id": "ZNbf-M8RXskt",
        "colab_type": "text"
      },
      "source": [
        "#### Vector operations on arrays\n",
        "\n",
        "One of the most powerful things about numpy arrays is how operations can be done on them on a vectorial (elementwise) manner. Not only does this produce much more compact and elegant code, but also frequently results in major code speedups, as the vectorized operations are done by very fast pre-compiled C functions. Generally, if $X = [X_1,X_2,...,X_n]$ is a numpy array and $f()$ a *universal function* (ufunc), the operation:\n",
        "\n",
        "$$ A = f(X) $$\n",
        "\n",
        "will return an array whose are values $A = [f(X_1),f(X_2),...,f(X_n)]$. The numpy library has many universal functions, ranging from simply arithmetic to transcendant functions like cos, sin, tan, log...  Essentially, this means that in many instances we do not need  to *explicitly* iterate over the elements of an array (for istance with a \"for\" loop) to produce the desired result. In fact, \"for\" loops will be pratically non-existent in proeficient numpy code! "
      ]
    },
    {
      "cell_type": "markdown",
      "metadata": {
        "id": "2n5T0CJjcpw6",
        "colab_type": "text"
      },
      "source": [
        "Let's start out with a simple example:"
      ]
    },
    {
      "cell_type": "code",
      "metadata": {
        "id": "SJk2ITHHZTl2",
        "colab_type": "code",
        "outputId": "9bff2a54-6b6b-4ffd-b04d-0d6d15144a5a",
        "colab": {
          "base_uri": "https://localhost:8080/",
          "height": 105
        }
      },
      "source": [
        "x = np.arange(0,2*np.pi,0.1)\n",
        "x"
      ],
      "execution_count": 0,
      "outputs": [
        {
          "output_type": "execute_result",
          "data": {
            "text/plain": [
              "array([0. , 0.1, 0.2, 0.3, 0.4, 0.5, 0.6, 0.7, 0.8, 0.9, 1. , 1.1, 1.2,\n",
              "       1.3, 1.4, 1.5, 1.6, 1.7, 1.8, 1.9, 2. , 2.1, 2.2, 2.3, 2.4, 2.5,\n",
              "       2.6, 2.7, 2.8, 2.9, 3. , 3.1, 3.2, 3.3, 3.4, 3.5, 3.6, 3.7, 3.8,\n",
              "       3.9, 4. , 4.1, 4.2, 4.3, 4.4, 4.5, 4.6, 4.7, 4.8, 4.9, 5. , 5.1,\n",
              "       5.2, 5.3, 5.4, 5.5, 5.6, 5.7, 5.8, 5.9, 6. , 6.1, 6.2])"
            ]
          },
          "metadata": {
            "tags": []
          },
          "execution_count": 37
        }
      ]
    },
    {
      "cell_type": "markdown",
      "metadata": {
        "id": "zWniO601c38S",
        "colab_type": "text"
      },
      "source": [
        "As you may have guessed, \"np.pi\" is the number $\\pi$ . The array \"x\" is loaded with floating point numbers ranging from $0$ to $2\\pi$. Now lets apply the ufunc \"np.sin\" to the array x:"
      ]
    },
    {
      "cell_type": "code",
      "metadata": {
        "id": "rd3clGZqdwQM",
        "colab_type": "code",
        "outputId": "2a571cf5-985c-4830-c679-aedc4aad50ea",
        "colab": {
          "base_uri": "https://localhost:8080/",
          "height": 247
        }
      },
      "source": [
        "y = np.sin(x)\n",
        "y"
      ],
      "execution_count": 0,
      "outputs": [
        {
          "output_type": "execute_result",
          "data": {
            "text/plain": [
              "array([ 0.        ,  0.09983342,  0.19866933,  0.29552021,  0.38941834,\n",
              "        0.47942554,  0.56464247,  0.64421769,  0.71735609,  0.78332691,\n",
              "        0.84147098,  0.89120736,  0.93203909,  0.96355819,  0.98544973,\n",
              "        0.99749499,  0.9995736 ,  0.99166481,  0.97384763,  0.94630009,\n",
              "        0.90929743,  0.86320937,  0.8084964 ,  0.74570521,  0.67546318,\n",
              "        0.59847214,  0.51550137,  0.42737988,  0.33498815,  0.23924933,\n",
              "        0.14112001,  0.04158066, -0.05837414, -0.15774569, -0.2555411 ,\n",
              "       -0.35078323, -0.44252044, -0.52983614, -0.61185789, -0.68776616,\n",
              "       -0.7568025 , -0.81827711, -0.87157577, -0.91616594, -0.95160207,\n",
              "       -0.97753012, -0.993691  , -0.99992326, -0.99616461, -0.98245261,\n",
              "       -0.95892427, -0.92581468, -0.88345466, -0.83226744, -0.77276449,\n",
              "       -0.70554033, -0.63126664, -0.55068554, -0.46460218, -0.37387666,\n",
              "       -0.2794155 , -0.1821625 , -0.0830894 ])"
            ]
          },
          "metadata": {
            "tags": []
          },
          "execution_count": 38
        }
      ]
    },
    {
      "cell_type": "markdown",
      "metadata": {
        "id": "YGJua5QDd1DI",
        "colab_type": "text"
      },
      "source": [
        "y is a new array containing the sine of every element in the x array!\n",
        "\n",
        "To convinces us that this is so, let's plot y against x using Matplotlib:"
      ]
    },
    {
      "cell_type": "code",
      "metadata": {
        "id": "jBnEbwZ9eRJX",
        "colab_type": "code",
        "outputId": "c1cfb2a4-3885-4f66-b1e5-351d426064d9",
        "colab": {
          "base_uri": "https://localhost:8080/",
          "height": 287
        }
      },
      "source": [
        "import matplotlib.pyplot as plt\n",
        "plt.plot(x,y,'ko-')"
      ],
      "execution_count": 0,
      "outputs": [
        {
          "output_type": "execute_result",
          "data": {
            "text/plain": [
              "[<matplotlib.lines.Line2D at 0x7f8b8f1206a0>]"
            ]
          },
          "metadata": {
            "tags": []
          },
          "execution_count": 39
        },
        {
          "output_type": "display_data",
          "data": {
            "image/png": "[encoded data removed]",
            "text/plain": [
              "<Figure size 432x288 with 1 Axes>"
            ]
          },
          "metadata": {
            "tags": []
          }
        }
      ]
    },
    {
      "cell_type": "markdown",
      "metadata": {
        "id": "8-ZpUVXbeyqW",
        "colab_type": "text"
      },
      "source": [
        "**HANDS-ON:** If `z = np.cos(x)`, what do you think will be the return result of the following expression:\n",
        "\n",
        "```\n",
        "y*y+z*z\n",
        "```\n",
        "(don't just run it, try to guess the result first!)"
      ]
    },
    {
      "cell_type": "code",
      "metadata": {
        "id": "sDm9gjKpelIU",
        "colab_type": "code",
        "cellView": "form",
        "colab": {}
      },
      "source": [
        "#@title SOLUTION\n",
        "z = np.cos(x)\n",
        "y*y+z*z"
      ],
      "execution_count": 0,
      "outputs": []
    },
    {
      "cell_type": "markdown",
      "metadata": {
        "id": "gvxwWsn4UjKn",
        "colab_type": "text"
      },
      "source": [
        "Another example, generating a polynomial function from argument x :"
      ]
    },
    {
      "cell_type": "code",
      "metadata": {
        "id": "UcGqpPVPpKIn",
        "colab_type": "code",
        "colab": {}
      },
      "source": [
        "a = 2\n",
        "b = 3\n",
        "c = -1\n",
        "y = a * x**2 + b * x + c"
      ],
      "execution_count": 0,
      "outputs": []
    },
    {
      "cell_type": "code",
      "metadata": {
        "id": "3qtq8xQspSeI",
        "colab_type": "code",
        "outputId": "de77faae-e727-4ddb-c7d7-aa4d02805e81",
        "colab": {
          "base_uri": "https://localhost:8080/",
          "height": 287
        }
      },
      "source": [
        "plt.plot(x,y,'ko-')"
      ],
      "execution_count": 0,
      "outputs": [
        {
          "output_type": "execute_result",
          "data": {
            "text/plain": [
              "[<matplotlib.lines.Line2D at 0x7f8b8c806be0>]"
            ]
          },
          "metadata": {
            "tags": []
          },
          "execution_count": 64
        },
        {
          "output_type": "display_data",
          "data": {
            "image/png": "[encoded data removed]",
            "text/plain": [
              "<Figure size 432x288 with 1 Axes>"
            ]
          },
          "metadata": {
            "tags": []
          }
        }
      ]
    },
    {
      "cell_type": "markdown",
      "metadata": {
        "id": "wWEMTf8fjnit",
        "colab_type": "text"
      },
      "source": [
        "Besides vectorized functions, all numpy objects support a number of *methods* that can be used to operate on their elements in various ways. Combining these methods with the vector ufuncs makes for a really powerful way of making all sorts of computations with numpy arrays. "
      ]
    },
    {
      "cell_type": "markdown",
      "metadata": {
        "id": "QC4HzNOAkSsD",
        "colab_type": "text"
      },
      "source": [
        "Here are some examples of the available numpy methods:"
      ]
    },
    {
      "cell_type": "code",
      "metadata": {
        "id": "Jb4Qq0pnkcb1",
        "colab_type": "code",
        "colab": {
          "base_uri": "https://localhost:8080/",
          "height": 159
        },
        "outputId": "20f3c2b5-d04e-4dac-a343-192d8d51e054"
      },
      "source": [
        "import numpy as np\n",
        "x = np.array([2, 5, 4, 3, 1, 6])\n",
        "print(x.sum())\n",
        "print(x.mean())\n",
        "print(x.var())\n",
        "print(x.std())\n",
        "print(x.max())\n",
        "print(x.min())\n",
        "print(x.argmax())\n",
        "print(x.argmin())"
      ],
      "execution_count": 6,
      "outputs": [
        {
          "output_type": "stream",
          "text": [
            "21\n",
            "3.5\n",
            "2.9166666666666665\n",
            "1.707825127659933\n",
            "6\n",
            "1\n",
            "5\n",
            "4\n"
          ],
          "name": "stdout"
        }
      ]
    },
    {
      "cell_type": "markdown",
      "metadata": {
        "id": "YMx-78MPlKWi",
        "colab_type": "text"
      },
      "source": [
        "**HANDS-ON:** The purpose of most of these functions is pretty obvious, but can you guess what the \"argmax\" and \"argmin\" functions do ?"
      ]
    },
    {
      "cell_type": "markdown",
      "metadata": {
        "id": "H22PaDUKDmhw",
        "colab_type": "text"
      },
      "source": [
        "Example: the Root Mean Square Deviation of two arrays X and Y is defined as:\n",
        "\n",
        "$$ \\text{RMSD} = \\sqrt{\\frac{1}{N}\\sum_i^N (X_i-Y_i)^2} $$\n",
        "\n",
        "Let's calculate with a numpy expression:"
      ]
    },
    {
      "cell_type": "code",
      "metadata": {
        "id": "grl1e2gEErHu",
        "colab_type": "code",
        "colab": {
          "base_uri": "https://localhost:8080/",
          "height": 35
        },
        "outputId": "85e85c3c-1994-4f8e-bdbc-45ad2981e35d"
      },
      "source": [
        "x = np.array([1,2,3])\n",
        "y = np.array([4,5,7])\n",
        "np.sqrt(((x-y)**2).mean())"
      ],
      "execution_count": 25,
      "outputs": [
        {
          "output_type": "execute_result",
          "data": {
            "text/plain": [
              "3.366501646120693"
            ]
          },
          "metadata": {
            "tags": []
          },
          "execution_count": 25
        }
      ]
    },
    {
      "cell_type": "markdown",
      "metadata": {
        "id": "nhVLLkAPFvsT",
        "colab_type": "text"
      },
      "source": [
        "The expression:\n",
        "\n",
        "\n",
        "```\n",
        "np.sqrt(((x-y)**2).mean())\n",
        "```\n",
        "\n",
        "is a good example of chaining of various numpy operations. Analyze it carefully, working from the inside to the outside, and try to understand what it does.\n"
      ]
    },
    {
      "cell_type": "markdown",
      "metadata": {
        "id": "eegIkv8Yl_8N",
        "colab_type": "text"
      },
      "source": [
        "**HANDS-ON:** The sample covariance of two random variables X and Y, is \n",
        "\n",
        "\n",
        "$$ {\\displaystyle S_{XY}={\\frac {1}{N-1}}\\sum _{i=1}^{N}\\left(X_{i}-{\\bar {X}}\\right)\\left(Y_{i}-{\\bar {Y}}\\right),}$$\n",
        "\n",
        "where $\\bar{X}$ and $\\bar{Y}$ are the sample means of the wariables:\n",
        "\n",
        "$$ \\bar X ={\\frac {1}{N}}\\sum _{i=1}^{N} X_{i} \\quad \\text{and} \\quad \\bar Y ={\\frac {1}{N}}\\sum _{i=1}^{N} Y_{i}$$\n",
        "\n",
        "Write a numpy expression that calculates the covariance of two arrays \"x\" and \"Y\" (which must have the same lenght!)\n",
        "<br>\n",
        "<br>\n",
        "**NOTE:** $S_{XX}$ is \n",
        "\n",
        "$$ {\\displaystyle S_{XX}={\\frac {1}{N-1}}\\sum _{i=1}^{N}\\left(X_{i}-{\\bar {X}}\\right)\\left(X_{i}-{\\bar {X}}\\right) = {\\frac {1}{N-1}}\\sum _{i=1}^{N}\\left(X_{i}-{\\bar {X}}\\right)^2}$$  \n",
        "\n",
        "which is simply the sample variance $S_X$ of the random variable X. So the variance is simply covariance of a random variable with itself. "
      ]
    },
    {
      "cell_type": "code",
      "metadata": {
        "id": "PrEOO6uxlD84",
        "colab_type": "code",
        "colab": {},
        "cellView": "form"
      },
      "source": [
        "#@title SOLUTION\n",
        "x = np.array([1,3,5,6,11,14])\n",
        "y = np.array([3,9,17,22,31,35])\n",
        "((x-x.mean())*(y-y.mean())).sum()/(len(x)-1)"
      ],
      "execution_count": 0,
      "outputs": []
    },
    {
      "cell_type": "markdown",
      "metadata": {
        "id": "4NEUVrDZqyfz",
        "colab_type": "text"
      },
      "source": [
        "**HANDS-ON:** Now let's caculate the Pearson correlation coeficient, \n",
        "\n",
        "$${\\displaystyle \\rho _{X,Y}={\\frac {\\operatorname {cov} (X,Y)}{\\sigma _{X}\\sigma _{Y}}}}$$\n",
        "\n",
        "where $\\sigma _{X}$ and $\\sigma _{Y}$ are *standard deviations* of the two random variables.\n",
        "\n",
        "For two sizes $n$ samples of $X$ and $Y$, the sample correlation coefficient is given by:\n",
        "\n",
        "$${\\displaystyle r_{XY}={\\frac {\\sum _{i=1}^{n}(X_{i}-{\\bar {X}})(Y_{i}-{\\bar {Y}})}{{\\sqrt {\\sum _{i=1}^{n}(X_{i}-{\\bar {X}})^{2}}}{\\sqrt {\\sum _{i=1}^{n}(Y_{i}-{\\bar {Y}})^{2}}}}}} $$\n",
        "\n",
        "1. Define a function named `covar` such that `covar(x,y)` returns the covariance of random samples x and y.\n",
        "2. Using `covar`, implement another function named `pearson` that calculates the sample Pearson correlation coefficient $r_{XY}$\n",
        "\n"
      ]
    },
    {
      "cell_type": "code",
      "metadata": {
        "id": "jZGAmorVvGOe",
        "colab_type": "code",
        "colab": {
          "base_uri": "https://localhost:8080/",
          "height": 35
        },
        "cellView": "form",
        "outputId": "0ea3f5a6-15af-4d98-c5e6-f65e277d930b"
      },
      "source": [
        "#@title SOLUTION\n",
        "def covar(x,y):\n",
        "  return ((x-x.mean())*(y-y.mean())).sum()/(len(x)-1)\n",
        "\n",
        "def pearson(x,y):\n",
        "  return covar(x,y)/(np.sqrt(covar(x,x))*np.sqrt(covar(y,y)))\n",
        "\n",
        "pearson(x,y)"
      ],
      "execution_count": 13,
      "outputs": [
        {
          "output_type": "execute_result",
          "data": {
            "text/plain": [
              "0.9765331878498119"
            ]
          },
          "metadata": {
            "tags": []
          },
          "execution_count": 13
        }
      ]
    },
    {
      "cell_type": "markdown",
      "metadata": {
        "id": "BY3l7UnXBttA",
        "colab_type": "text"
      },
      "source": [
        "You can actually check the correctness of your solution by checking your result agains that of the following command:\n",
        "\n",
        "```\n",
        "np.corrcoeof(x,y),\n",
        "```\n",
        "\n",
        "a numpy  function that implements the Pearson correlation coefficient (sorry for wasting your time...).\n"
      ]
    },
    {
      "cell_type": "code",
      "metadata": {
        "id": "3lE4m9_xvteU",
        "colab_type": "code",
        "colab": {
          "base_uri": "https://localhost:8080/",
          "height": 52
        },
        "outputId": "6252bf0f-aeeb-499a-da56-59db18aabf19"
      },
      "source": [
        "np.corrcoef(x,y)"
      ],
      "execution_count": 14,
      "outputs": [
        {
          "output_type": "execute_result",
          "data": {
            "text/plain": [
              "array([[1.        , 0.97653319],\n",
              "       [0.97653319, 1.        ]])"
            ]
          },
          "metadata": {
            "tags": []
          },
          "execution_count": 14
        }
      ]
    },
    {
      "cell_type": "code",
      "metadata": {
        "id": "D8Xd4wtRqoi0",
        "colab_type": "code",
        "colab": {
          "base_uri": "https://localhost:8080/",
          "height": 35
        },
        "outputId": "2d113443-8eb1-4347-ef4d-e1c80a98f84f"
      },
      "source": [
        "np.cov(x,y)[0,1]"
      ],
      "execution_count": 12,
      "outputs": [
        {
          "output_type": "execute_result",
          "data": {
            "text/plain": [
              "59.6"
            ]
          },
          "metadata": {
            "tags": []
          },
          "execution_count": 12
        }
      ]
    },
    {
      "cell_type": "code",
      "metadata": {
        "id": "OHvHZSoFVRsa",
        "colab_type": "code",
        "outputId": "5e96ee0b-30e5-449f-b140-dfc187de27c5",
        "colab": {
          "base_uri": "https://localhost:8080/",
          "height": 35
        }
      },
      "source": [
        "(np.multiply.reduce(a))**(1./6)"
      ],
      "execution_count": 0,
      "outputs": [
        {
          "output_type": "execute_result",
          "data": {
            "text/plain": [
              "2.993795165523909"
            ]
          },
          "metadata": {
            "tags": []
          },
          "execution_count": 19
        }
      ]
    },
    {
      "cell_type": "code",
      "metadata": {
        "id": "i873AVDjCnNS",
        "colab_type": "code",
        "colab": {
          "base_uri": "https://localhost:8080/",
          "height": 35
        },
        "outputId": "dd3c3d0d-d197-4001-95e9-da3cd123f90b"
      },
      "source": [
        "np.roots((1,0,2))"
      ],
      "execution_count": 21,
      "outputs": [
        {
          "output_type": "execute_result",
          "data": {
            "text/plain": [
              "array([-0.+1.41421356j,  0.-1.41421356j])"
            ]
          },
          "metadata": {
            "tags": []
          },
          "execution_count": 21
        }
      ]
    },
    {
      "cell_type": "code",
      "metadata": {
        "id": "eP70B3YQV1_P",
        "colab_type": "code",
        "colab": {}
      },
      "source": [
        "from functools import reduce"
      ],
      "execution_count": 0,
      "outputs": []
    },
    {
      "cell_type": "code",
      "metadata": {
        "id": "lyQgsa-FV8A5",
        "colab_type": "code",
        "outputId": "964a42be-b8a6-44ac-a807-35d55c1b106e",
        "colab": {
          "base_uri": "https://localhost:8080/",
          "height": 35
        }
      },
      "source": [
        "reduce(lambda a,b : a/b,[1,2,3,4])"
      ],
      "execution_count": 0,
      "outputs": [
        {
          "output_type": "execute_result",
          "data": {
            "text/plain": [
              "0.041666666666666664"
            ]
          },
          "metadata": {
            "tags": []
          },
          "execution_count": 33
        }
      ]
    },
    {
      "cell_type": "code",
      "metadata": {
        "id": "jba4IFe7WM-c",
        "colab_type": "code",
        "outputId": "c4de1d86-cbfb-434d-e9ff-b231078501fe",
        "colab": {
          "base_uri": "https://localhost:8080/",
          "height": 35
        }
      },
      "source": [
        "((1/2)/3)/4"
      ],
      "execution_count": 0,
      "outputs": [
        {
          "output_type": "execute_result",
          "data": {
            "text/plain": [
              "0.041666666666666664"
            ]
          },
          "metadata": {
            "tags": []
          },
          "execution_count": 34
        }
      ]
    },
    {
      "cell_type": "code",
      "metadata": {
        "id": "foyms9PmBalx",
        "colab_type": "code",
        "outputId": "6ba0fef6-3711-43f3-c8f8-8b0389ab45a1",
        "colab": {
          "base_uri": "https://localhost:8080/",
          "height": 35
        }
      },
      "source": [
        "list(filter(lambda a : a % 2,[1,2,3,4]))"
      ],
      "execution_count": 0,
      "outputs": [
        {
          "output_type": "execute_result",
          "data": {
            "text/plain": [
              "[1, 3]"
            ]
          },
          "metadata": {
            "tags": []
          },
          "execution_count": 31
        }
      ]
    },
    {
      "cell_type": "code",
      "metadata": {
        "id": "0Kj3r3iEBwVD",
        "colab_type": "code",
        "outputId": "5d2b9b88-64cc-4b38-adb5-1738e4b0fa6f",
        "colab": {
          "base_uri": "https://localhost:8080/",
          "height": 35
        }
      },
      "source": [
        "list(map(lambda x : x*x, [1,2,3,4]))"
      ],
      "execution_count": 0,
      "outputs": [
        {
          "output_type": "execute_result",
          "data": {
            "text/plain": [
              "[1, 4, 9, 16]"
            ]
          },
          "metadata": {
            "tags": []
          },
          "execution_count": 13
        }
      ]
    },
    {
      "cell_type": "code",
      "metadata": {
        "id": "GI9ZB6tGCAeu",
        "colab_type": "code",
        "outputId": "3c568aab-9e17-407b-e95b-760af217c6ae",
        "colab": {
          "base_uri": "https://localhost:8080/",
          "height": 35
        }
      },
      "source": [
        "range(10)"
      ],
      "execution_count": 0,
      "outputs": [
        {
          "output_type": "execute_result",
          "data": {
            "text/plain": [
              "range(0, 10)"
            ]
          },
          "metadata": {
            "tags": []
          },
          "execution_count": 14
        }
      ]
    },
    {
      "cell_type": "code",
      "metadata": {
        "id": "R0dGQ-YACHEE",
        "colab_type": "code",
        "outputId": "f41a630c-87ac-4e20-da4a-9076e24d4390",
        "colab": {
          "base_uri": "https://localhost:8080/",
          "height": 35
        }
      },
      "source": [
        "list(range(10))"
      ],
      "execution_count": 0,
      "outputs": [
        {
          "output_type": "execute_result",
          "data": {
            "text/plain": [
              "[0, 1, 2, 3, 4, 5, 6, 7, 8, 9]"
            ]
          },
          "metadata": {
            "tags": []
          },
          "execution_count": 15
        }
      ]
    },
    {
      "cell_type": "code",
      "metadata": {
        "id": "RDBAwO0HCJps",
        "colab_type": "code",
        "outputId": "101066fa-2ed8-42ac-8de0-dbf881a02ec0",
        "colab": {
          "base_uri": "https://localhost:8080/",
          "height": 70
        }
      },
      "source": [
        "np.outer([1, 2, 3], [4, 5, 6])"
      ],
      "execution_count": 0,
      "outputs": [
        {
          "output_type": "execute_result",
          "data": {
            "text/plain": [
              "array([[ 4,  5,  6],\n",
              "       [ 8, 10, 12],\n",
              "       [12, 15, 18]])"
            ]
          },
          "metadata": {
            "tags": []
          },
          "execution_count": 38
        }
      ]
    },
    {
      "cell_type": "code",
      "metadata": {
        "id": "3P5KQ7uhGNt8",
        "colab_type": "code",
        "outputId": "470d27f2-2e13-4804-d00a-eb912c70bc02",
        "colab": {
          "base_uri": "https://localhost:8080/",
          "height": 70
        }
      },
      "source": [
        "np.multiply.outer([1, 2, 3], [4, 5, 6])"
      ],
      "execution_count": 0,
      "outputs": [
        {
          "output_type": "execute_result",
          "data": {
            "text/plain": [
              "array([[ 4,  5,  6],\n",
              "       [ 8, 10, 12],\n",
              "       [12, 15, 18]])"
            ]
          },
          "metadata": {
            "tags": []
          },
          "execution_count": 39
        }
      ]
    },
    {
      "cell_type": "code",
      "metadata": {
        "id": "wV2_75FSG7ty",
        "colab_type": "code",
        "colab": {}
      },
      "source": [
        "x = np.arange(10)\n",
        "y = 2 * x + 10 + np.random.randn(10)"
      ],
      "execution_count": 0,
      "outputs": []
    },
    {
      "cell_type": "code",
      "metadata": {
        "id": "y6i0lbtdME6d",
        "colab_type": "code",
        "outputId": "12ce11ca-1116-42b5-cc3b-47142e4095bf",
        "colab": {
          "base_uri": "https://localhost:8080/",
          "height": 35
        }
      },
      "source": [
        "C = (x*y-x.mean()*y.mean()).sum()\n",
        "Y = (y*y-y.mean()**2).sum()\n",
        "C,X,Y\n",
        "C/(np.sqrt(X)*np.sqrt(Y))"
      ],
      "execution_count": 0,
      "outputs": [
        {
          "output_type": "execute_result",
          "data": {
            "text/plain": [
              "0.9930923312521637"
            ]
          },
          "metadata": {
            "tags": []
          },
          "execution_count": 17
        }
      ]
    },
    {
      "cell_type": "code",
      "metadata": {
        "id": "a-WdJ-hTMdmz",
        "colab_type": "code",
        "outputId": "ab43e2f2-a292-43b4-86e6-e91b15ba1ac9",
        "colab": {
          "base_uri": "https://localhost:8080/",
          "height": 52
        }
      },
      "source": [
        "np.corrcoef(x,y)"
      ],
      "execution_count": 0,
      "outputs": [
        {
          "output_type": "execute_result",
          "data": {
            "text/plain": [
              "array([[1.        , 0.99309233],\n",
              "       [0.99309233, 1.        ]])"
            ]
          },
          "metadata": {
            "tags": []
          },
          "execution_count": 18
        }
      ]
    },
    {
      "cell_type": "code",
      "metadata": {
        "id": "E0dSjVrkNcBp",
        "colab_type": "code",
        "colab": {}
      },
      "source": [
        "a = np.array([1,2,7,3,4])"
      ],
      "execution_count": 0,
      "outputs": []
    },
    {
      "cell_type": "code",
      "metadata": {
        "id": "XkAnIDcKf8vx",
        "colab_type": "code",
        "outputId": "c3d51a36-e666-485a-c135-5137c3eb00f1",
        "colab": {
          "base_uri": "https://localhost:8080/",
          "height": 35
        }
      },
      "source": [
        "a[a.argsort()]"
      ],
      "execution_count": 30,
      "outputs": [
        {
          "output_type": "execute_result",
          "data": {
            "text/plain": [
              "array([1, 2, 3, 4, 7])"
            ]
          },
          "metadata": {
            "tags": []
          },
          "execution_count": 30
        }
      ]
    },
    {
      "cell_type": "code",
      "metadata": {
        "id": "baKafvfnf-AZ",
        "colab_type": "code",
        "colab": {}
      },
      "source": [
        "a.partition?"
      ],
      "execution_count": 0,
      "outputs": []
    },
    {
      "cell_type": "code",
      "metadata": {
        "id": "G7_Md-EVhOgP",
        "colab_type": "code",
        "colab": {
          "base_uri": "https://localhost:8080/",
          "height": 11035
        },
        "outputId": "ee13c062-7f37-40a9-c758-e6d9a7197ca4"
      },
      "source": [
        "dir(np)"
      ],
      "execution_count": 31,
      "outputs": [
        {
          "output_type": "execute_result",
          "data": {
            "text/plain": [
              "['ALLOW_THREADS',\n",
              " 'AxisError',\n",
              " 'BUFSIZE',\n",
              " 'CLIP',\n",
              " 'ComplexWarning',\n",
              " 'DataSource',\n",
              " 'ERR_CALL',\n",
              " 'ERR_DEFAULT',\n",
              " 'ERR_IGNORE',\n",
              " 'ERR_LOG',\n",
              " 'ERR_PRINT',\n",
              " 'ERR_RAISE',\n",
              " 'ERR_WARN',\n",
              " 'FLOATING_POINT_SUPPORT',\n",
              " 'FPE_DIVIDEBYZERO',\n",
              " 'FPE_INVALID',\n",
              " 'FPE_OVERFLOW',\n",
              " 'FPE_UNDERFLOW',\n",
              " 'False_',\n",
              " 'Inf',\n",
              " 'Infinity',\n",
              " 'MAXDIMS',\n",
              " 'MAY_SHARE_BOUNDS',\n",
              " 'MAY_SHARE_EXACT',\n",
              " 'MachAr',\n",
              " 'ModuleDeprecationWarning',\n",
              " 'NAN',\n",
              " 'NINF',\n",
              " 'NZERO',\n",
              " 'NaN',\n",
              " 'PINF',\n",
              " 'PZERO',\n",
              " 'RAISE',\n",
              " 'RankWarning',\n",
              " 'SHIFT_DIVIDEBYZERO',\n",
              " 'SHIFT_INVALID',\n",
              " 'SHIFT_OVERFLOW',\n",
              " 'SHIFT_UNDERFLOW',\n",
              " 'ScalarType',\n",
              " 'Tester',\n",
              " 'TooHardError',\n",
              " 'True_',\n",
              " 'UFUNC_BUFSIZE_DEFAULT',\n",
              " 'UFUNC_PYVALS_NAME',\n",
              " 'VisibleDeprecationWarning',\n",
              " 'WRAP',\n",
              " '_NoValue',\n",
              " '_UFUNC_API',\n",
              " '__NUMPY_SETUP__',\n",
              " '__all__',\n",
              " '__builtins__',\n",
              " '__cached__',\n",
              " '__config__',\n",
              " '__doc__',\n",
              " '__file__',\n",
              " '__git_revision__',\n",
              " '__loader__',\n",
              " '__name__',\n",
              " '__package__',\n",
              " '__path__',\n",
              " '__spec__',\n",
              " '__version__',\n",
              " '_add_newdoc_ufunc',\n",
              " '_arg',\n",
              " '_distributor_init',\n",
              " '_globals',\n",
              " '_mat',\n",
              " '_pytesttester',\n",
              " 'abs',\n",
              " 'absolute',\n",
              " 'absolute_import',\n",
              " 'add',\n",
              " 'add_docstring',\n",
              " 'add_newdoc',\n",
              " 'add_newdoc_ufunc',\n",
              " 'alen',\n",
              " 'all',\n",
              " 'allclose',\n",
              " 'alltrue',\n",
              " 'amax',\n",
              " 'amin',\n",
              " 'angle',\n",
              " 'any',\n",
              " 'append',\n",
              " 'apply_along_axis',\n",
              " 'apply_over_axes',\n",
              " 'arange',\n",
              " 'arccos',\n",
              " 'arccosh',\n",
              " 'arcsin',\n",
              " 'arcsinh',\n",
              " 'arctan',\n",
              " 'arctan2',\n",
              " 'arctanh',\n",
              " 'argmax',\n",
              " 'argmin',\n",
              " 'argpartition',\n",
              " 'argsort',\n",
              " 'argwhere',\n",
              " 'around',\n",
              " 'array',\n",
              " 'array2string',\n",
              " 'array_equal',\n",
              " 'array_equiv',\n",
              " 'array_repr',\n",
              " 'array_split',\n",
              " 'array_str',\n",
              " 'asanyarray',\n",
              " 'asarray',\n",
              " 'asarray_chkfinite',\n",
              " 'ascontiguousarray',\n",
              " 'asfarray',\n",
              " 'asfortranarray',\n",
              " 'asmatrix',\n",
              " 'asscalar',\n",
              " 'atleast_1d',\n",
              " 'atleast_2d',\n",
              " 'atleast_3d',\n",
              " 'average',\n",
              " 'bartlett',\n",
              " 'base_repr',\n",
              " 'binary_repr',\n",
              " 'bincount',\n",
              " 'bitwise_and',\n",
              " 'bitwise_not',\n",
              " 'bitwise_or',\n",
              " 'bitwise_xor',\n",
              " 'blackman',\n",
              " 'block',\n",
              " 'bmat',\n",
              " 'bool',\n",
              " 'bool8',\n",
              " 'bool_',\n",
              " 'broadcast',\n",
              " 'broadcast_arrays',\n",
              " 'broadcast_to',\n",
              " 'busday_count',\n",
              " 'busday_offset',\n",
              " 'busdaycalendar',\n",
              " 'byte',\n",
              " 'byte_bounds',\n",
              " 'bytes0',\n",
              " 'bytes_',\n",
              " 'c_',\n",
              " 'can_cast',\n",
              " 'cast',\n",
              " 'cbrt',\n",
              " 'cdouble',\n",
              " 'ceil',\n",
              " 'cfloat',\n",
              " 'char',\n",
              " 'character',\n",
              " 'chararray',\n",
              " 'choose',\n",
              " 'clip',\n",
              " 'clongdouble',\n",
              " 'clongfloat',\n",
              " 'column_stack',\n",
              " 'common_type',\n",
              " 'compare_chararrays',\n",
              " 'compat',\n",
              " 'complex',\n",
              " 'complex128',\n",
              " 'complex256',\n",
              " 'complex64',\n",
              " 'complex_',\n",
              " 'complexfloating',\n",
              " 'compress',\n",
              " 'concatenate',\n",
              " 'conj',\n",
              " 'conjugate',\n",
              " 'convolve',\n",
              " 'copy',\n",
              " 'copysign',\n",
              " 'copyto',\n",
              " 'core',\n",
              " 'corrcoef',\n",
              " 'correlate',\n",
              " 'cos',\n",
              " 'cosh',\n",
              " 'count_nonzero',\n",
              " 'cov',\n",
              " 'cross',\n",
              " 'csingle',\n",
              " 'ctypeslib',\n",
              " 'cumprod',\n",
              " 'cumproduct',\n",
              " 'cumsum',\n",
              " 'datetime64',\n",
              " 'datetime_as_string',\n",
              " 'datetime_data',\n",
              " 'deg2rad',\n",
              " 'degrees',\n",
              " 'delete',\n",
              " 'deprecate',\n",
              " 'deprecate_with_doc',\n",
              " 'diag',\n",
              " 'diag_indices',\n",
              " 'diag_indices_from',\n",
              " 'diagflat',\n",
              " 'diagonal',\n",
              " 'diff',\n",
              " 'digitize',\n",
              " 'disp',\n",
              " 'divide',\n",
              " 'division',\n",
              " 'divmod',\n",
              " 'dot',\n",
              " 'double',\n",
              " 'dsplit',\n",
              " 'dstack',\n",
              " 'dtype',\n",
              " 'e',\n",
              " 'ediff1d',\n",
              " 'einsum',\n",
              " 'einsum_path',\n",
              " 'emath',\n",
              " 'empty',\n",
              " 'empty_like',\n",
              " 'equal',\n",
              " 'errstate',\n",
              " 'euler_gamma',\n",
              " 'exp',\n",
              " 'exp2',\n",
              " 'expand_dims',\n",
              " 'expm1',\n",
              " 'extract',\n",
              " 'eye',\n",
              " 'fabs',\n",
              " 'fastCopyAndTranspose',\n",
              " 'fft',\n",
              " 'fill_diagonal',\n",
              " 'find_common_type',\n",
              " 'finfo',\n",
              " 'fix',\n",
              " 'flatiter',\n",
              " 'flatnonzero',\n",
              " 'flexible',\n",
              " 'flip',\n",
              " 'fliplr',\n",
              " 'flipud',\n",
              " 'float',\n",
              " 'float128',\n",
              " 'float16',\n",
              " 'float32',\n",
              " 'float64',\n",
              " 'float_',\n",
              " 'float_power',\n",
              " 'floating',\n",
              " 'floor',\n",
              " 'floor_divide',\n",
              " 'fmax',\n",
              " 'fmin',\n",
              " 'fmod',\n",
              " 'format_float_positional',\n",
              " 'format_float_scientific',\n",
              " 'format_parser',\n",
              " 'frexp',\n",
              " 'frombuffer',\n",
              " 'fromfile',\n",
              " 'fromfunction',\n",
              " 'fromiter',\n",
              " 'frompyfunc',\n",
              " 'fromregex',\n",
              " 'fromstring',\n",
              " 'full',\n",
              " 'full_like',\n",
              " 'fv',\n",
              " 'gcd',\n",
              " 'generic',\n",
              " 'genfromtxt',\n",
              " 'geomspace',\n",
              " 'get_array_wrap',\n",
              " 'get_include',\n",
              " 'get_printoptions',\n",
              " 'getbufsize',\n",
              " 'geterr',\n",
              " 'geterrcall',\n",
              " 'geterrobj',\n",
              " 'gradient',\n",
              " 'greater',\n",
              " 'greater_equal',\n",
              " 'half',\n",
              " 'hamming',\n",
              " 'hanning',\n",
              " 'heaviside',\n",
              " 'histogram',\n",
              " 'histogram2d',\n",
              " 'histogram_bin_edges',\n",
              " 'histogramdd',\n",
              " 'hsplit',\n",
              " 'hstack',\n",
              " 'hypot',\n",
              " 'i0',\n",
              " 'identity',\n",
              " 'iinfo',\n",
              " 'imag',\n",
              " 'in1d',\n",
              " 'index_exp',\n",
              " 'indices',\n",
              " 'inexact',\n",
              " 'inf',\n",
              " 'info',\n",
              " 'infty',\n",
              " 'inner',\n",
              " 'insert',\n",
              " 'int',\n",
              " 'int0',\n",
              " 'int16',\n",
              " 'int32',\n",
              " 'int64',\n",
              " 'int8',\n",
              " 'int_',\n",
              " 'int_asbuffer',\n",
              " 'intc',\n",
              " 'integer',\n",
              " 'interp',\n",
              " 'intersect1d',\n",
              " 'intp',\n",
              " 'invert',\n",
              " 'ipmt',\n",
              " 'irr',\n",
              " 'is_busday',\n",
              " 'isclose',\n",
              " 'iscomplex',\n",
              " 'iscomplexobj',\n",
              " 'isfinite',\n",
              " 'isfortran',\n",
              " 'isin',\n",
              " 'isinf',\n",
              " 'isnan',\n",
              " 'isnat',\n",
              " 'isneginf',\n",
              " 'isposinf',\n",
              " 'isreal',\n",
              " 'isrealobj',\n",
              " 'isscalar',\n",
              " 'issctype',\n",
              " 'issubclass_',\n",
              " 'issubdtype',\n",
              " 'issubsctype',\n",
              " 'iterable',\n",
              " 'ix_',\n",
              " 'kaiser',\n",
              " 'kron',\n",
              " 'lcm',\n",
              " 'ldexp',\n",
              " 'left_shift',\n",
              " 'less',\n",
              " 'less_equal',\n",
              " 'lexsort',\n",
              " 'lib',\n",
              " 'linalg',\n",
              " 'linspace',\n",
              " 'little_endian',\n",
              " 'load',\n",
              " 'loads',\n",
              " 'loadtxt',\n",
              " 'log',\n",
              " 'log10',\n",
              " 'log1p',\n",
              " 'log2',\n",
              " 'logaddexp',\n",
              " 'logaddexp2',\n",
              " 'logical_and',\n",
              " 'logical_not',\n",
              " 'logical_or',\n",
              " 'logical_xor',\n",
              " 'logspace',\n",
              " 'long',\n",
              " 'longcomplex',\n",
              " 'longdouble',\n",
              " 'longfloat',\n",
              " 'longlong',\n",
              " 'lookfor',\n",
              " 'ma',\n",
              " 'mafromtxt',\n",
              " 'mask_indices',\n",
              " 'mat',\n",
              " 'math',\n",
              " 'matmul',\n",
              " 'matrix',\n",
              " 'matrixlib',\n",
              " 'max',\n",
              " 'maximum',\n",
              " 'maximum_sctype',\n",
              " 'may_share_memory',\n",
              " 'mean',\n",
              " 'median',\n",
              " 'memmap',\n",
              " 'meshgrid',\n",
              " 'mgrid',\n",
              " 'min',\n",
              " 'min_scalar_type',\n",
              " 'minimum',\n",
              " 'mintypecode',\n",
              " 'mirr',\n",
              " 'mod',\n",
              " 'modf',\n",
              " 'moveaxis',\n",
              " 'msort',\n",
              " 'multiply',\n",
              " 'nan',\n",
              " 'nan_to_num',\n",
              " 'nanargmax',\n",
              " 'nanargmin',\n",
              " 'nancumprod',\n",
              " 'nancumsum',\n",
              " 'nanmax',\n",
              " 'nanmean',\n",
              " 'nanmedian',\n",
              " 'nanmin',\n",
              " 'nanpercentile',\n",
              " 'nanprod',\n",
              " 'nanquantile',\n",
              " 'nanstd',\n",
              " 'nansum',\n",
              " 'nanvar',\n",
              " 'nbytes',\n",
              " 'ndarray',\n",
              " 'ndenumerate',\n",
              " 'ndfromtxt',\n",
              " 'ndim',\n",
              " 'ndindex',\n",
              " 'nditer',\n",
              " 'negative',\n",
              " 'nested_iters',\n",
              " 'newaxis',\n",
              " 'nextafter',\n",
              " 'nonzero',\n",
              " 'not_equal',\n",
              " 'nper',\n",
              " 'npv',\n",
              " 'numarray',\n",
              " 'number',\n",
              " 'obj2sctype',\n",
              " 'object',\n",
              " 'object0',\n",
              " 'object_',\n",
              " 'ogrid',\n",
              " 'oldnumeric',\n",
              " 'ones',\n",
              " 'ones_like',\n",
              " 'outer',\n",
              " 'packbits',\n",
              " 'pad',\n",
              " 'partition',\n",
              " 'percentile',\n",
              " 'pi',\n",
              " 'piecewise',\n",
              " 'place',\n",
              " 'pmt',\n",
              " 'poly',\n",
              " 'poly1d',\n",
              " 'polyadd',\n",
              " 'polyder',\n",
              " 'polydiv',\n",
              " 'polyfit',\n",
              " 'polyint',\n",
              " 'polymul',\n",
              " 'polynomial',\n",
              " 'polysub',\n",
              " 'polyval',\n",
              " 'positive',\n",
              " 'power',\n",
              " 'ppmt',\n",
              " 'print_function',\n",
              " 'printoptions',\n",
              " 'prod',\n",
              " 'product',\n",
              " 'promote_types',\n",
              " 'ptp',\n",
              " 'put',\n",
              " 'put_along_axis',\n",
              " 'putmask',\n",
              " 'pv',\n",
              " 'quantile',\n",
              " 'r_',\n",
              " 'rad2deg',\n",
              " 'radians',\n",
              " 'random',\n",
              " 'rank',\n",
              " 'rate',\n",
              " 'ravel',\n",
              " 'ravel_multi_index',\n",
              " 'real',\n",
              " 'real_if_close',\n",
              " 'rec',\n",
              " 'recarray',\n",
              " 'recfromcsv',\n",
              " 'recfromtxt',\n",
              " 'reciprocal',\n",
              " 'record',\n",
              " 'remainder',\n",
              " 'repeat',\n",
              " 'require',\n",
              " 'reshape',\n",
              " 'resize',\n",
              " 'result_type',\n",
              " 'right_shift',\n",
              " 'rint',\n",
              " 'roll',\n",
              " 'rollaxis',\n",
              " 'roots',\n",
              " 'rot90',\n",
              " 'round',\n",
              " 'round_',\n",
              " 'row_stack',\n",
              " 's_',\n",
              " 'safe_eval',\n",
              " 'save',\n",
              " 'savetxt',\n",
              " 'savez',\n",
              " 'savez_compressed',\n",
              " 'sctype2char',\n",
              " 'sctypeDict',\n",
              " 'sctypeNA',\n",
              " 'sctypes',\n",
              " 'searchsorted',\n",
              " 'select',\n",
              " 'set_numeric_ops',\n",
              " 'set_printoptions',\n",
              " 'set_string_function',\n",
              " 'setbufsize',\n",
              " 'setdiff1d',\n",
              " 'seterr',\n",
              " 'seterrcall',\n",
              " 'seterrobj',\n",
              " 'setxor1d',\n",
              " 'shape',\n",
              " 'shares_memory',\n",
              " 'short',\n",
              " 'show_config',\n",
              " 'sign',\n",
              " 'signbit',\n",
              " 'signedinteger',\n",
              " 'sin',\n",
              " 'sinc',\n",
              " 'single',\n",
              " 'singlecomplex',\n",
              " 'sinh',\n",
              " 'size',\n",
              " 'sometrue',\n",
              " 'sort',\n",
              " 'sort_complex',\n",
              " 'source',\n",
              " 'spacing',\n",
              " 'split',\n",
              " 'sqrt',\n",
              " 'square',\n",
              " 'squeeze',\n",
              " 'stack',\n",
              " 'std',\n",
              " 'str',\n",
              " 'str0',\n",
              " 'str_',\n",
              " 'string_',\n",
              " 'subtract',\n",
              " 'sum',\n",
              " 'swapaxes',\n",
              " 'sys',\n",
              " 'take',\n",
              " 'take_along_axis',\n",
              " 'tan',\n",
              " 'tanh',\n",
              " 'tensordot',\n",
              " 'test',\n",
              " 'testing',\n",
              " 'tile',\n",
              " 'timedelta64',\n",
              " 'trace',\n",
              " 'tracemalloc_domain',\n",
              " 'transpose',\n",
              " 'trapz',\n",
              " 'tri',\n",
              " 'tril',\n",
              " 'tril_indices',\n",
              " 'tril_indices_from',\n",
              " 'trim_zeros',\n",
              " 'triu',\n",
              " 'triu_indices',\n",
              " 'triu_indices_from',\n",
              " 'true_divide',\n",
              " 'trunc',\n",
              " 'typeDict',\n",
              " 'typeNA',\n",
              " 'typecodes',\n",
              " 'typename',\n",
              " 'ubyte',\n",
              " 'ufunc',\n",
              " 'uint',\n",
              " 'uint0',\n",
              " 'uint16',\n",
              " 'uint32',\n",
              " 'uint64',\n",
              " 'uint8',\n",
              " 'uintc',\n",
              " 'uintp',\n",
              " 'ulonglong',\n",
              " 'unicode',\n",
              " 'unicode_',\n",
              " 'union1d',\n",
              " 'unique',\n",
              " 'unpackbits',\n",
              " 'unravel_index',\n",
              " 'unsignedinteger',\n",
              " 'unwrap',\n",
              " 'ushort',\n",
              " 'vander',\n",
              " 'var',\n",
              " 'vdot',\n",
              " 'vectorize',\n",
              " 'version',\n",
              " 'void',\n",
              " 'void0',\n",
              " 'vsplit',\n",
              " 'vstack',\n",
              " 'warnings',\n",
              " 'where',\n",
              " 'who',\n",
              " 'zeros',\n",
              " 'zeros_like']"
            ]
          },
          "metadata": {
            "tags": []
          },
          "execution_count": 31
        }
      ]
    },
    {
      "cell_type": "code",
      "metadata": {
        "id": "1EME3FDIG5FB",
        "colab_type": "code",
        "colab": {}
      },
      "source": [
        "import pandas as pd\n",
        "url = 'https://raw.githubusercontent.com/uiuc-cse/data-fa14/gh-pages/data/iris.csv'\n",
        "dataset = pd.read_csv(url)"
      ],
      "execution_count": 0,
      "outputs": []
    },
    {
      "cell_type": "code",
      "metadata": {
        "id": "KgtkcJuvMES7",
        "colab_type": "code",
        "colab": {
          "base_uri": "https://localhost:8080/",
          "height": 1960
        },
        "outputId": "31c190b7-a22c-4c09-ef1c-aae8c31d087e"
      },
      "source": [
        "dataset"
      ],
      "execution_count": 38,
      "outputs": [
        {
          "output_type": "execute_result",
          "data": {
            "text/html": [
              "<div>\n",
              "<style scoped>\n",
              "    .dataframe tbody tr th:only-of-type {\n",
              "        vertical-align: middle;\n",
              "    }\n",
              "\n",
              "    .dataframe tbody tr th {\n",
              "        vertical-align: top;\n",
              "    }\n",
              "\n",
              "    .dataframe thead th {\n",
              "        text-align: right;\n",
              "    }\n",
              "</style>\n",
              "<table border=\"1\" class=\"dataframe\">\n",
              "  <thead>\n",
              "    <tr style=\"text-align: right;\">\n",
              "      <th></th>\n",
              "      <th>sepal_length</th>\n",
              "      <th>sepal_width</th>\n",
              "      <th>petal_length</th>\n",
              "      <th>petal_width</th>\n",
              "      <th>species</th>\n",
              "    </tr>\n",
              "  </thead>\n",
              "  <tbody>\n",
              "    <tr>\n",
              "      <th>0</th>\n",
              "      <td>5.1</td>\n",
              "      <td>3.5</td>\n",
              "      <td>1.4</td>\n",
              "      <td>0.2</td>\n",
              "      <td>setosa</td>\n",
              "    </tr>\n",
              "    <tr>\n",
              "      <th>1</th>\n",
              "      <td>4.9</td>\n",
              "      <td>3.0</td>\n",
              "      <td>1.4</td>\n",
              "      <td>0.2</td>\n",
              "      <td>setosa</td>\n",
              "    </tr>\n",
              "    <tr>\n",
              "      <th>2</th>\n",
              "      <td>4.7</td>\n",
              "      <td>3.2</td>\n",
              "      <td>1.3</td>\n",
              "      <td>0.2</td>\n",
              "      <td>setosa</td>\n",
              "    </tr>\n",
              "    <tr>\n",
              "      <th>3</th>\n",
              "      <td>4.6</td>\n",
              "      <td>3.1</td>\n",
              "      <td>1.5</td>\n",
              "      <td>0.2</td>\n",
              "      <td>setosa</td>\n",
              "    </tr>\n",
              "    <tr>\n",
              "      <th>4</th>\n",
              "      <td>5.0</td>\n",
              "      <td>3.6</td>\n",
              "      <td>1.4</td>\n",
              "      <td>0.2</td>\n",
              "      <td>setosa</td>\n",
              "    </tr>\n",
              "    <tr>\n",
              "      <th>5</th>\n",
              "      <td>5.4</td>\n",
              "      <td>3.9</td>\n",
              "      <td>1.7</td>\n",
              "      <td>0.4</td>\n",
              "      <td>setosa</td>\n",
              "    </tr>\n",
              "    <tr>\n",
              "      <th>6</th>\n",
              "      <td>4.6</td>\n",
              "      <td>3.4</td>\n",
              "      <td>1.4</td>\n",
              "      <td>0.3</td>\n",
              "      <td>setosa</td>\n",
              "    </tr>\n",
              "    <tr>\n",
              "      <th>7</th>\n",
              "      <td>5.0</td>\n",
              "      <td>3.4</td>\n",
              "      <td>1.5</td>\n",
              "      <td>0.2</td>\n",
              "      <td>setosa</td>\n",
              "    </tr>\n",
              "    <tr>\n",
              "      <th>8</th>\n",
              "      <td>4.4</td>\n",
              "      <td>2.9</td>\n",
              "      <td>1.4</td>\n",
              "      <td>0.2</td>\n",
              "      <td>setosa</td>\n",
              "    </tr>\n",
              "    <tr>\n",
              "      <th>9</th>\n",
              "      <td>4.9</td>\n",
              "      <td>3.1</td>\n",
              "      <td>1.5</td>\n",
              "      <td>0.1</td>\n",
              "      <td>setosa</td>\n",
              "    </tr>\n",
              "    <tr>\n",
              "      <th>10</th>\n",
              "      <td>5.4</td>\n",
              "      <td>3.7</td>\n",
              "      <td>1.5</td>\n",
              "      <td>0.2</td>\n",
              "      <td>setosa</td>\n",
              "    </tr>\n",
              "    <tr>\n",
              "      <th>11</th>\n",
              "      <td>4.8</td>\n",
              "      <td>3.4</td>\n",
              "      <td>1.6</td>\n",
              "      <td>0.2</td>\n",
              "      <td>setosa</td>\n",
              "    </tr>\n",
              "    <tr>\n",
              "      <th>12</th>\n",
              "      <td>4.8</td>\n",
              "      <td>3.0</td>\n",
              "      <td>1.4</td>\n",
              "      <td>0.1</td>\n",
              "      <td>setosa</td>\n",
              "    </tr>\n",
              "    <tr>\n",
              "      <th>13</th>\n",
              "      <td>4.3</td>\n",
              "      <td>3.0</td>\n",
              "      <td>1.1</td>\n",
              "      <td>0.1</td>\n",
              "      <td>setosa</td>\n",
              "    </tr>\n",
              "    <tr>\n",
              "      <th>14</th>\n",
              "      <td>5.8</td>\n",
              "      <td>4.0</td>\n",
              "      <td>1.2</td>\n",
              "      <td>0.2</td>\n",
              "      <td>setosa</td>\n",
              "    </tr>\n",
              "    <tr>\n",
              "      <th>15</th>\n",
              "      <td>5.7</td>\n",
              "      <td>4.4</td>\n",
              "      <td>1.5</td>\n",
              "      <td>0.4</td>\n",
              "      <td>setosa</td>\n",
              "    </tr>\n",
              "    <tr>\n",
              "      <th>16</th>\n",
              "      <td>5.4</td>\n",
              "      <td>3.9</td>\n",
              "      <td>1.3</td>\n",
              "      <td>0.4</td>\n",
              "      <td>setosa</td>\n",
              "    </tr>\n",
              "    <tr>\n",
              "      <th>17</th>\n",
              "      <td>5.1</td>\n",
              "      <td>3.5</td>\n",
              "      <td>1.4</td>\n",
              "      <td>0.3</td>\n",
              "      <td>setosa</td>\n",
              "    </tr>\n",
              "    <tr>\n",
              "      <th>18</th>\n",
              "      <td>5.7</td>\n",
              "      <td>3.8</td>\n",
              "      <td>1.7</td>\n",
              "      <td>0.3</td>\n",
              "      <td>setosa</td>\n",
              "    </tr>\n",
              "    <tr>\n",
              "      <th>19</th>\n",
              "      <td>5.1</td>\n",
              "      <td>3.8</td>\n",
              "      <td>1.5</td>\n",
              "      <td>0.3</td>\n",
              "      <td>setosa</td>\n",
              "    </tr>\n",
              "    <tr>\n",
              "      <th>20</th>\n",
              "      <td>5.4</td>\n",
              "      <td>3.4</td>\n",
              "      <td>1.7</td>\n",
              "      <td>0.2</td>\n",
              "      <td>setosa</td>\n",
              "    </tr>\n",
              "    <tr>\n",
              "      <th>21</th>\n",
              "      <td>5.1</td>\n",
              "      <td>3.7</td>\n",
              "      <td>1.5</td>\n",
              "      <td>0.4</td>\n",
              "      <td>setosa</td>\n",
              "    </tr>\n",
              "    <tr>\n",
              "      <th>22</th>\n",
              "      <td>4.6</td>\n",
              "      <td>3.6</td>\n",
              "      <td>1.0</td>\n",
              "      <td>0.2</td>\n",
              "      <td>setosa</td>\n",
              "    </tr>\n",
              "    <tr>\n",
              "      <th>23</th>\n",
              "      <td>5.1</td>\n",
              "      <td>3.3</td>\n",
              "      <td>1.7</td>\n",
              "      <td>0.5</td>\n",
              "      <td>setosa</td>\n",
              "    </tr>\n",
              "    <tr>\n",
              "      <th>24</th>\n",
              "      <td>4.8</td>\n",
              "      <td>3.4</td>\n",
              "      <td>1.9</td>\n",
              "      <td>0.2</td>\n",
              "      <td>setosa</td>\n",
              "    </tr>\n",
              "    <tr>\n",
              "      <th>25</th>\n",
              "      <td>5.0</td>\n",
              "      <td>3.0</td>\n",
              "      <td>1.6</td>\n",
              "      <td>0.2</td>\n",
              "      <td>setosa</td>\n",
              "    </tr>\n",
              "    <tr>\n",
              "      <th>26</th>\n",
              "      <td>5.0</td>\n",
              "      <td>3.4</td>\n",
              "      <td>1.6</td>\n",
              "      <td>0.4</td>\n",
              "      <td>setosa</td>\n",
              "    </tr>\n",
              "    <tr>\n",
              "      <th>27</th>\n",
              "      <td>5.2</td>\n",
              "      <td>3.5</td>\n",
              "      <td>1.5</td>\n",
              "      <td>0.2</td>\n",
              "      <td>setosa</td>\n",
              "    </tr>\n",
              "    <tr>\n",
              "      <th>28</th>\n",
              "      <td>5.2</td>\n",
              "      <td>3.4</td>\n",
              "      <td>1.4</td>\n",
              "      <td>0.2</td>\n",
              "      <td>setosa</td>\n",
              "    </tr>\n",
              "    <tr>\n",
              "      <th>29</th>\n",
              "      <td>4.7</td>\n",
              "      <td>3.2</td>\n",
              "      <td>1.6</td>\n",
              "      <td>0.2</td>\n",
              "      <td>setosa</td>\n",
              "    </tr>\n",
              "    <tr>\n",
              "      <th>...</th>\n",
              "      <td>...</td>\n",
              "      <td>...</td>\n",
              "      <td>...</td>\n",
              "      <td>...</td>\n",
              "      <td>...</td>\n",
              "    </tr>\n",
              "    <tr>\n",
              "      <th>120</th>\n",
              "      <td>6.9</td>\n",
              "      <td>3.2</td>\n",
              "      <td>5.7</td>\n",
              "      <td>2.3</td>\n",
              "      <td>virginica</td>\n",
              "    </tr>\n",
              "    <tr>\n",
              "      <th>121</th>\n",
              "      <td>5.6</td>\n",
              "      <td>2.8</td>\n",
              "      <td>4.9</td>\n",
              "      <td>2.0</td>\n",
              "      <td>virginica</td>\n",
              "    </tr>\n",
              "    <tr>\n",
              "      <th>122</th>\n",
              "      <td>7.7</td>\n",
              "      <td>2.8</td>\n",
              "      <td>6.7</td>\n",
              "      <td>2.0</td>\n",
              "      <td>virginica</td>\n",
              "    </tr>\n",
              "    <tr>\n",
              "      <th>123</th>\n",
              "      <td>6.3</td>\n",
              "      <td>2.7</td>\n",
              "      <td>4.9</td>\n",
              "      <td>1.8</td>\n",
              "      <td>virginica</td>\n",
              "    </tr>\n",
              "    <tr>\n",
              "      <th>124</th>\n",
              "      <td>6.7</td>\n",
              "      <td>3.3</td>\n",
              "      <td>5.7</td>\n",
              "      <td>2.1</td>\n",
              "      <td>virginica</td>\n",
              "    </tr>\n",
              "    <tr>\n",
              "      <th>125</th>\n",
              "      <td>7.2</td>\n",
              "      <td>3.2</td>\n",
              "      <td>6.0</td>\n",
              "      <td>1.8</td>\n",
              "      <td>virginica</td>\n",
              "    </tr>\n",
              "    <tr>\n",
              "      <th>126</th>\n",
              "      <td>6.2</td>\n",
              "      <td>2.8</td>\n",
              "      <td>4.8</td>\n",
              "      <td>1.8</td>\n",
              "      <td>virginica</td>\n",
              "    </tr>\n",
              "    <tr>\n",
              "      <th>127</th>\n",
              "      <td>6.1</td>\n",
              "      <td>3.0</td>\n",
              "      <td>4.9</td>\n",
              "      <td>1.8</td>\n",
              "      <td>virginica</td>\n",
              "    </tr>\n",
              "    <tr>\n",
              "      <th>128</th>\n",
              "      <td>6.4</td>\n",
              "      <td>2.8</td>\n",
              "      <td>5.6</td>\n",
              "      <td>2.1</td>\n",
              "      <td>virginica</td>\n",
              "    </tr>\n",
              "    <tr>\n",
              "      <th>129</th>\n",
              "      <td>7.2</td>\n",
              "      <td>3.0</td>\n",
              "      <td>5.8</td>\n",
              "      <td>1.6</td>\n",
              "      <td>virginica</td>\n",
              "    </tr>\n",
              "    <tr>\n",
              "      <th>130</th>\n",
              "      <td>7.4</td>\n",
              "      <td>2.8</td>\n",
              "      <td>6.1</td>\n",
              "      <td>1.9</td>\n",
              "      <td>virginica</td>\n",
              "    </tr>\n",
              "    <tr>\n",
              "      <th>131</th>\n",
              "      <td>7.9</td>\n",
              "      <td>3.8</td>\n",
              "      <td>6.4</td>\n",
              "      <td>2.0</td>\n",
              "      <td>virginica</td>\n",
              "    </tr>\n",
              "    <tr>\n",
              "      <th>132</th>\n",
              "      <td>6.4</td>\n",
              "      <td>2.8</td>\n",
              "      <td>5.6</td>\n",
              "      <td>2.2</td>\n",
              "      <td>virginica</td>\n",
              "    </tr>\n",
              "    <tr>\n",
              "      <th>133</th>\n",
              "      <td>6.3</td>\n",
              "      <td>2.8</td>\n",
              "      <td>5.1</td>\n",
              "      <td>1.5</td>\n",
              "      <td>virginica</td>\n",
              "    </tr>\n",
              "    <tr>\n",
              "      <th>134</th>\n",
              "      <td>6.1</td>\n",
              "      <td>2.6</td>\n",
              "      <td>5.6</td>\n",
              "      <td>1.4</td>\n",
              "      <td>virginica</td>\n",
              "    </tr>\n",
              "    <tr>\n",
              "      <th>135</th>\n",
              "      <td>7.7</td>\n",
              "      <td>3.0</td>\n",
              "      <td>6.1</td>\n",
              "      <td>2.3</td>\n",
              "      <td>virginica</td>\n",
              "    </tr>\n",
              "    <tr>\n",
              "      <th>136</th>\n",
              "      <td>6.3</td>\n",
              "      <td>3.4</td>\n",
              "      <td>5.6</td>\n",
              "      <td>2.4</td>\n",
              "      <td>virginica</td>\n",
              "    </tr>\n",
              "    <tr>\n",
              "      <th>137</th>\n",
              "      <td>6.4</td>\n",
              "      <td>3.1</td>\n",
              "      <td>5.5</td>\n",
              "      <td>1.8</td>\n",
              "      <td>virginica</td>\n",
              "    </tr>\n",
              "    <tr>\n",
              "      <th>138</th>\n",
              "      <td>6.0</td>\n",
              "      <td>3.0</td>\n",
              "      <td>4.8</td>\n",
              "      <td>1.8</td>\n",
              "      <td>virginica</td>\n",
              "    </tr>\n",
              "    <tr>\n",
              "      <th>139</th>\n",
              "      <td>6.9</td>\n",
              "      <td>3.1</td>\n",
              "      <td>5.4</td>\n",
              "      <td>2.1</td>\n",
              "      <td>virginica</td>\n",
              "    </tr>\n",
              "    <tr>\n",
              "      <th>140</th>\n",
              "      <td>6.7</td>\n",
              "      <td>3.1</td>\n",
              "      <td>5.6</td>\n",
              "      <td>2.4</td>\n",
              "      <td>virginica</td>\n",
              "    </tr>\n",
              "    <tr>\n",
              "      <th>141</th>\n",
              "      <td>6.9</td>\n",
              "      <td>3.1</td>\n",
              "      <td>5.1</td>\n",
              "      <td>2.3</td>\n",
              "      <td>virginica</td>\n",
              "    </tr>\n",
              "    <tr>\n",
              "      <th>142</th>\n",
              "      <td>5.8</td>\n",
              "      <td>2.7</td>\n",
              "      <td>5.1</td>\n",
              "      <td>1.9</td>\n",
              "      <td>virginica</td>\n",
              "    </tr>\n",
              "    <tr>\n",
              "      <th>143</th>\n",
              "      <td>6.8</td>\n",
              "      <td>3.2</td>\n",
              "      <td>5.9</td>\n",
              "      <td>2.3</td>\n",
              "      <td>virginica</td>\n",
              "    </tr>\n",
              "    <tr>\n",
              "      <th>144</th>\n",
              "      <td>6.7</td>\n",
              "      <td>3.3</td>\n",
              "      <td>5.7</td>\n",
              "      <td>2.5</td>\n",
              "      <td>virginica</td>\n",
              "    </tr>\n",
              "    <tr>\n",
              "      <th>145</th>\n",
              "      <td>6.7</td>\n",
              "      <td>3.0</td>\n",
              "      <td>5.2</td>\n",
              "      <td>2.3</td>\n",
              "      <td>virginica</td>\n",
              "    </tr>\n",
              "    <tr>\n",
              "      <th>146</th>\n",
              "      <td>6.3</td>\n",
              "      <td>2.5</td>\n",
              "      <td>5.0</td>\n",
              "      <td>1.9</td>\n",
              "      <td>virginica</td>\n",
              "    </tr>\n",
              "    <tr>\n",
              "      <th>147</th>\n",
              "      <td>6.5</td>\n",
              "      <td>3.0</td>\n",
              "      <td>5.2</td>\n",
              "      <td>2.0</td>\n",
              "      <td>virginica</td>\n",
              "    </tr>\n",
              "    <tr>\n",
              "      <th>148</th>\n",
              "      <td>6.2</td>\n",
              "      <td>3.4</td>\n",
              "      <td>5.4</td>\n",
              "      <td>2.3</td>\n",
              "      <td>virginica</td>\n",
              "    </tr>\n",
              "    <tr>\n",
              "      <th>149</th>\n",
              "      <td>5.9</td>\n",
              "      <td>3.0</td>\n",
              "      <td>5.1</td>\n",
              "      <td>1.8</td>\n",
              "      <td>virginica</td>\n",
              "    </tr>\n",
              "  </tbody>\n",
              "</table>\n",
              "<p>150 rows × 5 columns</p>\n",
              "</div>"
            ],
            "text/plain": [
              "     sepal_length  sepal_width  petal_length  petal_width    species\n",
              "0             5.1          3.5           1.4          0.2     setosa\n",
              "1             4.9          3.0           1.4          0.2     setosa\n",
              "2             4.7          3.2           1.3          0.2     setosa\n",
              "3             4.6          3.1           1.5          0.2     setosa\n",
              "4             5.0          3.6           1.4          0.2     setosa\n",
              "5             5.4          3.9           1.7          0.4     setosa\n",
              "6             4.6          3.4           1.4          0.3     setosa\n",
              "7             5.0          3.4           1.5          0.2     setosa\n",
              "8             4.4          2.9           1.4          0.2     setosa\n",
              "9             4.9          3.1           1.5          0.1     setosa\n",
              "10            5.4          3.7           1.5          0.2     setosa\n",
              "11            4.8          3.4           1.6          0.2     setosa\n",
              "12            4.8          3.0           1.4          0.1     setosa\n",
              "13            4.3          3.0           1.1          0.1     setosa\n",
              "14            5.8          4.0           1.2          0.2     setosa\n",
              "15            5.7          4.4           1.5          0.4     setosa\n",
              "16            5.4          3.9           1.3          0.4     setosa\n",
              "17            5.1          3.5           1.4          0.3     setosa\n",
              "18            5.7          3.8           1.7          0.3     setosa\n",
              "19            5.1          3.8           1.5          0.3     setosa\n",
              "20            5.4          3.4           1.7          0.2     setosa\n",
              "21            5.1          3.7           1.5          0.4     setosa\n",
              "22            4.6          3.6           1.0          0.2     setosa\n",
              "23            5.1          3.3           1.7          0.5     setosa\n",
              "24            4.8          3.4           1.9          0.2     setosa\n",
              "25            5.0          3.0           1.6          0.2     setosa\n",
              "26            5.0          3.4           1.6          0.4     setosa\n",
              "27            5.2          3.5           1.5          0.2     setosa\n",
              "28            5.2          3.4           1.4          0.2     setosa\n",
              "29            4.7          3.2           1.6          0.2     setosa\n",
              "..            ...          ...           ...          ...        ...\n",
              "120           6.9          3.2           5.7          2.3  virginica\n",
              "121           5.6          2.8           4.9          2.0  virginica\n",
              "122           7.7          2.8           6.7          2.0  virginica\n",
              "123           6.3          2.7           4.9          1.8  virginica\n",
              "124           6.7          3.3           5.7          2.1  virginica\n",
              "125           7.2          3.2           6.0          1.8  virginica\n",
              "126           6.2          2.8           4.8          1.8  virginica\n",
              "127           6.1          3.0           4.9          1.8  virginica\n",
              "128           6.4          2.8           5.6          2.1  virginica\n",
              "129           7.2          3.0           5.8          1.6  virginica\n",
              "130           7.4          2.8           6.1          1.9  virginica\n",
              "131           7.9          3.8           6.4          2.0  virginica\n",
              "132           6.4          2.8           5.6          2.2  virginica\n",
              "133           6.3          2.8           5.1          1.5  virginica\n",
              "134           6.1          2.6           5.6          1.4  virginica\n",
              "135           7.7          3.0           6.1          2.3  virginica\n",
              "136           6.3          3.4           5.6          2.4  virginica\n",
              "137           6.4          3.1           5.5          1.8  virginica\n",
              "138           6.0          3.0           4.8          1.8  virginica\n",
              "139           6.9          3.1           5.4          2.1  virginica\n",
              "140           6.7          3.1           5.6          2.4  virginica\n",
              "141           6.9          3.1           5.1          2.3  virginica\n",
              "142           5.8          2.7           5.1          1.9  virginica\n",
              "143           6.8          3.2           5.9          2.3  virginica\n",
              "144           6.7          3.3           5.7          2.5  virginica\n",
              "145           6.7          3.0           5.2          2.3  virginica\n",
              "146           6.3          2.5           5.0          1.9  virginica\n",
              "147           6.5          3.0           5.2          2.0  virginica\n",
              "148           6.2          3.4           5.4          2.3  virginica\n",
              "149           5.9          3.0           5.1          1.8  virginica\n",
              "\n",
              "[150 rows x 5 columns]"
            ]
          },
          "metadata": {
            "tags": []
          },
          "execution_count": 38
        }
      ]
    },
    {
      "cell_type": "code",
      "metadata": {
        "id": "fZMCHHePMFEb",
        "colab_type": "code",
        "colab": {}
      },
      "source": [
        ""
      ],
      "execution_count": 0,
      "outputs": []
    }
  ]
}