{
  "nbformat": 4,
  "nbformat_minor": 0,
  "metadata": {
    "colab": {
      "name": "Introduction_to_numpy.ipynb",
      "version": "0.3.2",
      "provenance": [],
      "collapsed_sections": [],
      "include_colab_link": true
    },
    "kernelspec": {
      "name": "python3",
      "display_name": "Python 3"
    }
  },
  "cells": [
    {
      "cell_type": "markdown",
      "metadata": {
        "id": "view-in-github",
        "colab_type": "text"
      },
      "source": [
        "<a href=\"https://colab.research.google.com/github/pjmartel/python-for-scientists/blob/master/Introduction_to_numpy.ipynb\" target=\"_parent\"><img src=\"https://colab.research.google.com/assets/colab-badge.svg\" alt=\"Open In Colab\"/></a>"
      ]
    },
    {
      "cell_type": "markdown",
      "metadata": {
        "id": "FoAKqmMqYTHz",
        "colab_type": "text"
      },
      "source": [
        "### Introduction to Numerical Python\n",
        "\n",
        "Although Python is a very versatile and powerful language on its own, its full power is only realized through the use of various **packages** and **modules** that extend the language functionality with new data types, objects and functions. \n",
        "\n",
        "The **Numerical Python** (Numpy) package is the fundamental library for scientific computing, adding vectors, matrices and higher-level multidimensional arrays whose elements can be of a variety of new numeric datatypes of different precisions. Numpy supports *vector operations* on these arrays, and use of low-level  C language calls that can speed Python calculations enormously. Numpy comes with a variety of *methods* and functions operating on these array types, for things likie optimzation, fitting, approximation, equation solving and statistics. It is safe to say that no Python scientific programming is feasible without the use of Numpy."
      ]
    },
    {
      "cell_type": "markdown",
      "metadata": {
        "id": "2_FqXW3ZRUQm",
        "colab_type": "text"
      },
      "source": [
        "While not very practical, versatile or computationally efficient, multi-dimensional arrays could in fact be constructed from the *list* Python datatype. \n",
        "\n",
        "**HANDS-ON:** Create a 2-Dimensional array using the list type."
      ]
    },
    {
      "cell_type": "code",
      "metadata": {
        "id": "UEZOZbwgR4Op",
        "colab_type": "code",
        "cellView": "form",
        "colab": {
          "base_uri": "https://localhost:8080/",
          "height": 35
        },
        "outputId": "71bb9a57-bda7-4823-b861-17e4217c0bee"
      },
      "source": [
        "#@title Solution\n",
        "l2d = [[1,2,3],[4,5,6]]\n",
        "l2d[1][2]"
      ],
      "execution_count": 166,
      "outputs": [
        {
          "output_type": "execute_result",
          "data": {
            "text/plain": [
              "6"
            ]
          },
          "metadata": {
            "tags": []
          },
          "execution_count": 166
        }
      ]
    },
    {
      "cell_type": "markdown",
      "metadata": {
        "id": "vuO4o-_rSU1o",
        "colab_type": "text"
      },
      "source": [
        "#### Importing Numpy"
      ]
    },
    {
      "cell_type": "markdown",
      "metadata": {
        "id": "EjN95iUHnfbL",
        "colab_type": "text"
      },
      "source": [
        "To start using Numpy, we must import it:"
      ]
    },
    {
      "cell_type": "code",
      "metadata": {
        "id": "hIMzF2SQnkID",
        "colab_type": "code",
        "colab": {}
      },
      "source": [
        "import numpy as np"
      ],
      "execution_count": 0,
      "outputs": []
    },
    {
      "cell_type": "markdown",
      "metadata": {
        "id": "uAPJYTfgnqrB",
        "colab_type": "text"
      },
      "source": [
        "**Note:** While we could have used another name to import Numpy, \"np\" is an accepted convention in the Python programming community - using another name is a bad idea, as it will make your code harder to read for others and more difficult for to use external snippets of code in your own programs. "
      ]
    },
    {
      "cell_type": "markdown",
      "metadata": {
        "id": "TKi-FPINtpQS",
        "colab_type": "text"
      },
      "source": [
        "#### Numpy arrays are NOT lists"
      ]
    },
    {
      "cell_type": "markdown",
      "metadata": {
        "id": "odIs6CeeoqPm",
        "colab_type": "text"
      },
      "source": [
        "It is important to understand that while numpy arrays share some common traits with lists, they are entirely different beasts. There are differences both the way *operations* are done on numpy, and on the format of the contained *data* and the is *represented* in memory. We will come to that.\n",
        "\n",
        "The `np.array`function can create an array from a list:"
      ]
    },
    {
      "cell_type": "code",
      "metadata": {
        "id": "PabUbUj6ooX5",
        "colab_type": "code",
        "colab": {}
      },
      "source": [
        "a = np.array(([0, 1, 2, 3, 4, 5, 6, 7, 8, 9]))"
      ],
      "execution_count": 0,
      "outputs": []
    },
    {
      "cell_type": "markdown",
      "metadata": {
        "id": "YzSsZSoppBvn",
        "colab_type": "text"
      },
      "source": [
        "For comparison, let's declare a variable \"L\" for the same list:"
      ]
    },
    {
      "cell_type": "code",
      "metadata": {
        "id": "9cXwGc9-pBVN",
        "colab_type": "code",
        "colab": {}
      },
      "source": [
        "L = [0, 1, 2, 3, 4, 5, 6, 7, 8, 9]"
      ],
      "execution_count": 0,
      "outputs": []
    },
    {
      "cell_type": "markdown",
      "metadata": {
        "id": "_1u1Kh7Cpdlu",
        "colab_type": "text"
      },
      "source": [
        "Now let's inspect `a` and `L`:"
      ]
    },
    {
      "cell_type": "code",
      "metadata": {
        "id": "UDklY1b-pcpo",
        "colab_type": "code",
        "outputId": "ae76d423-8485-4ce3-80b1-78ce498e685b",
        "colab": {
          "base_uri": "https://localhost:8080/",
          "height": 35
        }
      },
      "source": [
        "a"
      ],
      "execution_count": 170,
      "outputs": [
        {
          "output_type": "execute_result",
          "data": {
            "text/plain": [
              "array([0, 1, 2, 3, 4, 5, 6, 7, 8, 9])"
            ]
          },
          "metadata": {
            "tags": []
          },
          "execution_count": 170
        }
      ]
    },
    {
      "cell_type": "code",
      "metadata": {
        "id": "l-2A-wBzo_uF",
        "colab_type": "code",
        "outputId": "71020d9a-a3b1-459f-aa16-c8da1500e9a4",
        "colab": {
          "base_uri": "https://localhost:8080/",
          "height": 35
        }
      },
      "source": [
        "L"
      ],
      "execution_count": 171,
      "outputs": [
        {
          "output_type": "execute_result",
          "data": {
            "text/plain": [
              "[0, 1, 2, 3, 4, 5, 6, 7, 8, 9]"
            ]
          },
          "metadata": {
            "tags": []
          },
          "execution_count": 171
        }
      ]
    },
    {
      "cell_type": "markdown",
      "metadata": {
        "id": "0z9_QEroqAZy",
        "colab_type": "text"
      },
      "source": [
        "The *array* name tag in the output tells us  that \"a\" is not of list type, even tough it contains a list of numbers. "
      ]
    },
    {
      "cell_type": "markdown",
      "metadata": {
        "id": "UlfXoesdqtSn",
        "colab_type": "text"
      },
      "source": [
        "And now let's reveal the first major difference between the two objects:"
      ]
    },
    {
      "cell_type": "code",
      "metadata": {
        "id": "LdALxaXNp-st",
        "colab_type": "code",
        "outputId": "79bb2787-1ea0-455d-97b7-78eb3a3a5d6a",
        "colab": {
          "base_uri": "https://localhost:8080/",
          "height": 35
        }
      },
      "source": [
        "2*L"
      ],
      "execution_count": 172,
      "outputs": [
        {
          "output_type": "execute_result",
          "data": {
            "text/plain": [
              "[0, 1, 2, 3, 4, 5, 6, 7, 8, 9, 0, 1, 2, 3, 4, 5, 6, 7, 8, 9]"
            ]
          },
          "metadata": {
            "tags": []
          },
          "execution_count": 172
        }
      ]
    },
    {
      "cell_type": "code",
      "metadata": {
        "id": "8oGfOqn0pm6_",
        "colab_type": "code",
        "outputId": "1902ff21-cc27-40e7-fce1-4fe23bad0d2d",
        "colab": {
          "base_uri": "https://localhost:8080/",
          "height": 35
        }
      },
      "source": [
        "2*a"
      ],
      "execution_count": 173,
      "outputs": [
        {
          "output_type": "execute_result",
          "data": {
            "text/plain": [
              "array([ 0,  2,  4,  6,  8, 10, 12, 14, 16, 18])"
            ]
          },
          "metadata": {
            "tags": []
          },
          "execution_count": 173
        }
      ]
    },
    {
      "cell_type": "markdown",
      "metadata": {
        "id": "B2QHecU3q5Dm",
        "colab_type": "text"
      },
      "source": [
        "While multiplying a list by \"n\" returns a list with \"n\" concatenated copies of the original list, multiplying a numpy 1D array with a number simply multiplies *each of its elements* by the same number \"n\". This is what's called a *vector operation*, which applies equally to all elements of an array.\n",
        "As we will see, vector operations go far beyond multiplication by a scalar. \n",
        "\n",
        "Let's create a second numpy array, at same time demonstrating the use of the function `np.arange`:"
      ]
    },
    {
      "cell_type": "code",
      "metadata": {
        "id": "WrPmh8RWq33B",
        "colab_type": "code",
        "outputId": "a1f52aee-612a-4eca-90cb-87b7bc90cf31",
        "colab": {
          "base_uri": "https://localhost:8080/",
          "height": 35
        }
      },
      "source": [
        "b = np.arange(10,20) # creates an array contain numbersfrom 10 to 20 (last not included)\n",
        "b"
      ],
      "execution_count": 174,
      "outputs": [
        {
          "output_type": "execute_result",
          "data": {
            "text/plain": [
              "array([10, 11, 12, 13, 14, 15, 16, 17, 18, 19])"
            ]
          },
          "metadata": {
            "tags": []
          },
          "execution_count": 174
        }
      ]
    },
    {
      "cell_type": "markdown",
      "metadata": {
        "id": "ojHysrXBsGu2",
        "colab_type": "text"
      },
      "source": [
        "What happens if we add the two arrays ? "
      ]
    },
    {
      "cell_type": "code",
      "metadata": {
        "id": "DKQOeTmzsBx8",
        "colab_type": "code",
        "outputId": "985b3f15-6559-45f4-9021-7d9cc48700f5",
        "colab": {
          "base_uri": "https://localhost:8080/",
          "height": 35
        }
      },
      "source": [
        "a + b"
      ],
      "execution_count": 175,
      "outputs": [
        {
          "output_type": "execute_result",
          "data": {
            "text/plain": [
              "array([10, 12, 14, 16, 18, 20, 22, 24, 26, 28])"
            ]
          },
          "metadata": {
            "tags": []
          },
          "execution_count": 175
        }
      ]
    },
    {
      "cell_type": "markdown",
      "metadata": {
        "id": "MyEdsi7fsYw-",
        "colab_type": "text"
      },
      "source": [
        "The two arrays got summed elementwise (each element of the new array is the sum of the elements of the two arrays in the corresponding position)"
      ]
    },
    {
      "cell_type": "markdown",
      "metadata": {
        "id": "ueSXRDjlstIT",
        "colab_type": "text"
      },
      "source": [
        "Mutlitplication of 1D arrays works in the same way:"
      ]
    },
    {
      "cell_type": "code",
      "metadata": {
        "id": "4a8em2XpsOXA",
        "colab_type": "code",
        "outputId": "6819461d-0ce8-4a62-9b7d-13090e0b5d54",
        "colab": {
          "base_uri": "https://localhost:8080/",
          "height": 35
        }
      },
      "source": [
        "a*b"
      ],
      "execution_count": 176,
      "outputs": [
        {
          "output_type": "execute_result",
          "data": {
            "text/plain": [
              "array([  0,  11,  24,  39,  56,  75,  96, 119, 144, 171])"
            ]
          },
          "metadata": {
            "tags": []
          },
          "execution_count": 176
        }
      ]
    },
    {
      "cell_type": "markdown",
      "metadata": {
        "id": "lapESnB5s9kF",
        "colab_type": "text"
      },
      "source": [
        "... and so does division:"
      ]
    },
    {
      "cell_type": "code",
      "metadata": {
        "id": "2-xBAixYszSZ",
        "colab_type": "code",
        "outputId": "3b4aabfe-5cfb-419d-a021-781f5e3dee3b",
        "colab": {
          "base_uri": "https://localhost:8080/",
          "height": 52
        }
      },
      "source": [
        "a/b"
      ],
      "execution_count": 177,
      "outputs": [
        {
          "output_type": "execute_result",
          "data": {
            "text/plain": [
              "array([0.        , 0.09090909, 0.16666667, 0.23076923, 0.28571429,\n",
              "       0.33333333, 0.375     , 0.41176471, 0.44444444, 0.47368421])"
            ]
          },
          "metadata": {
            "tags": []
          },
          "execution_count": 177
        }
      ]
    },
    {
      "cell_type": "markdown",
      "metadata": {
        "id": "7D2EWR3ktO2X",
        "colab_type": "text"
      },
      "source": [
        "Constrast this with lists:"
      ]
    },
    {
      "cell_type": "code",
      "metadata": {
        "id": "XpUt0CBxtDDG",
        "colab_type": "code",
        "outputId": "2bcbf983-2740-4143-dd23-95ea56932ff0",
        "colab": {
          "base_uri": "https://localhost:8080/",
          "height": 168
        }
      },
      "source": [
        "L*L"
      ],
      "execution_count": 178,
      "outputs": [
        {
          "output_type": "error",
          "ename": "TypeError",
          "evalue": "ignored",
          "traceback": [
            "\u001b[0;31m---------------------------------------------------------------------------\u001b[0m",
            "\u001b[0;31mTypeError\u001b[0m                                 Traceback (most recent call last)",
            "\u001b[0;32m<ipython-input-178-ebc56ab7be53>\u001b[0m in \u001b[0;36m<module>\u001b[0;34m()\u001b[0m\n\u001b[0;32m----> 1\u001b[0;31m \u001b[0mL\u001b[0m\u001b[0;34m*\u001b[0m\u001b[0mL\u001b[0m\u001b[0;34m\u001b[0m\u001b[0;34m\u001b[0m\u001b[0m\n\u001b[0m",
            "\u001b[0;31mTypeError\u001b[0m: can't multiply sequence by non-int of type 'list'"
          ]
        }
      ]
    },
    {
      "cell_type": "markdown",
      "metadata": {
        "id": "CZZ9JhKptVAv",
        "colab_type": "text"
      },
      "source": [
        "or"
      ]
    },
    {
      "cell_type": "code",
      "metadata": {
        "id": "b4sjQfXftStW",
        "colab_type": "code",
        "colab": {}
      },
      "source": [
        "L/L"
      ],
      "execution_count": 0,
      "outputs": []
    },
    {
      "cell_type": "markdown",
      "metadata": {
        "id": "WBxbbzqO7v-c",
        "colab_type": "text"
      },
      "source": [
        "Numpy array elements can be accessed through *slice notation*, in the same  as str or list objects:"
      ]
    },
    {
      "cell_type": "code",
      "metadata": {
        "id": "qCnxywzI8CQI",
        "colab_type": "code",
        "colab": {}
      },
      "source": [
        "a[3:7]"
      ],
      "execution_count": 0,
      "outputs": []
    },
    {
      "cell_type": "code",
      "metadata": {
        "id": "QgQKWhNn8Bhr",
        "colab_type": "code",
        "colab": {}
      },
      "source": [
        ""
      ],
      "execution_count": 0,
      "outputs": []
    },
    {
      "cell_type": "markdown",
      "metadata": {
        "id": "2FhAv2qwuT13",
        "colab_type": "text"
      },
      "source": [
        "#### Numpy arrays can be of different numerical types\n"
      ]
    },
    {
      "cell_type": "markdown",
      "metadata": {
        "id": "CoF0DzSpuaBD",
        "colab_type": "text"
      },
      "source": [
        "While Python has a default \"int\" and \"float\" data types, these are generally not welll suited for scientific computing, where we want a  lot more control about the precison, size and the way numbers are internally represented. Numpy provides a host of numerical types of varying precision and type. Let's list them:"
      ]
    },
    {
      "cell_type": "code",
      "metadata": {
        "id": "73If9oUUtYHW",
        "colab_type": "code",
        "colab": {}
      },
      "source": [
        "np.sctypes"
      ],
      "execution_count": 0,
      "outputs": []
    },
    {
      "cell_type": "markdown",
      "metadata": {
        "id": "RqOEVBiAwods",
        "colab_type": "text"
      },
      "source": [
        "Numpy has differents types for \"int\", \"float\" or \"complex\", and a few others. For each type, the different versions have a number appended, meaning the number of bytes that each number uses for internal representation. The \"float\" data types, for istance:"
      ]
    },
    {
      "cell_type": "code",
      "metadata": {
        "id": "cdy76sk1u89S",
        "colab_type": "code",
        "colab": {}
      },
      "source": [
        "np.sctypes['float']"
      ],
      "execution_count": 0,
      "outputs": []
    },
    {
      "cell_type": "markdown",
      "metadata": {
        "id": "rW3cSL1JxZnp",
        "colab_type": "text"
      },
      "source": [
        "denote floating point nunbers with 16 bits (float16), 32 bits (float32), 64 bits (float64) and 128 bits (float128). Gnerally speaking, types with higher number of bits offer  increased precision at the cost of higher storage requirements and slower computation. "
      ]
    },
    {
      "cell_type": "markdown",
      "metadata": {
        "id": "nVKnwq1OyOrA",
        "colab_type": "text"
      },
      "source": [
        "If we are really not all that much worried with the size of our numbers, Numpy provides default options for \"float\" and \"int\". So for instance when we created our numpy array with"
      ]
    },
    {
      "cell_type": "code",
      "metadata": {
        "id": "Ff5awgUxwDXM",
        "colab_type": "code",
        "colab": {}
      },
      "source": [
        "a = np.arange(10)"
      ],
      "execution_count": 0,
      "outputs": []
    },
    {
      "cell_type": "markdown",
      "metadata": {
        "id": "0_XYa8MXykUx",
        "colab_type": "text"
      },
      "source": [
        "numpy assumed you wanted integers (because of the lackof a decimal poin in the range limit). Whe can chek it by using the method \"dtype\" *attribute*  numpy array objects:"
      ]
    },
    {
      "cell_type": "code",
      "metadata": {
        "id": "kEznUPqkzgWb",
        "colab_type": "code",
        "colab": {}
      },
      "source": [
        "a.dtype"
      ],
      "execution_count": 0,
      "outputs": []
    },
    {
      "cell_type": "markdown",
      "metadata": {
        "id": "SSQiYM0izx08",
        "colab_type": "text"
      },
      "source": [
        "This tells us that the dafult \"int\" type for numpy is \"int64\" (integers with an internal representation of 64 bits, or 8 bytes)"
      ]
    },
    {
      "cell_type": "markdown",
      "metadata": {
        "id": "iMVPXB800AJG",
        "colab_type": "text"
      },
      "source": [
        "If we had typed instead:"
      ]
    },
    {
      "cell_type": "code",
      "metadata": {
        "id": "X1njVeK6zlFI",
        "colab_type": "code",
        "colab": {}
      },
      "source": [
        "a = np.arange(10.0)\n",
        "a"
      ],
      "execution_count": 0,
      "outputs": []
    },
    {
      "cell_type": "markdown",
      "metadata": {
        "id": "L2EVHisj8Ssh",
        "colab_type": "text"
      },
      "source": [
        "(Notice the decimal point after each number now, denoting *float* type)"
      ]
    },
    {
      "cell_type": "code",
      "metadata": {
        "id": "4uB9iJHf0HeU",
        "colab_type": "code",
        "colab": {}
      },
      "source": [
        "a.dtype"
      ],
      "execution_count": 0,
      "outputs": []
    },
    {
      "cell_type": "markdown",
      "metadata": {
        "id": "FsD-l4000ObR",
        "colab_type": "text"
      },
      "source": [
        "So the default numpy type is \"float64\", denoting floating point numbers internally represented in 64 bits (or 8 bytes). \n",
        "\n",
        "**Note:** The default size types for int and float in numpy are 64 bits because most machines nowadays use 64-bit CPUs where numbers are internally stored in 64 bits registers, so there is generally no computation penalty  for using numbers up to this size (GPU computation is a different story)."
      ]
    },
    {
      "cell_type": "markdown",
      "metadata": {
        "id": "ogvkPLaU1BZ6",
        "colab_type": "text"
      },
      "source": [
        "Whenever we want numpy to create arrays of a non-default data type, we can simply do "
      ]
    },
    {
      "cell_type": "code",
      "metadata": {
        "id": "hhwDTFyJ0KIC",
        "colab_type": "code",
        "colab": {}
      },
      "source": [
        "a = np.arange(10, dtype=np.float32)\n",
        "a"
      ],
      "execution_count": 0,
      "outputs": []
    },
    {
      "cell_type": "code",
      "metadata": {
        "id": "e-HxbkoY1L_c",
        "colab_type": "code",
        "colab": {}
      },
      "source": [
        "a.dtype"
      ],
      "execution_count": 0,
      "outputs": []
    },
    {
      "cell_type": "markdown",
      "metadata": {
        "id": "nLm7FPpk1XZ1",
        "colab_type": "text"
      },
      "source": [
        "(notice how we need to prepend the data type \"float32\" with \"np\" or Python will not recognize it).\n",
        "<br><br>\n",
        "Another useful of method numpy objects is \"shape\":"
      ]
    },
    {
      "cell_type": "code",
      "metadata": {
        "id": "5A5mOryk1R20",
        "colab_type": "code",
        "colab": {}
      },
      "source": [
        "a.shape"
      ],
      "execution_count": 0,
      "outputs": []
    },
    {
      "cell_type": "markdown",
      "metadata": {
        "id": "vNMkkk3d1pLv",
        "colab_type": "text"
      },
      "source": [
        "The \"(10,)\" tuple indicates this is an array with only one dimension of size 10."
      ]
    },
    {
      "cell_type": "markdown",
      "metadata": {
        "id": "x6j4ltIz4h49",
        "colab_type": "text"
      },
      "source": [
        "#### Different ways to initialize a numpy array"
      ]
    },
    {
      "cell_type": "markdown",
      "metadata": {
        "id": "HuU4CKWD4sPD",
        "colab_type": "text"
      },
      "source": [
        "Numpy arrays can be initalized in different ways. So far we made accquaintance  with the `np.array` and `np.arange`methods.\n",
        "<br><br>\n",
        "The general form of the `np.arange` command is:\n",
        "\n",
        "```python\n",
        "a = np.arange(min_value, max_value, step)\n",
        "```\n",
        "where \"min\", \"max\" and \"step\" can be a \"int\" of \"float\" type.  For instance:"
      ]
    },
    {
      "cell_type": "code",
      "metadata": {
        "id": "KKsU8fOB1m0l",
        "colab_type": "code",
        "colab": {}
      },
      "source": [
        "np.arange(1,5,0.1)"
      ],
      "execution_count": 0,
      "outputs": []
    },
    {
      "cell_type": "markdown",
      "metadata": {
        "id": "X2O_pJNl5ogd",
        "colab_type": "text"
      },
      "source": [
        "When creating a numpy array in this way, it is not immediately obvious how many elements it will contain - it depends on min, max and step. If you need to split the the `[min_value, max_value]` interval in an exact number of  elements, then `np.linspace` is your friend:"
      ]
    },
    {
      "cell_type": "code",
      "metadata": {
        "id": "tOgfANdS10xt",
        "colab_type": "code",
        "colab": {}
      },
      "source": [
        "a = np.linspace(1,5,20)\n",
        "a"
      ],
      "execution_count": 0,
      "outputs": []
    },
    {
      "cell_type": "markdown",
      "metadata": {
        "id": "mdZUKszp-OxF",
        "colab_type": "text"
      },
      "source": [
        "Let's check the number of elements in a:"
      ]
    },
    {
      "cell_type": "code",
      "metadata": {
        "id": "xEefjbmw-S5a",
        "colab_type": "code",
        "colab": {}
      },
      "source": [
        "a.shape"
      ],
      "execution_count": 0,
      "outputs": []
    },
    {
      "cell_type": "markdown",
      "metadata": {
        "id": "XYquyL315-3c",
        "colab_type": "text"
      },
      "source": [
        "The array thus created is sure to have the number of elements specified in the third argument to the \"linspace\" call. "
      ]
    },
    {
      "cell_type": "markdown",
      "metadata": {
        "id": "fORJw4rc6OBW",
        "colab_type": "text"
      },
      "source": [
        "There many situations where we simply want to initialize an array with a given number of elements and are not particularly worried about the *intial* contents of said array.  We may be happy to fill it with zeros:"
      ]
    },
    {
      "cell_type": "code",
      "metadata": {
        "id": "WLrRxiVe59Pl",
        "colab_type": "code",
        "colab": {}
      },
      "source": [
        "np.zeros(10)"
      ],
      "execution_count": 0,
      "outputs": []
    },
    {
      "cell_type": "markdown",
      "metadata": {
        "id": "Qv5GRKqy6jTL",
        "colab_type": "text"
      },
      "source": [
        "Or with ones:"
      ]
    },
    {
      "cell_type": "code",
      "metadata": {
        "id": "MkdLNmPi6gn7",
        "colab_type": "code",
        "colab": {}
      },
      "source": [
        "np.ones(10)"
      ],
      "execution_count": 0,
      "outputs": []
    },
    {
      "cell_type": "markdown",
      "metadata": {
        "id": "jwiU1ZDV858u",
        "colab_type": "text"
      },
      "source": [
        "You calso initialize your array with constante value other than zero or one using \"np.full\" :"
      ]
    },
    {
      "cell_type": "code",
      "metadata": {
        "id": "M8aTG5Cv6lvQ",
        "colab_type": "code",
        "colab": {}
      },
      "source": [
        "np.full(10,42)"
      ],
      "execution_count": 0,
      "outputs": []
    },
    {
      "cell_type": "markdown",
      "metadata": {
        "id": "bxZ0o4Tx9OhG",
        "colab_type": "text"
      },
      "source": [
        "You can even use \"np.empty\" to just allocate space for the array, without initializing it in any way. Note, however, that in this case the array elements will be initialized with whatever random bytes happend to be at the memory location that Python decides to use for your array - you cannot assume anything  about these initial values!"
      ]
    },
    {
      "cell_type": "code",
      "metadata": {
        "id": "_Y94b_gK61Wg",
        "colab_type": "code",
        "colab": {}
      },
      "source": [
        "np.empty(5)"
      ],
      "execution_count": 0,
      "outputs": []
    },
    {
      "cell_type": "markdown",
      "metadata": {
        "id": "NFs_PDxUHULO",
        "colab_type": "text"
      },
      "source": [
        "Numpy arrays can also be initialized from lists using the \"np.array\" command:"
      ]
    },
    {
      "cell_type": "code",
      "metadata": {
        "id": "fp3u7KS_HbYK",
        "colab_type": "code",
        "colab": {}
      },
      "source": [
        "a = np.array([0,1,2,3,4],dtype=np.float64)"
      ],
      "execution_count": 0,
      "outputs": []
    },
    {
      "cell_type": "code",
      "metadata": {
        "id": "iQtcpsvTHk5h",
        "colab_type": "code",
        "colab": {}
      },
      "source": [
        "a"
      ],
      "execution_count": 0,
      "outputs": []
    },
    {
      "cell_type": "markdown",
      "metadata": {
        "id": "GhsnBwu1-MIg",
        "colab_type": "text"
      },
      "source": [
        "#### Numpy arrays of higher dimensions"
      ]
    },
    {
      "cell_type": "markdown",
      "metadata": {
        "id": "hZpvJtBX_PUx",
        "colab_type": "text"
      },
      "source": [
        "We've started out by saing that the numpy package expands Python with new data objects for multi-dimensional arrays, but so far we have only seen  arrays in one dimension. Actually, most of the commands we have listed for numpy array creation can be used for creating 2D, 3D, or ND arrays.  "
      ]
    },
    {
      "cell_type": "markdown",
      "metadata": {
        "id": "ofdyurFzIp77",
        "colab_type": "text"
      },
      "source": [
        "Let's make a 5x10 2D array of zeros:"
      ]
    },
    {
      "cell_type": "code",
      "metadata": {
        "id": "NEjO1-uE9rlu",
        "colab_type": "code",
        "colab": {}
      },
      "source": [
        "a =np.zeros((5,10))"
      ],
      "execution_count": 0,
      "outputs": []
    },
    {
      "cell_type": "markdown",
      "metadata": {
        "id": "Smau-BlHJO70",
        "colab_type": "text"
      },
      "source": [
        "The tuple (5,10) is passed as argument to the np.zeros function to specify the desired *shape* of the array"
      ]
    },
    {
      "cell_type": "code",
      "metadata": {
        "id": "leB8tOVFI3Ol",
        "colab_type": "code",
        "colab": {}
      },
      "source": [
        "a.shape"
      ],
      "execution_count": 0,
      "outputs": []
    },
    {
      "cell_type": "code",
      "metadata": {
        "id": "5xbT6C9uJfdU",
        "colab_type": "code",
        "colab": {}
      },
      "source": [
        "a"
      ],
      "execution_count": 0,
      "outputs": []
    },
    {
      "cell_type": "markdown",
      "metadata": {
        "id": "QCh2zcE-JjwR",
        "colab_type": "text"
      },
      "source": [
        ""
      ]
    },
    {
      "cell_type": "markdown",
      "metadata": {
        "id": "97hVt-9jIFhm",
        "colab_type": "text"
      },
      "source": [
        "To refer to  the element on row \"i\" and column \"j\" you would do:"
      ]
    },
    {
      "cell_type": "code",
      "metadata": {
        "id": "XJSpVkBkIa9t",
        "colab_type": "code",
        "colab": {}
      },
      "source": [
        "i = 2 \n",
        "j = 3\n",
        "a[i,j] = 999"
      ],
      "execution_count": 0,
      "outputs": []
    },
    {
      "cell_type": "markdown",
      "metadata": {
        "id": "LE1nDm6mKFsq",
        "colab_type": "text"
      },
      "source": [
        "**NOTE**: Seeing how a 2D array can be created with lists of a lists, it could have been reasonable to assume that referenece to an element i, j would be done  with \n",
        "\n",
        "\n",
        "```\n",
        "a[i][j]\n",
        "```\n",
        "While this does indeed work as a way of accessing single elements of N-dimensional np arrays, it prevents the ue of the very powerful numpy *slice notation*. "
      ]
    },
    {
      "cell_type": "markdown",
      "metadata": {
        "id": "OgQqKoCYNpdY",
        "colab_type": "text"
      },
      "source": [
        "Let's create a 2D array in a different way, using the \"reshape\" method of 2D arrays:"
      ]
    },
    {
      "cell_type": "code",
      "metadata": {
        "id": "wXnaYOqdJgXL",
        "colab_type": "code",
        "colab": {}
      },
      "source": [
        "a = np.arange(25).reshape(5,5)\n",
        "a"
      ],
      "execution_count": 0,
      "outputs": []
    },
    {
      "cell_type": "markdown",
      "metadata": {
        "id": "zQjJ_nGmOFXC",
        "colab_type": "text"
      },
      "source": [
        "Can you understand how this array was created ?\n",
        "\n",
        "\n",
        "1.   A 1D array of lenght 25 was created\n",
        "2.   The 1D array was *reshaped* to a 5 by 5 2D array\n",
        "\n",
        "The methods \"arange\" and \"reshape\" were *chained* in a single command. We could have done this in parts:\n"
      ]
    },
    {
      "cell_type": "code",
      "metadata": {
        "id": "n30htFrJJBUn",
        "colab_type": "code",
        "colab": {}
      },
      "source": [
        "a = np.arange(25)\n",
        "a = a.reshape(5,5)\n",
        "a"
      ],
      "execution_count": 0,
      "outputs": []
    },
    {
      "cell_type": "markdown",
      "metadata": {
        "id": "LnaZQTwHO7Ba",
        "colab_type": "text"
      },
      "source": [
        "The first form may be less readable at first, but witth a little experience it becomes a really nice and  compact way to encapsulate complex operations. \n",
        "\n",
        "We can check the array shape:"
      ]
    },
    {
      "cell_type": "code",
      "metadata": {
        "id": "ZetSKuiOO3zo",
        "colab_type": "code",
        "colab": {}
      },
      "source": [
        "a.shape"
      ],
      "execution_count": 0,
      "outputs": []
    },
    {
      "cell_type": "markdown",
      "metadata": {
        "id": "UzjP4bCkTrmo",
        "colab_type": "text"
      },
      "source": [
        "To access a given element of the array:"
      ]
    },
    {
      "cell_type": "code",
      "metadata": {
        "id": "6y99402mTyOD",
        "colab_type": "code",
        "colab": {}
      },
      "source": [
        "a[3,3]"
      ],
      "execution_count": 0,
      "outputs": []
    },
    {
      "cell_type": "markdown",
      "metadata": {
        "id": "XQ6swKtoT7s1",
        "colab_type": "text"
      },
      "source": [
        "A range of elements can be accessed with the slice notation:"
      ]
    },
    {
      "cell_type": "code",
      "metadata": {
        "id": "GZNx9dYpUAZF",
        "colab_type": "code",
        "colab": {}
      },
      "source": [
        "a[2:5,1:4]"
      ],
      "execution_count": 0,
      "outputs": []
    },
    {
      "cell_type": "markdown",
      "metadata": {
        "id": "Re4spyn5UIeO",
        "colab_type": "text"
      },
      "source": [
        "The first index always referrs to rows, and the second to columns, so using only one index return the entire row:"
      ]
    },
    {
      "cell_type": "code",
      "metadata": {
        "id": "zS-kecmyUbC1",
        "colab_type": "code",
        "colab": {}
      },
      "source": [
        "a[1]"
      ],
      "execution_count": 0,
      "outputs": []
    },
    {
      "cell_type": "markdown",
      "metadata": {
        "id": "4rsxnHASUo0Q",
        "colab_type": "text"
      },
      "source": [
        "To refer to a single column, the folloing notation is used:"
      ]
    },
    {
      "cell_type": "code",
      "metadata": {
        "id": "_Y8rUQz0U0aP",
        "colab_type": "code",
        "colab": {}
      },
      "source": [
        "a[:,1]"
      ],
      "execution_count": 0,
      "outputs": []
    },
    {
      "cell_type": "markdown",
      "metadata": {
        "id": "gA_ozXUdU6yM",
        "colab_type": "text"
      },
      "source": [
        "(the \":\" for the row index means all row values will used, produced the entire column)"
      ]
    },
    {
      "cell_type": "markdown",
      "metadata": {
        "id": "K1k_7qm3VRLW",
        "colab_type": "text"
      },
      "source": [
        "**HANDS-ON:** Figure what the correct slicing to apply to array \"a\" in order to produce this result:\n",
        "\n",
        "\n",
        "\n",
        "```Python\n",
        "array([[ 7,  8,  9],\n",
        "       [12, 13, 14],\n",
        "       [17, 18, 19]])\n",
        "```\n",
        "\n"
      ]
    },
    {
      "cell_type": "code",
      "metadata": {
        "id": "cAy8UD1tVkm0",
        "colab_type": "code",
        "cellView": "form",
        "colab": {}
      },
      "source": [
        "#@title SOLUTION\n",
        "a[1:4,2:5]"
      ],
      "execution_count": 0,
      "outputs": []
    },
    {
      "cell_type": "markdown",
      "metadata": {
        "id": "7K3JornUTQLJ",
        "colab_type": "text"
      },
      "source": [
        "Higher-dimensional arrays can be created in the same way:"
      ]
    },
    {
      "cell_type": "code",
      "metadata": {
        "id": "5QE6z80kTPHP",
        "colab_type": "code",
        "colab": {}
      },
      "source": [
        "b = np.arange(125).reshape(5,5,5)\n",
        "b"
      ],
      "execution_count": 0,
      "outputs": []
    },
    {
      "cell_type": "markdown",
      "metadata": {
        "id": "50smO4qVXB-C",
        "colab_type": "text"
      },
      "source": [
        "We can imagine a 3D array as a cube of numbers, where each value of the first index points to a 2D-array \"slice\" of the cube:"
      ]
    },
    {
      "cell_type": "code",
      "metadata": {
        "id": "lQq_PZKSXPLS",
        "colab_type": "code",
        "colab": {}
      },
      "source": [
        "b[2]"
      ],
      "execution_count": 0,
      "outputs": []
    },
    {
      "cell_type": "markdown",
      "metadata": {
        "id": "ZNbf-M8RXskt",
        "colab_type": "text"
      },
      "source": [
        "#### Vector operations on arrays\n",
        "\n",
        "One of the most powerful things about numpy arrays is how operations can be done on them on a vectorial (elementwise) manner. Not only does this produce much more compact and elegant code, but also frequently results in major code speedups, as the vectorized operations are done by very fast pre-compiled C functions. Generally, if $X = [X_1,X_2,...,X_n]$ is a numpy array and $f()$ a *universal function* (ufunc), the operation:\n",
        "\n",
        "$$ A = f(X) $$\n",
        "\n",
        "will return an array whose are values $A = [f(X_1),f(X_2),...,f(X_n)]$. The numpy library has many universal functions, ranging from simply arithmetic to transcendant functions like cos, sin, tan, log...  Essentially, this means that in many instances we do not need  to *explicitly* iterate over the elements of an array (for istance with a \"for\" loop) to produce the desired result. In fact, \"for\" loops will be pratically non-existent in proeficient numpy code! "
      ]
    },
    {
      "cell_type": "markdown",
      "metadata": {
        "id": "2n5T0CJjcpw6",
        "colab_type": "text"
      },
      "source": [
        "Let's start out with a simple example:"
      ]
    },
    {
      "cell_type": "code",
      "metadata": {
        "id": "SJk2ITHHZTl2",
        "colab_type": "code",
        "colab": {}
      },
      "source": [
        "x = np.arange(0,2*np.pi,0.1)\n",
        "x"
      ],
      "execution_count": 0,
      "outputs": []
    },
    {
      "cell_type": "markdown",
      "metadata": {
        "id": "zWniO601c38S",
        "colab_type": "text"
      },
      "source": [
        "As you may have guessed, \"np.pi\" is the number $\\pi$ . The array \"x\" is loaded with floating point numbers ranging from $0$ to $2\\pi$. Now lets apply the ufunc \"np.sin\" to the array x:"
      ]
    },
    {
      "cell_type": "code",
      "metadata": {
        "id": "rd3clGZqdwQM",
        "colab_type": "code",
        "colab": {}
      },
      "source": [
        "y = np.sin(x)\n",
        "y"
      ],
      "execution_count": 0,
      "outputs": []
    },
    {
      "cell_type": "markdown",
      "metadata": {
        "id": "YGJua5QDd1DI",
        "colab_type": "text"
      },
      "source": [
        "y is a new array containing the sine of every element in the x array!\n",
        "\n",
        "To convinces us that this is so, let's plot y against x using Matplotlib:"
      ]
    },
    {
      "cell_type": "code",
      "metadata": {
        "id": "jBnEbwZ9eRJX",
        "colab_type": "code",
        "colab": {}
      },
      "source": [
        "import matplotlib.pyplot as plt\n",
        "plt.plot(x,y,'ko-')"
      ],
      "execution_count": 0,
      "outputs": []
    },
    {
      "cell_type": "markdown",
      "metadata": {
        "id": "8-ZpUVXbeyqW",
        "colab_type": "text"
      },
      "source": [
        "**HANDS-ON:** If `z = np.cos(x)`, what do you think will be the return result of the following expression:\n",
        "\n",
        "```\n",
        "y*y+z*z\n",
        "```\n",
        "(don't just run it, try to guess the result first!)"
      ]
    },
    {
      "cell_type": "code",
      "metadata": {
        "id": "sDm9gjKpelIU",
        "colab_type": "code",
        "cellView": "form",
        "colab": {}
      },
      "source": [
        "#@title SOLUTION\n",
        "z = np.cos(x)\n",
        "y*y+z*z"
      ],
      "execution_count": 0,
      "outputs": []
    },
    {
      "cell_type": "markdown",
      "metadata": {
        "id": "gvxwWsn4UjKn",
        "colab_type": "text"
      },
      "source": [
        "Another example, generating a polynomial function from argument x :"
      ]
    },
    {
      "cell_type": "code",
      "metadata": {
        "id": "UcGqpPVPpKIn",
        "colab_type": "code",
        "colab": {}
      },
      "source": [
        "a = 2\n",
        "b = 3\n",
        "c = -1\n",
        "y = a * x**2 + b * x + c"
      ],
      "execution_count": 0,
      "outputs": []
    },
    {
      "cell_type": "code",
      "metadata": {
        "id": "3qtq8xQspSeI",
        "colab_type": "code",
        "colab": {}
      },
      "source": [
        "plt.plot(x,y,'ko-')"
      ],
      "execution_count": 0,
      "outputs": []
    },
    {
      "cell_type": "markdown",
      "metadata": {
        "id": "wWEMTf8fjnit",
        "colab_type": "text"
      },
      "source": [
        "Besides vectorized functions, all numpy objects support a number of *methods* that can be used to operate on their elements in various ways. Combining these methods with the vector ufuncs makes for a really powerful way of making all sorts of computations with numpy arrays. "
      ]
    },
    {
      "cell_type": "markdown",
      "metadata": {
        "id": "QC4HzNOAkSsD",
        "colab_type": "text"
      },
      "source": [
        "Here are some examples of the available numpy methods:"
      ]
    },
    {
      "cell_type": "code",
      "metadata": {
        "id": "Jb4Qq0pnkcb1",
        "colab_type": "code",
        "colab": {}
      },
      "source": [
        "import numpy as np\n",
        "x = np.array([2, 5, 4, 3, 1, 6])\n",
        "print(x.sum())\n",
        "print(x.mean())\n",
        "print(x.var())\n",
        "print(x.std())\n",
        "print(x.max())\n",
        "print(x.min())\n",
        "print(x.argmax())\n",
        "print(x.argmin())"
      ],
      "execution_count": 0,
      "outputs": []
    },
    {
      "cell_type": "markdown",
      "metadata": {
        "id": "YMx-78MPlKWi",
        "colab_type": "text"
      },
      "source": [
        "**HANDS-ON:** The purpose of most of these functions is pretty obvious, but can you guess what the \"argmax\" and \"argmin\" functions do ?"
      ]
    },
    {
      "cell_type": "markdown",
      "metadata": {
        "id": "H22PaDUKDmhw",
        "colab_type": "text"
      },
      "source": [
        "Example: the Root Mean Square Deviation of two arrays X and Y is defined as:\n",
        "\n",
        "$$ \\text{RMSD} = \\sqrt{\\frac{1}{N}\\sum_i^N (X_i-Y_i)^2} $$\n",
        "\n",
        "Let's calculate with a numpy expression:"
      ]
    },
    {
      "cell_type": "code",
      "metadata": {
        "id": "grl1e2gEErHu",
        "colab_type": "code",
        "colab": {}
      },
      "source": [
        "x = np.array([1,2,3])\n",
        "y = np.array([4,5,7])\n",
        "np.sqrt(((x-y)**2).mean())"
      ],
      "execution_count": 0,
      "outputs": []
    },
    {
      "cell_type": "markdown",
      "metadata": {
        "id": "nhVLLkAPFvsT",
        "colab_type": "text"
      },
      "source": [
        "The expression:\n",
        "\n",
        "\n",
        "```\n",
        "np.sqrt(((x-y)**2).mean())\n",
        "```\n",
        "\n",
        "is a good example of chaining of various numpy operations. Analyze it carefully, working from the inside to the outside, and try to understand what it does.\n"
      ]
    },
    {
      "cell_type": "markdown",
      "metadata": {
        "id": "eegIkv8Yl_8N",
        "colab_type": "text"
      },
      "source": [
        "**HANDS-ON:** The sample covariance of two random variables X and Y, is \n",
        "\n",
        "\n",
        "$$ {\\displaystyle S_{XY}={\\frac {1}{N-1}}\\sum _{i=1}^{N}\\left(X_{i}-{\\bar {X}}\\right)\\left(Y_{i}-{\\bar {Y}}\\right),}$$\n",
        "\n",
        "where $\\bar{X}$ and $\\bar{Y}$ are the sample means of the wariables:\n",
        "\n",
        "$$ \\bar X ={\\frac {1}{N}}\\sum _{i=1}^{N} X_{i} \\quad \\text{and} \\quad \\bar Y ={\\frac {1}{N}}\\sum _{i=1}^{N} Y_{i}$$\n",
        "\n",
        "Write a numpy expression that calculates the covariance of two arrays \"x\" and \"Y\" (which must have the same lenght!)\n",
        "<br>\n",
        "<br>\n",
        "**NOTE:** $S_{XX}$ is \n",
        "\n",
        "$$ {\\displaystyle S_{XX}={\\frac {1}{N-1}}\\sum _{i=1}^{N}\\left(X_{i}-{\\bar {X}}\\right)\\left(X_{i}-{\\bar {X}}\\right) = {\\frac {1}{N-1}}\\sum _{i=1}^{N}\\left(X_{i}-{\\bar {X}}\\right)^2}$$  \n",
        "\n",
        "which is simply the sample variance $S_X$ of the random variable X. So the variance is simply the covariance of a random variable with itself. "
      ]
    },
    {
      "cell_type": "code",
      "metadata": {
        "id": "PrEOO6uxlD84",
        "colab_type": "code",
        "cellView": "both",
        "colab": {}
      },
      "source": [
        "#@title SOLUTION\n",
        "x = np.array([1,3,5,6,11,14])\n",
        "y = np.array([3,9,17,22,31,35])\n",
        "((x-x.mean())*(y-y.mean())).sum()/(len(x)-1)"
      ],
      "execution_count": 0,
      "outputs": []
    },
    {
      "cell_type": "markdown",
      "metadata": {
        "id": "4NEUVrDZqyfz",
        "colab_type": "text"
      },
      "source": [
        "**HANDS-ON:** Now let's caculate the Pearson correlation coeficient, \n",
        "\n",
        "$${\\displaystyle \\rho _{X,Y}={\\frac {\\operatorname {cov} (X,Y)}{\\sigma _{X}\\sigma _{Y}}}}$$\n",
        "\n",
        "where $\\sigma _{X}$ and $\\sigma _{Y}$ are *standard deviations* of the two random variables.\n",
        "\n",
        "For two sizes $n$ samples of $X$ and $Y$, the sample correlation coefficient is given by:\n",
        "\n",
        "$${\\displaystyle r_{XY}={\\frac {\\sum _{i=1}^{n}(X_{i}-{\\bar {X}})(Y_{i}-{\\bar {Y}})}{{\\sqrt {\\sum _{i=1}^{n}(X_{i}-{\\bar {X}})^{2}}}{\\sqrt {\\sum _{i=1}^{n}(Y_{i}-{\\bar {Y}})^{2}}}}}} $$\n",
        "\n",
        "1. Define a function named `covar` such that `covar(x,y)` returns the covariance of random samples x and y.\n",
        "2. Using `covar`, implement another function named `pearson` that calculates the sample Pearson correlation coefficient $r_{XY}$\n",
        "\n"
      ]
    },
    {
      "cell_type": "code",
      "metadata": {
        "id": "jZGAmorVvGOe",
        "colab_type": "code",
        "cellView": "form",
        "colab": {}
      },
      "source": [
        "#@title SOLUTION\n",
        "def covar(x,y):\n",
        "  return ((x-x.mean())*(y-y.mean())).sum()/(len(x)-1)\n",
        "\n",
        "def pearson(x,y):\n",
        "  return covar(x,y)/(np.sqrt(covar(x,x))*np.sqrt(covar(y,y)))\n",
        "\n",
        "pearson(x,y)"
      ],
      "execution_count": 0,
      "outputs": []
    },
    {
      "cell_type": "markdown",
      "metadata": {
        "id": "BY3l7UnXBttA",
        "colab_type": "text"
      },
      "source": [
        "You can actually check the correctness of your solution by checking your result agains that of the following command:\n",
        "\n",
        "```\n",
        "np.corrcoeof(x,y),\n",
        "```\n",
        "\n",
        "a numpy  function that implements the Pearson correlation coefficient (sorry for wasting your time...).\n"
      ]
    },
    {
      "cell_type": "code",
      "metadata": {
        "id": "3lE4m9_xvteU",
        "colab_type": "code",
        "colab": {}
      },
      "source": [
        "np.corrcoef(x,y)"
      ],
      "execution_count": 0,
      "outputs": []
    },
    {
      "cell_type": "code",
      "metadata": {
        "id": "D8Xd4wtRqoi0",
        "colab_type": "code",
        "colab": {}
      },
      "source": [
        "np.cov(x,y)[0,1]"
      ],
      "execution_count": 0,
      "outputs": []
    },
    {
      "cell_type": "code",
      "metadata": {
        "id": "fZMCHHePMFEb",
        "colab_type": "code",
        "colab": {}
      },
      "source": [
        "wines = np.genfromtxt(\"https://archive.ics.uci.edu/ml/machine-learning-databases/wine-quality/winequality-red.csv\", delimiter=\";\", skip_header=1)"
      ],
      "execution_count": 0,
      "outputs": []
    },
    {
      "cell_type": "code",
      "metadata": {
        "id": "iv_K-UF4hnGr",
        "colab_type": "code",
        "colab": {}
      },
      "source": [
        "wines[0]"
      ],
      "execution_count": 0,
      "outputs": []
    },
    {
      "cell_type": "markdown",
      "metadata": {
        "id": "sCuvEBZt8Ji5",
        "colab_type": "text"
      },
      "source": [
        "#### Row and Column operations on 2D Numpy Arrays"
      ]
    },
    {
      "cell_type": "markdown",
      "metadata": {
        "id": "2Rdx40d-8RCz",
        "colab_type": "text"
      },
      "source": [
        "Tabular forms are a very common way to organize all sorts of data, and 2D Numpy array is just one form of storing such data in a Python object. Spreadsheet programs like Excel or Google Spreadsheets allow operation on columns or rows of tabular data, like sorting, filter, statistical operations, numerical operations, functions, and so on. With Numpy, we can programatically perform such operations on tabular data."
      ]
    },
    {
      "cell_type": "markdown",
      "metadata": {
        "id": "-3VsLEuBzwMP",
        "colab_type": "text"
      },
      "source": [
        "Let's ilustrate array numpy tabulations with an example. The data in the \"grades\"  arrays below represents the classifications of six students (one for each row) in each of 3 tests. The final grade is the average of the 3 tests, but a minum grade of 7  is required to be able to pass. Also, the grade average of the 3 tests must be higher than 9.5. Here is the data:"
      ]
    },
    {
      "cell_type": "code",
      "metadata": {
        "id": "9YEMhwAEDIEZ",
        "colab_type": "code",
        "colab": {}
      },
      "source": [
        "grades =\\\n",
        "np.array([[ 7.50, 10.55, 11.40 ],\n",
        "       [10.25, 10.15,  7.15],\n",
        "       [12.95, 10.95, 11.45],\n",
        "       [12.20,  8.25, 11.50],\n",
        "       [16.85, 17.20 , 20.00],\n",
        "       [14.50, 15.75, 15.15],\n",
        "       [16.85, 16.25, 18.00],\n",
        "       [15.60, 11.80, 16.75],\n",
        "       [12.40,  11.80, 6.00],\n",
        "       [7.50,  8.85,   8.80],\n",
        "       [ 9.50,  10.00, 6.50]])"
      ],
      "execution_count": 0,
      "outputs": []
    },
    {
      "cell_type": "code",
      "metadata": {
        "id": "40VR0-MtzsIx",
        "colab_type": "code",
        "colab": {
          "base_uri": "https://localhost:8080/",
          "height": 212
        },
        "outputId": "423415d2-a0c6-4c50-bb7b-a991716fc700"
      },
      "source": [
        "print(grades)"
      ],
      "execution_count": 114,
      "outputs": [
        {
          "output_type": "stream",
          "text": [
            "[[ 7.5  10.55 11.4 ]\n",
            " [10.25 10.15  7.15]\n",
            " [12.95 10.95 11.45]\n",
            " [12.2   8.25 11.5 ]\n",
            " [16.85 17.2  20.  ]\n",
            " [14.5  15.75 15.15]\n",
            " [16.85 16.25 18.  ]\n",
            " [15.6  11.8  16.75]\n",
            " [12.4  11.8   6.  ]\n",
            " [ 7.5   8.85  8.8 ]\n",
            " [ 9.5  10.    6.5 ]]\n"
          ],
          "name": "stdout"
        }
      ]
    },
    {
      "cell_type": "markdown",
      "metadata": {
        "id": "YijOO1n02V7r",
        "colab_type": "text"
      },
      "source": [
        "Let's calculate the final grade average for each student, which the same as the average along the rows. We already now that numpy arrays have a methodo name \"mean\", which calculate the mean of its values. If you use with our \"grades\" array :"
      ]
    },
    {
      "cell_type": "code",
      "metadata": {
        "id": "LiItw-Kh2w4j",
        "colab_type": "code",
        "colab": {
          "base_uri": "https://localhost:8080/",
          "height": 35
        },
        "outputId": "bae6ab14-4846-4e7b-8d91-276255dc105b"
      },
      "source": [
        "grades.mean()"
      ],
      "execution_count": 115,
      "outputs": [
        {
          "output_type": "execute_result",
          "data": {
            "text/plain": [
              "12.131818181818183"
            ]
          },
          "metadata": {
            "tags": []
          },
          "execution_count": 115
        }
      ]
    },
    {
      "cell_type": "markdown",
      "metadata": {
        "id": "N9bv165522eu",
        "colab_type": "text"
      },
      "source": [
        "The resulting value is the mean over the *full* set of values in the array, i.e. the mean grade of all tests taken by all students in all three evaluations. This is not want we wanted, but rather the mean along each row. We can get that by passing the \"axis\" argument to the \"mean\"  method - it will tell numpy to evaluate the mean *along the given axis*. For 2D arrays, axis = 0 means \"along columns\" and \"axis=1\" means \"along rows\", and we want the latter:"
      ]
    },
    {
      "cell_type": "code",
      "metadata": {
        "id": "hchgMvc43pQZ",
        "colab_type": "code",
        "colab": {
          "base_uri": "https://localhost:8080/",
          "height": 70
        },
        "outputId": "21997e6f-9ff5-495e-ed03-bb3c826c8139"
      },
      "source": [
        "grades.mean(axis=1)"
      ],
      "execution_count": 116,
      "outputs": [
        {
          "output_type": "execute_result",
          "data": {
            "text/plain": [
              "array([ 9.81666667,  9.18333333, 11.78333333, 10.65      , 18.01666667,\n",
              "       15.13333333, 17.03333333, 14.71666667, 10.06666667,  8.38333333,\n",
              "        8.66666667])"
            ]
          },
          "metadata": {
            "tags": []
          },
          "execution_count": 116
        }
      ]
    },
    {
      "cell_type": "markdown",
      "metadata": {
        "id": "RzBPslRBHh0u",
        "colab_type": "text"
      },
      "source": [
        "This being the final grades, we might want to round them to full values:"
      ]
    },
    {
      "cell_type": "code",
      "metadata": {
        "id": "hVUSTQ-SHrE5",
        "colab_type": "code",
        "colab": {
          "base_uri": "https://localhost:8080/",
          "height": 35
        },
        "outputId": "1a28394d-9147-47dd-a4ae-357ac7c78432"
      },
      "source": [
        "np.round(grades.mean(axis=1),0)"
      ],
      "execution_count": 117,
      "outputs": [
        {
          "output_type": "execute_result",
          "data": {
            "text/plain": [
              "array([10.,  9., 12., 11., 18., 15., 17., 15., 10.,  8.,  9.])"
            ]
          },
          "metadata": {
            "tags": []
          },
          "execution_count": 117
        }
      ]
    },
    {
      "cell_type": "markdown",
      "metadata": {
        "id": "CoR1bSeI3sjg",
        "colab_type": "text"
      },
      "source": [
        "As expected, we get exactly 6 values, one for each student, representing their grade averages over the three tests. "
      ]
    },
    {
      "cell_type": "markdown",
      "metadata": {
        "id": "FPvLN6d34Pca",
        "colab_type": "text"
      },
      "source": [
        "Now, suppose we are interesed in the mean grade of each test, to assess their relative difficulty when given to the same set of students. We need to take the average *over the columns* :"
      ]
    },
    {
      "cell_type": "code",
      "metadata": {
        "id": "TPK76Rv54eLb",
        "colab_type": "code",
        "colab": {
          "base_uri": "https://localhost:8080/",
          "height": 35
        },
        "outputId": "3c0eba31-aece-4c43-abd0-7b5dfad2046b"
      },
      "source": [
        "grades.mean(axis=0)"
      ],
      "execution_count": 118,
      "outputs": [
        {
          "output_type": "execute_result",
          "data": {
            "text/plain": [
              "array([12.37272727, 11.95909091, 12.06363636])"
            ]
          },
          "metadata": {
            "tags": []
          },
          "execution_count": 118
        }
      ]
    },
    {
      "cell_type": "markdown",
      "metadata": {
        "id": "HpufODGa4iJ-",
        "colab_type": "text"
      },
      "source": [
        "The overal performance seems rather similar in the three tests (the dataset is small, so it's risky to draw any conclusions)"
      ]
    },
    {
      "cell_type": "markdown",
      "metadata": {
        "id": "txn0skd75FPv",
        "colab_type": "text"
      },
      "source": [
        "Now let's performe some filtering and searching operatins on the data.  How many students have passed ?"
      ]
    },
    {
      "cell_type": "code",
      "metadata": {
        "id": "rkJy0TZ8zs4B",
        "colab_type": "code",
        "colab": {
          "base_uri": "https://localhost:8080/",
          "height": 52
        },
        "outputId": "c0308688-99bc-4a19-bb54-7b46239f1c1c"
      },
      "source": [
        "grades.mean(axis=1) >= 9.5  # this returns a boolean array with True values when our condition is met"
      ],
      "execution_count": 119,
      "outputs": [
        {
          "output_type": "execute_result",
          "data": {
            "text/plain": [
              "array([ True, False,  True,  True,  True,  True,  True,  True,  True,\n",
              "       False, False])"
            ]
          },
          "metadata": {
            "tags": []
          },
          "execution_count": 119
        }
      ]
    },
    {
      "cell_type": "code",
      "metadata": {
        "id": "wwZUOKpd6gde",
        "colab_type": "code",
        "colab": {
          "base_uri": "https://localhost:8080/",
          "height": 35
        },
        "outputId": "a01e263a-9045-4a81-e88c-c0496dbe7ca2"
      },
      "source": [
        "sum(grades.mean(axis=1) >= 9.5)  # True evaluates to one, so this counts the number of students who passed"
      ],
      "execution_count": 120,
      "outputs": [
        {
          "output_type": "execute_result",
          "data": {
            "text/plain": [
              "8"
            ]
          },
          "metadata": {
            "tags": []
          },
          "execution_count": 120
        }
      ]
    },
    {
      "cell_type": "markdown",
      "metadata": {
        "id": "Gz7KlZKn6ydV",
        "colab_type": "text"
      },
      "source": [
        "Number of students who failed:"
      ]
    },
    {
      "cell_type": "code",
      "metadata": {
        "id": "jXEII1Dj0wnQ",
        "colab_type": "code",
        "colab": {
          "base_uri": "https://localhost:8080/",
          "height": 35
        },
        "outputId": "396c4011-6824-4e3c-e804-7fb91bed95fb"
      },
      "source": [
        "grades.shape[0] - sum(grades.mean(axis=1) >= 9.5) # grades.shape[0] is the number of rows (students) in the table"
      ],
      "execution_count": 121,
      "outputs": [
        {
          "output_type": "execute_result",
          "data": {
            "text/plain": [
              "3"
            ]
          },
          "metadata": {
            "tags": []
          },
          "execution_count": 121
        }
      ]
    },
    {
      "cell_type": "markdown",
      "metadata": {
        "id": "ucj8KY7z9eTH",
        "colab_type": "text"
      },
      "source": [
        "**HANDS-ON:** We want to know the best and worst grande in each of the three tests. How would you do  it ?"
      ]
    },
    {
      "cell_type": "code",
      "metadata": {
        "id": "Lhra0gze9txz",
        "colab_type": "code",
        "colab": {
          "base_uri": "https://localhost:8080/",
          "height": 52
        },
        "cellView": "form",
        "outputId": "bba1c2de-7a80-43ab-e047-1b51bee263a6"
      },
      "source": [
        "#@title SOLUTION\n",
        "print(\"Lowest grades:\", grades.min(axis=0))\n",
        "print(\"Highest grades:\", grades.max(axis=0))"
      ],
      "execution_count": 122,
      "outputs": [
        {
          "output_type": "stream",
          "text": [
            "Lowest grades: [7.5  8.25 6.  ]\n",
            "Highest grades: [16.85 17.2  20.  ]\n"
          ],
          "name": "stdout"
        }
      ]
    },
    {
      "cell_type": "markdown",
      "metadata": {
        "id": "twQeAYbl7Ty6",
        "colab_type": "text"
      },
      "source": [
        ""
      ]
    },
    {
      "cell_type": "markdown",
      "metadata": {
        "id": "zRP88XBA-Fhi",
        "colab_type": "text"
      },
      "source": [
        "There is something wrong about how we computed the number of students that passed. We forgot to account for the case where a student is automatically failed because of getting a grade lower than 7 in any test. Let's see how we could spot such cases:"
      ]
    },
    {
      "cell_type": "code",
      "metadata": {
        "id": "iWZOn6D3-s1S",
        "colab_type": "code",
        "colab": {
          "base_uri": "https://localhost:8080/",
          "height": 35
        },
        "outputId": "69cd49b7-84c5-4c97-e56f-0018b746a824"
      },
      "source": [
        "np.where(grades < 7)"
      ],
      "execution_count": 123,
      "outputs": [
        {
          "output_type": "execute_result",
          "data": {
            "text/plain": [
              "(array([ 8, 10]), array([2, 2]))"
            ]
          },
          "metadata": {
            "tags": []
          },
          "execution_count": 123
        }
      ]
    },
    {
      "cell_type": "markdown",
      "metadata": {
        "id": "7ymplfCJ-yN7",
        "colab_type": "text"
      },
      "source": [
        "This command returns the row indices and the column indices in two numpy 1D arrays, for each element that satisfy our condition. In this case  there are two elements (8,2) and (10,2) that meet this condition, and they correspond to tests of students 8 and 10. Student 10 was already had a failed average, but student 8 not, so he has also falied the evaluation.  "
      ]
    },
    {
      "cell_type": "markdown",
      "metadata": {
        "id": "VQxQajd-IfQh",
        "colab_type": "text"
      },
      "source": [
        "We might also want to use matplotlib to produce an histogram of the final classications:"
      ]
    },
    {
      "cell_type": "code",
      "metadata": {
        "id": "4A1sEyE00_LO",
        "colab_type": "code",
        "colab": {
          "base_uri": "https://localhost:8080/",
          "height": 269
        },
        "outputId": "1ba27ff8-57af-4981-9e7e-ffd389b54975"
      },
      "source": [
        "import matplotlib.pyplot as plt\n",
        "plt.hist(grades.mean(axis=1));  # the semicolon (;) after the statment suppresses output"
      ],
      "execution_count": 124,
      "outputs": [
        {
          "output_type": "display_data",
          "data": {
            "image/png": "[encoded data removed]",
            "text/plain": [
              "<Figure size 432x288 with 1 Axes>"
            ]
          },
          "metadata": {
            "tags": []
          }
        }
      ]
    },
    {
      "cell_type": "markdown",
      "metadata": {
        "id": "lMUwXXbcJhJU",
        "colab_type": "text"
      },
      "source": [
        "Or we could produce an histogram for the classification of the three separate tests - \"plt.plot\" will automatically recognize that there are three columns and make a plot with three histograms combined (notice how labels are placed on the graph):"
      ]
    },
    {
      "cell_type": "code",
      "metadata": {
        "id": "DNmjSaJ49UHb",
        "colab_type": "code",
        "colab": {
          "base_uri": "https://localhost:8080/",
          "height": 269
        },
        "outputId": "bf2c1a6c-924d-4196-bd65-bb82aa14d49a"
      },
      "source": [
        "plt.hist(grades, label=(\"1st test\",\"2nd test\",\"3rd test\"))\n",
        "plt.legend();"
      ],
      "execution_count": 125,
      "outputs": [
        {
          "output_type": "display_data",
          "data": {
            "image/png": "[encoded data removed]",
            "text/plain": [
              "<Figure size 432x288 with 1 Axes>"
            ]
          },
          "metadata": {
            "tags": []
          }
        }
      ]
    },
    {
      "cell_type": "markdown",
      "metadata": {
        "id": "WVCv6k95J25I",
        "colab_type": "text"
      },
      "source": [
        "The number of bins can be adjusted, or left untouched for plt.hist to automatically set. "
      ]
    },
    {
      "cell_type": "code",
      "metadata": {
        "id": "exoFIg72HxVn",
        "colab_type": "code",
        "colab": {}
      },
      "source": [
        ""
      ],
      "execution_count": 0,
      "outputs": []
    },
    {
      "cell_type": "code",
      "metadata": {
        "id": "m3GRqR0LH0tO",
        "colab_type": "code",
        "colab": {}
      },
      "source": [
        ""
      ],
      "execution_count": 0,
      "outputs": []
    },
    {
      "cell_type": "code",
      "metadata": {
        "id": "OhEi11JzH4iU",
        "colab_type": "code",
        "colab": {}
      },
      "source": [
        ""
      ],
      "execution_count": 0,
      "outputs": []
    },
    {
      "cell_type": "code",
      "metadata": {
        "id": "XDnekgQ2H7FQ",
        "colab_type": "code",
        "colab": {}
      },
      "source": [
        ""
      ],
      "execution_count": 0,
      "outputs": []
    }
  ]
}